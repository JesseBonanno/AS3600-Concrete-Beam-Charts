{
 "cells": [
  {
   "cell_type": "code",
   "execution_count": null,
   "metadata": {},
   "outputs": [],
   "source": [
    "from conc import Concrete\n",
    "from math import floor, pi\n",
    "import plotly.express as px\n",
    "import plotly.graph_objects as go"
   ]
  },
  {
   "cell_type": "code",
   "execution_count": null,
   "metadata": {},
   "outputs": [],
   "source": [
    "# Create a graph showing the range in bending moment for a single SL81 Mesh at varying depths.\n",
    "    # loop through depths at 10 mm increments\n",
    "fig = px.line()\n",
    "\n",
    "x, y = {}, {}\n",
    "for fc in [50,40,32,20]:\n",
    "    x[fc] = []\n",
    "    y[fc] = []\n",
    "    for D in range(10,500,20):\n",
    "        conc = Concrete(D=D, fc = fc)\n",
    "        y[fc].append(conc.bending())\n",
    "        x[fc].append(conc.d)\n",
    "\n",
    "    fig.add_trace(go.Scatter(x=x[fc],y=y[fc], name = str(fc) + \" MPa\"))\n",
    "\n",
    "fig.update_layout(\n",
    "        title={'text': \"SL81 at varying depth\", 'x': 0.5},\n",
    "        title_font_size=24,\n",
    "        showlegend=True,\n",
    "        hovermode='x')\n",
    "fig.update_xaxes(title_text='d (mm)')\n",
    "fig.update_yaxes(title_text='Moment Capacity (kN.m)')\n",
    "\n",
    "fig.show()\n",
    "fig.write_image(\"./SL81_Bending.png\")\n",
    "fig.write_html(\"./SL81_Bending.html\")"
   ]
  },
  {
   "cell_type": "code",
   "execution_count": null,
   "metadata": {},
   "outputs": [],
   "source": [
    "# Create a graph showing the range in shear strength for concrete at different depths.\n",
    "# loop through depths at 10 mm increments\n",
    "fig = px.line()\n",
    "\n",
    "x, y = {}, {}\n",
    "for fc in [50,40,32,20]:\n",
    "    x[fc] = []\n",
    "    y[fc] = []\n",
    "    for D in range(10,500,20):\n",
    "        conc = Concrete(D=D, fc = fc)\n",
    "        y[fc].append(conc.shear())\n",
    "        x[fc].append(conc.D)\n",
    "\n",
    "    fig.add_trace(go.Scatter(x=x[fc],y=y[fc], name = str(fc)+' MPa'))\n",
    "\n",
    "fig.update_layout(\n",
    "        title={'text': \"Shear Strength for varying concrete thickness\", 'x': 0.5},\n",
    "        title_font_size=24,\n",
    "        showlegend=True,\n",
    "        hovermode='x')\n",
    "fig.update_xaxes(title_text='D (mm)')\n",
    "fig.update_yaxes(title_text='Shear Strength (kN)')\n",
    "\n",
    "fig.show()\n",
    "fig.write_image(\"./Shear.png\")\n",
    "fig.write_html(\"./Shear.html\")"
   ]
  },
  {
   "cell_type": "code",
   "execution_count": null,
   "metadata": {},
   "outputs": [],
   "source": [
    "# Create a graph showing the range in deemed to comply capacity for d = D - 45\n",
    "# loop through depths at 10 mm increments\n",
    "fig = px.line()\n",
    "\n",
    "x, y = {}, {}\n",
    "for fc in [50,40,32,20]:\n",
    "    x[fc] = []\n",
    "    y[fc] = []\n",
    "    for D in range(60,750,10):\n",
    "        conc = Concrete(D = D, fc = fc, ductility='N', cover = 40, diameter = 10)\n",
    "        y[fc].append(conc.deemed())\n",
    "        x[fc].append(conc.D)\n",
    "\n",
    "    fig.add_trace(go.Scatter(x=x[fc],y=y[fc], name = str(fc)+' MPa'))\n",
    "\n",
    "fig.update_layout(\n",
    "        title={'text': \"Deemed to comply (where d = D - 45)\", 'x': 0.5},\n",
    "        title_font_size=24,\n",
    "        showlegend=True,\n",
    "        hovermode='x')\n",
    "fig.update_xaxes(title_text='Depth, D (mm)')\n",
    "fig.update_yaxes(title_text='Min Ast (mm2/m))')\n",
    "\n",
    "fig.show()\n",
    "fig.write_image(\"./deemed_45.png\")\n",
    "fig.write_html(\"./deemed_45.html\")"
   ]
  },
  {
   "cell_type": "code",
   "execution_count": null,
   "metadata": {},
   "outputs": [],
   "source": [
    "# Create a graph showing the range in deemed to comply capacity for d = D - 45\n",
    "# loop through depths at 10 mm increments\n",
    "fig = px.line()\n",
    "\n",
    "x, y = {}, {}\n",
    "for cover in range(20,80,5):\n",
    "    x[cover] = []\n",
    "    y[cover] = []\n",
    "    for D in range(60,750,10):\n",
    "        conc = Concrete(D = D, fc = 32, ductility='N', cover = cover, diameter = 10)\n",
    "        y[cover].append(conc.deemed())\n",
    "        x[cover].append(conc.D)\n",
    "\n",
    "    fig.add_trace(go.Scatter(x=x[cover],y=y[cover], name = str(\"d = D - \"+ str(cover+5))))\n",
    "\n",
    "fig.update_layout(\n",
    "        title={'text': \"Deemed to comply (where fc = 32 MPa)\", 'x': 0.5},\n",
    "        title_font_size=24,\n",
    "        showlegend=True,\n",
    "        hovermode='x')\n",
    "fig.update_xaxes(title_text='Depth, D (mm)')\n",
    "fig.update_yaxes(title_text='Min Ast (mm2/m))')\n",
    "\n",
    "fig.show()\n",
    "fig.write_image(\"./deemed_f32.png\")\n",
    "fig.write_html(\"./deemed_f32.html\")"
   ]
  },
  {
   "cell_type": "code",
   "execution_count": null,
   "metadata": {},
   "outputs": [],
   "source": [
    "# Create a graph showing the range in bending capacity for N class steel Areas, D = 200\n",
    "    # loop through depths at 10 mm increments\n",
    "fig = px.line()\n",
    "\n",
    "x, y = {}, {}\n",
    "for fc in [50,40,32,20]:\n",
    "    x[fc] = []\n",
    "    y[fc] = []\n",
    "    for spacing in range(35,300,5):\n",
    "        conc = Concrete(spacing = spacing, ductility = 'N', D=200, fc = fc, cover = 40, diameter = 10)\n",
    "        y[fc].append(conc.bending())\n",
    "        x[fc].append(conc.Ast)\n",
    "\n",
    "    fig.add_trace(go.Scatter(x=x[fc],y=y[fc], name = str(fc) + \" MPa\"))\n",
    "\n",
    "fig.update_layout(\n",
    "        title={'text': \"Ast Class N Bending Capacity, D=200,cover=40,diameter=10\", 'x': 0.5},\n",
    "        title_font_size=24,\n",
    "        showlegend=True,\n",
    "        hovermode='x')\n",
    "fig.update_xaxes(title_text='Ast (mm2/m)')\n",
    "fig.update_yaxes(title_text='Moment Capacity (kN.m)')\n",
    "\n",
    "fig.show()\n",
    "fig.write_image(\"./D200_Ast_N.png\")\n",
    "fig.write_html(\"./D200_Ast_N.html\")"
   ]
  },
  {
   "cell_type": "code",
   "execution_count": null,
   "metadata": {},
   "outputs": [],
   "source": [
    "# Create a graph showing the range in bending capacity for N class steel Areas D = 300\n",
    "    # loop through depths at 10 mm increments\n",
    "fig = px.line()\n",
    "\n",
    "x, y = {}, {}\n",
    "for fc in [50,40,32,20]:\n",
    "    x[fc] = []\n",
    "    y[fc] = []\n",
    "    for spacing in range(35,300,5):\n",
    "        conc = Concrete(spacing = spacing, ductility = 'N', D=300, fc = fc, cover = 40, diameter = 10)\n",
    "        y[fc].append(conc.bending())\n",
    "        x[fc].append(conc.Ast)\n",
    "\n",
    "    fig.add_trace(go.Scatter(x=x[fc],y=y[fc], name = str(fc) + \" MPa\"))\n",
    "\n",
    "fig.update_layout(\n",
    "        title={'text': \"Ast Class N Bending Capacity, D=300,cover=40,diameter=10\", 'x': 0.5},\n",
    "        title_font_size=24,\n",
    "        showlegend=True,\n",
    "        hovermode='x')\n",
    "fig.update_xaxes(title_text='Ast (mm2/m)')\n",
    "fig.update_yaxes(title_text='Moment Capacity (kN.m)')\n",
    "\n",
    "fig.show()\n",
    "fig.write_image(\"./D300_Ast_N.png\")\n",
    "fig.write_html(\"./D300_Ast_N.html\")"
   ]
  },
  {
   "cell_type": "code",
   "execution_count": 5,
   "metadata": {},
   "outputs": [
    {
     "output_type": "display_data",
     "data": {
      "application/vnd.plotly.v1+json": {
       "config": {
        "plotlyServerURL": "https://plot.ly"
       },
       "data": [
        {
         "name": "d = 55 mm",
         "type": "scatter",
         "x": [
          1733.3333333333333,
          1560,
          1418.1818181818182,
          1300,
          1200,
          1114.2857142857144,
          1040,
          975,
          917.6470588235295,
          866.6666666666666,
          821.0526315789474,
          780,
          742.8571428571429,
          709.0909090909091,
          678.2608695652174,
          650,
          624,
          600,
          577.7777777777778,
          557.1428571428572,
          537.9310344827586,
          520,
          503.22580645161287,
          487.5,
          472.72727272727275,
          458.82352941176475,
          445.7142857142857,
          433.3333333333333,
          421.6216216216216,
          410.5263157894737,
          400.00000000000006,
          390,
          380.4878048780488,
          371.42857142857144,
          362.79069767441865,
          354.54545454545456,
          346.6666666666667,
          339.1304347826087,
          331.9148936170213,
          325,
          318.36734693877554,
          312,
          305.88235294117646,
          300,
          294.33962264150944,
          288.8888888888889,
          283.6363636363636,
          278.5714285714286,
          273.6842105263158,
          268.9655172413793,
          264.4067796610169
         ],
         "y": [
          21.4715225824328,
          20.180433291770573,
          18.982589497331055,
          18.698096009813206,
          18.777382854764642,
          18.681279285305614,
          18.46899869210053,
          18.180720413281243,
          17.84398759205387,
          17.14870289553893,
          16.40119041040059,
          15.713699345386532,
          15.079659270191867,
          14.493346566435152,
          13.949772661917983,
          13.444582878740647,
          12.973967581047381,
          12.534585411471323,
          12.12349758320249,
          11.738111910911499,
          11.376135241563155,
          11.035533042394015,
          10.714495044905943,
          10.411405994291615,
          10.124820696193401,
          9.853442680064546,
          9.596105908697645,
          9.351759057218066,
          9.119451963589928,
          8.89832391838962,
          8.687593516209477,
          8.486549836346633,
          8.294544757974188,
          8.110986246119394,
          7.935332470608228,
          7.767086641608788,
          7.605792463286229,
          7.451030122001234,
          7.30241273796044,
          7.159583219685163,
          7.0222114694521505,
          6.889991895261844,
          6.762641191139797,
          6.63989635286783,
          6.521512900731439,
          6.4072632846895115,
          6.296935450629624,
          6.190331549156447,
          6.087266770746265,
          5.987568293149409,
          5.89107432868561
         ]
        }
       ],
       "layout": {
        "legend": {
         "tracegroupgap": 0
        },
        "margin": {
         "t": 60
        },
        "template": {
         "data": {
          "bar": [
           {
            "error_x": {
             "color": "#2a3f5f"
            },
            "error_y": {
             "color": "#2a3f5f"
            },
            "marker": {
             "line": {
              "color": "#E5ECF6",
              "width": 0.5
             }
            },
            "type": "bar"
           }
          ],
          "barpolar": [
           {
            "marker": {
             "line": {
              "color": "#E5ECF6",
              "width": 0.5
             }
            },
            "type": "barpolar"
           }
          ],
          "carpet": [
           {
            "aaxis": {
             "endlinecolor": "#2a3f5f",
             "gridcolor": "white",
             "linecolor": "white",
             "minorgridcolor": "white",
             "startlinecolor": "#2a3f5f"
            },
            "baxis": {
             "endlinecolor": "#2a3f5f",
             "gridcolor": "white",
             "linecolor": "white",
             "minorgridcolor": "white",
             "startlinecolor": "#2a3f5f"
            },
            "type": "carpet"
           }
          ],
          "choropleth": [
           {
            "colorbar": {
             "outlinewidth": 0,
             "ticks": ""
            },
            "type": "choropleth"
           }
          ],
          "contour": [
           {
            "colorbar": {
             "outlinewidth": 0,
             "ticks": ""
            },
            "colorscale": [
             [
              0,
              "#0d0887"
             ],
             [
              0.1111111111111111,
              "#46039f"
             ],
             [
              0.2222222222222222,
              "#7201a8"
             ],
             [
              0.3333333333333333,
              "#9c179e"
             ],
             [
              0.4444444444444444,
              "#bd3786"
             ],
             [
              0.5555555555555556,
              "#d8576b"
             ],
             [
              0.6666666666666666,
              "#ed7953"
             ],
             [
              0.7777777777777778,
              "#fb9f3a"
             ],
             [
              0.8888888888888888,
              "#fdca26"
             ],
             [
              1,
              "#f0f921"
             ]
            ],
            "type": "contour"
           }
          ],
          "contourcarpet": [
           {
            "colorbar": {
             "outlinewidth": 0,
             "ticks": ""
            },
            "type": "contourcarpet"
           }
          ],
          "heatmap": [
           {
            "colorbar": {
             "outlinewidth": 0,
             "ticks": ""
            },
            "colorscale": [
             [
              0,
              "#0d0887"
             ],
             [
              0.1111111111111111,
              "#46039f"
             ],
             [
              0.2222222222222222,
              "#7201a8"
             ],
             [
              0.3333333333333333,
              "#9c179e"
             ],
             [
              0.4444444444444444,
              "#bd3786"
             ],
             [
              0.5555555555555556,
              "#d8576b"
             ],
             [
              0.6666666666666666,
              "#ed7953"
             ],
             [
              0.7777777777777778,
              "#fb9f3a"
             ],
             [
              0.8888888888888888,
              "#fdca26"
             ],
             [
              1,
              "#f0f921"
             ]
            ],
            "type": "heatmap"
           }
          ],
          "heatmapgl": [
           {
            "colorbar": {
             "outlinewidth": 0,
             "ticks": ""
            },
            "colorscale": [
             [
              0,
              "#0d0887"
             ],
             [
              0.1111111111111111,
              "#46039f"
             ],
             [
              0.2222222222222222,
              "#7201a8"
             ],
             [
              0.3333333333333333,
              "#9c179e"
             ],
             [
              0.4444444444444444,
              "#bd3786"
             ],
             [
              0.5555555555555556,
              "#d8576b"
             ],
             [
              0.6666666666666666,
              "#ed7953"
             ],
             [
              0.7777777777777778,
              "#fb9f3a"
             ],
             [
              0.8888888888888888,
              "#fdca26"
             ],
             [
              1,
              "#f0f921"
             ]
            ],
            "type": "heatmapgl"
           }
          ],
          "histogram": [
           {
            "marker": {
             "colorbar": {
              "outlinewidth": 0,
              "ticks": ""
             }
            },
            "type": "histogram"
           }
          ],
          "histogram2d": [
           {
            "colorbar": {
             "outlinewidth": 0,
             "ticks": ""
            },
            "colorscale": [
             [
              0,
              "#0d0887"
             ],
             [
              0.1111111111111111,
              "#46039f"
             ],
             [
              0.2222222222222222,
              "#7201a8"
             ],
             [
              0.3333333333333333,
              "#9c179e"
             ],
             [
              0.4444444444444444,
              "#bd3786"
             ],
             [
              0.5555555555555556,
              "#d8576b"
             ],
             [
              0.6666666666666666,
              "#ed7953"
             ],
             [
              0.7777777777777778,
              "#fb9f3a"
             ],
             [
              0.8888888888888888,
              "#fdca26"
             ],
             [
              1,
              "#f0f921"
             ]
            ],
            "type": "histogram2d"
           }
          ],
          "histogram2dcontour": [
           {
            "colorbar": {
             "outlinewidth": 0,
             "ticks": ""
            },
            "colorscale": [
             [
              0,
              "#0d0887"
             ],
             [
              0.1111111111111111,
              "#46039f"
             ],
             [
              0.2222222222222222,
              "#7201a8"
             ],
             [
              0.3333333333333333,
              "#9c179e"
             ],
             [
              0.4444444444444444,
              "#bd3786"
             ],
             [
              0.5555555555555556,
              "#d8576b"
             ],
             [
              0.6666666666666666,
              "#ed7953"
             ],
             [
              0.7777777777777778,
              "#fb9f3a"
             ],
             [
              0.8888888888888888,
              "#fdca26"
             ],
             [
              1,
              "#f0f921"
             ]
            ],
            "type": "histogram2dcontour"
           }
          ],
          "mesh3d": [
           {
            "colorbar": {
             "outlinewidth": 0,
             "ticks": ""
            },
            "type": "mesh3d"
           }
          ],
          "parcoords": [
           {
            "line": {
             "colorbar": {
              "outlinewidth": 0,
              "ticks": ""
             }
            },
            "type": "parcoords"
           }
          ],
          "pie": [
           {
            "automargin": true,
            "type": "pie"
           }
          ],
          "scatter": [
           {
            "marker": {
             "colorbar": {
              "outlinewidth": 0,
              "ticks": ""
             }
            },
            "type": "scatter"
           }
          ],
          "scatter3d": [
           {
            "line": {
             "colorbar": {
              "outlinewidth": 0,
              "ticks": ""
             }
            },
            "marker": {
             "colorbar": {
              "outlinewidth": 0,
              "ticks": ""
             }
            },
            "type": "scatter3d"
           }
          ],
          "scattercarpet": [
           {
            "marker": {
             "colorbar": {
              "outlinewidth": 0,
              "ticks": ""
             }
            },
            "type": "scattercarpet"
           }
          ],
          "scattergeo": [
           {
            "marker": {
             "colorbar": {
              "outlinewidth": 0,
              "ticks": ""
             }
            },
            "type": "scattergeo"
           }
          ],
          "scattergl": [
           {
            "marker": {
             "colorbar": {
              "outlinewidth": 0,
              "ticks": ""
             }
            },
            "type": "scattergl"
           }
          ],
          "scattermapbox": [
           {
            "marker": {
             "colorbar": {
              "outlinewidth": 0,
              "ticks": ""
             }
            },
            "type": "scattermapbox"
           }
          ],
          "scatterpolar": [
           {
            "marker": {
             "colorbar": {
              "outlinewidth": 0,
              "ticks": ""
             }
            },
            "type": "scatterpolar"
           }
          ],
          "scatterpolargl": [
           {
            "marker": {
             "colorbar": {
              "outlinewidth": 0,
              "ticks": ""
             }
            },
            "type": "scatterpolargl"
           }
          ],
          "scatterternary": [
           {
            "marker": {
             "colorbar": {
              "outlinewidth": 0,
              "ticks": ""
             }
            },
            "type": "scatterternary"
           }
          ],
          "surface": [
           {
            "colorbar": {
             "outlinewidth": 0,
             "ticks": ""
            },
            "colorscale": [
             [
              0,
              "#0d0887"
             ],
             [
              0.1111111111111111,
              "#46039f"
             ],
             [
              0.2222222222222222,
              "#7201a8"
             ],
             [
              0.3333333333333333,
              "#9c179e"
             ],
             [
              0.4444444444444444,
              "#bd3786"
             ],
             [
              0.5555555555555556,
              "#d8576b"
             ],
             [
              0.6666666666666666,
              "#ed7953"
             ],
             [
              0.7777777777777778,
              "#fb9f3a"
             ],
             [
              0.8888888888888888,
              "#fdca26"
             ],
             [
              1,
              "#f0f921"
             ]
            ],
            "type": "surface"
           }
          ],
          "table": [
           {
            "cells": {
             "fill": {
              "color": "#EBF0F8"
             },
             "line": {
              "color": "white"
             }
            },
            "header": {
             "fill": {
              "color": "#C8D4E3"
             },
             "line": {
              "color": "white"
             }
            },
            "type": "table"
           }
          ]
         },
         "layout": {
          "annotationdefaults": {
           "arrowcolor": "#2a3f5f",
           "arrowhead": 0,
           "arrowwidth": 1
          },
          "autotypenumbers": "strict",
          "coloraxis": {
           "colorbar": {
            "outlinewidth": 0,
            "ticks": ""
           }
          },
          "colorscale": {
           "diverging": [
            [
             0,
             "#8e0152"
            ],
            [
             0.1,
             "#c51b7d"
            ],
            [
             0.2,
             "#de77ae"
            ],
            [
             0.3,
             "#f1b6da"
            ],
            [
             0.4,
             "#fde0ef"
            ],
            [
             0.5,
             "#f7f7f7"
            ],
            [
             0.6,
             "#e6f5d0"
            ],
            [
             0.7,
             "#b8e186"
            ],
            [
             0.8,
             "#7fbc41"
            ],
            [
             0.9,
             "#4d9221"
            ],
            [
             1,
             "#276419"
            ]
           ],
           "sequential": [
            [
             0,
             "#0d0887"
            ],
            [
             0.1111111111111111,
             "#46039f"
            ],
            [
             0.2222222222222222,
             "#7201a8"
            ],
            [
             0.3333333333333333,
             "#9c179e"
            ],
            [
             0.4444444444444444,
             "#bd3786"
            ],
            [
             0.5555555555555556,
             "#d8576b"
            ],
            [
             0.6666666666666666,
             "#ed7953"
            ],
            [
             0.7777777777777778,
             "#fb9f3a"
            ],
            [
             0.8888888888888888,
             "#fdca26"
            ],
            [
             1,
             "#f0f921"
            ]
           ],
           "sequentialminus": [
            [
             0,
             "#0d0887"
            ],
            [
             0.1111111111111111,
             "#46039f"
            ],
            [
             0.2222222222222222,
             "#7201a8"
            ],
            [
             0.3333333333333333,
             "#9c179e"
            ],
            [
             0.4444444444444444,
             "#bd3786"
            ],
            [
             0.5555555555555556,
             "#d8576b"
            ],
            [
             0.6666666666666666,
             "#ed7953"
            ],
            [
             0.7777777777777778,
             "#fb9f3a"
            ],
            [
             0.8888888888888888,
             "#fdca26"
            ],
            [
             1,
             "#f0f921"
            ]
           ]
          },
          "colorway": [
           "#636efa",
           "#EF553B",
           "#00cc96",
           "#ab63fa",
           "#FFA15A",
           "#19d3f3",
           "#FF6692",
           "#B6E880",
           "#FF97FF",
           "#FECB52"
          ],
          "font": {
           "color": "#2a3f5f"
          },
          "geo": {
           "bgcolor": "white",
           "lakecolor": "white",
           "landcolor": "#E5ECF6",
           "showlakes": true,
           "showland": true,
           "subunitcolor": "white"
          },
          "hoverlabel": {
           "align": "left"
          },
          "hovermode": "closest",
          "mapbox": {
           "style": "light"
          },
          "paper_bgcolor": "white",
          "plot_bgcolor": "#E5ECF6",
          "polar": {
           "angularaxis": {
            "gridcolor": "white",
            "linecolor": "white",
            "ticks": ""
           },
           "bgcolor": "#E5ECF6",
           "radialaxis": {
            "gridcolor": "white",
            "linecolor": "white",
            "ticks": ""
           }
          },
          "scene": {
           "xaxis": {
            "backgroundcolor": "#E5ECF6",
            "gridcolor": "white",
            "gridwidth": 2,
            "linecolor": "white",
            "showbackground": true,
            "ticks": "",
            "zerolinecolor": "white"
           },
           "yaxis": {
            "backgroundcolor": "#E5ECF6",
            "gridcolor": "white",
            "gridwidth": 2,
            "linecolor": "white",
            "showbackground": true,
            "ticks": "",
            "zerolinecolor": "white"
           },
           "zaxis": {
            "backgroundcolor": "#E5ECF6",
            "gridcolor": "white",
            "gridwidth": 2,
            "linecolor": "white",
            "showbackground": true,
            "ticks": "",
            "zerolinecolor": "white"
           }
          },
          "shapedefaults": {
           "line": {
            "color": "#2a3f5f"
           }
          },
          "ternary": {
           "aaxis": {
            "gridcolor": "white",
            "linecolor": "white",
            "ticks": ""
           },
           "baxis": {
            "gridcolor": "white",
            "linecolor": "white",
            "ticks": ""
           },
           "bgcolor": "#E5ECF6",
           "caxis": {
            "gridcolor": "white",
            "linecolor": "white",
            "ticks": ""
           }
          },
          "title": {
           "x": 0.05
          },
          "xaxis": {
           "automargin": true,
           "gridcolor": "white",
           "linecolor": "white",
           "ticks": "",
           "title": {
            "standoff": 15
           },
           "zerolinecolor": "white",
           "zerolinewidth": 2
          },
          "yaxis": {
           "automargin": true,
           "gridcolor": "white",
           "linecolor": "white",
           "ticks": "",
           "title": {
            "standoff": 15
           },
           "zerolinecolor": "white",
           "zerolinewidth": 2
          }
         }
        },
        "xaxis": {
         "anchor": "y",
         "domain": [
          0,
          1
         ]
        },
        "yaxis": {
         "anchor": "x",
         "domain": [
          0,
          1
         ]
        }
       }
      }
     },
     "metadata": {}
    },
    {
     "output_type": "display_data",
     "data": {
      "application/vnd.plotly.v1+json": {
       "config": {
        "plotlyServerURL": "https://plot.ly"
       },
       "data": [
        {
         "name": "d = 55 mm",
         "type": "scatter",
         "x": [
          1733.3333333333333,
          1560,
          1418.1818181818182,
          1300,
          1200,
          1114.2857142857144,
          1040,
          975,
          917.6470588235295,
          866.6666666666666,
          821.0526315789474,
          780,
          742.8571428571429,
          709.0909090909091,
          678.2608695652174,
          650,
          624,
          600,
          577.7777777777778,
          557.1428571428572,
          537.9310344827586,
          520,
          503.22580645161287,
          487.5,
          472.72727272727275,
          458.82352941176475,
          445.7142857142857,
          433.3333333333333,
          421.6216216216216,
          410.5263157894737,
          400.00000000000006,
          390,
          380.4878048780488,
          371.42857142857144,
          362.79069767441865,
          354.54545454545456,
          346.6666666666667,
          339.1304347826087,
          331.9148936170213,
          325,
          318.36734693877554,
          312,
          305.88235294117646,
          300,
          294.33962264150944,
          288.8888888888889,
          283.6363636363636,
          278.5714285714286,
          273.6842105263158,
          268.9655172413793,
          264.4067796610169
         ],
         "y": [
          21.4715225824328,
          20.180433291770573,
          18.982589497331055,
          18.698096009813206,
          18.777382854764642,
          18.681279285305614,
          18.46899869210053,
          18.180720413281243,
          17.84398759205387,
          17.14870289553893,
          16.40119041040059,
          15.713699345386532,
          15.079659270191867,
          14.493346566435152,
          13.949772661917983,
          13.444582878740647,
          12.973967581047381,
          12.534585411471323,
          12.12349758320249,
          11.738111910911499,
          11.376135241563155,
          11.035533042394015,
          10.714495044905943,
          10.411405994291615,
          10.124820696193401,
          9.853442680064546,
          9.596105908697645,
          9.351759057218066,
          9.119451963589928,
          8.89832391838962,
          8.687593516209477,
          8.486549836346633,
          8.294544757974188,
          8.110986246119394,
          7.935332470608228,
          7.767086641608788,
          7.605792463286229,
          7.451030122001234,
          7.30241273796044,
          7.159583219685163,
          7.0222114694521505,
          6.889991895261844,
          6.762641191139797,
          6.63989635286783,
          6.521512900731439,
          6.4072632846895115,
          6.296935450629624,
          6.190331549156447,
          6.087266770746265,
          5.987568293149409,
          5.89107432868561
         ]
        },
        {
         "name": "d = 95 mm",
         "type": "scatter",
         "x": [
          1733.3333333333333,
          1560,
          1418.1818181818182,
          1300,
          1200,
          1114.2857142857144,
          1040,
          975,
          917.6470588235295,
          866.6666666666666,
          821.0526315789474,
          780,
          742.8571428571429,
          709.0909090909091,
          678.2608695652174,
          650,
          624,
          600,
          577.7777777777778,
          557.1428571428572,
          537.9310344827586,
          520,
          503.22580645161287,
          487.5,
          472.72727272727275,
          458.82352941176475,
          445.7142857142857,
          433.3333333333333,
          421.6216216216216,
          410.5263157894737,
          400.00000000000006,
          390,
          380.4878048780488,
          371.42857142857144,
          362.79069767441865,
          354.54545454545456,
          346.6666666666667,
          339.1304347826087,
          331.9148936170213,
          325,
          318.36734693877554,
          312,
          305.88235294117646,
          300,
          294.33962264150944,
          288.8888888888889,
          283.6363636363636,
          278.5714285714286,
          273.6842105263158,
          268.9655172413793,
          264.4067796610169
         ],
         "y": [
          54.65474967915647,
          52.909797381546134,
          48.93247717483152,
          45.490831514962586,
          42.488341645885285,
          39.848876215074576,
          37.512132169576056,
          35.429998977166456,
          33.563770720258184,
          31.882036228872263,
          30.359085147242695,
          28.973699345386535,
          27.708230698763295,
          26.547892020980605,
          25.48020744452668,
          24.494582878740648,
          23.58196758104738,
          22.734585411471322,
          21.945719805424712,
          21.20954048234007,
          20.52096282777005,
          19.875533042394014,
          19.26933375458336,
          18.698905994291614,
          18.16118433255704,
          17.653442680064547,
          17.1732487658405,
          16.71842572388473,
          16.287019531157497,
          15.877271286810677,
          15.487593516209477,
          15.116549836346636,
          14.762837440901016,
          14.425271960405107,
          14.102774331073345,
          13.794359368881516,
          13.49912579661956,
          13.216247513305582,
          12.9449659294498,
          12.684583219685162,
          12.434456367411338,
          12.193991895261846,
          11.962641191139797,
          11.739896352867829,
          11.525286485637102,
          11.318374395800623,
          11.118753632447806,
          10.926045834870735,
          10.739898349693632,
          10.559982086252857,
          10.385989582922898
         ]
        }
       ],
       "layout": {
        "legend": {
         "tracegroupgap": 0
        },
        "margin": {
         "t": 60
        },
        "template": {
         "data": {
          "bar": [
           {
            "error_x": {
             "color": "#2a3f5f"
            },
            "error_y": {
             "color": "#2a3f5f"
            },
            "marker": {
             "line": {
              "color": "#E5ECF6",
              "width": 0.5
             }
            },
            "type": "bar"
           }
          ],
          "barpolar": [
           {
            "marker": {
             "line": {
              "color": "#E5ECF6",
              "width": 0.5
             }
            },
            "type": "barpolar"
           }
          ],
          "carpet": [
           {
            "aaxis": {
             "endlinecolor": "#2a3f5f",
             "gridcolor": "white",
             "linecolor": "white",
             "minorgridcolor": "white",
             "startlinecolor": "#2a3f5f"
            },
            "baxis": {
             "endlinecolor": "#2a3f5f",
             "gridcolor": "white",
             "linecolor": "white",
             "minorgridcolor": "white",
             "startlinecolor": "#2a3f5f"
            },
            "type": "carpet"
           }
          ],
          "choropleth": [
           {
            "colorbar": {
             "outlinewidth": 0,
             "ticks": ""
            },
            "type": "choropleth"
           }
          ],
          "contour": [
           {
            "colorbar": {
             "outlinewidth": 0,
             "ticks": ""
            },
            "colorscale": [
             [
              0,
              "#0d0887"
             ],
             [
              0.1111111111111111,
              "#46039f"
             ],
             [
              0.2222222222222222,
              "#7201a8"
             ],
             [
              0.3333333333333333,
              "#9c179e"
             ],
             [
              0.4444444444444444,
              "#bd3786"
             ],
             [
              0.5555555555555556,
              "#d8576b"
             ],
             [
              0.6666666666666666,
              "#ed7953"
             ],
             [
              0.7777777777777778,
              "#fb9f3a"
             ],
             [
              0.8888888888888888,
              "#fdca26"
             ],
             [
              1,
              "#f0f921"
             ]
            ],
            "type": "contour"
           }
          ],
          "contourcarpet": [
           {
            "colorbar": {
             "outlinewidth": 0,
             "ticks": ""
            },
            "type": "contourcarpet"
           }
          ],
          "heatmap": [
           {
            "colorbar": {
             "outlinewidth": 0,
             "ticks": ""
            },
            "colorscale": [
             [
              0,
              "#0d0887"
             ],
             [
              0.1111111111111111,
              "#46039f"
             ],
             [
              0.2222222222222222,
              "#7201a8"
             ],
             [
              0.3333333333333333,
              "#9c179e"
             ],
             [
              0.4444444444444444,
              "#bd3786"
             ],
             [
              0.5555555555555556,
              "#d8576b"
             ],
             [
              0.6666666666666666,
              "#ed7953"
             ],
             [
              0.7777777777777778,
              "#fb9f3a"
             ],
             [
              0.8888888888888888,
              "#fdca26"
             ],
             [
              1,
              "#f0f921"
             ]
            ],
            "type": "heatmap"
           }
          ],
          "heatmapgl": [
           {
            "colorbar": {
             "outlinewidth": 0,
             "ticks": ""
            },
            "colorscale": [
             [
              0,
              "#0d0887"
             ],
             [
              0.1111111111111111,
              "#46039f"
             ],
             [
              0.2222222222222222,
              "#7201a8"
             ],
             [
              0.3333333333333333,
              "#9c179e"
             ],
             [
              0.4444444444444444,
              "#bd3786"
             ],
             [
              0.5555555555555556,
              "#d8576b"
             ],
             [
              0.6666666666666666,
              "#ed7953"
             ],
             [
              0.7777777777777778,
              "#fb9f3a"
             ],
             [
              0.8888888888888888,
              "#fdca26"
             ],
             [
              1,
              "#f0f921"
             ]
            ],
            "type": "heatmapgl"
           }
          ],
          "histogram": [
           {
            "marker": {
             "colorbar": {
              "outlinewidth": 0,
              "ticks": ""
             }
            },
            "type": "histogram"
           }
          ],
          "histogram2d": [
           {
            "colorbar": {
             "outlinewidth": 0,
             "ticks": ""
            },
            "colorscale": [
             [
              0,
              "#0d0887"
             ],
             [
              0.1111111111111111,
              "#46039f"
             ],
             [
              0.2222222222222222,
              "#7201a8"
             ],
             [
              0.3333333333333333,
              "#9c179e"
             ],
             [
              0.4444444444444444,
              "#bd3786"
             ],
             [
              0.5555555555555556,
              "#d8576b"
             ],
             [
              0.6666666666666666,
              "#ed7953"
             ],
             [
              0.7777777777777778,
              "#fb9f3a"
             ],
             [
              0.8888888888888888,
              "#fdca26"
             ],
             [
              1,
              "#f0f921"
             ]
            ],
            "type": "histogram2d"
           }
          ],
          "histogram2dcontour": [
           {
            "colorbar": {
             "outlinewidth": 0,
             "ticks": ""
            },
            "colorscale": [
             [
              0,
              "#0d0887"
             ],
             [
              0.1111111111111111,
              "#46039f"
             ],
             [
              0.2222222222222222,
              "#7201a8"
             ],
             [
              0.3333333333333333,
              "#9c179e"
             ],
             [
              0.4444444444444444,
              "#bd3786"
             ],
             [
              0.5555555555555556,
              "#d8576b"
             ],
             [
              0.6666666666666666,
              "#ed7953"
             ],
             [
              0.7777777777777778,
              "#fb9f3a"
             ],
             [
              0.8888888888888888,
              "#fdca26"
             ],
             [
              1,
              "#f0f921"
             ]
            ],
            "type": "histogram2dcontour"
           }
          ],
          "mesh3d": [
           {
            "colorbar": {
             "outlinewidth": 0,
             "ticks": ""
            },
            "type": "mesh3d"
           }
          ],
          "parcoords": [
           {
            "line": {
             "colorbar": {
              "outlinewidth": 0,
              "ticks": ""
             }
            },
            "type": "parcoords"
           }
          ],
          "pie": [
           {
            "automargin": true,
            "type": "pie"
           }
          ],
          "scatter": [
           {
            "marker": {
             "colorbar": {
              "outlinewidth": 0,
              "ticks": ""
             }
            },
            "type": "scatter"
           }
          ],
          "scatter3d": [
           {
            "line": {
             "colorbar": {
              "outlinewidth": 0,
              "ticks": ""
             }
            },
            "marker": {
             "colorbar": {
              "outlinewidth": 0,
              "ticks": ""
             }
            },
            "type": "scatter3d"
           }
          ],
          "scattercarpet": [
           {
            "marker": {
             "colorbar": {
              "outlinewidth": 0,
              "ticks": ""
             }
            },
            "type": "scattercarpet"
           }
          ],
          "scattergeo": [
           {
            "marker": {
             "colorbar": {
              "outlinewidth": 0,
              "ticks": ""
             }
            },
            "type": "scattergeo"
           }
          ],
          "scattergl": [
           {
            "marker": {
             "colorbar": {
              "outlinewidth": 0,
              "ticks": ""
             }
            },
            "type": "scattergl"
           }
          ],
          "scattermapbox": [
           {
            "marker": {
             "colorbar": {
              "outlinewidth": 0,
              "ticks": ""
             }
            },
            "type": "scattermapbox"
           }
          ],
          "scatterpolar": [
           {
            "marker": {
             "colorbar": {
              "outlinewidth": 0,
              "ticks": ""
             }
            },
            "type": "scatterpolar"
           }
          ],
          "scatterpolargl": [
           {
            "marker": {
             "colorbar": {
              "outlinewidth": 0,
              "ticks": ""
             }
            },
            "type": "scatterpolargl"
           }
          ],
          "scatterternary": [
           {
            "marker": {
             "colorbar": {
              "outlinewidth": 0,
              "ticks": ""
             }
            },
            "type": "scatterternary"
           }
          ],
          "surface": [
           {
            "colorbar": {
             "outlinewidth": 0,
             "ticks": ""
            },
            "colorscale": [
             [
              0,
              "#0d0887"
             ],
             [
              0.1111111111111111,
              "#46039f"
             ],
             [
              0.2222222222222222,
              "#7201a8"
             ],
             [
              0.3333333333333333,
              "#9c179e"
             ],
             [
              0.4444444444444444,
              "#bd3786"
             ],
             [
              0.5555555555555556,
              "#d8576b"
             ],
             [
              0.6666666666666666,
              "#ed7953"
             ],
             [
              0.7777777777777778,
              "#fb9f3a"
             ],
             [
              0.8888888888888888,
              "#fdca26"
             ],
             [
              1,
              "#f0f921"
             ]
            ],
            "type": "surface"
           }
          ],
          "table": [
           {
            "cells": {
             "fill": {
              "color": "#EBF0F8"
             },
             "line": {
              "color": "white"
             }
            },
            "header": {
             "fill": {
              "color": "#C8D4E3"
             },
             "line": {
              "color": "white"
             }
            },
            "type": "table"
           }
          ]
         },
         "layout": {
          "annotationdefaults": {
           "arrowcolor": "#2a3f5f",
           "arrowhead": 0,
           "arrowwidth": 1
          },
          "autotypenumbers": "strict",
          "coloraxis": {
           "colorbar": {
            "outlinewidth": 0,
            "ticks": ""
           }
          },
          "colorscale": {
           "diverging": [
            [
             0,
             "#8e0152"
            ],
            [
             0.1,
             "#c51b7d"
            ],
            [
             0.2,
             "#de77ae"
            ],
            [
             0.3,
             "#f1b6da"
            ],
            [
             0.4,
             "#fde0ef"
            ],
            [
             0.5,
             "#f7f7f7"
            ],
            [
             0.6,
             "#e6f5d0"
            ],
            [
             0.7,
             "#b8e186"
            ],
            [
             0.8,
             "#7fbc41"
            ],
            [
             0.9,
             "#4d9221"
            ],
            [
             1,
             "#276419"
            ]
           ],
           "sequential": [
            [
             0,
             "#0d0887"
            ],
            [
             0.1111111111111111,
             "#46039f"
            ],
            [
             0.2222222222222222,
             "#7201a8"
            ],
            [
             0.3333333333333333,
             "#9c179e"
            ],
            [
             0.4444444444444444,
             "#bd3786"
            ],
            [
             0.5555555555555556,
             "#d8576b"
            ],
            [
             0.6666666666666666,
             "#ed7953"
            ],
            [
             0.7777777777777778,
             "#fb9f3a"
            ],
            [
             0.8888888888888888,
             "#fdca26"
            ],
            [
             1,
             "#f0f921"
            ]
           ],
           "sequentialminus": [
            [
             0,
             "#0d0887"
            ],
            [
             0.1111111111111111,
             "#46039f"
            ],
            [
             0.2222222222222222,
             "#7201a8"
            ],
            [
             0.3333333333333333,
             "#9c179e"
            ],
            [
             0.4444444444444444,
             "#bd3786"
            ],
            [
             0.5555555555555556,
             "#d8576b"
            ],
            [
             0.6666666666666666,
             "#ed7953"
            ],
            [
             0.7777777777777778,
             "#fb9f3a"
            ],
            [
             0.8888888888888888,
             "#fdca26"
            ],
            [
             1,
             "#f0f921"
            ]
           ]
          },
          "colorway": [
           "#636efa",
           "#EF553B",
           "#00cc96",
           "#ab63fa",
           "#FFA15A",
           "#19d3f3",
           "#FF6692",
           "#B6E880",
           "#FF97FF",
           "#FECB52"
          ],
          "font": {
           "color": "#2a3f5f"
          },
          "geo": {
           "bgcolor": "white",
           "lakecolor": "white",
           "landcolor": "#E5ECF6",
           "showlakes": true,
           "showland": true,
           "subunitcolor": "white"
          },
          "hoverlabel": {
           "align": "left"
          },
          "hovermode": "closest",
          "mapbox": {
           "style": "light"
          },
          "paper_bgcolor": "white",
          "plot_bgcolor": "#E5ECF6",
          "polar": {
           "angularaxis": {
            "gridcolor": "white",
            "linecolor": "white",
            "ticks": ""
           },
           "bgcolor": "#E5ECF6",
           "radialaxis": {
            "gridcolor": "white",
            "linecolor": "white",
            "ticks": ""
           }
          },
          "scene": {
           "xaxis": {
            "backgroundcolor": "#E5ECF6",
            "gridcolor": "white",
            "gridwidth": 2,
            "linecolor": "white",
            "showbackground": true,
            "ticks": "",
            "zerolinecolor": "white"
           },
           "yaxis": {
            "backgroundcolor": "#E5ECF6",
            "gridcolor": "white",
            "gridwidth": 2,
            "linecolor": "white",
            "showbackground": true,
            "ticks": "",
            "zerolinecolor": "white"
           },
           "zaxis": {
            "backgroundcolor": "#E5ECF6",
            "gridcolor": "white",
            "gridwidth": 2,
            "linecolor": "white",
            "showbackground": true,
            "ticks": "",
            "zerolinecolor": "white"
           }
          },
          "shapedefaults": {
           "line": {
            "color": "#2a3f5f"
           }
          },
          "ternary": {
           "aaxis": {
            "gridcolor": "white",
            "linecolor": "white",
            "ticks": ""
           },
           "baxis": {
            "gridcolor": "white",
            "linecolor": "white",
            "ticks": ""
           },
           "bgcolor": "#E5ECF6",
           "caxis": {
            "gridcolor": "white",
            "linecolor": "white",
            "ticks": ""
           }
          },
          "title": {
           "x": 0.05
          },
          "xaxis": {
           "automargin": true,
           "gridcolor": "white",
           "linecolor": "white",
           "ticks": "",
           "title": {
            "standoff": 15
           },
           "zerolinecolor": "white",
           "zerolinewidth": 2
          },
          "yaxis": {
           "automargin": true,
           "gridcolor": "white",
           "linecolor": "white",
           "ticks": "",
           "title": {
            "standoff": 15
           },
           "zerolinecolor": "white",
           "zerolinewidth": 2
          }
         }
        },
        "xaxis": {
         "anchor": "y",
         "domain": [
          0,
          1
         ]
        },
        "yaxis": {
         "anchor": "x",
         "domain": [
          0,
          1
         ]
        }
       }
      }
     },
     "metadata": {}
    },
    {
     "output_type": "display_data",
     "data": {
      "application/vnd.plotly.v1+json": {
       "config": {
        "plotlyServerURL": "https://plot.ly"
       },
       "data": [
        {
         "name": "d = 55 mm",
         "type": "scatter",
         "x": [
          1733.3333333333333,
          1560,
          1418.1818181818182,
          1300,
          1200,
          1114.2857142857144,
          1040,
          975,
          917.6470588235295,
          866.6666666666666,
          821.0526315789474,
          780,
          742.8571428571429,
          709.0909090909091,
          678.2608695652174,
          650,
          624,
          600,
          577.7777777777778,
          557.1428571428572,
          537.9310344827586,
          520,
          503.22580645161287,
          487.5,
          472.72727272727275,
          458.82352941176475,
          445.7142857142857,
          433.3333333333333,
          421.6216216216216,
          410.5263157894737,
          400.00000000000006,
          390,
          380.4878048780488,
          371.42857142857144,
          362.79069767441865,
          354.54545454545456,
          346.6666666666667,
          339.1304347826087,
          331.9148936170213,
          325,
          318.36734693877554,
          312,
          305.88235294117646,
          300,
          294.33962264150944,
          288.8888888888889,
          283.6363636363636,
          278.5714285714286,
          273.6842105263158,
          268.9655172413793,
          264.4067796610169
         ],
         "y": [
          21.4715225824328,
          20.180433291770573,
          18.982589497331055,
          18.698096009813206,
          18.777382854764642,
          18.681279285305614,
          18.46899869210053,
          18.180720413281243,
          17.84398759205387,
          17.14870289553893,
          16.40119041040059,
          15.713699345386532,
          15.079659270191867,
          14.493346566435152,
          13.949772661917983,
          13.444582878740647,
          12.973967581047381,
          12.534585411471323,
          12.12349758320249,
          11.738111910911499,
          11.376135241563155,
          11.035533042394015,
          10.714495044905943,
          10.411405994291615,
          10.124820696193401,
          9.853442680064546,
          9.596105908697645,
          9.351759057218066,
          9.119451963589928,
          8.89832391838962,
          8.687593516209477,
          8.486549836346633,
          8.294544757974188,
          8.110986246119394,
          7.935332470608228,
          7.767086641608788,
          7.605792463286229,
          7.451030122001234,
          7.30241273796044,
          7.159583219685163,
          7.0222114694521505,
          6.889991895261844,
          6.762641191139797,
          6.63989635286783,
          6.521512900731439,
          6.4072632846895115,
          6.296935450629624,
          6.190331549156447,
          6.087266770746265,
          5.987568293149409,
          5.89107432868561
         ]
        },
        {
         "name": "d = 95 mm",
         "type": "scatter",
         "x": [
          1733.3333333333333,
          1560,
          1418.1818181818182,
          1300,
          1200,
          1114.2857142857144,
          1040,
          975,
          917.6470588235295,
          866.6666666666666,
          821.0526315789474,
          780,
          742.8571428571429,
          709.0909090909091,
          678.2608695652174,
          650,
          624,
          600,
          577.7777777777778,
          557.1428571428572,
          537.9310344827586,
          520,
          503.22580645161287,
          487.5,
          472.72727272727275,
          458.82352941176475,
          445.7142857142857,
          433.3333333333333,
          421.6216216216216,
          410.5263157894737,
          400.00000000000006,
          390,
          380.4878048780488,
          371.42857142857144,
          362.79069767441865,
          354.54545454545456,
          346.6666666666667,
          339.1304347826087,
          331.9148936170213,
          325,
          318.36734693877554,
          312,
          305.88235294117646,
          300,
          294.33962264150944,
          288.8888888888889,
          283.6363636363636,
          278.5714285714286,
          273.6842105263158,
          268.9655172413793,
          264.4067796610169
         ],
         "y": [
          54.65474967915647,
          52.909797381546134,
          48.93247717483152,
          45.490831514962586,
          42.488341645885285,
          39.848876215074576,
          37.512132169576056,
          35.429998977166456,
          33.563770720258184,
          31.882036228872263,
          30.359085147242695,
          28.973699345386535,
          27.708230698763295,
          26.547892020980605,
          25.48020744452668,
          24.494582878740648,
          23.58196758104738,
          22.734585411471322,
          21.945719805424712,
          21.20954048234007,
          20.52096282777005,
          19.875533042394014,
          19.26933375458336,
          18.698905994291614,
          18.16118433255704,
          17.653442680064547,
          17.1732487658405,
          16.71842572388473,
          16.287019531157497,
          15.877271286810677,
          15.487593516209477,
          15.116549836346636,
          14.762837440901016,
          14.425271960405107,
          14.102774331073345,
          13.794359368881516,
          13.49912579661956,
          13.216247513305582,
          12.9449659294498,
          12.684583219685162,
          12.434456367411338,
          12.193991895261846,
          11.962641191139797,
          11.739896352867829,
          11.525286485637102,
          11.318374395800623,
          11.118753632447806,
          10.926045834870735,
          10.739898349693632,
          10.559982086252857,
          10.385989582922898
         ]
        },
        {
         "name": "d = 135 mm",
         "type": "scatter",
         "x": [
          1733.3333333333333,
          1560,
          1418.1818181818182,
          1300,
          1200,
          1114.2857142857144,
          1040,
          975,
          917.6470588235295,
          866.6666666666666,
          821.0526315789474,
          780,
          742.8571428571429,
          709.0909090909091,
          678.2608695652174,
          650,
          624,
          600,
          577.7777777777778,
          557.1428571428572,
          537.9310344827586,
          520,
          503.22580645161287,
          487.5,
          472.72727272727275,
          458.82352941176475,
          445.7142857142857,
          433.3333333333333,
          421.6216216216216,
          410.5263157894737,
          400.00000000000006,
          390,
          380.4878048780488,
          371.42857142857144,
          362.79069767441865,
          354.54545454545456,
          346.6666666666667,
          339.1304347826087,
          331.9148936170213,
          325,
          318.36734693877554,
          312,
          305.88235294117646,
          300,
          294.33962264150944,
          288.8888888888889,
          283.6363636363636,
          278.5714285714286,
          273.6842105263158,
          268.9655172413793,
          264.4067796610169
         ],
         "y": [
          87.01147824882239,
          79.42979738154612,
          73.04156808392243,
          67.59083151496259,
          62.88834164588528,
          58.79173335793171,
          55.19213216957606,
          52.00499897716646,
          49.16377072025818,
          46.61536956220559,
          44.3169798840848,
          42.23369934538653,
          40.33680212733472,
          38.60243747552607,
          37.01064222713537,
          35.54458287874065,
          34.18996758104739,
          32.93458541147132,
          31.767942027646942,
          30.680969053768646,
          29.665790413976943,
          28.715533042394014,
          27.82417246426078,
          26.986405994291612,
          26.19754796892067,
          25.453442680064544,
          24.750391622983358,
          24.085092390551402,
          23.454587098725064,
          22.85621865523173,
          22.287593516209476,
          21.746549836346627,
          21.23113012382785,
          20.739557674690822,
          20.27021619153846,
          19.821632096154246,
          19.392459129952897,
          18.981464904609933,
          18.58751912093916,
          18.20958321968516,
          17.84670126537052,
          17.497991895261844,
          17.162641191139798,
          16.839896352867832,
          16.529060070542762,
          16.229485506911736,
          15.940571814265988,
          15.66176012058502,
          15.392529928641,
          15.132395879356304,
          14.880904837160184
         ]
        }
       ],
       "layout": {
        "legend": {
         "tracegroupgap": 0
        },
        "margin": {
         "t": 60
        },
        "template": {
         "data": {
          "bar": [
           {
            "error_x": {
             "color": "#2a3f5f"
            },
            "error_y": {
             "color": "#2a3f5f"
            },
            "marker": {
             "line": {
              "color": "#E5ECF6",
              "width": 0.5
             }
            },
            "type": "bar"
           }
          ],
          "barpolar": [
           {
            "marker": {
             "line": {
              "color": "#E5ECF6",
              "width": 0.5
             }
            },
            "type": "barpolar"
           }
          ],
          "carpet": [
           {
            "aaxis": {
             "endlinecolor": "#2a3f5f",
             "gridcolor": "white",
             "linecolor": "white",
             "minorgridcolor": "white",
             "startlinecolor": "#2a3f5f"
            },
            "baxis": {
             "endlinecolor": "#2a3f5f",
             "gridcolor": "white",
             "linecolor": "white",
             "minorgridcolor": "white",
             "startlinecolor": "#2a3f5f"
            },
            "type": "carpet"
           }
          ],
          "choropleth": [
           {
            "colorbar": {
             "outlinewidth": 0,
             "ticks": ""
            },
            "type": "choropleth"
           }
          ],
          "contour": [
           {
            "colorbar": {
             "outlinewidth": 0,
             "ticks": ""
            },
            "colorscale": [
             [
              0,
              "#0d0887"
             ],
             [
              0.1111111111111111,
              "#46039f"
             ],
             [
              0.2222222222222222,
              "#7201a8"
             ],
             [
              0.3333333333333333,
              "#9c179e"
             ],
             [
              0.4444444444444444,
              "#bd3786"
             ],
             [
              0.5555555555555556,
              "#d8576b"
             ],
             [
              0.6666666666666666,
              "#ed7953"
             ],
             [
              0.7777777777777778,
              "#fb9f3a"
             ],
             [
              0.8888888888888888,
              "#fdca26"
             ],
             [
              1,
              "#f0f921"
             ]
            ],
            "type": "contour"
           }
          ],
          "contourcarpet": [
           {
            "colorbar": {
             "outlinewidth": 0,
             "ticks": ""
            },
            "type": "contourcarpet"
           }
          ],
          "heatmap": [
           {
            "colorbar": {
             "outlinewidth": 0,
             "ticks": ""
            },
            "colorscale": [
             [
              0,
              "#0d0887"
             ],
             [
              0.1111111111111111,
              "#46039f"
             ],
             [
              0.2222222222222222,
              "#7201a8"
             ],
             [
              0.3333333333333333,
              "#9c179e"
             ],
             [
              0.4444444444444444,
              "#bd3786"
             ],
             [
              0.5555555555555556,
              "#d8576b"
             ],
             [
              0.6666666666666666,
              "#ed7953"
             ],
             [
              0.7777777777777778,
              "#fb9f3a"
             ],
             [
              0.8888888888888888,
              "#fdca26"
             ],
             [
              1,
              "#f0f921"
             ]
            ],
            "type": "heatmap"
           }
          ],
          "heatmapgl": [
           {
            "colorbar": {
             "outlinewidth": 0,
             "ticks": ""
            },
            "colorscale": [
             [
              0,
              "#0d0887"
             ],
             [
              0.1111111111111111,
              "#46039f"
             ],
             [
              0.2222222222222222,
              "#7201a8"
             ],
             [
              0.3333333333333333,
              "#9c179e"
             ],
             [
              0.4444444444444444,
              "#bd3786"
             ],
             [
              0.5555555555555556,
              "#d8576b"
             ],
             [
              0.6666666666666666,
              "#ed7953"
             ],
             [
              0.7777777777777778,
              "#fb9f3a"
             ],
             [
              0.8888888888888888,
              "#fdca26"
             ],
             [
              1,
              "#f0f921"
             ]
            ],
            "type": "heatmapgl"
           }
          ],
          "histogram": [
           {
            "marker": {
             "colorbar": {
              "outlinewidth": 0,
              "ticks": ""
             }
            },
            "type": "histogram"
           }
          ],
          "histogram2d": [
           {
            "colorbar": {
             "outlinewidth": 0,
             "ticks": ""
            },
            "colorscale": [
             [
              0,
              "#0d0887"
             ],
             [
              0.1111111111111111,
              "#46039f"
             ],
             [
              0.2222222222222222,
              "#7201a8"
             ],
             [
              0.3333333333333333,
              "#9c179e"
             ],
             [
              0.4444444444444444,
              "#bd3786"
             ],
             [
              0.5555555555555556,
              "#d8576b"
             ],
             [
              0.6666666666666666,
              "#ed7953"
             ],
             [
              0.7777777777777778,
              "#fb9f3a"
             ],
             [
              0.8888888888888888,
              "#fdca26"
             ],
             [
              1,
              "#f0f921"
             ]
            ],
            "type": "histogram2d"
           }
          ],
          "histogram2dcontour": [
           {
            "colorbar": {
             "outlinewidth": 0,
             "ticks": ""
            },
            "colorscale": [
             [
              0,
              "#0d0887"
             ],
             [
              0.1111111111111111,
              "#46039f"
             ],
             [
              0.2222222222222222,
              "#7201a8"
             ],
             [
              0.3333333333333333,
              "#9c179e"
             ],
             [
              0.4444444444444444,
              "#bd3786"
             ],
             [
              0.5555555555555556,
              "#d8576b"
             ],
             [
              0.6666666666666666,
              "#ed7953"
             ],
             [
              0.7777777777777778,
              "#fb9f3a"
             ],
             [
              0.8888888888888888,
              "#fdca26"
             ],
             [
              1,
              "#f0f921"
             ]
            ],
            "type": "histogram2dcontour"
           }
          ],
          "mesh3d": [
           {
            "colorbar": {
             "outlinewidth": 0,
             "ticks": ""
            },
            "type": "mesh3d"
           }
          ],
          "parcoords": [
           {
            "line": {
             "colorbar": {
              "outlinewidth": 0,
              "ticks": ""
             }
            },
            "type": "parcoords"
           }
          ],
          "pie": [
           {
            "automargin": true,
            "type": "pie"
           }
          ],
          "scatter": [
           {
            "marker": {
             "colorbar": {
              "outlinewidth": 0,
              "ticks": ""
             }
            },
            "type": "scatter"
           }
          ],
          "scatter3d": [
           {
            "line": {
             "colorbar": {
              "outlinewidth": 0,
              "ticks": ""
             }
            },
            "marker": {
             "colorbar": {
              "outlinewidth": 0,
              "ticks": ""
             }
            },
            "type": "scatter3d"
           }
          ],
          "scattercarpet": [
           {
            "marker": {
             "colorbar": {
              "outlinewidth": 0,
              "ticks": ""
             }
            },
            "type": "scattercarpet"
           }
          ],
          "scattergeo": [
           {
            "marker": {
             "colorbar": {
              "outlinewidth": 0,
              "ticks": ""
             }
            },
            "type": "scattergeo"
           }
          ],
          "scattergl": [
           {
            "marker": {
             "colorbar": {
              "outlinewidth": 0,
              "ticks": ""
             }
            },
            "type": "scattergl"
           }
          ],
          "scattermapbox": [
           {
            "marker": {
             "colorbar": {
              "outlinewidth": 0,
              "ticks": ""
             }
            },
            "type": "scattermapbox"
           }
          ],
          "scatterpolar": [
           {
            "marker": {
             "colorbar": {
              "outlinewidth": 0,
              "ticks": ""
             }
            },
            "type": "scatterpolar"
           }
          ],
          "scatterpolargl": [
           {
            "marker": {
             "colorbar": {
              "outlinewidth": 0,
              "ticks": ""
             }
            },
            "type": "scatterpolargl"
           }
          ],
          "scatterternary": [
           {
            "marker": {
             "colorbar": {
              "outlinewidth": 0,
              "ticks": ""
             }
            },
            "type": "scatterternary"
           }
          ],
          "surface": [
           {
            "colorbar": {
             "outlinewidth": 0,
             "ticks": ""
            },
            "colorscale": [
             [
              0,
              "#0d0887"
             ],
             [
              0.1111111111111111,
              "#46039f"
             ],
             [
              0.2222222222222222,
              "#7201a8"
             ],
             [
              0.3333333333333333,
              "#9c179e"
             ],
             [
              0.4444444444444444,
              "#bd3786"
             ],
             [
              0.5555555555555556,
              "#d8576b"
             ],
             [
              0.6666666666666666,
              "#ed7953"
             ],
             [
              0.7777777777777778,
              "#fb9f3a"
             ],
             [
              0.8888888888888888,
              "#fdca26"
             ],
             [
              1,
              "#f0f921"
             ]
            ],
            "type": "surface"
           }
          ],
          "table": [
           {
            "cells": {
             "fill": {
              "color": "#EBF0F8"
             },
             "line": {
              "color": "white"
             }
            },
            "header": {
             "fill": {
              "color": "#C8D4E3"
             },
             "line": {
              "color": "white"
             }
            },
            "type": "table"
           }
          ]
         },
         "layout": {
          "annotationdefaults": {
           "arrowcolor": "#2a3f5f",
           "arrowhead": 0,
           "arrowwidth": 1
          },
          "autotypenumbers": "strict",
          "coloraxis": {
           "colorbar": {
            "outlinewidth": 0,
            "ticks": ""
           }
          },
          "colorscale": {
           "diverging": [
            [
             0,
             "#8e0152"
            ],
            [
             0.1,
             "#c51b7d"
            ],
            [
             0.2,
             "#de77ae"
            ],
            [
             0.3,
             "#f1b6da"
            ],
            [
             0.4,
             "#fde0ef"
            ],
            [
             0.5,
             "#f7f7f7"
            ],
            [
             0.6,
             "#e6f5d0"
            ],
            [
             0.7,
             "#b8e186"
            ],
            [
             0.8,
             "#7fbc41"
            ],
            [
             0.9,
             "#4d9221"
            ],
            [
             1,
             "#276419"
            ]
           ],
           "sequential": [
            [
             0,
             "#0d0887"
            ],
            [
             0.1111111111111111,
             "#46039f"
            ],
            [
             0.2222222222222222,
             "#7201a8"
            ],
            [
             0.3333333333333333,
             "#9c179e"
            ],
            [
             0.4444444444444444,
             "#bd3786"
            ],
            [
             0.5555555555555556,
             "#d8576b"
            ],
            [
             0.6666666666666666,
             "#ed7953"
            ],
            [
             0.7777777777777778,
             "#fb9f3a"
            ],
            [
             0.8888888888888888,
             "#fdca26"
            ],
            [
             1,
             "#f0f921"
            ]
           ],
           "sequentialminus": [
            [
             0,
             "#0d0887"
            ],
            [
             0.1111111111111111,
             "#46039f"
            ],
            [
             0.2222222222222222,
             "#7201a8"
            ],
            [
             0.3333333333333333,
             "#9c179e"
            ],
            [
             0.4444444444444444,
             "#bd3786"
            ],
            [
             0.5555555555555556,
             "#d8576b"
            ],
            [
             0.6666666666666666,
             "#ed7953"
            ],
            [
             0.7777777777777778,
             "#fb9f3a"
            ],
            [
             0.8888888888888888,
             "#fdca26"
            ],
            [
             1,
             "#f0f921"
            ]
           ]
          },
          "colorway": [
           "#636efa",
           "#EF553B",
           "#00cc96",
           "#ab63fa",
           "#FFA15A",
           "#19d3f3",
           "#FF6692",
           "#B6E880",
           "#FF97FF",
           "#FECB52"
          ],
          "font": {
           "color": "#2a3f5f"
          },
          "geo": {
           "bgcolor": "white",
           "lakecolor": "white",
           "landcolor": "#E5ECF6",
           "showlakes": true,
           "showland": true,
           "subunitcolor": "white"
          },
          "hoverlabel": {
           "align": "left"
          },
          "hovermode": "closest",
          "mapbox": {
           "style": "light"
          },
          "paper_bgcolor": "white",
          "plot_bgcolor": "#E5ECF6",
          "polar": {
           "angularaxis": {
            "gridcolor": "white",
            "linecolor": "white",
            "ticks": ""
           },
           "bgcolor": "#E5ECF6",
           "radialaxis": {
            "gridcolor": "white",
            "linecolor": "white",
            "ticks": ""
           }
          },
          "scene": {
           "xaxis": {
            "backgroundcolor": "#E5ECF6",
            "gridcolor": "white",
            "gridwidth": 2,
            "linecolor": "white",
            "showbackground": true,
            "ticks": "",
            "zerolinecolor": "white"
           },
           "yaxis": {
            "backgroundcolor": "#E5ECF6",
            "gridcolor": "white",
            "gridwidth": 2,
            "linecolor": "white",
            "showbackground": true,
            "ticks": "",
            "zerolinecolor": "white"
           },
           "zaxis": {
            "backgroundcolor": "#E5ECF6",
            "gridcolor": "white",
            "gridwidth": 2,
            "linecolor": "white",
            "showbackground": true,
            "ticks": "",
            "zerolinecolor": "white"
           }
          },
          "shapedefaults": {
           "line": {
            "color": "#2a3f5f"
           }
          },
          "ternary": {
           "aaxis": {
            "gridcolor": "white",
            "linecolor": "white",
            "ticks": ""
           },
           "baxis": {
            "gridcolor": "white",
            "linecolor": "white",
            "ticks": ""
           },
           "bgcolor": "#E5ECF6",
           "caxis": {
            "gridcolor": "white",
            "linecolor": "white",
            "ticks": ""
           }
          },
          "title": {
           "x": 0.05
          },
          "xaxis": {
           "automargin": true,
           "gridcolor": "white",
           "linecolor": "white",
           "ticks": "",
           "title": {
            "standoff": 15
           },
           "zerolinecolor": "white",
           "zerolinewidth": 2
          },
          "yaxis": {
           "automargin": true,
           "gridcolor": "white",
           "linecolor": "white",
           "ticks": "",
           "title": {
            "standoff": 15
           },
           "zerolinecolor": "white",
           "zerolinewidth": 2
          }
         }
        },
        "xaxis": {
         "anchor": "y",
         "domain": [
          0,
          1
         ]
        },
        "yaxis": {
         "anchor": "x",
         "domain": [
          0,
          1
         ]
        }
       }
      }
     },
     "metadata": {}
    },
    {
     "output_type": "display_data",
     "data": {
      "application/vnd.plotly.v1+json": {
       "config": {
        "plotlyServerURL": "https://plot.ly"
       },
       "data": [
        {
         "name": "d = 55 mm",
         "type": "scatter",
         "x": [
          1733.3333333333333,
          1560,
          1418.1818181818182,
          1300,
          1200,
          1114.2857142857144,
          1040,
          975,
          917.6470588235295,
          866.6666666666666,
          821.0526315789474,
          780,
          742.8571428571429,
          709.0909090909091,
          678.2608695652174,
          650,
          624,
          600,
          577.7777777777778,
          557.1428571428572,
          537.9310344827586,
          520,
          503.22580645161287,
          487.5,
          472.72727272727275,
          458.82352941176475,
          445.7142857142857,
          433.3333333333333,
          421.6216216216216,
          410.5263157894737,
          400.00000000000006,
          390,
          380.4878048780488,
          371.42857142857144,
          362.79069767441865,
          354.54545454545456,
          346.6666666666667,
          339.1304347826087,
          331.9148936170213,
          325,
          318.36734693877554,
          312,
          305.88235294117646,
          300,
          294.33962264150944,
          288.8888888888889,
          283.6363636363636,
          278.5714285714286,
          273.6842105263158,
          268.9655172413793,
          264.4067796610169
         ],
         "y": [
          21.4715225824328,
          20.180433291770573,
          18.982589497331055,
          18.698096009813206,
          18.777382854764642,
          18.681279285305614,
          18.46899869210053,
          18.180720413281243,
          17.84398759205387,
          17.14870289553893,
          16.40119041040059,
          15.713699345386532,
          15.079659270191867,
          14.493346566435152,
          13.949772661917983,
          13.444582878740647,
          12.973967581047381,
          12.534585411471323,
          12.12349758320249,
          11.738111910911499,
          11.376135241563155,
          11.035533042394015,
          10.714495044905943,
          10.411405994291615,
          10.124820696193401,
          9.853442680064546,
          9.596105908697645,
          9.351759057218066,
          9.119451963589928,
          8.89832391838962,
          8.687593516209477,
          8.486549836346633,
          8.294544757974188,
          8.110986246119394,
          7.935332470608228,
          7.767086641608788,
          7.605792463286229,
          7.451030122001234,
          7.30241273796044,
          7.159583219685163,
          7.0222114694521505,
          6.889991895261844,
          6.762641191139797,
          6.63989635286783,
          6.521512900731439,
          6.4072632846895115,
          6.296935450629624,
          6.190331549156447,
          6.087266770746265,
          5.987568293149409,
          5.89107432868561
         ]
        },
        {
         "name": "d = 95 mm",
         "type": "scatter",
         "x": [
          1733.3333333333333,
          1560,
          1418.1818181818182,
          1300,
          1200,
          1114.2857142857144,
          1040,
          975,
          917.6470588235295,
          866.6666666666666,
          821.0526315789474,
          780,
          742.8571428571429,
          709.0909090909091,
          678.2608695652174,
          650,
          624,
          600,
          577.7777777777778,
          557.1428571428572,
          537.9310344827586,
          520,
          503.22580645161287,
          487.5,
          472.72727272727275,
          458.82352941176475,
          445.7142857142857,
          433.3333333333333,
          421.6216216216216,
          410.5263157894737,
          400.00000000000006,
          390,
          380.4878048780488,
          371.42857142857144,
          362.79069767441865,
          354.54545454545456,
          346.6666666666667,
          339.1304347826087,
          331.9148936170213,
          325,
          318.36734693877554,
          312,
          305.88235294117646,
          300,
          294.33962264150944,
          288.8888888888889,
          283.6363636363636,
          278.5714285714286,
          273.6842105263158,
          268.9655172413793,
          264.4067796610169
         ],
         "y": [
          54.65474967915647,
          52.909797381546134,
          48.93247717483152,
          45.490831514962586,
          42.488341645885285,
          39.848876215074576,
          37.512132169576056,
          35.429998977166456,
          33.563770720258184,
          31.882036228872263,
          30.359085147242695,
          28.973699345386535,
          27.708230698763295,
          26.547892020980605,
          25.48020744452668,
          24.494582878740648,
          23.58196758104738,
          22.734585411471322,
          21.945719805424712,
          21.20954048234007,
          20.52096282777005,
          19.875533042394014,
          19.26933375458336,
          18.698905994291614,
          18.16118433255704,
          17.653442680064547,
          17.1732487658405,
          16.71842572388473,
          16.287019531157497,
          15.877271286810677,
          15.487593516209477,
          15.116549836346636,
          14.762837440901016,
          14.425271960405107,
          14.102774331073345,
          13.794359368881516,
          13.49912579661956,
          13.216247513305582,
          12.9449659294498,
          12.684583219685162,
          12.434456367411338,
          12.193991895261846,
          11.962641191139797,
          11.739896352867829,
          11.525286485637102,
          11.318374395800623,
          11.118753632447806,
          10.926045834870735,
          10.739898349693632,
          10.559982086252857,
          10.385989582922898
         ]
        },
        {
         "name": "d = 135 mm",
         "type": "scatter",
         "x": [
          1733.3333333333333,
          1560,
          1418.1818181818182,
          1300,
          1200,
          1114.2857142857144,
          1040,
          975,
          917.6470588235295,
          866.6666666666666,
          821.0526315789474,
          780,
          742.8571428571429,
          709.0909090909091,
          678.2608695652174,
          650,
          624,
          600,
          577.7777777777778,
          557.1428571428572,
          537.9310344827586,
          520,
          503.22580645161287,
          487.5,
          472.72727272727275,
          458.82352941176475,
          445.7142857142857,
          433.3333333333333,
          421.6216216216216,
          410.5263157894737,
          400.00000000000006,
          390,
          380.4878048780488,
          371.42857142857144,
          362.79069767441865,
          354.54545454545456,
          346.6666666666667,
          339.1304347826087,
          331.9148936170213,
          325,
          318.36734693877554,
          312,
          305.88235294117646,
          300,
          294.33962264150944,
          288.8888888888889,
          283.6363636363636,
          278.5714285714286,
          273.6842105263158,
          268.9655172413793,
          264.4067796610169
         ],
         "y": [
          87.01147824882239,
          79.42979738154612,
          73.04156808392243,
          67.59083151496259,
          62.88834164588528,
          58.79173335793171,
          55.19213216957606,
          52.00499897716646,
          49.16377072025818,
          46.61536956220559,
          44.3169798840848,
          42.23369934538653,
          40.33680212733472,
          38.60243747552607,
          37.01064222713537,
          35.54458287874065,
          34.18996758104739,
          32.93458541147132,
          31.767942027646942,
          30.680969053768646,
          29.665790413976943,
          28.715533042394014,
          27.82417246426078,
          26.986405994291612,
          26.19754796892067,
          25.453442680064544,
          24.750391622983358,
          24.085092390551402,
          23.454587098725064,
          22.85621865523173,
          22.287593516209476,
          21.746549836346627,
          21.23113012382785,
          20.739557674690822,
          20.27021619153846,
          19.821632096154246,
          19.392459129952897,
          18.981464904609933,
          18.58751912093916,
          18.20958321968516,
          17.84670126537052,
          17.497991895261844,
          17.162641191139798,
          16.839896352867832,
          16.529060070542762,
          16.229485506911736,
          15.940571814265988,
          15.66176012058502,
          15.392529928641,
          15.132395879356304,
          14.880904837160184
         ]
        },
        {
         "name": "d = 175 mm",
         "type": "scatter",
         "x": [
          1733.3333333333333,
          1560,
          1418.1818181818182,
          1300,
          1200,
          1114.2857142857144,
          1040,
          975,
          917.6470588235295,
          866.6666666666666,
          821.0526315789474,
          780,
          742.8571428571429,
          709.0909090909091,
          678.2608695652174,
          650,
          624,
          600,
          577.7777777777778,
          557.1428571428572,
          537.9310344827586,
          520,
          503.22580645161287,
          487.5,
          472.72727272727275,
          458.82352941176475,
          445.7142857142857,
          433.3333333333333,
          421.6216216216216,
          410.5263157894737,
          400.00000000000006,
          390,
          380.4878048780488,
          371.42857142857144,
          362.79069767441865,
          354.54545454545456,
          346.6666666666667,
          339.1304347826087,
          331.9148936170213,
          325,
          318.36734693877554,
          312,
          305.88235294117646,
          300,
          294.33962264150944,
          288.8888888888889,
          283.6363636363636,
          278.5714285714286,
          273.6842105263158,
          268.9655172413793,
          264.4067796610169
         ],
         "y": [
          116.47814491548905,
          105.94979738154615,
          97.15065899301332,
          89.6908315149626,
          83.28834164588528,
          77.73459050078887,
          72.87213216957606,
          68.57999897716645,
          64.7637707202582,
          61.34870289553892,
          58.274874620926916,
          55.49369934538653,
          52.96537355590615,
          50.65698293007152,
          48.541077009744065,
          46.59458287874065,
          44.79796758104739,
          43.13458541147132,
          41.59016424986916,
          40.15239762519722,
          38.81061800018385,
          37.55553304239401,
          36.379011173938196,
          35.27390599429161,
          34.233911605284305,
          33.253442680064545,
          32.32753448012622,
          31.451759057218066,
          30.622154666292627,
          29.83516602365278,
          29.08759351620948,
          28.37654983634663,
          27.699422806754676,
          27.053843388976535,
          26.437658052003574,
          25.848904823426974,
          25.285792463286228,
          24.74668229591428,
          24.230072312428522,
          23.734583219685163,
          23.258946163329707,
          22.801991895261843,
          22.362641191139797,
          21.939896352867834,
          21.53283365544842,
          21.140596618022844,
          20.76238999608417,
          20.397474406299306,
          20.045161507588368,
          19.70480967245975,
          19.375820091397472
         ]
        }
       ],
       "layout": {
        "legend": {
         "tracegroupgap": 0
        },
        "margin": {
         "t": 60
        },
        "template": {
         "data": {
          "bar": [
           {
            "error_x": {
             "color": "#2a3f5f"
            },
            "error_y": {
             "color": "#2a3f5f"
            },
            "marker": {
             "line": {
              "color": "#E5ECF6",
              "width": 0.5
             }
            },
            "type": "bar"
           }
          ],
          "barpolar": [
           {
            "marker": {
             "line": {
              "color": "#E5ECF6",
              "width": 0.5
             }
            },
            "type": "barpolar"
           }
          ],
          "carpet": [
           {
            "aaxis": {
             "endlinecolor": "#2a3f5f",
             "gridcolor": "white",
             "linecolor": "white",
             "minorgridcolor": "white",
             "startlinecolor": "#2a3f5f"
            },
            "baxis": {
             "endlinecolor": "#2a3f5f",
             "gridcolor": "white",
             "linecolor": "white",
             "minorgridcolor": "white",
             "startlinecolor": "#2a3f5f"
            },
            "type": "carpet"
           }
          ],
          "choropleth": [
           {
            "colorbar": {
             "outlinewidth": 0,
             "ticks": ""
            },
            "type": "choropleth"
           }
          ],
          "contour": [
           {
            "colorbar": {
             "outlinewidth": 0,
             "ticks": ""
            },
            "colorscale": [
             [
              0,
              "#0d0887"
             ],
             [
              0.1111111111111111,
              "#46039f"
             ],
             [
              0.2222222222222222,
              "#7201a8"
             ],
             [
              0.3333333333333333,
              "#9c179e"
             ],
             [
              0.4444444444444444,
              "#bd3786"
             ],
             [
              0.5555555555555556,
              "#d8576b"
             ],
             [
              0.6666666666666666,
              "#ed7953"
             ],
             [
              0.7777777777777778,
              "#fb9f3a"
             ],
             [
              0.8888888888888888,
              "#fdca26"
             ],
             [
              1,
              "#f0f921"
             ]
            ],
            "type": "contour"
           }
          ],
          "contourcarpet": [
           {
            "colorbar": {
             "outlinewidth": 0,
             "ticks": ""
            },
            "type": "contourcarpet"
           }
          ],
          "heatmap": [
           {
            "colorbar": {
             "outlinewidth": 0,
             "ticks": ""
            },
            "colorscale": [
             [
              0,
              "#0d0887"
             ],
             [
              0.1111111111111111,
              "#46039f"
             ],
             [
              0.2222222222222222,
              "#7201a8"
             ],
             [
              0.3333333333333333,
              "#9c179e"
             ],
             [
              0.4444444444444444,
              "#bd3786"
             ],
             [
              0.5555555555555556,
              "#d8576b"
             ],
             [
              0.6666666666666666,
              "#ed7953"
             ],
             [
              0.7777777777777778,
              "#fb9f3a"
             ],
             [
              0.8888888888888888,
              "#fdca26"
             ],
             [
              1,
              "#f0f921"
             ]
            ],
            "type": "heatmap"
           }
          ],
          "heatmapgl": [
           {
            "colorbar": {
             "outlinewidth": 0,
             "ticks": ""
            },
            "colorscale": [
             [
              0,
              "#0d0887"
             ],
             [
              0.1111111111111111,
              "#46039f"
             ],
             [
              0.2222222222222222,
              "#7201a8"
             ],
             [
              0.3333333333333333,
              "#9c179e"
             ],
             [
              0.4444444444444444,
              "#bd3786"
             ],
             [
              0.5555555555555556,
              "#d8576b"
             ],
             [
              0.6666666666666666,
              "#ed7953"
             ],
             [
              0.7777777777777778,
              "#fb9f3a"
             ],
             [
              0.8888888888888888,
              "#fdca26"
             ],
             [
              1,
              "#f0f921"
             ]
            ],
            "type": "heatmapgl"
           }
          ],
          "histogram": [
           {
            "marker": {
             "colorbar": {
              "outlinewidth": 0,
              "ticks": ""
             }
            },
            "type": "histogram"
           }
          ],
          "histogram2d": [
           {
            "colorbar": {
             "outlinewidth": 0,
             "ticks": ""
            },
            "colorscale": [
             [
              0,
              "#0d0887"
             ],
             [
              0.1111111111111111,
              "#46039f"
             ],
             [
              0.2222222222222222,
              "#7201a8"
             ],
             [
              0.3333333333333333,
              "#9c179e"
             ],
             [
              0.4444444444444444,
              "#bd3786"
             ],
             [
              0.5555555555555556,
              "#d8576b"
             ],
             [
              0.6666666666666666,
              "#ed7953"
             ],
             [
              0.7777777777777778,
              "#fb9f3a"
             ],
             [
              0.8888888888888888,
              "#fdca26"
             ],
             [
              1,
              "#f0f921"
             ]
            ],
            "type": "histogram2d"
           }
          ],
          "histogram2dcontour": [
           {
            "colorbar": {
             "outlinewidth": 0,
             "ticks": ""
            },
            "colorscale": [
             [
              0,
              "#0d0887"
             ],
             [
              0.1111111111111111,
              "#46039f"
             ],
             [
              0.2222222222222222,
              "#7201a8"
             ],
             [
              0.3333333333333333,
              "#9c179e"
             ],
             [
              0.4444444444444444,
              "#bd3786"
             ],
             [
              0.5555555555555556,
              "#d8576b"
             ],
             [
              0.6666666666666666,
              "#ed7953"
             ],
             [
              0.7777777777777778,
              "#fb9f3a"
             ],
             [
              0.8888888888888888,
              "#fdca26"
             ],
             [
              1,
              "#f0f921"
             ]
            ],
            "type": "histogram2dcontour"
           }
          ],
          "mesh3d": [
           {
            "colorbar": {
             "outlinewidth": 0,
             "ticks": ""
            },
            "type": "mesh3d"
           }
          ],
          "parcoords": [
           {
            "line": {
             "colorbar": {
              "outlinewidth": 0,
              "ticks": ""
             }
            },
            "type": "parcoords"
           }
          ],
          "pie": [
           {
            "automargin": true,
            "type": "pie"
           }
          ],
          "scatter": [
           {
            "marker": {
             "colorbar": {
              "outlinewidth": 0,
              "ticks": ""
             }
            },
            "type": "scatter"
           }
          ],
          "scatter3d": [
           {
            "line": {
             "colorbar": {
              "outlinewidth": 0,
              "ticks": ""
             }
            },
            "marker": {
             "colorbar": {
              "outlinewidth": 0,
              "ticks": ""
             }
            },
            "type": "scatter3d"
           }
          ],
          "scattercarpet": [
           {
            "marker": {
             "colorbar": {
              "outlinewidth": 0,
              "ticks": ""
             }
            },
            "type": "scattercarpet"
           }
          ],
          "scattergeo": [
           {
            "marker": {
             "colorbar": {
              "outlinewidth": 0,
              "ticks": ""
             }
            },
            "type": "scattergeo"
           }
          ],
          "scattergl": [
           {
            "marker": {
             "colorbar": {
              "outlinewidth": 0,
              "ticks": ""
             }
            },
            "type": "scattergl"
           }
          ],
          "scattermapbox": [
           {
            "marker": {
             "colorbar": {
              "outlinewidth": 0,
              "ticks": ""
             }
            },
            "type": "scattermapbox"
           }
          ],
          "scatterpolar": [
           {
            "marker": {
             "colorbar": {
              "outlinewidth": 0,
              "ticks": ""
             }
            },
            "type": "scatterpolar"
           }
          ],
          "scatterpolargl": [
           {
            "marker": {
             "colorbar": {
              "outlinewidth": 0,
              "ticks": ""
             }
            },
            "type": "scatterpolargl"
           }
          ],
          "scatterternary": [
           {
            "marker": {
             "colorbar": {
              "outlinewidth": 0,
              "ticks": ""
             }
            },
            "type": "scatterternary"
           }
          ],
          "surface": [
           {
            "colorbar": {
             "outlinewidth": 0,
             "ticks": ""
            },
            "colorscale": [
             [
              0,
              "#0d0887"
             ],
             [
              0.1111111111111111,
              "#46039f"
             ],
             [
              0.2222222222222222,
              "#7201a8"
             ],
             [
              0.3333333333333333,
              "#9c179e"
             ],
             [
              0.4444444444444444,
              "#bd3786"
             ],
             [
              0.5555555555555556,
              "#d8576b"
             ],
             [
              0.6666666666666666,
              "#ed7953"
             ],
             [
              0.7777777777777778,
              "#fb9f3a"
             ],
             [
              0.8888888888888888,
              "#fdca26"
             ],
             [
              1,
              "#f0f921"
             ]
            ],
            "type": "surface"
           }
          ],
          "table": [
           {
            "cells": {
             "fill": {
              "color": "#EBF0F8"
             },
             "line": {
              "color": "white"
             }
            },
            "header": {
             "fill": {
              "color": "#C8D4E3"
             },
             "line": {
              "color": "white"
             }
            },
            "type": "table"
           }
          ]
         },
         "layout": {
          "annotationdefaults": {
           "arrowcolor": "#2a3f5f",
           "arrowhead": 0,
           "arrowwidth": 1
          },
          "autotypenumbers": "strict",
          "coloraxis": {
           "colorbar": {
            "outlinewidth": 0,
            "ticks": ""
           }
          },
          "colorscale": {
           "diverging": [
            [
             0,
             "#8e0152"
            ],
            [
             0.1,
             "#c51b7d"
            ],
            [
             0.2,
             "#de77ae"
            ],
            [
             0.3,
             "#f1b6da"
            ],
            [
             0.4,
             "#fde0ef"
            ],
            [
             0.5,
             "#f7f7f7"
            ],
            [
             0.6,
             "#e6f5d0"
            ],
            [
             0.7,
             "#b8e186"
            ],
            [
             0.8,
             "#7fbc41"
            ],
            [
             0.9,
             "#4d9221"
            ],
            [
             1,
             "#276419"
            ]
           ],
           "sequential": [
            [
             0,
             "#0d0887"
            ],
            [
             0.1111111111111111,
             "#46039f"
            ],
            [
             0.2222222222222222,
             "#7201a8"
            ],
            [
             0.3333333333333333,
             "#9c179e"
            ],
            [
             0.4444444444444444,
             "#bd3786"
            ],
            [
             0.5555555555555556,
             "#d8576b"
            ],
            [
             0.6666666666666666,
             "#ed7953"
            ],
            [
             0.7777777777777778,
             "#fb9f3a"
            ],
            [
             0.8888888888888888,
             "#fdca26"
            ],
            [
             1,
             "#f0f921"
            ]
           ],
           "sequentialminus": [
            [
             0,
             "#0d0887"
            ],
            [
             0.1111111111111111,
             "#46039f"
            ],
            [
             0.2222222222222222,
             "#7201a8"
            ],
            [
             0.3333333333333333,
             "#9c179e"
            ],
            [
             0.4444444444444444,
             "#bd3786"
            ],
            [
             0.5555555555555556,
             "#d8576b"
            ],
            [
             0.6666666666666666,
             "#ed7953"
            ],
            [
             0.7777777777777778,
             "#fb9f3a"
            ],
            [
             0.8888888888888888,
             "#fdca26"
            ],
            [
             1,
             "#f0f921"
            ]
           ]
          },
          "colorway": [
           "#636efa",
           "#EF553B",
           "#00cc96",
           "#ab63fa",
           "#FFA15A",
           "#19d3f3",
           "#FF6692",
           "#B6E880",
           "#FF97FF",
           "#FECB52"
          ],
          "font": {
           "color": "#2a3f5f"
          },
          "geo": {
           "bgcolor": "white",
           "lakecolor": "white",
           "landcolor": "#E5ECF6",
           "showlakes": true,
           "showland": true,
           "subunitcolor": "white"
          },
          "hoverlabel": {
           "align": "left"
          },
          "hovermode": "closest",
          "mapbox": {
           "style": "light"
          },
          "paper_bgcolor": "white",
          "plot_bgcolor": "#E5ECF6",
          "polar": {
           "angularaxis": {
            "gridcolor": "white",
            "linecolor": "white",
            "ticks": ""
           },
           "bgcolor": "#E5ECF6",
           "radialaxis": {
            "gridcolor": "white",
            "linecolor": "white",
            "ticks": ""
           }
          },
          "scene": {
           "xaxis": {
            "backgroundcolor": "#E5ECF6",
            "gridcolor": "white",
            "gridwidth": 2,
            "linecolor": "white",
            "showbackground": true,
            "ticks": "",
            "zerolinecolor": "white"
           },
           "yaxis": {
            "backgroundcolor": "#E5ECF6",
            "gridcolor": "white",
            "gridwidth": 2,
            "linecolor": "white",
            "showbackground": true,
            "ticks": "",
            "zerolinecolor": "white"
           },
           "zaxis": {
            "backgroundcolor": "#E5ECF6",
            "gridcolor": "white",
            "gridwidth": 2,
            "linecolor": "white",
            "showbackground": true,
            "ticks": "",
            "zerolinecolor": "white"
           }
          },
          "shapedefaults": {
           "line": {
            "color": "#2a3f5f"
           }
          },
          "ternary": {
           "aaxis": {
            "gridcolor": "white",
            "linecolor": "white",
            "ticks": ""
           },
           "baxis": {
            "gridcolor": "white",
            "linecolor": "white",
            "ticks": ""
           },
           "bgcolor": "#E5ECF6",
           "caxis": {
            "gridcolor": "white",
            "linecolor": "white",
            "ticks": ""
           }
          },
          "title": {
           "x": 0.05
          },
          "xaxis": {
           "automargin": true,
           "gridcolor": "white",
           "linecolor": "white",
           "ticks": "",
           "title": {
            "standoff": 15
           },
           "zerolinecolor": "white",
           "zerolinewidth": 2
          },
          "yaxis": {
           "automargin": true,
           "gridcolor": "white",
           "linecolor": "white",
           "ticks": "",
           "title": {
            "standoff": 15
           },
           "zerolinecolor": "white",
           "zerolinewidth": 2
          }
         }
        },
        "xaxis": {
         "anchor": "y",
         "domain": [
          0,
          1
         ]
        },
        "yaxis": {
         "anchor": "x",
         "domain": [
          0,
          1
         ]
        }
       }
      }
     },
     "metadata": {}
    },
    {
     "output_type": "display_data",
     "data": {
      "application/vnd.plotly.v1+json": {
       "config": {
        "plotlyServerURL": "https://plot.ly"
       },
       "data": [
        {
         "name": "d = 55 mm",
         "type": "scatter",
         "x": [
          1733.3333333333333,
          1560,
          1418.1818181818182,
          1300,
          1200,
          1114.2857142857144,
          1040,
          975,
          917.6470588235295,
          866.6666666666666,
          821.0526315789474,
          780,
          742.8571428571429,
          709.0909090909091,
          678.2608695652174,
          650,
          624,
          600,
          577.7777777777778,
          557.1428571428572,
          537.9310344827586,
          520,
          503.22580645161287,
          487.5,
          472.72727272727275,
          458.82352941176475,
          445.7142857142857,
          433.3333333333333,
          421.6216216216216,
          410.5263157894737,
          400.00000000000006,
          390,
          380.4878048780488,
          371.42857142857144,
          362.79069767441865,
          354.54545454545456,
          346.6666666666667,
          339.1304347826087,
          331.9148936170213,
          325,
          318.36734693877554,
          312,
          305.88235294117646,
          300,
          294.33962264150944,
          288.8888888888889,
          283.6363636363636,
          278.5714285714286,
          273.6842105263158,
          268.9655172413793,
          264.4067796610169
         ],
         "y": [
          21.4715225824328,
          20.180433291770573,
          18.982589497331055,
          18.698096009813206,
          18.777382854764642,
          18.681279285305614,
          18.46899869210053,
          18.180720413281243,
          17.84398759205387,
          17.14870289553893,
          16.40119041040059,
          15.713699345386532,
          15.079659270191867,
          14.493346566435152,
          13.949772661917983,
          13.444582878740647,
          12.973967581047381,
          12.534585411471323,
          12.12349758320249,
          11.738111910911499,
          11.376135241563155,
          11.035533042394015,
          10.714495044905943,
          10.411405994291615,
          10.124820696193401,
          9.853442680064546,
          9.596105908697645,
          9.351759057218066,
          9.119451963589928,
          8.89832391838962,
          8.687593516209477,
          8.486549836346633,
          8.294544757974188,
          8.110986246119394,
          7.935332470608228,
          7.767086641608788,
          7.605792463286229,
          7.451030122001234,
          7.30241273796044,
          7.159583219685163,
          7.0222114694521505,
          6.889991895261844,
          6.762641191139797,
          6.63989635286783,
          6.521512900731439,
          6.4072632846895115,
          6.296935450629624,
          6.190331549156447,
          6.087266770746265,
          5.987568293149409,
          5.89107432868561
         ]
        },
        {
         "name": "d = 95 mm",
         "type": "scatter",
         "x": [
          1733.3333333333333,
          1560,
          1418.1818181818182,
          1300,
          1200,
          1114.2857142857144,
          1040,
          975,
          917.6470588235295,
          866.6666666666666,
          821.0526315789474,
          780,
          742.8571428571429,
          709.0909090909091,
          678.2608695652174,
          650,
          624,
          600,
          577.7777777777778,
          557.1428571428572,
          537.9310344827586,
          520,
          503.22580645161287,
          487.5,
          472.72727272727275,
          458.82352941176475,
          445.7142857142857,
          433.3333333333333,
          421.6216216216216,
          410.5263157894737,
          400.00000000000006,
          390,
          380.4878048780488,
          371.42857142857144,
          362.79069767441865,
          354.54545454545456,
          346.6666666666667,
          339.1304347826087,
          331.9148936170213,
          325,
          318.36734693877554,
          312,
          305.88235294117646,
          300,
          294.33962264150944,
          288.8888888888889,
          283.6363636363636,
          278.5714285714286,
          273.6842105263158,
          268.9655172413793,
          264.4067796610169
         ],
         "y": [
          54.65474967915647,
          52.909797381546134,
          48.93247717483152,
          45.490831514962586,
          42.488341645885285,
          39.848876215074576,
          37.512132169576056,
          35.429998977166456,
          33.563770720258184,
          31.882036228872263,
          30.359085147242695,
          28.973699345386535,
          27.708230698763295,
          26.547892020980605,
          25.48020744452668,
          24.494582878740648,
          23.58196758104738,
          22.734585411471322,
          21.945719805424712,
          21.20954048234007,
          20.52096282777005,
          19.875533042394014,
          19.26933375458336,
          18.698905994291614,
          18.16118433255704,
          17.653442680064547,
          17.1732487658405,
          16.71842572388473,
          16.287019531157497,
          15.877271286810677,
          15.487593516209477,
          15.116549836346636,
          14.762837440901016,
          14.425271960405107,
          14.102774331073345,
          13.794359368881516,
          13.49912579661956,
          13.216247513305582,
          12.9449659294498,
          12.684583219685162,
          12.434456367411338,
          12.193991895261846,
          11.962641191139797,
          11.739896352867829,
          11.525286485637102,
          11.318374395800623,
          11.118753632447806,
          10.926045834870735,
          10.739898349693632,
          10.559982086252857,
          10.385989582922898
         ]
        },
        {
         "name": "d = 135 mm",
         "type": "scatter",
         "x": [
          1733.3333333333333,
          1560,
          1418.1818181818182,
          1300,
          1200,
          1114.2857142857144,
          1040,
          975,
          917.6470588235295,
          866.6666666666666,
          821.0526315789474,
          780,
          742.8571428571429,
          709.0909090909091,
          678.2608695652174,
          650,
          624,
          600,
          577.7777777777778,
          557.1428571428572,
          537.9310344827586,
          520,
          503.22580645161287,
          487.5,
          472.72727272727275,
          458.82352941176475,
          445.7142857142857,
          433.3333333333333,
          421.6216216216216,
          410.5263157894737,
          400.00000000000006,
          390,
          380.4878048780488,
          371.42857142857144,
          362.79069767441865,
          354.54545454545456,
          346.6666666666667,
          339.1304347826087,
          331.9148936170213,
          325,
          318.36734693877554,
          312,
          305.88235294117646,
          300,
          294.33962264150944,
          288.8888888888889,
          283.6363636363636,
          278.5714285714286,
          273.6842105263158,
          268.9655172413793,
          264.4067796610169
         ],
         "y": [
          87.01147824882239,
          79.42979738154612,
          73.04156808392243,
          67.59083151496259,
          62.88834164588528,
          58.79173335793171,
          55.19213216957606,
          52.00499897716646,
          49.16377072025818,
          46.61536956220559,
          44.3169798840848,
          42.23369934538653,
          40.33680212733472,
          38.60243747552607,
          37.01064222713537,
          35.54458287874065,
          34.18996758104739,
          32.93458541147132,
          31.767942027646942,
          30.680969053768646,
          29.665790413976943,
          28.715533042394014,
          27.82417246426078,
          26.986405994291612,
          26.19754796892067,
          25.453442680064544,
          24.750391622983358,
          24.085092390551402,
          23.454587098725064,
          22.85621865523173,
          22.287593516209476,
          21.746549836346627,
          21.23113012382785,
          20.739557674690822,
          20.27021619153846,
          19.821632096154246,
          19.392459129952897,
          18.981464904609933,
          18.58751912093916,
          18.20958321968516,
          17.84670126537052,
          17.497991895261844,
          17.162641191139798,
          16.839896352867832,
          16.529060070542762,
          16.229485506911736,
          15.940571814265988,
          15.66176012058502,
          15.392529928641,
          15.132395879356304,
          14.880904837160184
         ]
        },
        {
         "name": "d = 175 mm",
         "type": "scatter",
         "x": [
          1733.3333333333333,
          1560,
          1418.1818181818182,
          1300,
          1200,
          1114.2857142857144,
          1040,
          975,
          917.6470588235295,
          866.6666666666666,
          821.0526315789474,
          780,
          742.8571428571429,
          709.0909090909091,
          678.2608695652174,
          650,
          624,
          600,
          577.7777777777778,
          557.1428571428572,
          537.9310344827586,
          520,
          503.22580645161287,
          487.5,
          472.72727272727275,
          458.82352941176475,
          445.7142857142857,
          433.3333333333333,
          421.6216216216216,
          410.5263157894737,
          400.00000000000006,
          390,
          380.4878048780488,
          371.42857142857144,
          362.79069767441865,
          354.54545454545456,
          346.6666666666667,
          339.1304347826087,
          331.9148936170213,
          325,
          318.36734693877554,
          312,
          305.88235294117646,
          300,
          294.33962264150944,
          288.8888888888889,
          283.6363636363636,
          278.5714285714286,
          273.6842105263158,
          268.9655172413793,
          264.4067796610169
         ],
         "y": [
          116.47814491548905,
          105.94979738154615,
          97.15065899301332,
          89.6908315149626,
          83.28834164588528,
          77.73459050078887,
          72.87213216957606,
          68.57999897716645,
          64.7637707202582,
          61.34870289553892,
          58.274874620926916,
          55.49369934538653,
          52.96537355590615,
          50.65698293007152,
          48.541077009744065,
          46.59458287874065,
          44.79796758104739,
          43.13458541147132,
          41.59016424986916,
          40.15239762519722,
          38.81061800018385,
          37.55553304239401,
          36.379011173938196,
          35.27390599429161,
          34.233911605284305,
          33.253442680064545,
          32.32753448012622,
          31.451759057218066,
          30.622154666292627,
          29.83516602365278,
          29.08759351620948,
          28.37654983634663,
          27.699422806754676,
          27.053843388976535,
          26.437658052003574,
          25.848904823426974,
          25.285792463286228,
          24.74668229591428,
          24.230072312428522,
          23.734583219685163,
          23.258946163329707,
          22.801991895261843,
          22.362641191139797,
          21.939896352867834,
          21.53283365544842,
          21.140596618022844,
          20.76238999608417,
          20.397474406299306,
          20.045161507588368,
          19.70480967245975,
          19.375820091397472
         ]
        },
        {
         "name": "d = 215 mm",
         "type": "scatter",
         "x": [
          1733.3333333333333,
          1560,
          1418.1818181818182,
          1300,
          1200,
          1114.2857142857144,
          1040,
          975,
          917.6470588235295,
          866.6666666666666,
          821.0526315789474,
          780,
          742.8571428571429,
          709.0909090909091,
          678.2608695652174,
          650,
          624,
          600,
          577.7777777777778,
          557.1428571428572,
          537.9310344827586,
          520,
          503.22580645161287,
          487.5,
          472.72727272727275,
          458.82352941176475,
          445.7142857142857,
          433.3333333333333,
          421.6216216216216,
          410.5263157894737,
          400.00000000000006,
          390,
          380.4878048780488,
          371.42857142857144,
          362.79069767441865,
          354.54545454545456,
          346.6666666666667,
          339.1304347826087,
          331.9148936170213,
          325,
          318.36734693877554,
          312,
          305.88235294117646,
          300,
          294.33962264150944,
          288.8888888888889,
          283.6363636363636,
          278.5714285714286,
          273.6842105263158,
          268.9655172413793,
          264.4067796610169
         ],
         "y": [
          145.94481158215572,
          132.46979738154616,
          121.25974990210425,
          111.7908315149626,
          103.68834164588529,
          96.677447643646,
          90.55213216957605,
          85.15499897716646,
          80.36377072025819,
          76.08203622887225,
          72.23276935776902,
          68.75369934538654,
          65.59394498447757,
          62.71152838461697,
          60.071511792352766,
          57.644582878740636,
          55.405967581047385,
          53.334585411471316,
          51.412386472091384,
          49.62382619662579,
          47.95544558639074,
          46.395533042394014,
          44.933849883615615,
          43.56140599429161,
          42.27027524164795,
          41.05344268006455,
          39.90467733726908,
          38.81842572388473,
          37.78972223386019,
          36.81411339207383,
          35.88759351620948,
          35.006549836346636,
          34.167715489681505,
          33.368129103262255,
          32.605099912468695,
          31.8761775506997,
          31.179125796619562,
          30.511899687218627,
          29.87262550391788,
          29.25958321968516,
          28.67119106128889,
          28.105991895261845,
          27.562641191139797,
          27.03989635286783,
          26.536607240354083,
          26.05170772913396,
          25.58420817790235,
          25.133188692013594,
          24.69779308653574,
          24.2772234655632,
          23.87073534563476
         ]
        }
       ],
       "layout": {
        "legend": {
         "tracegroupgap": 0
        },
        "margin": {
         "t": 60
        },
        "template": {
         "data": {
          "bar": [
           {
            "error_x": {
             "color": "#2a3f5f"
            },
            "error_y": {
             "color": "#2a3f5f"
            },
            "marker": {
             "line": {
              "color": "#E5ECF6",
              "width": 0.5
             }
            },
            "type": "bar"
           }
          ],
          "barpolar": [
           {
            "marker": {
             "line": {
              "color": "#E5ECF6",
              "width": 0.5
             }
            },
            "type": "barpolar"
           }
          ],
          "carpet": [
           {
            "aaxis": {
             "endlinecolor": "#2a3f5f",
             "gridcolor": "white",
             "linecolor": "white",
             "minorgridcolor": "white",
             "startlinecolor": "#2a3f5f"
            },
            "baxis": {
             "endlinecolor": "#2a3f5f",
             "gridcolor": "white",
             "linecolor": "white",
             "minorgridcolor": "white",
             "startlinecolor": "#2a3f5f"
            },
            "type": "carpet"
           }
          ],
          "choropleth": [
           {
            "colorbar": {
             "outlinewidth": 0,
             "ticks": ""
            },
            "type": "choropleth"
           }
          ],
          "contour": [
           {
            "colorbar": {
             "outlinewidth": 0,
             "ticks": ""
            },
            "colorscale": [
             [
              0,
              "#0d0887"
             ],
             [
              0.1111111111111111,
              "#46039f"
             ],
             [
              0.2222222222222222,
              "#7201a8"
             ],
             [
              0.3333333333333333,
              "#9c179e"
             ],
             [
              0.4444444444444444,
              "#bd3786"
             ],
             [
              0.5555555555555556,
              "#d8576b"
             ],
             [
              0.6666666666666666,
              "#ed7953"
             ],
             [
              0.7777777777777778,
              "#fb9f3a"
             ],
             [
              0.8888888888888888,
              "#fdca26"
             ],
             [
              1,
              "#f0f921"
             ]
            ],
            "type": "contour"
           }
          ],
          "contourcarpet": [
           {
            "colorbar": {
             "outlinewidth": 0,
             "ticks": ""
            },
            "type": "contourcarpet"
           }
          ],
          "heatmap": [
           {
            "colorbar": {
             "outlinewidth": 0,
             "ticks": ""
            },
            "colorscale": [
             [
              0,
              "#0d0887"
             ],
             [
              0.1111111111111111,
              "#46039f"
             ],
             [
              0.2222222222222222,
              "#7201a8"
             ],
             [
              0.3333333333333333,
              "#9c179e"
             ],
             [
              0.4444444444444444,
              "#bd3786"
             ],
             [
              0.5555555555555556,
              "#d8576b"
             ],
             [
              0.6666666666666666,
              "#ed7953"
             ],
             [
              0.7777777777777778,
              "#fb9f3a"
             ],
             [
              0.8888888888888888,
              "#fdca26"
             ],
             [
              1,
              "#f0f921"
             ]
            ],
            "type": "heatmap"
           }
          ],
          "heatmapgl": [
           {
            "colorbar": {
             "outlinewidth": 0,
             "ticks": ""
            },
            "colorscale": [
             [
              0,
              "#0d0887"
             ],
             [
              0.1111111111111111,
              "#46039f"
             ],
             [
              0.2222222222222222,
              "#7201a8"
             ],
             [
              0.3333333333333333,
              "#9c179e"
             ],
             [
              0.4444444444444444,
              "#bd3786"
             ],
             [
              0.5555555555555556,
              "#d8576b"
             ],
             [
              0.6666666666666666,
              "#ed7953"
             ],
             [
              0.7777777777777778,
              "#fb9f3a"
             ],
             [
              0.8888888888888888,
              "#fdca26"
             ],
             [
              1,
              "#f0f921"
             ]
            ],
            "type": "heatmapgl"
           }
          ],
          "histogram": [
           {
            "marker": {
             "colorbar": {
              "outlinewidth": 0,
              "ticks": ""
             }
            },
            "type": "histogram"
           }
          ],
          "histogram2d": [
           {
            "colorbar": {
             "outlinewidth": 0,
             "ticks": ""
            },
            "colorscale": [
             [
              0,
              "#0d0887"
             ],
             [
              0.1111111111111111,
              "#46039f"
             ],
             [
              0.2222222222222222,
              "#7201a8"
             ],
             [
              0.3333333333333333,
              "#9c179e"
             ],
             [
              0.4444444444444444,
              "#bd3786"
             ],
             [
              0.5555555555555556,
              "#d8576b"
             ],
             [
              0.6666666666666666,
              "#ed7953"
             ],
             [
              0.7777777777777778,
              "#fb9f3a"
             ],
             [
              0.8888888888888888,
              "#fdca26"
             ],
             [
              1,
              "#f0f921"
             ]
            ],
            "type": "histogram2d"
           }
          ],
          "histogram2dcontour": [
           {
            "colorbar": {
             "outlinewidth": 0,
             "ticks": ""
            },
            "colorscale": [
             [
              0,
              "#0d0887"
             ],
             [
              0.1111111111111111,
              "#46039f"
             ],
             [
              0.2222222222222222,
              "#7201a8"
             ],
             [
              0.3333333333333333,
              "#9c179e"
             ],
             [
              0.4444444444444444,
              "#bd3786"
             ],
             [
              0.5555555555555556,
              "#d8576b"
             ],
             [
              0.6666666666666666,
              "#ed7953"
             ],
             [
              0.7777777777777778,
              "#fb9f3a"
             ],
             [
              0.8888888888888888,
              "#fdca26"
             ],
             [
              1,
              "#f0f921"
             ]
            ],
            "type": "histogram2dcontour"
           }
          ],
          "mesh3d": [
           {
            "colorbar": {
             "outlinewidth": 0,
             "ticks": ""
            },
            "type": "mesh3d"
           }
          ],
          "parcoords": [
           {
            "line": {
             "colorbar": {
              "outlinewidth": 0,
              "ticks": ""
             }
            },
            "type": "parcoords"
           }
          ],
          "pie": [
           {
            "automargin": true,
            "type": "pie"
           }
          ],
          "scatter": [
           {
            "marker": {
             "colorbar": {
              "outlinewidth": 0,
              "ticks": ""
             }
            },
            "type": "scatter"
           }
          ],
          "scatter3d": [
           {
            "line": {
             "colorbar": {
              "outlinewidth": 0,
              "ticks": ""
             }
            },
            "marker": {
             "colorbar": {
              "outlinewidth": 0,
              "ticks": ""
             }
            },
            "type": "scatter3d"
           }
          ],
          "scattercarpet": [
           {
            "marker": {
             "colorbar": {
              "outlinewidth": 0,
              "ticks": ""
             }
            },
            "type": "scattercarpet"
           }
          ],
          "scattergeo": [
           {
            "marker": {
             "colorbar": {
              "outlinewidth": 0,
              "ticks": ""
             }
            },
            "type": "scattergeo"
           }
          ],
          "scattergl": [
           {
            "marker": {
             "colorbar": {
              "outlinewidth": 0,
              "ticks": ""
             }
            },
            "type": "scattergl"
           }
          ],
          "scattermapbox": [
           {
            "marker": {
             "colorbar": {
              "outlinewidth": 0,
              "ticks": ""
             }
            },
            "type": "scattermapbox"
           }
          ],
          "scatterpolar": [
           {
            "marker": {
             "colorbar": {
              "outlinewidth": 0,
              "ticks": ""
             }
            },
            "type": "scatterpolar"
           }
          ],
          "scatterpolargl": [
           {
            "marker": {
             "colorbar": {
              "outlinewidth": 0,
              "ticks": ""
             }
            },
            "type": "scatterpolargl"
           }
          ],
          "scatterternary": [
           {
            "marker": {
             "colorbar": {
              "outlinewidth": 0,
              "ticks": ""
             }
            },
            "type": "scatterternary"
           }
          ],
          "surface": [
           {
            "colorbar": {
             "outlinewidth": 0,
             "ticks": ""
            },
            "colorscale": [
             [
              0,
              "#0d0887"
             ],
             [
              0.1111111111111111,
              "#46039f"
             ],
             [
              0.2222222222222222,
              "#7201a8"
             ],
             [
              0.3333333333333333,
              "#9c179e"
             ],
             [
              0.4444444444444444,
              "#bd3786"
             ],
             [
              0.5555555555555556,
              "#d8576b"
             ],
             [
              0.6666666666666666,
              "#ed7953"
             ],
             [
              0.7777777777777778,
              "#fb9f3a"
             ],
             [
              0.8888888888888888,
              "#fdca26"
             ],
             [
              1,
              "#f0f921"
             ]
            ],
            "type": "surface"
           }
          ],
          "table": [
           {
            "cells": {
             "fill": {
              "color": "#EBF0F8"
             },
             "line": {
              "color": "white"
             }
            },
            "header": {
             "fill": {
              "color": "#C8D4E3"
             },
             "line": {
              "color": "white"
             }
            },
            "type": "table"
           }
          ]
         },
         "layout": {
          "annotationdefaults": {
           "arrowcolor": "#2a3f5f",
           "arrowhead": 0,
           "arrowwidth": 1
          },
          "autotypenumbers": "strict",
          "coloraxis": {
           "colorbar": {
            "outlinewidth": 0,
            "ticks": ""
           }
          },
          "colorscale": {
           "diverging": [
            [
             0,
             "#8e0152"
            ],
            [
             0.1,
             "#c51b7d"
            ],
            [
             0.2,
             "#de77ae"
            ],
            [
             0.3,
             "#f1b6da"
            ],
            [
             0.4,
             "#fde0ef"
            ],
            [
             0.5,
             "#f7f7f7"
            ],
            [
             0.6,
             "#e6f5d0"
            ],
            [
             0.7,
             "#b8e186"
            ],
            [
             0.8,
             "#7fbc41"
            ],
            [
             0.9,
             "#4d9221"
            ],
            [
             1,
             "#276419"
            ]
           ],
           "sequential": [
            [
             0,
             "#0d0887"
            ],
            [
             0.1111111111111111,
             "#46039f"
            ],
            [
             0.2222222222222222,
             "#7201a8"
            ],
            [
             0.3333333333333333,
             "#9c179e"
            ],
            [
             0.4444444444444444,
             "#bd3786"
            ],
            [
             0.5555555555555556,
             "#d8576b"
            ],
            [
             0.6666666666666666,
             "#ed7953"
            ],
            [
             0.7777777777777778,
             "#fb9f3a"
            ],
            [
             0.8888888888888888,
             "#fdca26"
            ],
            [
             1,
             "#f0f921"
            ]
           ],
           "sequentialminus": [
            [
             0,
             "#0d0887"
            ],
            [
             0.1111111111111111,
             "#46039f"
            ],
            [
             0.2222222222222222,
             "#7201a8"
            ],
            [
             0.3333333333333333,
             "#9c179e"
            ],
            [
             0.4444444444444444,
             "#bd3786"
            ],
            [
             0.5555555555555556,
             "#d8576b"
            ],
            [
             0.6666666666666666,
             "#ed7953"
            ],
            [
             0.7777777777777778,
             "#fb9f3a"
            ],
            [
             0.8888888888888888,
             "#fdca26"
            ],
            [
             1,
             "#f0f921"
            ]
           ]
          },
          "colorway": [
           "#636efa",
           "#EF553B",
           "#00cc96",
           "#ab63fa",
           "#FFA15A",
           "#19d3f3",
           "#FF6692",
           "#B6E880",
           "#FF97FF",
           "#FECB52"
          ],
          "font": {
           "color": "#2a3f5f"
          },
          "geo": {
           "bgcolor": "white",
           "lakecolor": "white",
           "landcolor": "#E5ECF6",
           "showlakes": true,
           "showland": true,
           "subunitcolor": "white"
          },
          "hoverlabel": {
           "align": "left"
          },
          "hovermode": "closest",
          "mapbox": {
           "style": "light"
          },
          "paper_bgcolor": "white",
          "plot_bgcolor": "#E5ECF6",
          "polar": {
           "angularaxis": {
            "gridcolor": "white",
            "linecolor": "white",
            "ticks": ""
           },
           "bgcolor": "#E5ECF6",
           "radialaxis": {
            "gridcolor": "white",
            "linecolor": "white",
            "ticks": ""
           }
          },
          "scene": {
           "xaxis": {
            "backgroundcolor": "#E5ECF6",
            "gridcolor": "white",
            "gridwidth": 2,
            "linecolor": "white",
            "showbackground": true,
            "ticks": "",
            "zerolinecolor": "white"
           },
           "yaxis": {
            "backgroundcolor": "#E5ECF6",
            "gridcolor": "white",
            "gridwidth": 2,
            "linecolor": "white",
            "showbackground": true,
            "ticks": "",
            "zerolinecolor": "white"
           },
           "zaxis": {
            "backgroundcolor": "#E5ECF6",
            "gridcolor": "white",
            "gridwidth": 2,
            "linecolor": "white",
            "showbackground": true,
            "ticks": "",
            "zerolinecolor": "white"
           }
          },
          "shapedefaults": {
           "line": {
            "color": "#2a3f5f"
           }
          },
          "ternary": {
           "aaxis": {
            "gridcolor": "white",
            "linecolor": "white",
            "ticks": ""
           },
           "baxis": {
            "gridcolor": "white",
            "linecolor": "white",
            "ticks": ""
           },
           "bgcolor": "#E5ECF6",
           "caxis": {
            "gridcolor": "white",
            "linecolor": "white",
            "ticks": ""
           }
          },
          "title": {
           "x": 0.05
          },
          "xaxis": {
           "automargin": true,
           "gridcolor": "white",
           "linecolor": "white",
           "ticks": "",
           "title": {
            "standoff": 15
           },
           "zerolinecolor": "white",
           "zerolinewidth": 2
          },
          "yaxis": {
           "automargin": true,
           "gridcolor": "white",
           "linecolor": "white",
           "ticks": "",
           "title": {
            "standoff": 15
           },
           "zerolinecolor": "white",
           "zerolinewidth": 2
          }
         }
        },
        "xaxis": {
         "anchor": "y",
         "domain": [
          0,
          1
         ]
        },
        "yaxis": {
         "anchor": "x",
         "domain": [
          0,
          1
         ]
        }
       }
      }
     },
     "metadata": {}
    },
    {
     "output_type": "display_data",
     "data": {
      "application/vnd.plotly.v1+json": {
       "config": {
        "plotlyServerURL": "https://plot.ly"
       },
       "data": [
        {
         "name": "d = 55 mm",
         "type": "scatter",
         "x": [
          1733.3333333333333,
          1560,
          1418.1818181818182,
          1300,
          1200,
          1114.2857142857144,
          1040,
          975,
          917.6470588235295,
          866.6666666666666,
          821.0526315789474,
          780,
          742.8571428571429,
          709.0909090909091,
          678.2608695652174,
          650,
          624,
          600,
          577.7777777777778,
          557.1428571428572,
          537.9310344827586,
          520,
          503.22580645161287,
          487.5,
          472.72727272727275,
          458.82352941176475,
          445.7142857142857,
          433.3333333333333,
          421.6216216216216,
          410.5263157894737,
          400.00000000000006,
          390,
          380.4878048780488,
          371.42857142857144,
          362.79069767441865,
          354.54545454545456,
          346.6666666666667,
          339.1304347826087,
          331.9148936170213,
          325,
          318.36734693877554,
          312,
          305.88235294117646,
          300,
          294.33962264150944,
          288.8888888888889,
          283.6363636363636,
          278.5714285714286,
          273.6842105263158,
          268.9655172413793,
          264.4067796610169
         ],
         "y": [
          21.4715225824328,
          20.180433291770573,
          18.982589497331055,
          18.698096009813206,
          18.777382854764642,
          18.681279285305614,
          18.46899869210053,
          18.180720413281243,
          17.84398759205387,
          17.14870289553893,
          16.40119041040059,
          15.713699345386532,
          15.079659270191867,
          14.493346566435152,
          13.949772661917983,
          13.444582878740647,
          12.973967581047381,
          12.534585411471323,
          12.12349758320249,
          11.738111910911499,
          11.376135241563155,
          11.035533042394015,
          10.714495044905943,
          10.411405994291615,
          10.124820696193401,
          9.853442680064546,
          9.596105908697645,
          9.351759057218066,
          9.119451963589928,
          8.89832391838962,
          8.687593516209477,
          8.486549836346633,
          8.294544757974188,
          8.110986246119394,
          7.935332470608228,
          7.767086641608788,
          7.605792463286229,
          7.451030122001234,
          7.30241273796044,
          7.159583219685163,
          7.0222114694521505,
          6.889991895261844,
          6.762641191139797,
          6.63989635286783,
          6.521512900731439,
          6.4072632846895115,
          6.296935450629624,
          6.190331549156447,
          6.087266770746265,
          5.987568293149409,
          5.89107432868561
         ]
        },
        {
         "name": "d = 95 mm",
         "type": "scatter",
         "x": [
          1733.3333333333333,
          1560,
          1418.1818181818182,
          1300,
          1200,
          1114.2857142857144,
          1040,
          975,
          917.6470588235295,
          866.6666666666666,
          821.0526315789474,
          780,
          742.8571428571429,
          709.0909090909091,
          678.2608695652174,
          650,
          624,
          600,
          577.7777777777778,
          557.1428571428572,
          537.9310344827586,
          520,
          503.22580645161287,
          487.5,
          472.72727272727275,
          458.82352941176475,
          445.7142857142857,
          433.3333333333333,
          421.6216216216216,
          410.5263157894737,
          400.00000000000006,
          390,
          380.4878048780488,
          371.42857142857144,
          362.79069767441865,
          354.54545454545456,
          346.6666666666667,
          339.1304347826087,
          331.9148936170213,
          325,
          318.36734693877554,
          312,
          305.88235294117646,
          300,
          294.33962264150944,
          288.8888888888889,
          283.6363636363636,
          278.5714285714286,
          273.6842105263158,
          268.9655172413793,
          264.4067796610169
         ],
         "y": [
          54.65474967915647,
          52.909797381546134,
          48.93247717483152,
          45.490831514962586,
          42.488341645885285,
          39.848876215074576,
          37.512132169576056,
          35.429998977166456,
          33.563770720258184,
          31.882036228872263,
          30.359085147242695,
          28.973699345386535,
          27.708230698763295,
          26.547892020980605,
          25.48020744452668,
          24.494582878740648,
          23.58196758104738,
          22.734585411471322,
          21.945719805424712,
          21.20954048234007,
          20.52096282777005,
          19.875533042394014,
          19.26933375458336,
          18.698905994291614,
          18.16118433255704,
          17.653442680064547,
          17.1732487658405,
          16.71842572388473,
          16.287019531157497,
          15.877271286810677,
          15.487593516209477,
          15.116549836346636,
          14.762837440901016,
          14.425271960405107,
          14.102774331073345,
          13.794359368881516,
          13.49912579661956,
          13.216247513305582,
          12.9449659294498,
          12.684583219685162,
          12.434456367411338,
          12.193991895261846,
          11.962641191139797,
          11.739896352867829,
          11.525286485637102,
          11.318374395800623,
          11.118753632447806,
          10.926045834870735,
          10.739898349693632,
          10.559982086252857,
          10.385989582922898
         ]
        },
        {
         "name": "d = 135 mm",
         "type": "scatter",
         "x": [
          1733.3333333333333,
          1560,
          1418.1818181818182,
          1300,
          1200,
          1114.2857142857144,
          1040,
          975,
          917.6470588235295,
          866.6666666666666,
          821.0526315789474,
          780,
          742.8571428571429,
          709.0909090909091,
          678.2608695652174,
          650,
          624,
          600,
          577.7777777777778,
          557.1428571428572,
          537.9310344827586,
          520,
          503.22580645161287,
          487.5,
          472.72727272727275,
          458.82352941176475,
          445.7142857142857,
          433.3333333333333,
          421.6216216216216,
          410.5263157894737,
          400.00000000000006,
          390,
          380.4878048780488,
          371.42857142857144,
          362.79069767441865,
          354.54545454545456,
          346.6666666666667,
          339.1304347826087,
          331.9148936170213,
          325,
          318.36734693877554,
          312,
          305.88235294117646,
          300,
          294.33962264150944,
          288.8888888888889,
          283.6363636363636,
          278.5714285714286,
          273.6842105263158,
          268.9655172413793,
          264.4067796610169
         ],
         "y": [
          87.01147824882239,
          79.42979738154612,
          73.04156808392243,
          67.59083151496259,
          62.88834164588528,
          58.79173335793171,
          55.19213216957606,
          52.00499897716646,
          49.16377072025818,
          46.61536956220559,
          44.3169798840848,
          42.23369934538653,
          40.33680212733472,
          38.60243747552607,
          37.01064222713537,
          35.54458287874065,
          34.18996758104739,
          32.93458541147132,
          31.767942027646942,
          30.680969053768646,
          29.665790413976943,
          28.715533042394014,
          27.82417246426078,
          26.986405994291612,
          26.19754796892067,
          25.453442680064544,
          24.750391622983358,
          24.085092390551402,
          23.454587098725064,
          22.85621865523173,
          22.287593516209476,
          21.746549836346627,
          21.23113012382785,
          20.739557674690822,
          20.27021619153846,
          19.821632096154246,
          19.392459129952897,
          18.981464904609933,
          18.58751912093916,
          18.20958321968516,
          17.84670126537052,
          17.497991895261844,
          17.162641191139798,
          16.839896352867832,
          16.529060070542762,
          16.229485506911736,
          15.940571814265988,
          15.66176012058502,
          15.392529928641,
          15.132395879356304,
          14.880904837160184
         ]
        },
        {
         "name": "d = 175 mm",
         "type": "scatter",
         "x": [
          1733.3333333333333,
          1560,
          1418.1818181818182,
          1300,
          1200,
          1114.2857142857144,
          1040,
          975,
          917.6470588235295,
          866.6666666666666,
          821.0526315789474,
          780,
          742.8571428571429,
          709.0909090909091,
          678.2608695652174,
          650,
          624,
          600,
          577.7777777777778,
          557.1428571428572,
          537.9310344827586,
          520,
          503.22580645161287,
          487.5,
          472.72727272727275,
          458.82352941176475,
          445.7142857142857,
          433.3333333333333,
          421.6216216216216,
          410.5263157894737,
          400.00000000000006,
          390,
          380.4878048780488,
          371.42857142857144,
          362.79069767441865,
          354.54545454545456,
          346.6666666666667,
          339.1304347826087,
          331.9148936170213,
          325,
          318.36734693877554,
          312,
          305.88235294117646,
          300,
          294.33962264150944,
          288.8888888888889,
          283.6363636363636,
          278.5714285714286,
          273.6842105263158,
          268.9655172413793,
          264.4067796610169
         ],
         "y": [
          116.47814491548905,
          105.94979738154615,
          97.15065899301332,
          89.6908315149626,
          83.28834164588528,
          77.73459050078887,
          72.87213216957606,
          68.57999897716645,
          64.7637707202582,
          61.34870289553892,
          58.274874620926916,
          55.49369934538653,
          52.96537355590615,
          50.65698293007152,
          48.541077009744065,
          46.59458287874065,
          44.79796758104739,
          43.13458541147132,
          41.59016424986916,
          40.15239762519722,
          38.81061800018385,
          37.55553304239401,
          36.379011173938196,
          35.27390599429161,
          34.233911605284305,
          33.253442680064545,
          32.32753448012622,
          31.451759057218066,
          30.622154666292627,
          29.83516602365278,
          29.08759351620948,
          28.37654983634663,
          27.699422806754676,
          27.053843388976535,
          26.437658052003574,
          25.848904823426974,
          25.285792463286228,
          24.74668229591428,
          24.230072312428522,
          23.734583219685163,
          23.258946163329707,
          22.801991895261843,
          22.362641191139797,
          21.939896352867834,
          21.53283365544842,
          21.140596618022844,
          20.76238999608417,
          20.397474406299306,
          20.045161507588368,
          19.70480967245975,
          19.375820091397472
         ]
        },
        {
         "name": "d = 215 mm",
         "type": "scatter",
         "x": [
          1733.3333333333333,
          1560,
          1418.1818181818182,
          1300,
          1200,
          1114.2857142857144,
          1040,
          975,
          917.6470588235295,
          866.6666666666666,
          821.0526315789474,
          780,
          742.8571428571429,
          709.0909090909091,
          678.2608695652174,
          650,
          624,
          600,
          577.7777777777778,
          557.1428571428572,
          537.9310344827586,
          520,
          503.22580645161287,
          487.5,
          472.72727272727275,
          458.82352941176475,
          445.7142857142857,
          433.3333333333333,
          421.6216216216216,
          410.5263157894737,
          400.00000000000006,
          390,
          380.4878048780488,
          371.42857142857144,
          362.79069767441865,
          354.54545454545456,
          346.6666666666667,
          339.1304347826087,
          331.9148936170213,
          325,
          318.36734693877554,
          312,
          305.88235294117646,
          300,
          294.33962264150944,
          288.8888888888889,
          283.6363636363636,
          278.5714285714286,
          273.6842105263158,
          268.9655172413793,
          264.4067796610169
         ],
         "y": [
          145.94481158215572,
          132.46979738154616,
          121.25974990210425,
          111.7908315149626,
          103.68834164588529,
          96.677447643646,
          90.55213216957605,
          85.15499897716646,
          80.36377072025819,
          76.08203622887225,
          72.23276935776902,
          68.75369934538654,
          65.59394498447757,
          62.71152838461697,
          60.071511792352766,
          57.644582878740636,
          55.405967581047385,
          53.334585411471316,
          51.412386472091384,
          49.62382619662579,
          47.95544558639074,
          46.395533042394014,
          44.933849883615615,
          43.56140599429161,
          42.27027524164795,
          41.05344268006455,
          39.90467733726908,
          38.81842572388473,
          37.78972223386019,
          36.81411339207383,
          35.88759351620948,
          35.006549836346636,
          34.167715489681505,
          33.368129103262255,
          32.605099912468695,
          31.8761775506997,
          31.179125796619562,
          30.511899687218627,
          29.87262550391788,
          29.25958321968516,
          28.67119106128889,
          28.105991895261845,
          27.562641191139797,
          27.03989635286783,
          26.536607240354083,
          26.05170772913396,
          25.58420817790235,
          25.133188692013594,
          24.69779308653574,
          24.2772234655632,
          23.87073534563476
         ]
        },
        {
         "name": "d = 255 mm",
         "type": "scatter",
         "x": [
          1733.3333333333333,
          1560,
          1418.1818181818182,
          1300,
          1200,
          1114.2857142857144,
          1040,
          975,
          917.6470588235295,
          866.6666666666666,
          821.0526315789474,
          780,
          742.8571428571429,
          709.0909090909091,
          678.2608695652174,
          650,
          624,
          600,
          577.7777777777778,
          557.1428571428572,
          537.9310344827586,
          520,
          503.22580645161287,
          487.5,
          472.72727272727275,
          458.82352941176475,
          445.7142857142857,
          433.3333333333333,
          421.6216216216216,
          410.5263157894737,
          400.00000000000006,
          390,
          380.4878048780488,
          371.42857142857144,
          362.79069767441865,
          354.54545454545456,
          346.6666666666667,
          339.1304347826087,
          331.9148936170213,
          325,
          318.36734693877554,
          312,
          305.88235294117646,
          300,
          294.33962264150944,
          288.8888888888889,
          283.6363636363636,
          278.5714285714286,
          273.6842105263158,
          268.9655172413793,
          264.4067796610169
         ],
         "y": [
          175.41147824882236,
          158.98979738154614,
          145.36884081119516,
          133.8908315149626,
          124.08834164588528,
          115.62030478650316,
          108.23213216957605,
          101.72999897716646,
          95.96377072025818,
          90.81536956220559,
          86.19066409461112,
          82.01369934538653,
          78.22251641304901,
          74.76607383916243,
          71.60194657496146,
          68.69458287874063,
          66.0139675810474,
          63.534585411471326,
          61.234608694313614,
          59.09525476805437,
          57.10027317259764,
          55.23553304239401,
          53.488688593293034,
          51.84890599429161,
          50.30663887801158,
          48.853442680064546,
          47.48182019441193,
          46.1850923905514,
          44.95728980142776,
          43.79306076049489,
          42.68759351620948,
          41.63654983634663,
          40.636008172608335,
          39.682414817547965,
          38.772541772933806,
          37.90345027797243,
          37.0724591299529,
          36.27711707852297,
          35.51517869540725,
          34.78458321968516,
          34.08343595924807,
          33.40999189526185,
          32.7626411911398,
          32.13989635286783,
          31.540380825259746,
          30.962818840245067,
          30.406026359720535,
          29.86890297772788,
          29.350424665483104,
          28.849637258666647,
          28.365650599872044
         ]
        }
       ],
       "layout": {
        "legend": {
         "tracegroupgap": 0
        },
        "margin": {
         "t": 60
        },
        "template": {
         "data": {
          "bar": [
           {
            "error_x": {
             "color": "#2a3f5f"
            },
            "error_y": {
             "color": "#2a3f5f"
            },
            "marker": {
             "line": {
              "color": "#E5ECF6",
              "width": 0.5
             }
            },
            "type": "bar"
           }
          ],
          "barpolar": [
           {
            "marker": {
             "line": {
              "color": "#E5ECF6",
              "width": 0.5
             }
            },
            "type": "barpolar"
           }
          ],
          "carpet": [
           {
            "aaxis": {
             "endlinecolor": "#2a3f5f",
             "gridcolor": "white",
             "linecolor": "white",
             "minorgridcolor": "white",
             "startlinecolor": "#2a3f5f"
            },
            "baxis": {
             "endlinecolor": "#2a3f5f",
             "gridcolor": "white",
             "linecolor": "white",
             "minorgridcolor": "white",
             "startlinecolor": "#2a3f5f"
            },
            "type": "carpet"
           }
          ],
          "choropleth": [
           {
            "colorbar": {
             "outlinewidth": 0,
             "ticks": ""
            },
            "type": "choropleth"
           }
          ],
          "contour": [
           {
            "colorbar": {
             "outlinewidth": 0,
             "ticks": ""
            },
            "colorscale": [
             [
              0,
              "#0d0887"
             ],
             [
              0.1111111111111111,
              "#46039f"
             ],
             [
              0.2222222222222222,
              "#7201a8"
             ],
             [
              0.3333333333333333,
              "#9c179e"
             ],
             [
              0.4444444444444444,
              "#bd3786"
             ],
             [
              0.5555555555555556,
              "#d8576b"
             ],
             [
              0.6666666666666666,
              "#ed7953"
             ],
             [
              0.7777777777777778,
              "#fb9f3a"
             ],
             [
              0.8888888888888888,
              "#fdca26"
             ],
             [
              1,
              "#f0f921"
             ]
            ],
            "type": "contour"
           }
          ],
          "contourcarpet": [
           {
            "colorbar": {
             "outlinewidth": 0,
             "ticks": ""
            },
            "type": "contourcarpet"
           }
          ],
          "heatmap": [
           {
            "colorbar": {
             "outlinewidth": 0,
             "ticks": ""
            },
            "colorscale": [
             [
              0,
              "#0d0887"
             ],
             [
              0.1111111111111111,
              "#46039f"
             ],
             [
              0.2222222222222222,
              "#7201a8"
             ],
             [
              0.3333333333333333,
              "#9c179e"
             ],
             [
              0.4444444444444444,
              "#bd3786"
             ],
             [
              0.5555555555555556,
              "#d8576b"
             ],
             [
              0.6666666666666666,
              "#ed7953"
             ],
             [
              0.7777777777777778,
              "#fb9f3a"
             ],
             [
              0.8888888888888888,
              "#fdca26"
             ],
             [
              1,
              "#f0f921"
             ]
            ],
            "type": "heatmap"
           }
          ],
          "heatmapgl": [
           {
            "colorbar": {
             "outlinewidth": 0,
             "ticks": ""
            },
            "colorscale": [
             [
              0,
              "#0d0887"
             ],
             [
              0.1111111111111111,
              "#46039f"
             ],
             [
              0.2222222222222222,
              "#7201a8"
             ],
             [
              0.3333333333333333,
              "#9c179e"
             ],
             [
              0.4444444444444444,
              "#bd3786"
             ],
             [
              0.5555555555555556,
              "#d8576b"
             ],
             [
              0.6666666666666666,
              "#ed7953"
             ],
             [
              0.7777777777777778,
              "#fb9f3a"
             ],
             [
              0.8888888888888888,
              "#fdca26"
             ],
             [
              1,
              "#f0f921"
             ]
            ],
            "type": "heatmapgl"
           }
          ],
          "histogram": [
           {
            "marker": {
             "colorbar": {
              "outlinewidth": 0,
              "ticks": ""
             }
            },
            "type": "histogram"
           }
          ],
          "histogram2d": [
           {
            "colorbar": {
             "outlinewidth": 0,
             "ticks": ""
            },
            "colorscale": [
             [
              0,
              "#0d0887"
             ],
             [
              0.1111111111111111,
              "#46039f"
             ],
             [
              0.2222222222222222,
              "#7201a8"
             ],
             [
              0.3333333333333333,
              "#9c179e"
             ],
             [
              0.4444444444444444,
              "#bd3786"
             ],
             [
              0.5555555555555556,
              "#d8576b"
             ],
             [
              0.6666666666666666,
              "#ed7953"
             ],
             [
              0.7777777777777778,
              "#fb9f3a"
             ],
             [
              0.8888888888888888,
              "#fdca26"
             ],
             [
              1,
              "#f0f921"
             ]
            ],
            "type": "histogram2d"
           }
          ],
          "histogram2dcontour": [
           {
            "colorbar": {
             "outlinewidth": 0,
             "ticks": ""
            },
            "colorscale": [
             [
              0,
              "#0d0887"
             ],
             [
              0.1111111111111111,
              "#46039f"
             ],
             [
              0.2222222222222222,
              "#7201a8"
             ],
             [
              0.3333333333333333,
              "#9c179e"
             ],
             [
              0.4444444444444444,
              "#bd3786"
             ],
             [
              0.5555555555555556,
              "#d8576b"
             ],
             [
              0.6666666666666666,
              "#ed7953"
             ],
             [
              0.7777777777777778,
              "#fb9f3a"
             ],
             [
              0.8888888888888888,
              "#fdca26"
             ],
             [
              1,
              "#f0f921"
             ]
            ],
            "type": "histogram2dcontour"
           }
          ],
          "mesh3d": [
           {
            "colorbar": {
             "outlinewidth": 0,
             "ticks": ""
            },
            "type": "mesh3d"
           }
          ],
          "parcoords": [
           {
            "line": {
             "colorbar": {
              "outlinewidth": 0,
              "ticks": ""
             }
            },
            "type": "parcoords"
           }
          ],
          "pie": [
           {
            "automargin": true,
            "type": "pie"
           }
          ],
          "scatter": [
           {
            "marker": {
             "colorbar": {
              "outlinewidth": 0,
              "ticks": ""
             }
            },
            "type": "scatter"
           }
          ],
          "scatter3d": [
           {
            "line": {
             "colorbar": {
              "outlinewidth": 0,
              "ticks": ""
             }
            },
            "marker": {
             "colorbar": {
              "outlinewidth": 0,
              "ticks": ""
             }
            },
            "type": "scatter3d"
           }
          ],
          "scattercarpet": [
           {
            "marker": {
             "colorbar": {
              "outlinewidth": 0,
              "ticks": ""
             }
            },
            "type": "scattercarpet"
           }
          ],
          "scattergeo": [
           {
            "marker": {
             "colorbar": {
              "outlinewidth": 0,
              "ticks": ""
             }
            },
            "type": "scattergeo"
           }
          ],
          "scattergl": [
           {
            "marker": {
             "colorbar": {
              "outlinewidth": 0,
              "ticks": ""
             }
            },
            "type": "scattergl"
           }
          ],
          "scattermapbox": [
           {
            "marker": {
             "colorbar": {
              "outlinewidth": 0,
              "ticks": ""
             }
            },
            "type": "scattermapbox"
           }
          ],
          "scatterpolar": [
           {
            "marker": {
             "colorbar": {
              "outlinewidth": 0,
              "ticks": ""
             }
            },
            "type": "scatterpolar"
           }
          ],
          "scatterpolargl": [
           {
            "marker": {
             "colorbar": {
              "outlinewidth": 0,
              "ticks": ""
             }
            },
            "type": "scatterpolargl"
           }
          ],
          "scatterternary": [
           {
            "marker": {
             "colorbar": {
              "outlinewidth": 0,
              "ticks": ""
             }
            },
            "type": "scatterternary"
           }
          ],
          "surface": [
           {
            "colorbar": {
             "outlinewidth": 0,
             "ticks": ""
            },
            "colorscale": [
             [
              0,
              "#0d0887"
             ],
             [
              0.1111111111111111,
              "#46039f"
             ],
             [
              0.2222222222222222,
              "#7201a8"
             ],
             [
              0.3333333333333333,
              "#9c179e"
             ],
             [
              0.4444444444444444,
              "#bd3786"
             ],
             [
              0.5555555555555556,
              "#d8576b"
             ],
             [
              0.6666666666666666,
              "#ed7953"
             ],
             [
              0.7777777777777778,
              "#fb9f3a"
             ],
             [
              0.8888888888888888,
              "#fdca26"
             ],
             [
              1,
              "#f0f921"
             ]
            ],
            "type": "surface"
           }
          ],
          "table": [
           {
            "cells": {
             "fill": {
              "color": "#EBF0F8"
             },
             "line": {
              "color": "white"
             }
            },
            "header": {
             "fill": {
              "color": "#C8D4E3"
             },
             "line": {
              "color": "white"
             }
            },
            "type": "table"
           }
          ]
         },
         "layout": {
          "annotationdefaults": {
           "arrowcolor": "#2a3f5f",
           "arrowhead": 0,
           "arrowwidth": 1
          },
          "autotypenumbers": "strict",
          "coloraxis": {
           "colorbar": {
            "outlinewidth": 0,
            "ticks": ""
           }
          },
          "colorscale": {
           "diverging": [
            [
             0,
             "#8e0152"
            ],
            [
             0.1,
             "#c51b7d"
            ],
            [
             0.2,
             "#de77ae"
            ],
            [
             0.3,
             "#f1b6da"
            ],
            [
             0.4,
             "#fde0ef"
            ],
            [
             0.5,
             "#f7f7f7"
            ],
            [
             0.6,
             "#e6f5d0"
            ],
            [
             0.7,
             "#b8e186"
            ],
            [
             0.8,
             "#7fbc41"
            ],
            [
             0.9,
             "#4d9221"
            ],
            [
             1,
             "#276419"
            ]
           ],
           "sequential": [
            [
             0,
             "#0d0887"
            ],
            [
             0.1111111111111111,
             "#46039f"
            ],
            [
             0.2222222222222222,
             "#7201a8"
            ],
            [
             0.3333333333333333,
             "#9c179e"
            ],
            [
             0.4444444444444444,
             "#bd3786"
            ],
            [
             0.5555555555555556,
             "#d8576b"
            ],
            [
             0.6666666666666666,
             "#ed7953"
            ],
            [
             0.7777777777777778,
             "#fb9f3a"
            ],
            [
             0.8888888888888888,
             "#fdca26"
            ],
            [
             1,
             "#f0f921"
            ]
           ],
           "sequentialminus": [
            [
             0,
             "#0d0887"
            ],
            [
             0.1111111111111111,
             "#46039f"
            ],
            [
             0.2222222222222222,
             "#7201a8"
            ],
            [
             0.3333333333333333,
             "#9c179e"
            ],
            [
             0.4444444444444444,
             "#bd3786"
            ],
            [
             0.5555555555555556,
             "#d8576b"
            ],
            [
             0.6666666666666666,
             "#ed7953"
            ],
            [
             0.7777777777777778,
             "#fb9f3a"
            ],
            [
             0.8888888888888888,
             "#fdca26"
            ],
            [
             1,
             "#f0f921"
            ]
           ]
          },
          "colorway": [
           "#636efa",
           "#EF553B",
           "#00cc96",
           "#ab63fa",
           "#FFA15A",
           "#19d3f3",
           "#FF6692",
           "#B6E880",
           "#FF97FF",
           "#FECB52"
          ],
          "font": {
           "color": "#2a3f5f"
          },
          "geo": {
           "bgcolor": "white",
           "lakecolor": "white",
           "landcolor": "#E5ECF6",
           "showlakes": true,
           "showland": true,
           "subunitcolor": "white"
          },
          "hoverlabel": {
           "align": "left"
          },
          "hovermode": "closest",
          "mapbox": {
           "style": "light"
          },
          "paper_bgcolor": "white",
          "plot_bgcolor": "#E5ECF6",
          "polar": {
           "angularaxis": {
            "gridcolor": "white",
            "linecolor": "white",
            "ticks": ""
           },
           "bgcolor": "#E5ECF6",
           "radialaxis": {
            "gridcolor": "white",
            "linecolor": "white",
            "ticks": ""
           }
          },
          "scene": {
           "xaxis": {
            "backgroundcolor": "#E5ECF6",
            "gridcolor": "white",
            "gridwidth": 2,
            "linecolor": "white",
            "showbackground": true,
            "ticks": "",
            "zerolinecolor": "white"
           },
           "yaxis": {
            "backgroundcolor": "#E5ECF6",
            "gridcolor": "white",
            "gridwidth": 2,
            "linecolor": "white",
            "showbackground": true,
            "ticks": "",
            "zerolinecolor": "white"
           },
           "zaxis": {
            "backgroundcolor": "#E5ECF6",
            "gridcolor": "white",
            "gridwidth": 2,
            "linecolor": "white",
            "showbackground": true,
            "ticks": "",
            "zerolinecolor": "white"
           }
          },
          "shapedefaults": {
           "line": {
            "color": "#2a3f5f"
           }
          },
          "ternary": {
           "aaxis": {
            "gridcolor": "white",
            "linecolor": "white",
            "ticks": ""
           },
           "baxis": {
            "gridcolor": "white",
            "linecolor": "white",
            "ticks": ""
           },
           "bgcolor": "#E5ECF6",
           "caxis": {
            "gridcolor": "white",
            "linecolor": "white",
            "ticks": ""
           }
          },
          "title": {
           "x": 0.05
          },
          "xaxis": {
           "automargin": true,
           "gridcolor": "white",
           "linecolor": "white",
           "ticks": "",
           "title": {
            "standoff": 15
           },
           "zerolinecolor": "white",
           "zerolinewidth": 2
          },
          "yaxis": {
           "automargin": true,
           "gridcolor": "white",
           "linecolor": "white",
           "ticks": "",
           "title": {
            "standoff": 15
           },
           "zerolinecolor": "white",
           "zerolinewidth": 2
          }
         }
        },
        "xaxis": {
         "anchor": "y",
         "domain": [
          0,
          1
         ]
        },
        "yaxis": {
         "anchor": "x",
         "domain": [
          0,
          1
         ]
        }
       }
      }
     },
     "metadata": {}
    },
    {
     "output_type": "display_data",
     "data": {
      "application/vnd.plotly.v1+json": {
       "config": {
        "plotlyServerURL": "https://plot.ly"
       },
       "data": [
        {
         "name": "d = 55 mm",
         "type": "scatter",
         "x": [
          1733.3333333333333,
          1560,
          1418.1818181818182,
          1300,
          1200,
          1114.2857142857144,
          1040,
          975,
          917.6470588235295,
          866.6666666666666,
          821.0526315789474,
          780,
          742.8571428571429,
          709.0909090909091,
          678.2608695652174,
          650,
          624,
          600,
          577.7777777777778,
          557.1428571428572,
          537.9310344827586,
          520,
          503.22580645161287,
          487.5,
          472.72727272727275,
          458.82352941176475,
          445.7142857142857,
          433.3333333333333,
          421.6216216216216,
          410.5263157894737,
          400.00000000000006,
          390,
          380.4878048780488,
          371.42857142857144,
          362.79069767441865,
          354.54545454545456,
          346.6666666666667,
          339.1304347826087,
          331.9148936170213,
          325,
          318.36734693877554,
          312,
          305.88235294117646,
          300,
          294.33962264150944,
          288.8888888888889,
          283.6363636363636,
          278.5714285714286,
          273.6842105263158,
          268.9655172413793,
          264.4067796610169
         ],
         "y": [
          21.4715225824328,
          20.180433291770573,
          18.982589497331055,
          18.698096009813206,
          18.777382854764642,
          18.681279285305614,
          18.46899869210053,
          18.180720413281243,
          17.84398759205387,
          17.14870289553893,
          16.40119041040059,
          15.713699345386532,
          15.079659270191867,
          14.493346566435152,
          13.949772661917983,
          13.444582878740647,
          12.973967581047381,
          12.534585411471323,
          12.12349758320249,
          11.738111910911499,
          11.376135241563155,
          11.035533042394015,
          10.714495044905943,
          10.411405994291615,
          10.124820696193401,
          9.853442680064546,
          9.596105908697645,
          9.351759057218066,
          9.119451963589928,
          8.89832391838962,
          8.687593516209477,
          8.486549836346633,
          8.294544757974188,
          8.110986246119394,
          7.935332470608228,
          7.767086641608788,
          7.605792463286229,
          7.451030122001234,
          7.30241273796044,
          7.159583219685163,
          7.0222114694521505,
          6.889991895261844,
          6.762641191139797,
          6.63989635286783,
          6.521512900731439,
          6.4072632846895115,
          6.296935450629624,
          6.190331549156447,
          6.087266770746265,
          5.987568293149409,
          5.89107432868561
         ]
        },
        {
         "name": "d = 95 mm",
         "type": "scatter",
         "x": [
          1733.3333333333333,
          1560,
          1418.1818181818182,
          1300,
          1200,
          1114.2857142857144,
          1040,
          975,
          917.6470588235295,
          866.6666666666666,
          821.0526315789474,
          780,
          742.8571428571429,
          709.0909090909091,
          678.2608695652174,
          650,
          624,
          600,
          577.7777777777778,
          557.1428571428572,
          537.9310344827586,
          520,
          503.22580645161287,
          487.5,
          472.72727272727275,
          458.82352941176475,
          445.7142857142857,
          433.3333333333333,
          421.6216216216216,
          410.5263157894737,
          400.00000000000006,
          390,
          380.4878048780488,
          371.42857142857144,
          362.79069767441865,
          354.54545454545456,
          346.6666666666667,
          339.1304347826087,
          331.9148936170213,
          325,
          318.36734693877554,
          312,
          305.88235294117646,
          300,
          294.33962264150944,
          288.8888888888889,
          283.6363636363636,
          278.5714285714286,
          273.6842105263158,
          268.9655172413793,
          264.4067796610169
         ],
         "y": [
          54.65474967915647,
          52.909797381546134,
          48.93247717483152,
          45.490831514962586,
          42.488341645885285,
          39.848876215074576,
          37.512132169576056,
          35.429998977166456,
          33.563770720258184,
          31.882036228872263,
          30.359085147242695,
          28.973699345386535,
          27.708230698763295,
          26.547892020980605,
          25.48020744452668,
          24.494582878740648,
          23.58196758104738,
          22.734585411471322,
          21.945719805424712,
          21.20954048234007,
          20.52096282777005,
          19.875533042394014,
          19.26933375458336,
          18.698905994291614,
          18.16118433255704,
          17.653442680064547,
          17.1732487658405,
          16.71842572388473,
          16.287019531157497,
          15.877271286810677,
          15.487593516209477,
          15.116549836346636,
          14.762837440901016,
          14.425271960405107,
          14.102774331073345,
          13.794359368881516,
          13.49912579661956,
          13.216247513305582,
          12.9449659294498,
          12.684583219685162,
          12.434456367411338,
          12.193991895261846,
          11.962641191139797,
          11.739896352867829,
          11.525286485637102,
          11.318374395800623,
          11.118753632447806,
          10.926045834870735,
          10.739898349693632,
          10.559982086252857,
          10.385989582922898
         ]
        },
        {
         "name": "d = 135 mm",
         "type": "scatter",
         "x": [
          1733.3333333333333,
          1560,
          1418.1818181818182,
          1300,
          1200,
          1114.2857142857144,
          1040,
          975,
          917.6470588235295,
          866.6666666666666,
          821.0526315789474,
          780,
          742.8571428571429,
          709.0909090909091,
          678.2608695652174,
          650,
          624,
          600,
          577.7777777777778,
          557.1428571428572,
          537.9310344827586,
          520,
          503.22580645161287,
          487.5,
          472.72727272727275,
          458.82352941176475,
          445.7142857142857,
          433.3333333333333,
          421.6216216216216,
          410.5263157894737,
          400.00000000000006,
          390,
          380.4878048780488,
          371.42857142857144,
          362.79069767441865,
          354.54545454545456,
          346.6666666666667,
          339.1304347826087,
          331.9148936170213,
          325,
          318.36734693877554,
          312,
          305.88235294117646,
          300,
          294.33962264150944,
          288.8888888888889,
          283.6363636363636,
          278.5714285714286,
          273.6842105263158,
          268.9655172413793,
          264.4067796610169
         ],
         "y": [
          87.01147824882239,
          79.42979738154612,
          73.04156808392243,
          67.59083151496259,
          62.88834164588528,
          58.79173335793171,
          55.19213216957606,
          52.00499897716646,
          49.16377072025818,
          46.61536956220559,
          44.3169798840848,
          42.23369934538653,
          40.33680212733472,
          38.60243747552607,
          37.01064222713537,
          35.54458287874065,
          34.18996758104739,
          32.93458541147132,
          31.767942027646942,
          30.680969053768646,
          29.665790413976943,
          28.715533042394014,
          27.82417246426078,
          26.986405994291612,
          26.19754796892067,
          25.453442680064544,
          24.750391622983358,
          24.085092390551402,
          23.454587098725064,
          22.85621865523173,
          22.287593516209476,
          21.746549836346627,
          21.23113012382785,
          20.739557674690822,
          20.27021619153846,
          19.821632096154246,
          19.392459129952897,
          18.981464904609933,
          18.58751912093916,
          18.20958321968516,
          17.84670126537052,
          17.497991895261844,
          17.162641191139798,
          16.839896352867832,
          16.529060070542762,
          16.229485506911736,
          15.940571814265988,
          15.66176012058502,
          15.392529928641,
          15.132395879356304,
          14.880904837160184
         ]
        },
        {
         "name": "d = 175 mm",
         "type": "scatter",
         "x": [
          1733.3333333333333,
          1560,
          1418.1818181818182,
          1300,
          1200,
          1114.2857142857144,
          1040,
          975,
          917.6470588235295,
          866.6666666666666,
          821.0526315789474,
          780,
          742.8571428571429,
          709.0909090909091,
          678.2608695652174,
          650,
          624,
          600,
          577.7777777777778,
          557.1428571428572,
          537.9310344827586,
          520,
          503.22580645161287,
          487.5,
          472.72727272727275,
          458.82352941176475,
          445.7142857142857,
          433.3333333333333,
          421.6216216216216,
          410.5263157894737,
          400.00000000000006,
          390,
          380.4878048780488,
          371.42857142857144,
          362.79069767441865,
          354.54545454545456,
          346.6666666666667,
          339.1304347826087,
          331.9148936170213,
          325,
          318.36734693877554,
          312,
          305.88235294117646,
          300,
          294.33962264150944,
          288.8888888888889,
          283.6363636363636,
          278.5714285714286,
          273.6842105263158,
          268.9655172413793,
          264.4067796610169
         ],
         "y": [
          116.47814491548905,
          105.94979738154615,
          97.15065899301332,
          89.6908315149626,
          83.28834164588528,
          77.73459050078887,
          72.87213216957606,
          68.57999897716645,
          64.7637707202582,
          61.34870289553892,
          58.274874620926916,
          55.49369934538653,
          52.96537355590615,
          50.65698293007152,
          48.541077009744065,
          46.59458287874065,
          44.79796758104739,
          43.13458541147132,
          41.59016424986916,
          40.15239762519722,
          38.81061800018385,
          37.55553304239401,
          36.379011173938196,
          35.27390599429161,
          34.233911605284305,
          33.253442680064545,
          32.32753448012622,
          31.451759057218066,
          30.622154666292627,
          29.83516602365278,
          29.08759351620948,
          28.37654983634663,
          27.699422806754676,
          27.053843388976535,
          26.437658052003574,
          25.848904823426974,
          25.285792463286228,
          24.74668229591428,
          24.230072312428522,
          23.734583219685163,
          23.258946163329707,
          22.801991895261843,
          22.362641191139797,
          21.939896352867834,
          21.53283365544842,
          21.140596618022844,
          20.76238999608417,
          20.397474406299306,
          20.045161507588368,
          19.70480967245975,
          19.375820091397472
         ]
        },
        {
         "name": "d = 215 mm",
         "type": "scatter",
         "x": [
          1733.3333333333333,
          1560,
          1418.1818181818182,
          1300,
          1200,
          1114.2857142857144,
          1040,
          975,
          917.6470588235295,
          866.6666666666666,
          821.0526315789474,
          780,
          742.8571428571429,
          709.0909090909091,
          678.2608695652174,
          650,
          624,
          600,
          577.7777777777778,
          557.1428571428572,
          537.9310344827586,
          520,
          503.22580645161287,
          487.5,
          472.72727272727275,
          458.82352941176475,
          445.7142857142857,
          433.3333333333333,
          421.6216216216216,
          410.5263157894737,
          400.00000000000006,
          390,
          380.4878048780488,
          371.42857142857144,
          362.79069767441865,
          354.54545454545456,
          346.6666666666667,
          339.1304347826087,
          331.9148936170213,
          325,
          318.36734693877554,
          312,
          305.88235294117646,
          300,
          294.33962264150944,
          288.8888888888889,
          283.6363636363636,
          278.5714285714286,
          273.6842105263158,
          268.9655172413793,
          264.4067796610169
         ],
         "y": [
          145.94481158215572,
          132.46979738154616,
          121.25974990210425,
          111.7908315149626,
          103.68834164588529,
          96.677447643646,
          90.55213216957605,
          85.15499897716646,
          80.36377072025819,
          76.08203622887225,
          72.23276935776902,
          68.75369934538654,
          65.59394498447757,
          62.71152838461697,
          60.071511792352766,
          57.644582878740636,
          55.405967581047385,
          53.334585411471316,
          51.412386472091384,
          49.62382619662579,
          47.95544558639074,
          46.395533042394014,
          44.933849883615615,
          43.56140599429161,
          42.27027524164795,
          41.05344268006455,
          39.90467733726908,
          38.81842572388473,
          37.78972223386019,
          36.81411339207383,
          35.88759351620948,
          35.006549836346636,
          34.167715489681505,
          33.368129103262255,
          32.605099912468695,
          31.8761775506997,
          31.179125796619562,
          30.511899687218627,
          29.87262550391788,
          29.25958321968516,
          28.67119106128889,
          28.105991895261845,
          27.562641191139797,
          27.03989635286783,
          26.536607240354083,
          26.05170772913396,
          25.58420817790235,
          25.133188692013594,
          24.69779308653574,
          24.2772234655632,
          23.87073534563476
         ]
        },
        {
         "name": "d = 255 mm",
         "type": "scatter",
         "x": [
          1733.3333333333333,
          1560,
          1418.1818181818182,
          1300,
          1200,
          1114.2857142857144,
          1040,
          975,
          917.6470588235295,
          866.6666666666666,
          821.0526315789474,
          780,
          742.8571428571429,
          709.0909090909091,
          678.2608695652174,
          650,
          624,
          600,
          577.7777777777778,
          557.1428571428572,
          537.9310344827586,
          520,
          503.22580645161287,
          487.5,
          472.72727272727275,
          458.82352941176475,
          445.7142857142857,
          433.3333333333333,
          421.6216216216216,
          410.5263157894737,
          400.00000000000006,
          390,
          380.4878048780488,
          371.42857142857144,
          362.79069767441865,
          354.54545454545456,
          346.6666666666667,
          339.1304347826087,
          331.9148936170213,
          325,
          318.36734693877554,
          312,
          305.88235294117646,
          300,
          294.33962264150944,
          288.8888888888889,
          283.6363636363636,
          278.5714285714286,
          273.6842105263158,
          268.9655172413793,
          264.4067796610169
         ],
         "y": [
          175.41147824882236,
          158.98979738154614,
          145.36884081119516,
          133.8908315149626,
          124.08834164588528,
          115.62030478650316,
          108.23213216957605,
          101.72999897716646,
          95.96377072025818,
          90.81536956220559,
          86.19066409461112,
          82.01369934538653,
          78.22251641304901,
          74.76607383916243,
          71.60194657496146,
          68.69458287874063,
          66.0139675810474,
          63.534585411471326,
          61.234608694313614,
          59.09525476805437,
          57.10027317259764,
          55.23553304239401,
          53.488688593293034,
          51.84890599429161,
          50.30663887801158,
          48.853442680064546,
          47.48182019441193,
          46.1850923905514,
          44.95728980142776,
          43.79306076049489,
          42.68759351620948,
          41.63654983634663,
          40.636008172608335,
          39.682414817547965,
          38.772541772933806,
          37.90345027797243,
          37.0724591299529,
          36.27711707852297,
          35.51517869540725,
          34.78458321968516,
          34.08343595924807,
          33.40999189526185,
          32.7626411911398,
          32.13989635286783,
          31.540380825259746,
          30.962818840245067,
          30.406026359720535,
          29.86890297772788,
          29.350424665483104,
          28.849637258666647,
          28.365650599872044
         ]
        },
        {
         "name": "d = 295 mm",
         "type": "scatter",
         "x": [
          1733.3333333333333,
          1560,
          1418.1818181818182,
          1300,
          1200,
          1114.2857142857144,
          1040,
          975,
          917.6470588235295,
          866.6666666666666,
          821.0526315789474,
          780,
          742.8571428571429,
          709.0909090909091,
          678.2608695652174,
          650,
          624,
          600,
          577.7777777777778,
          557.1428571428572,
          537.9310344827586,
          520,
          503.22580645161287,
          487.5,
          472.72727272727275,
          458.82352941176475,
          445.7142857142857,
          433.3333333333333,
          421.6216216216216,
          410.5263157894737,
          400.00000000000006,
          390,
          380.4878048780488,
          371.42857142857144,
          362.79069767441865,
          354.54545454545456,
          346.6666666666667,
          339.1304347826087,
          331.9148936170213,
          325,
          318.36734693877554,
          312,
          305.88235294117646,
          300,
          294.33962264150944,
          288.8888888888889,
          283.6363636363636,
          278.5714285714286,
          273.6842105263158,
          268.9655172413793,
          264.4067796610169
         ],
         "y": [
          204.87814491548906,
          185.50979738154612,
          169.47793172028608,
          155.9908315149626,
          144.48834164588527,
          134.56316192936032,
          125.91213216957605,
          118.30499897716645,
          111.56377072025819,
          105.54870289553894,
          100.14855883145323,
          95.27369934538652,
          90.85108784162044,
          86.8206192937079,
          83.13238135757015,
          79.74458287874064,
          76.62196758104737,
          73.73458541147133,
          71.05683091653583,
          68.56668333948295,
          66.24510075880453,
          64.07553304239401,
          62.04352730297046,
          60.13640599429161,
          58.34300251437523,
          56.65344268006454,
          55.05896305155479,
          53.551759057218064,
          52.12485736899533,
          50.77200812891594,
          49.487593516209486,
          48.266549836346634,
          47.10430085553516,
          45.99670053183368,
          44.939983633398924,
          43.93072300524516,
          42.965792463286235,
          42.042334469827324,
          41.157731886896606,
          40.30958321968516,
          39.495680857207255,
          38.71399189526185,
          37.962641191139795,
          37.23989635286783,
          36.544154410165405,
          35.87392995135618,
          35.227844541538715,
          34.60461726344217,
          34.003056244430475,
          33.4220510517701,
          32.860565854109325
         ]
        }
       ],
       "layout": {
        "legend": {
         "tracegroupgap": 0
        },
        "margin": {
         "t": 60
        },
        "template": {
         "data": {
          "bar": [
           {
            "error_x": {
             "color": "#2a3f5f"
            },
            "error_y": {
             "color": "#2a3f5f"
            },
            "marker": {
             "line": {
              "color": "#E5ECF6",
              "width": 0.5
             }
            },
            "type": "bar"
           }
          ],
          "barpolar": [
           {
            "marker": {
             "line": {
              "color": "#E5ECF6",
              "width": 0.5
             }
            },
            "type": "barpolar"
           }
          ],
          "carpet": [
           {
            "aaxis": {
             "endlinecolor": "#2a3f5f",
             "gridcolor": "white",
             "linecolor": "white",
             "minorgridcolor": "white",
             "startlinecolor": "#2a3f5f"
            },
            "baxis": {
             "endlinecolor": "#2a3f5f",
             "gridcolor": "white",
             "linecolor": "white",
             "minorgridcolor": "white",
             "startlinecolor": "#2a3f5f"
            },
            "type": "carpet"
           }
          ],
          "choropleth": [
           {
            "colorbar": {
             "outlinewidth": 0,
             "ticks": ""
            },
            "type": "choropleth"
           }
          ],
          "contour": [
           {
            "colorbar": {
             "outlinewidth": 0,
             "ticks": ""
            },
            "colorscale": [
             [
              0,
              "#0d0887"
             ],
             [
              0.1111111111111111,
              "#46039f"
             ],
             [
              0.2222222222222222,
              "#7201a8"
             ],
             [
              0.3333333333333333,
              "#9c179e"
             ],
             [
              0.4444444444444444,
              "#bd3786"
             ],
             [
              0.5555555555555556,
              "#d8576b"
             ],
             [
              0.6666666666666666,
              "#ed7953"
             ],
             [
              0.7777777777777778,
              "#fb9f3a"
             ],
             [
              0.8888888888888888,
              "#fdca26"
             ],
             [
              1,
              "#f0f921"
             ]
            ],
            "type": "contour"
           }
          ],
          "contourcarpet": [
           {
            "colorbar": {
             "outlinewidth": 0,
             "ticks": ""
            },
            "type": "contourcarpet"
           }
          ],
          "heatmap": [
           {
            "colorbar": {
             "outlinewidth": 0,
             "ticks": ""
            },
            "colorscale": [
             [
              0,
              "#0d0887"
             ],
             [
              0.1111111111111111,
              "#46039f"
             ],
             [
              0.2222222222222222,
              "#7201a8"
             ],
             [
              0.3333333333333333,
              "#9c179e"
             ],
             [
              0.4444444444444444,
              "#bd3786"
             ],
             [
              0.5555555555555556,
              "#d8576b"
             ],
             [
              0.6666666666666666,
              "#ed7953"
             ],
             [
              0.7777777777777778,
              "#fb9f3a"
             ],
             [
              0.8888888888888888,
              "#fdca26"
             ],
             [
              1,
              "#f0f921"
             ]
            ],
            "type": "heatmap"
           }
          ],
          "heatmapgl": [
           {
            "colorbar": {
             "outlinewidth": 0,
             "ticks": ""
            },
            "colorscale": [
             [
              0,
              "#0d0887"
             ],
             [
              0.1111111111111111,
              "#46039f"
             ],
             [
              0.2222222222222222,
              "#7201a8"
             ],
             [
              0.3333333333333333,
              "#9c179e"
             ],
             [
              0.4444444444444444,
              "#bd3786"
             ],
             [
              0.5555555555555556,
              "#d8576b"
             ],
             [
              0.6666666666666666,
              "#ed7953"
             ],
             [
              0.7777777777777778,
              "#fb9f3a"
             ],
             [
              0.8888888888888888,
              "#fdca26"
             ],
             [
              1,
              "#f0f921"
             ]
            ],
            "type": "heatmapgl"
           }
          ],
          "histogram": [
           {
            "marker": {
             "colorbar": {
              "outlinewidth": 0,
              "ticks": ""
             }
            },
            "type": "histogram"
           }
          ],
          "histogram2d": [
           {
            "colorbar": {
             "outlinewidth": 0,
             "ticks": ""
            },
            "colorscale": [
             [
              0,
              "#0d0887"
             ],
             [
              0.1111111111111111,
              "#46039f"
             ],
             [
              0.2222222222222222,
              "#7201a8"
             ],
             [
              0.3333333333333333,
              "#9c179e"
             ],
             [
              0.4444444444444444,
              "#bd3786"
             ],
             [
              0.5555555555555556,
              "#d8576b"
             ],
             [
              0.6666666666666666,
              "#ed7953"
             ],
             [
              0.7777777777777778,
              "#fb9f3a"
             ],
             [
              0.8888888888888888,
              "#fdca26"
             ],
             [
              1,
              "#f0f921"
             ]
            ],
            "type": "histogram2d"
           }
          ],
          "histogram2dcontour": [
           {
            "colorbar": {
             "outlinewidth": 0,
             "ticks": ""
            },
            "colorscale": [
             [
              0,
              "#0d0887"
             ],
             [
              0.1111111111111111,
              "#46039f"
             ],
             [
              0.2222222222222222,
              "#7201a8"
             ],
             [
              0.3333333333333333,
              "#9c179e"
             ],
             [
              0.4444444444444444,
              "#bd3786"
             ],
             [
              0.5555555555555556,
              "#d8576b"
             ],
             [
              0.6666666666666666,
              "#ed7953"
             ],
             [
              0.7777777777777778,
              "#fb9f3a"
             ],
             [
              0.8888888888888888,
              "#fdca26"
             ],
             [
              1,
              "#f0f921"
             ]
            ],
            "type": "histogram2dcontour"
           }
          ],
          "mesh3d": [
           {
            "colorbar": {
             "outlinewidth": 0,
             "ticks": ""
            },
            "type": "mesh3d"
           }
          ],
          "parcoords": [
           {
            "line": {
             "colorbar": {
              "outlinewidth": 0,
              "ticks": ""
             }
            },
            "type": "parcoords"
           }
          ],
          "pie": [
           {
            "automargin": true,
            "type": "pie"
           }
          ],
          "scatter": [
           {
            "marker": {
             "colorbar": {
              "outlinewidth": 0,
              "ticks": ""
             }
            },
            "type": "scatter"
           }
          ],
          "scatter3d": [
           {
            "line": {
             "colorbar": {
              "outlinewidth": 0,
              "ticks": ""
             }
            },
            "marker": {
             "colorbar": {
              "outlinewidth": 0,
              "ticks": ""
             }
            },
            "type": "scatter3d"
           }
          ],
          "scattercarpet": [
           {
            "marker": {
             "colorbar": {
              "outlinewidth": 0,
              "ticks": ""
             }
            },
            "type": "scattercarpet"
           }
          ],
          "scattergeo": [
           {
            "marker": {
             "colorbar": {
              "outlinewidth": 0,
              "ticks": ""
             }
            },
            "type": "scattergeo"
           }
          ],
          "scattergl": [
           {
            "marker": {
             "colorbar": {
              "outlinewidth": 0,
              "ticks": ""
             }
            },
            "type": "scattergl"
           }
          ],
          "scattermapbox": [
           {
            "marker": {
             "colorbar": {
              "outlinewidth": 0,
              "ticks": ""
             }
            },
            "type": "scattermapbox"
           }
          ],
          "scatterpolar": [
           {
            "marker": {
             "colorbar": {
              "outlinewidth": 0,
              "ticks": ""
             }
            },
            "type": "scatterpolar"
           }
          ],
          "scatterpolargl": [
           {
            "marker": {
             "colorbar": {
              "outlinewidth": 0,
              "ticks": ""
             }
            },
            "type": "scatterpolargl"
           }
          ],
          "scatterternary": [
           {
            "marker": {
             "colorbar": {
              "outlinewidth": 0,
              "ticks": ""
             }
            },
            "type": "scatterternary"
           }
          ],
          "surface": [
           {
            "colorbar": {
             "outlinewidth": 0,
             "ticks": ""
            },
            "colorscale": [
             [
              0,
              "#0d0887"
             ],
             [
              0.1111111111111111,
              "#46039f"
             ],
             [
              0.2222222222222222,
              "#7201a8"
             ],
             [
              0.3333333333333333,
              "#9c179e"
             ],
             [
              0.4444444444444444,
              "#bd3786"
             ],
             [
              0.5555555555555556,
              "#d8576b"
             ],
             [
              0.6666666666666666,
              "#ed7953"
             ],
             [
              0.7777777777777778,
              "#fb9f3a"
             ],
             [
              0.8888888888888888,
              "#fdca26"
             ],
             [
              1,
              "#f0f921"
             ]
            ],
            "type": "surface"
           }
          ],
          "table": [
           {
            "cells": {
             "fill": {
              "color": "#EBF0F8"
             },
             "line": {
              "color": "white"
             }
            },
            "header": {
             "fill": {
              "color": "#C8D4E3"
             },
             "line": {
              "color": "white"
             }
            },
            "type": "table"
           }
          ]
         },
         "layout": {
          "annotationdefaults": {
           "arrowcolor": "#2a3f5f",
           "arrowhead": 0,
           "arrowwidth": 1
          },
          "autotypenumbers": "strict",
          "coloraxis": {
           "colorbar": {
            "outlinewidth": 0,
            "ticks": ""
           }
          },
          "colorscale": {
           "diverging": [
            [
             0,
             "#8e0152"
            ],
            [
             0.1,
             "#c51b7d"
            ],
            [
             0.2,
             "#de77ae"
            ],
            [
             0.3,
             "#f1b6da"
            ],
            [
             0.4,
             "#fde0ef"
            ],
            [
             0.5,
             "#f7f7f7"
            ],
            [
             0.6,
             "#e6f5d0"
            ],
            [
             0.7,
             "#b8e186"
            ],
            [
             0.8,
             "#7fbc41"
            ],
            [
             0.9,
             "#4d9221"
            ],
            [
             1,
             "#276419"
            ]
           ],
           "sequential": [
            [
             0,
             "#0d0887"
            ],
            [
             0.1111111111111111,
             "#46039f"
            ],
            [
             0.2222222222222222,
             "#7201a8"
            ],
            [
             0.3333333333333333,
             "#9c179e"
            ],
            [
             0.4444444444444444,
             "#bd3786"
            ],
            [
             0.5555555555555556,
             "#d8576b"
            ],
            [
             0.6666666666666666,
             "#ed7953"
            ],
            [
             0.7777777777777778,
             "#fb9f3a"
            ],
            [
             0.8888888888888888,
             "#fdca26"
            ],
            [
             1,
             "#f0f921"
            ]
           ],
           "sequentialminus": [
            [
             0,
             "#0d0887"
            ],
            [
             0.1111111111111111,
             "#46039f"
            ],
            [
             0.2222222222222222,
             "#7201a8"
            ],
            [
             0.3333333333333333,
             "#9c179e"
            ],
            [
             0.4444444444444444,
             "#bd3786"
            ],
            [
             0.5555555555555556,
             "#d8576b"
            ],
            [
             0.6666666666666666,
             "#ed7953"
            ],
            [
             0.7777777777777778,
             "#fb9f3a"
            ],
            [
             0.8888888888888888,
             "#fdca26"
            ],
            [
             1,
             "#f0f921"
            ]
           ]
          },
          "colorway": [
           "#636efa",
           "#EF553B",
           "#00cc96",
           "#ab63fa",
           "#FFA15A",
           "#19d3f3",
           "#FF6692",
           "#B6E880",
           "#FF97FF",
           "#FECB52"
          ],
          "font": {
           "color": "#2a3f5f"
          },
          "geo": {
           "bgcolor": "white",
           "lakecolor": "white",
           "landcolor": "#E5ECF6",
           "showlakes": true,
           "showland": true,
           "subunitcolor": "white"
          },
          "hoverlabel": {
           "align": "left"
          },
          "hovermode": "closest",
          "mapbox": {
           "style": "light"
          },
          "paper_bgcolor": "white",
          "plot_bgcolor": "#E5ECF6",
          "polar": {
           "angularaxis": {
            "gridcolor": "white",
            "linecolor": "white",
            "ticks": ""
           },
           "bgcolor": "#E5ECF6",
           "radialaxis": {
            "gridcolor": "white",
            "linecolor": "white",
            "ticks": ""
           }
          },
          "scene": {
           "xaxis": {
            "backgroundcolor": "#E5ECF6",
            "gridcolor": "white",
            "gridwidth": 2,
            "linecolor": "white",
            "showbackground": true,
            "ticks": "",
            "zerolinecolor": "white"
           },
           "yaxis": {
            "backgroundcolor": "#E5ECF6",
            "gridcolor": "white",
            "gridwidth": 2,
            "linecolor": "white",
            "showbackground": true,
            "ticks": "",
            "zerolinecolor": "white"
           },
           "zaxis": {
            "backgroundcolor": "#E5ECF6",
            "gridcolor": "white",
            "gridwidth": 2,
            "linecolor": "white",
            "showbackground": true,
            "ticks": "",
            "zerolinecolor": "white"
           }
          },
          "shapedefaults": {
           "line": {
            "color": "#2a3f5f"
           }
          },
          "ternary": {
           "aaxis": {
            "gridcolor": "white",
            "linecolor": "white",
            "ticks": ""
           },
           "baxis": {
            "gridcolor": "white",
            "linecolor": "white",
            "ticks": ""
           },
           "bgcolor": "#E5ECF6",
           "caxis": {
            "gridcolor": "white",
            "linecolor": "white",
            "ticks": ""
           }
          },
          "title": {
           "x": 0.05
          },
          "xaxis": {
           "automargin": true,
           "gridcolor": "white",
           "linecolor": "white",
           "ticks": "",
           "title": {
            "standoff": 15
           },
           "zerolinecolor": "white",
           "zerolinewidth": 2
          },
          "yaxis": {
           "automargin": true,
           "gridcolor": "white",
           "linecolor": "white",
           "ticks": "",
           "title": {
            "standoff": 15
           },
           "zerolinecolor": "white",
           "zerolinewidth": 2
          }
         }
        },
        "xaxis": {
         "anchor": "y",
         "domain": [
          0,
          1
         ]
        },
        "yaxis": {
         "anchor": "x",
         "domain": [
          0,
          1
         ]
        }
       }
      }
     },
     "metadata": {}
    },
    {
     "output_type": "display_data",
     "data": {
      "application/vnd.plotly.v1+json": {
       "config": {
        "plotlyServerURL": "https://plot.ly"
       },
       "data": [
        {
         "name": "d = 55 mm",
         "type": "scatter",
         "x": [
          1733.3333333333333,
          1560,
          1418.1818181818182,
          1300,
          1200,
          1114.2857142857144,
          1040,
          975,
          917.6470588235295,
          866.6666666666666,
          821.0526315789474,
          780,
          742.8571428571429,
          709.0909090909091,
          678.2608695652174,
          650,
          624,
          600,
          577.7777777777778,
          557.1428571428572,
          537.9310344827586,
          520,
          503.22580645161287,
          487.5,
          472.72727272727275,
          458.82352941176475,
          445.7142857142857,
          433.3333333333333,
          421.6216216216216,
          410.5263157894737,
          400.00000000000006,
          390,
          380.4878048780488,
          371.42857142857144,
          362.79069767441865,
          354.54545454545456,
          346.6666666666667,
          339.1304347826087,
          331.9148936170213,
          325,
          318.36734693877554,
          312,
          305.88235294117646,
          300,
          294.33962264150944,
          288.8888888888889,
          283.6363636363636,
          278.5714285714286,
          273.6842105263158,
          268.9655172413793,
          264.4067796610169
         ],
         "y": [
          21.4715225824328,
          20.180433291770573,
          18.982589497331055,
          18.698096009813206,
          18.777382854764642,
          18.681279285305614,
          18.46899869210053,
          18.180720413281243,
          17.84398759205387,
          17.14870289553893,
          16.40119041040059,
          15.713699345386532,
          15.079659270191867,
          14.493346566435152,
          13.949772661917983,
          13.444582878740647,
          12.973967581047381,
          12.534585411471323,
          12.12349758320249,
          11.738111910911499,
          11.376135241563155,
          11.035533042394015,
          10.714495044905943,
          10.411405994291615,
          10.124820696193401,
          9.853442680064546,
          9.596105908697645,
          9.351759057218066,
          9.119451963589928,
          8.89832391838962,
          8.687593516209477,
          8.486549836346633,
          8.294544757974188,
          8.110986246119394,
          7.935332470608228,
          7.767086641608788,
          7.605792463286229,
          7.451030122001234,
          7.30241273796044,
          7.159583219685163,
          7.0222114694521505,
          6.889991895261844,
          6.762641191139797,
          6.63989635286783,
          6.521512900731439,
          6.4072632846895115,
          6.296935450629624,
          6.190331549156447,
          6.087266770746265,
          5.987568293149409,
          5.89107432868561
         ]
        },
        {
         "name": "d = 95 mm",
         "type": "scatter",
         "x": [
          1733.3333333333333,
          1560,
          1418.1818181818182,
          1300,
          1200,
          1114.2857142857144,
          1040,
          975,
          917.6470588235295,
          866.6666666666666,
          821.0526315789474,
          780,
          742.8571428571429,
          709.0909090909091,
          678.2608695652174,
          650,
          624,
          600,
          577.7777777777778,
          557.1428571428572,
          537.9310344827586,
          520,
          503.22580645161287,
          487.5,
          472.72727272727275,
          458.82352941176475,
          445.7142857142857,
          433.3333333333333,
          421.6216216216216,
          410.5263157894737,
          400.00000000000006,
          390,
          380.4878048780488,
          371.42857142857144,
          362.79069767441865,
          354.54545454545456,
          346.6666666666667,
          339.1304347826087,
          331.9148936170213,
          325,
          318.36734693877554,
          312,
          305.88235294117646,
          300,
          294.33962264150944,
          288.8888888888889,
          283.6363636363636,
          278.5714285714286,
          273.6842105263158,
          268.9655172413793,
          264.4067796610169
         ],
         "y": [
          54.65474967915647,
          52.909797381546134,
          48.93247717483152,
          45.490831514962586,
          42.488341645885285,
          39.848876215074576,
          37.512132169576056,
          35.429998977166456,
          33.563770720258184,
          31.882036228872263,
          30.359085147242695,
          28.973699345386535,
          27.708230698763295,
          26.547892020980605,
          25.48020744452668,
          24.494582878740648,
          23.58196758104738,
          22.734585411471322,
          21.945719805424712,
          21.20954048234007,
          20.52096282777005,
          19.875533042394014,
          19.26933375458336,
          18.698905994291614,
          18.16118433255704,
          17.653442680064547,
          17.1732487658405,
          16.71842572388473,
          16.287019531157497,
          15.877271286810677,
          15.487593516209477,
          15.116549836346636,
          14.762837440901016,
          14.425271960405107,
          14.102774331073345,
          13.794359368881516,
          13.49912579661956,
          13.216247513305582,
          12.9449659294498,
          12.684583219685162,
          12.434456367411338,
          12.193991895261846,
          11.962641191139797,
          11.739896352867829,
          11.525286485637102,
          11.318374395800623,
          11.118753632447806,
          10.926045834870735,
          10.739898349693632,
          10.559982086252857,
          10.385989582922898
         ]
        },
        {
         "name": "d = 135 mm",
         "type": "scatter",
         "x": [
          1733.3333333333333,
          1560,
          1418.1818181818182,
          1300,
          1200,
          1114.2857142857144,
          1040,
          975,
          917.6470588235295,
          866.6666666666666,
          821.0526315789474,
          780,
          742.8571428571429,
          709.0909090909091,
          678.2608695652174,
          650,
          624,
          600,
          577.7777777777778,
          557.1428571428572,
          537.9310344827586,
          520,
          503.22580645161287,
          487.5,
          472.72727272727275,
          458.82352941176475,
          445.7142857142857,
          433.3333333333333,
          421.6216216216216,
          410.5263157894737,
          400.00000000000006,
          390,
          380.4878048780488,
          371.42857142857144,
          362.79069767441865,
          354.54545454545456,
          346.6666666666667,
          339.1304347826087,
          331.9148936170213,
          325,
          318.36734693877554,
          312,
          305.88235294117646,
          300,
          294.33962264150944,
          288.8888888888889,
          283.6363636363636,
          278.5714285714286,
          273.6842105263158,
          268.9655172413793,
          264.4067796610169
         ],
         "y": [
          87.01147824882239,
          79.42979738154612,
          73.04156808392243,
          67.59083151496259,
          62.88834164588528,
          58.79173335793171,
          55.19213216957606,
          52.00499897716646,
          49.16377072025818,
          46.61536956220559,
          44.3169798840848,
          42.23369934538653,
          40.33680212733472,
          38.60243747552607,
          37.01064222713537,
          35.54458287874065,
          34.18996758104739,
          32.93458541147132,
          31.767942027646942,
          30.680969053768646,
          29.665790413976943,
          28.715533042394014,
          27.82417246426078,
          26.986405994291612,
          26.19754796892067,
          25.453442680064544,
          24.750391622983358,
          24.085092390551402,
          23.454587098725064,
          22.85621865523173,
          22.287593516209476,
          21.746549836346627,
          21.23113012382785,
          20.739557674690822,
          20.27021619153846,
          19.821632096154246,
          19.392459129952897,
          18.981464904609933,
          18.58751912093916,
          18.20958321968516,
          17.84670126537052,
          17.497991895261844,
          17.162641191139798,
          16.839896352867832,
          16.529060070542762,
          16.229485506911736,
          15.940571814265988,
          15.66176012058502,
          15.392529928641,
          15.132395879356304,
          14.880904837160184
         ]
        },
        {
         "name": "d = 175 mm",
         "type": "scatter",
         "x": [
          1733.3333333333333,
          1560,
          1418.1818181818182,
          1300,
          1200,
          1114.2857142857144,
          1040,
          975,
          917.6470588235295,
          866.6666666666666,
          821.0526315789474,
          780,
          742.8571428571429,
          709.0909090909091,
          678.2608695652174,
          650,
          624,
          600,
          577.7777777777778,
          557.1428571428572,
          537.9310344827586,
          520,
          503.22580645161287,
          487.5,
          472.72727272727275,
          458.82352941176475,
          445.7142857142857,
          433.3333333333333,
          421.6216216216216,
          410.5263157894737,
          400.00000000000006,
          390,
          380.4878048780488,
          371.42857142857144,
          362.79069767441865,
          354.54545454545456,
          346.6666666666667,
          339.1304347826087,
          331.9148936170213,
          325,
          318.36734693877554,
          312,
          305.88235294117646,
          300,
          294.33962264150944,
          288.8888888888889,
          283.6363636363636,
          278.5714285714286,
          273.6842105263158,
          268.9655172413793,
          264.4067796610169
         ],
         "y": [
          116.47814491548905,
          105.94979738154615,
          97.15065899301332,
          89.6908315149626,
          83.28834164588528,
          77.73459050078887,
          72.87213216957606,
          68.57999897716645,
          64.7637707202582,
          61.34870289553892,
          58.274874620926916,
          55.49369934538653,
          52.96537355590615,
          50.65698293007152,
          48.541077009744065,
          46.59458287874065,
          44.79796758104739,
          43.13458541147132,
          41.59016424986916,
          40.15239762519722,
          38.81061800018385,
          37.55553304239401,
          36.379011173938196,
          35.27390599429161,
          34.233911605284305,
          33.253442680064545,
          32.32753448012622,
          31.451759057218066,
          30.622154666292627,
          29.83516602365278,
          29.08759351620948,
          28.37654983634663,
          27.699422806754676,
          27.053843388976535,
          26.437658052003574,
          25.848904823426974,
          25.285792463286228,
          24.74668229591428,
          24.230072312428522,
          23.734583219685163,
          23.258946163329707,
          22.801991895261843,
          22.362641191139797,
          21.939896352867834,
          21.53283365544842,
          21.140596618022844,
          20.76238999608417,
          20.397474406299306,
          20.045161507588368,
          19.70480967245975,
          19.375820091397472
         ]
        },
        {
         "name": "d = 215 mm",
         "type": "scatter",
         "x": [
          1733.3333333333333,
          1560,
          1418.1818181818182,
          1300,
          1200,
          1114.2857142857144,
          1040,
          975,
          917.6470588235295,
          866.6666666666666,
          821.0526315789474,
          780,
          742.8571428571429,
          709.0909090909091,
          678.2608695652174,
          650,
          624,
          600,
          577.7777777777778,
          557.1428571428572,
          537.9310344827586,
          520,
          503.22580645161287,
          487.5,
          472.72727272727275,
          458.82352941176475,
          445.7142857142857,
          433.3333333333333,
          421.6216216216216,
          410.5263157894737,
          400.00000000000006,
          390,
          380.4878048780488,
          371.42857142857144,
          362.79069767441865,
          354.54545454545456,
          346.6666666666667,
          339.1304347826087,
          331.9148936170213,
          325,
          318.36734693877554,
          312,
          305.88235294117646,
          300,
          294.33962264150944,
          288.8888888888889,
          283.6363636363636,
          278.5714285714286,
          273.6842105263158,
          268.9655172413793,
          264.4067796610169
         ],
         "y": [
          145.94481158215572,
          132.46979738154616,
          121.25974990210425,
          111.7908315149626,
          103.68834164588529,
          96.677447643646,
          90.55213216957605,
          85.15499897716646,
          80.36377072025819,
          76.08203622887225,
          72.23276935776902,
          68.75369934538654,
          65.59394498447757,
          62.71152838461697,
          60.071511792352766,
          57.644582878740636,
          55.405967581047385,
          53.334585411471316,
          51.412386472091384,
          49.62382619662579,
          47.95544558639074,
          46.395533042394014,
          44.933849883615615,
          43.56140599429161,
          42.27027524164795,
          41.05344268006455,
          39.90467733726908,
          38.81842572388473,
          37.78972223386019,
          36.81411339207383,
          35.88759351620948,
          35.006549836346636,
          34.167715489681505,
          33.368129103262255,
          32.605099912468695,
          31.8761775506997,
          31.179125796619562,
          30.511899687218627,
          29.87262550391788,
          29.25958321968516,
          28.67119106128889,
          28.105991895261845,
          27.562641191139797,
          27.03989635286783,
          26.536607240354083,
          26.05170772913396,
          25.58420817790235,
          25.133188692013594,
          24.69779308653574,
          24.2772234655632,
          23.87073534563476
         ]
        },
        {
         "name": "d = 255 mm",
         "type": "scatter",
         "x": [
          1733.3333333333333,
          1560,
          1418.1818181818182,
          1300,
          1200,
          1114.2857142857144,
          1040,
          975,
          917.6470588235295,
          866.6666666666666,
          821.0526315789474,
          780,
          742.8571428571429,
          709.0909090909091,
          678.2608695652174,
          650,
          624,
          600,
          577.7777777777778,
          557.1428571428572,
          537.9310344827586,
          520,
          503.22580645161287,
          487.5,
          472.72727272727275,
          458.82352941176475,
          445.7142857142857,
          433.3333333333333,
          421.6216216216216,
          410.5263157894737,
          400.00000000000006,
          390,
          380.4878048780488,
          371.42857142857144,
          362.79069767441865,
          354.54545454545456,
          346.6666666666667,
          339.1304347826087,
          331.9148936170213,
          325,
          318.36734693877554,
          312,
          305.88235294117646,
          300,
          294.33962264150944,
          288.8888888888889,
          283.6363636363636,
          278.5714285714286,
          273.6842105263158,
          268.9655172413793,
          264.4067796610169
         ],
         "y": [
          175.41147824882236,
          158.98979738154614,
          145.36884081119516,
          133.8908315149626,
          124.08834164588528,
          115.62030478650316,
          108.23213216957605,
          101.72999897716646,
          95.96377072025818,
          90.81536956220559,
          86.19066409461112,
          82.01369934538653,
          78.22251641304901,
          74.76607383916243,
          71.60194657496146,
          68.69458287874063,
          66.0139675810474,
          63.534585411471326,
          61.234608694313614,
          59.09525476805437,
          57.10027317259764,
          55.23553304239401,
          53.488688593293034,
          51.84890599429161,
          50.30663887801158,
          48.853442680064546,
          47.48182019441193,
          46.1850923905514,
          44.95728980142776,
          43.79306076049489,
          42.68759351620948,
          41.63654983634663,
          40.636008172608335,
          39.682414817547965,
          38.772541772933806,
          37.90345027797243,
          37.0724591299529,
          36.27711707852297,
          35.51517869540725,
          34.78458321968516,
          34.08343595924807,
          33.40999189526185,
          32.7626411911398,
          32.13989635286783,
          31.540380825259746,
          30.962818840245067,
          30.406026359720535,
          29.86890297772788,
          29.350424665483104,
          28.849637258666647,
          28.365650599872044
         ]
        },
        {
         "name": "d = 295 mm",
         "type": "scatter",
         "x": [
          1733.3333333333333,
          1560,
          1418.1818181818182,
          1300,
          1200,
          1114.2857142857144,
          1040,
          975,
          917.6470588235295,
          866.6666666666666,
          821.0526315789474,
          780,
          742.8571428571429,
          709.0909090909091,
          678.2608695652174,
          650,
          624,
          600,
          577.7777777777778,
          557.1428571428572,
          537.9310344827586,
          520,
          503.22580645161287,
          487.5,
          472.72727272727275,
          458.82352941176475,
          445.7142857142857,
          433.3333333333333,
          421.6216216216216,
          410.5263157894737,
          400.00000000000006,
          390,
          380.4878048780488,
          371.42857142857144,
          362.79069767441865,
          354.54545454545456,
          346.6666666666667,
          339.1304347826087,
          331.9148936170213,
          325,
          318.36734693877554,
          312,
          305.88235294117646,
          300,
          294.33962264150944,
          288.8888888888889,
          283.6363636363636,
          278.5714285714286,
          273.6842105263158,
          268.9655172413793,
          264.4067796610169
         ],
         "y": [
          204.87814491548906,
          185.50979738154612,
          169.47793172028608,
          155.9908315149626,
          144.48834164588527,
          134.56316192936032,
          125.91213216957605,
          118.30499897716645,
          111.56377072025819,
          105.54870289553894,
          100.14855883145323,
          95.27369934538652,
          90.85108784162044,
          86.8206192937079,
          83.13238135757015,
          79.74458287874064,
          76.62196758104737,
          73.73458541147133,
          71.05683091653583,
          68.56668333948295,
          66.24510075880453,
          64.07553304239401,
          62.04352730297046,
          60.13640599429161,
          58.34300251437523,
          56.65344268006454,
          55.05896305155479,
          53.551759057218064,
          52.12485736899533,
          50.77200812891594,
          49.487593516209486,
          48.266549836346634,
          47.10430085553516,
          45.99670053183368,
          44.939983633398924,
          43.93072300524516,
          42.965792463286235,
          42.042334469827324,
          41.157731886896606,
          40.30958321968516,
          39.495680857207255,
          38.71399189526185,
          37.962641191139795,
          37.23989635286783,
          36.544154410165405,
          35.87392995135618,
          35.227844541538715,
          34.60461726344217,
          34.003056244430475,
          33.4220510517701,
          32.860565854109325
         ]
        },
        {
         "name": "d = 335 mm",
         "type": "scatter",
         "x": [
          1733.3333333333333,
          1560,
          1418.1818181818182,
          1300,
          1200,
          1114.2857142857144,
          1040,
          975,
          917.6470588235295,
          866.6666666666666,
          821.0526315789474,
          780,
          742.8571428571429,
          709.0909090909091,
          678.2608695652174,
          650,
          624,
          600,
          577.7777777777778,
          557.1428571428572,
          537.9310344827586,
          520,
          503.22580645161287,
          487.5,
          472.72727272727275,
          458.82352941176475,
          445.7142857142857,
          433.3333333333333,
          421.6216216216216,
          410.5263157894737,
          400.00000000000006,
          390,
          380.4878048780488,
          371.42857142857144,
          362.79069767441865,
          354.54545454545456,
          346.6666666666667,
          339.1304347826087,
          331.9148936170213,
          325,
          318.36734693877554,
          312,
          305.88235294117646,
          300,
          294.33962264150944,
          288.8888888888889,
          283.6363636363636,
          278.5714285714286,
          273.6842105263158,
          268.9655172413793,
          264.4067796610169
         ],
         "y": [
          234.34481158215567,
          212.02979738154613,
          193.587022629377,
          178.0908315149626,
          164.88834164588528,
          153.5060190722174,
          143.59213216957605,
          134.87999897716645,
          127.16377072025819,
          120.28203622887226,
          114.10645356829532,
          108.53369934538652,
          103.47965927019187,
          98.87516474825335,
          94.66281614017885,
          90.79458287874066,
          87.22996758104738,
          83.93458541147133,
          80.87905313875805,
          78.03811191091152,
          75.38992834501143,
          72.91553304239402,
          70.59836601264787,
          68.4239059942916,
          66.37936615073886,
          64.45344268006455,
          62.63610590869763,
          60.918425723884724,
          59.29242493656291,
          57.75095549733699,
          56.28759351620949,
          54.89654983634664,
          53.57259353846199,
          52.31098624611939,
          51.107425493864035,
          49.95799573251789,
          48.859125796619566,
          47.80755186113167,
          46.80028507838597,
          45.834583219685165,
          44.90792575516644,
          44.01799189526185,
          43.16264119113979,
          42.339896352867825,
          41.54792799507107,
          40.78504106246729,
          40.049662723356896,
          39.34033154915645,
          38.655687823377846,
          37.99446484487354,
          37.355481108346616
         ]
        }
       ],
       "layout": {
        "legend": {
         "tracegroupgap": 0
        },
        "margin": {
         "t": 60
        },
        "template": {
         "data": {
          "bar": [
           {
            "error_x": {
             "color": "#2a3f5f"
            },
            "error_y": {
             "color": "#2a3f5f"
            },
            "marker": {
             "line": {
              "color": "#E5ECF6",
              "width": 0.5
             }
            },
            "type": "bar"
           }
          ],
          "barpolar": [
           {
            "marker": {
             "line": {
              "color": "#E5ECF6",
              "width": 0.5
             }
            },
            "type": "barpolar"
           }
          ],
          "carpet": [
           {
            "aaxis": {
             "endlinecolor": "#2a3f5f",
             "gridcolor": "white",
             "linecolor": "white",
             "minorgridcolor": "white",
             "startlinecolor": "#2a3f5f"
            },
            "baxis": {
             "endlinecolor": "#2a3f5f",
             "gridcolor": "white",
             "linecolor": "white",
             "minorgridcolor": "white",
             "startlinecolor": "#2a3f5f"
            },
            "type": "carpet"
           }
          ],
          "choropleth": [
           {
            "colorbar": {
             "outlinewidth": 0,
             "ticks": ""
            },
            "type": "choropleth"
           }
          ],
          "contour": [
           {
            "colorbar": {
             "outlinewidth": 0,
             "ticks": ""
            },
            "colorscale": [
             [
              0,
              "#0d0887"
             ],
             [
              0.1111111111111111,
              "#46039f"
             ],
             [
              0.2222222222222222,
              "#7201a8"
             ],
             [
              0.3333333333333333,
              "#9c179e"
             ],
             [
              0.4444444444444444,
              "#bd3786"
             ],
             [
              0.5555555555555556,
              "#d8576b"
             ],
             [
              0.6666666666666666,
              "#ed7953"
             ],
             [
              0.7777777777777778,
              "#fb9f3a"
             ],
             [
              0.8888888888888888,
              "#fdca26"
             ],
             [
              1,
              "#f0f921"
             ]
            ],
            "type": "contour"
           }
          ],
          "contourcarpet": [
           {
            "colorbar": {
             "outlinewidth": 0,
             "ticks": ""
            },
            "type": "contourcarpet"
           }
          ],
          "heatmap": [
           {
            "colorbar": {
             "outlinewidth": 0,
             "ticks": ""
            },
            "colorscale": [
             [
              0,
              "#0d0887"
             ],
             [
              0.1111111111111111,
              "#46039f"
             ],
             [
              0.2222222222222222,
              "#7201a8"
             ],
             [
              0.3333333333333333,
              "#9c179e"
             ],
             [
              0.4444444444444444,
              "#bd3786"
             ],
             [
              0.5555555555555556,
              "#d8576b"
             ],
             [
              0.6666666666666666,
              "#ed7953"
             ],
             [
              0.7777777777777778,
              "#fb9f3a"
             ],
             [
              0.8888888888888888,
              "#fdca26"
             ],
             [
              1,
              "#f0f921"
             ]
            ],
            "type": "heatmap"
           }
          ],
          "heatmapgl": [
           {
            "colorbar": {
             "outlinewidth": 0,
             "ticks": ""
            },
            "colorscale": [
             [
              0,
              "#0d0887"
             ],
             [
              0.1111111111111111,
              "#46039f"
             ],
             [
              0.2222222222222222,
              "#7201a8"
             ],
             [
              0.3333333333333333,
              "#9c179e"
             ],
             [
              0.4444444444444444,
              "#bd3786"
             ],
             [
              0.5555555555555556,
              "#d8576b"
             ],
             [
              0.6666666666666666,
              "#ed7953"
             ],
             [
              0.7777777777777778,
              "#fb9f3a"
             ],
             [
              0.8888888888888888,
              "#fdca26"
             ],
             [
              1,
              "#f0f921"
             ]
            ],
            "type": "heatmapgl"
           }
          ],
          "histogram": [
           {
            "marker": {
             "colorbar": {
              "outlinewidth": 0,
              "ticks": ""
             }
            },
            "type": "histogram"
           }
          ],
          "histogram2d": [
           {
            "colorbar": {
             "outlinewidth": 0,
             "ticks": ""
            },
            "colorscale": [
             [
              0,
              "#0d0887"
             ],
             [
              0.1111111111111111,
              "#46039f"
             ],
             [
              0.2222222222222222,
              "#7201a8"
             ],
             [
              0.3333333333333333,
              "#9c179e"
             ],
             [
              0.4444444444444444,
              "#bd3786"
             ],
             [
              0.5555555555555556,
              "#d8576b"
             ],
             [
              0.6666666666666666,
              "#ed7953"
             ],
             [
              0.7777777777777778,
              "#fb9f3a"
             ],
             [
              0.8888888888888888,
              "#fdca26"
             ],
             [
              1,
              "#f0f921"
             ]
            ],
            "type": "histogram2d"
           }
          ],
          "histogram2dcontour": [
           {
            "colorbar": {
             "outlinewidth": 0,
             "ticks": ""
            },
            "colorscale": [
             [
              0,
              "#0d0887"
             ],
             [
              0.1111111111111111,
              "#46039f"
             ],
             [
              0.2222222222222222,
              "#7201a8"
             ],
             [
              0.3333333333333333,
              "#9c179e"
             ],
             [
              0.4444444444444444,
              "#bd3786"
             ],
             [
              0.5555555555555556,
              "#d8576b"
             ],
             [
              0.6666666666666666,
              "#ed7953"
             ],
             [
              0.7777777777777778,
              "#fb9f3a"
             ],
             [
              0.8888888888888888,
              "#fdca26"
             ],
             [
              1,
              "#f0f921"
             ]
            ],
            "type": "histogram2dcontour"
           }
          ],
          "mesh3d": [
           {
            "colorbar": {
             "outlinewidth": 0,
             "ticks": ""
            },
            "type": "mesh3d"
           }
          ],
          "parcoords": [
           {
            "line": {
             "colorbar": {
              "outlinewidth": 0,
              "ticks": ""
             }
            },
            "type": "parcoords"
           }
          ],
          "pie": [
           {
            "automargin": true,
            "type": "pie"
           }
          ],
          "scatter": [
           {
            "marker": {
             "colorbar": {
              "outlinewidth": 0,
              "ticks": ""
             }
            },
            "type": "scatter"
           }
          ],
          "scatter3d": [
           {
            "line": {
             "colorbar": {
              "outlinewidth": 0,
              "ticks": ""
             }
            },
            "marker": {
             "colorbar": {
              "outlinewidth": 0,
              "ticks": ""
             }
            },
            "type": "scatter3d"
           }
          ],
          "scattercarpet": [
           {
            "marker": {
             "colorbar": {
              "outlinewidth": 0,
              "ticks": ""
             }
            },
            "type": "scattercarpet"
           }
          ],
          "scattergeo": [
           {
            "marker": {
             "colorbar": {
              "outlinewidth": 0,
              "ticks": ""
             }
            },
            "type": "scattergeo"
           }
          ],
          "scattergl": [
           {
            "marker": {
             "colorbar": {
              "outlinewidth": 0,
              "ticks": ""
             }
            },
            "type": "scattergl"
           }
          ],
          "scattermapbox": [
           {
            "marker": {
             "colorbar": {
              "outlinewidth": 0,
              "ticks": ""
             }
            },
            "type": "scattermapbox"
           }
          ],
          "scatterpolar": [
           {
            "marker": {
             "colorbar": {
              "outlinewidth": 0,
              "ticks": ""
             }
            },
            "type": "scatterpolar"
           }
          ],
          "scatterpolargl": [
           {
            "marker": {
             "colorbar": {
              "outlinewidth": 0,
              "ticks": ""
             }
            },
            "type": "scatterpolargl"
           }
          ],
          "scatterternary": [
           {
            "marker": {
             "colorbar": {
              "outlinewidth": 0,
              "ticks": ""
             }
            },
            "type": "scatterternary"
           }
          ],
          "surface": [
           {
            "colorbar": {
             "outlinewidth": 0,
             "ticks": ""
            },
            "colorscale": [
             [
              0,
              "#0d0887"
             ],
             [
              0.1111111111111111,
              "#46039f"
             ],
             [
              0.2222222222222222,
              "#7201a8"
             ],
             [
              0.3333333333333333,
              "#9c179e"
             ],
             [
              0.4444444444444444,
              "#bd3786"
             ],
             [
              0.5555555555555556,
              "#d8576b"
             ],
             [
              0.6666666666666666,
              "#ed7953"
             ],
             [
              0.7777777777777778,
              "#fb9f3a"
             ],
             [
              0.8888888888888888,
              "#fdca26"
             ],
             [
              1,
              "#f0f921"
             ]
            ],
            "type": "surface"
           }
          ],
          "table": [
           {
            "cells": {
             "fill": {
              "color": "#EBF0F8"
             },
             "line": {
              "color": "white"
             }
            },
            "header": {
             "fill": {
              "color": "#C8D4E3"
             },
             "line": {
              "color": "white"
             }
            },
            "type": "table"
           }
          ]
         },
         "layout": {
          "annotationdefaults": {
           "arrowcolor": "#2a3f5f",
           "arrowhead": 0,
           "arrowwidth": 1
          },
          "autotypenumbers": "strict",
          "coloraxis": {
           "colorbar": {
            "outlinewidth": 0,
            "ticks": ""
           }
          },
          "colorscale": {
           "diverging": [
            [
             0,
             "#8e0152"
            ],
            [
             0.1,
             "#c51b7d"
            ],
            [
             0.2,
             "#de77ae"
            ],
            [
             0.3,
             "#f1b6da"
            ],
            [
             0.4,
             "#fde0ef"
            ],
            [
             0.5,
             "#f7f7f7"
            ],
            [
             0.6,
             "#e6f5d0"
            ],
            [
             0.7,
             "#b8e186"
            ],
            [
             0.8,
             "#7fbc41"
            ],
            [
             0.9,
             "#4d9221"
            ],
            [
             1,
             "#276419"
            ]
           ],
           "sequential": [
            [
             0,
             "#0d0887"
            ],
            [
             0.1111111111111111,
             "#46039f"
            ],
            [
             0.2222222222222222,
             "#7201a8"
            ],
            [
             0.3333333333333333,
             "#9c179e"
            ],
            [
             0.4444444444444444,
             "#bd3786"
            ],
            [
             0.5555555555555556,
             "#d8576b"
            ],
            [
             0.6666666666666666,
             "#ed7953"
            ],
            [
             0.7777777777777778,
             "#fb9f3a"
            ],
            [
             0.8888888888888888,
             "#fdca26"
            ],
            [
             1,
             "#f0f921"
            ]
           ],
           "sequentialminus": [
            [
             0,
             "#0d0887"
            ],
            [
             0.1111111111111111,
             "#46039f"
            ],
            [
             0.2222222222222222,
             "#7201a8"
            ],
            [
             0.3333333333333333,
             "#9c179e"
            ],
            [
             0.4444444444444444,
             "#bd3786"
            ],
            [
             0.5555555555555556,
             "#d8576b"
            ],
            [
             0.6666666666666666,
             "#ed7953"
            ],
            [
             0.7777777777777778,
             "#fb9f3a"
            ],
            [
             0.8888888888888888,
             "#fdca26"
            ],
            [
             1,
             "#f0f921"
            ]
           ]
          },
          "colorway": [
           "#636efa",
           "#EF553B",
           "#00cc96",
           "#ab63fa",
           "#FFA15A",
           "#19d3f3",
           "#FF6692",
           "#B6E880",
           "#FF97FF",
           "#FECB52"
          ],
          "font": {
           "color": "#2a3f5f"
          },
          "geo": {
           "bgcolor": "white",
           "lakecolor": "white",
           "landcolor": "#E5ECF6",
           "showlakes": true,
           "showland": true,
           "subunitcolor": "white"
          },
          "hoverlabel": {
           "align": "left"
          },
          "hovermode": "closest",
          "mapbox": {
           "style": "light"
          },
          "paper_bgcolor": "white",
          "plot_bgcolor": "#E5ECF6",
          "polar": {
           "angularaxis": {
            "gridcolor": "white",
            "linecolor": "white",
            "ticks": ""
           },
           "bgcolor": "#E5ECF6",
           "radialaxis": {
            "gridcolor": "white",
            "linecolor": "white",
            "ticks": ""
           }
          },
          "scene": {
           "xaxis": {
            "backgroundcolor": "#E5ECF6",
            "gridcolor": "white",
            "gridwidth": 2,
            "linecolor": "white",
            "showbackground": true,
            "ticks": "",
            "zerolinecolor": "white"
           },
           "yaxis": {
            "backgroundcolor": "#E5ECF6",
            "gridcolor": "white",
            "gridwidth": 2,
            "linecolor": "white",
            "showbackground": true,
            "ticks": "",
            "zerolinecolor": "white"
           },
           "zaxis": {
            "backgroundcolor": "#E5ECF6",
            "gridcolor": "white",
            "gridwidth": 2,
            "linecolor": "white",
            "showbackground": true,
            "ticks": "",
            "zerolinecolor": "white"
           }
          },
          "shapedefaults": {
           "line": {
            "color": "#2a3f5f"
           }
          },
          "ternary": {
           "aaxis": {
            "gridcolor": "white",
            "linecolor": "white",
            "ticks": ""
           },
           "baxis": {
            "gridcolor": "white",
            "linecolor": "white",
            "ticks": ""
           },
           "bgcolor": "#E5ECF6",
           "caxis": {
            "gridcolor": "white",
            "linecolor": "white",
            "ticks": ""
           }
          },
          "title": {
           "x": 0.05
          },
          "xaxis": {
           "automargin": true,
           "gridcolor": "white",
           "linecolor": "white",
           "ticks": "",
           "title": {
            "standoff": 15
           },
           "zerolinecolor": "white",
           "zerolinewidth": 2
          },
          "yaxis": {
           "automargin": true,
           "gridcolor": "white",
           "linecolor": "white",
           "ticks": "",
           "title": {
            "standoff": 15
           },
           "zerolinecolor": "white",
           "zerolinewidth": 2
          }
         }
        },
        "xaxis": {
         "anchor": "y",
         "domain": [
          0,
          1
         ]
        },
        "yaxis": {
         "anchor": "x",
         "domain": [
          0,
          1
         ]
        }
       }
      }
     },
     "metadata": {}
    },
    {
     "output_type": "display_data",
     "data": {
      "application/vnd.plotly.v1+json": {
       "config": {
        "plotlyServerURL": "https://plot.ly"
       },
       "data": [
        {
         "name": "d = 55 mm",
         "type": "scatter",
         "x": [
          1733.3333333333333,
          1560,
          1418.1818181818182,
          1300,
          1200,
          1114.2857142857144,
          1040,
          975,
          917.6470588235295,
          866.6666666666666,
          821.0526315789474,
          780,
          742.8571428571429,
          709.0909090909091,
          678.2608695652174,
          650,
          624,
          600,
          577.7777777777778,
          557.1428571428572,
          537.9310344827586,
          520,
          503.22580645161287,
          487.5,
          472.72727272727275,
          458.82352941176475,
          445.7142857142857,
          433.3333333333333,
          421.6216216216216,
          410.5263157894737,
          400.00000000000006,
          390,
          380.4878048780488,
          371.42857142857144,
          362.79069767441865,
          354.54545454545456,
          346.6666666666667,
          339.1304347826087,
          331.9148936170213,
          325,
          318.36734693877554,
          312,
          305.88235294117646,
          300,
          294.33962264150944,
          288.8888888888889,
          283.6363636363636,
          278.5714285714286,
          273.6842105263158,
          268.9655172413793,
          264.4067796610169
         ],
         "y": [
          21.4715225824328,
          20.180433291770573,
          18.982589497331055,
          18.698096009813206,
          18.777382854764642,
          18.681279285305614,
          18.46899869210053,
          18.180720413281243,
          17.84398759205387,
          17.14870289553893,
          16.40119041040059,
          15.713699345386532,
          15.079659270191867,
          14.493346566435152,
          13.949772661917983,
          13.444582878740647,
          12.973967581047381,
          12.534585411471323,
          12.12349758320249,
          11.738111910911499,
          11.376135241563155,
          11.035533042394015,
          10.714495044905943,
          10.411405994291615,
          10.124820696193401,
          9.853442680064546,
          9.596105908697645,
          9.351759057218066,
          9.119451963589928,
          8.89832391838962,
          8.687593516209477,
          8.486549836346633,
          8.294544757974188,
          8.110986246119394,
          7.935332470608228,
          7.767086641608788,
          7.605792463286229,
          7.451030122001234,
          7.30241273796044,
          7.159583219685163,
          7.0222114694521505,
          6.889991895261844,
          6.762641191139797,
          6.63989635286783,
          6.521512900731439,
          6.4072632846895115,
          6.296935450629624,
          6.190331549156447,
          6.087266770746265,
          5.987568293149409,
          5.89107432868561
         ]
        },
        {
         "name": "d = 95 mm",
         "type": "scatter",
         "x": [
          1733.3333333333333,
          1560,
          1418.1818181818182,
          1300,
          1200,
          1114.2857142857144,
          1040,
          975,
          917.6470588235295,
          866.6666666666666,
          821.0526315789474,
          780,
          742.8571428571429,
          709.0909090909091,
          678.2608695652174,
          650,
          624,
          600,
          577.7777777777778,
          557.1428571428572,
          537.9310344827586,
          520,
          503.22580645161287,
          487.5,
          472.72727272727275,
          458.82352941176475,
          445.7142857142857,
          433.3333333333333,
          421.6216216216216,
          410.5263157894737,
          400.00000000000006,
          390,
          380.4878048780488,
          371.42857142857144,
          362.79069767441865,
          354.54545454545456,
          346.6666666666667,
          339.1304347826087,
          331.9148936170213,
          325,
          318.36734693877554,
          312,
          305.88235294117646,
          300,
          294.33962264150944,
          288.8888888888889,
          283.6363636363636,
          278.5714285714286,
          273.6842105263158,
          268.9655172413793,
          264.4067796610169
         ],
         "y": [
          54.65474967915647,
          52.909797381546134,
          48.93247717483152,
          45.490831514962586,
          42.488341645885285,
          39.848876215074576,
          37.512132169576056,
          35.429998977166456,
          33.563770720258184,
          31.882036228872263,
          30.359085147242695,
          28.973699345386535,
          27.708230698763295,
          26.547892020980605,
          25.48020744452668,
          24.494582878740648,
          23.58196758104738,
          22.734585411471322,
          21.945719805424712,
          21.20954048234007,
          20.52096282777005,
          19.875533042394014,
          19.26933375458336,
          18.698905994291614,
          18.16118433255704,
          17.653442680064547,
          17.1732487658405,
          16.71842572388473,
          16.287019531157497,
          15.877271286810677,
          15.487593516209477,
          15.116549836346636,
          14.762837440901016,
          14.425271960405107,
          14.102774331073345,
          13.794359368881516,
          13.49912579661956,
          13.216247513305582,
          12.9449659294498,
          12.684583219685162,
          12.434456367411338,
          12.193991895261846,
          11.962641191139797,
          11.739896352867829,
          11.525286485637102,
          11.318374395800623,
          11.118753632447806,
          10.926045834870735,
          10.739898349693632,
          10.559982086252857,
          10.385989582922898
         ]
        },
        {
         "name": "d = 135 mm",
         "type": "scatter",
         "x": [
          1733.3333333333333,
          1560,
          1418.1818181818182,
          1300,
          1200,
          1114.2857142857144,
          1040,
          975,
          917.6470588235295,
          866.6666666666666,
          821.0526315789474,
          780,
          742.8571428571429,
          709.0909090909091,
          678.2608695652174,
          650,
          624,
          600,
          577.7777777777778,
          557.1428571428572,
          537.9310344827586,
          520,
          503.22580645161287,
          487.5,
          472.72727272727275,
          458.82352941176475,
          445.7142857142857,
          433.3333333333333,
          421.6216216216216,
          410.5263157894737,
          400.00000000000006,
          390,
          380.4878048780488,
          371.42857142857144,
          362.79069767441865,
          354.54545454545456,
          346.6666666666667,
          339.1304347826087,
          331.9148936170213,
          325,
          318.36734693877554,
          312,
          305.88235294117646,
          300,
          294.33962264150944,
          288.8888888888889,
          283.6363636363636,
          278.5714285714286,
          273.6842105263158,
          268.9655172413793,
          264.4067796610169
         ],
         "y": [
          87.01147824882239,
          79.42979738154612,
          73.04156808392243,
          67.59083151496259,
          62.88834164588528,
          58.79173335793171,
          55.19213216957606,
          52.00499897716646,
          49.16377072025818,
          46.61536956220559,
          44.3169798840848,
          42.23369934538653,
          40.33680212733472,
          38.60243747552607,
          37.01064222713537,
          35.54458287874065,
          34.18996758104739,
          32.93458541147132,
          31.767942027646942,
          30.680969053768646,
          29.665790413976943,
          28.715533042394014,
          27.82417246426078,
          26.986405994291612,
          26.19754796892067,
          25.453442680064544,
          24.750391622983358,
          24.085092390551402,
          23.454587098725064,
          22.85621865523173,
          22.287593516209476,
          21.746549836346627,
          21.23113012382785,
          20.739557674690822,
          20.27021619153846,
          19.821632096154246,
          19.392459129952897,
          18.981464904609933,
          18.58751912093916,
          18.20958321968516,
          17.84670126537052,
          17.497991895261844,
          17.162641191139798,
          16.839896352867832,
          16.529060070542762,
          16.229485506911736,
          15.940571814265988,
          15.66176012058502,
          15.392529928641,
          15.132395879356304,
          14.880904837160184
         ]
        },
        {
         "name": "d = 175 mm",
         "type": "scatter",
         "x": [
          1733.3333333333333,
          1560,
          1418.1818181818182,
          1300,
          1200,
          1114.2857142857144,
          1040,
          975,
          917.6470588235295,
          866.6666666666666,
          821.0526315789474,
          780,
          742.8571428571429,
          709.0909090909091,
          678.2608695652174,
          650,
          624,
          600,
          577.7777777777778,
          557.1428571428572,
          537.9310344827586,
          520,
          503.22580645161287,
          487.5,
          472.72727272727275,
          458.82352941176475,
          445.7142857142857,
          433.3333333333333,
          421.6216216216216,
          410.5263157894737,
          400.00000000000006,
          390,
          380.4878048780488,
          371.42857142857144,
          362.79069767441865,
          354.54545454545456,
          346.6666666666667,
          339.1304347826087,
          331.9148936170213,
          325,
          318.36734693877554,
          312,
          305.88235294117646,
          300,
          294.33962264150944,
          288.8888888888889,
          283.6363636363636,
          278.5714285714286,
          273.6842105263158,
          268.9655172413793,
          264.4067796610169
         ],
         "y": [
          116.47814491548905,
          105.94979738154615,
          97.15065899301332,
          89.6908315149626,
          83.28834164588528,
          77.73459050078887,
          72.87213216957606,
          68.57999897716645,
          64.7637707202582,
          61.34870289553892,
          58.274874620926916,
          55.49369934538653,
          52.96537355590615,
          50.65698293007152,
          48.541077009744065,
          46.59458287874065,
          44.79796758104739,
          43.13458541147132,
          41.59016424986916,
          40.15239762519722,
          38.81061800018385,
          37.55553304239401,
          36.379011173938196,
          35.27390599429161,
          34.233911605284305,
          33.253442680064545,
          32.32753448012622,
          31.451759057218066,
          30.622154666292627,
          29.83516602365278,
          29.08759351620948,
          28.37654983634663,
          27.699422806754676,
          27.053843388976535,
          26.437658052003574,
          25.848904823426974,
          25.285792463286228,
          24.74668229591428,
          24.230072312428522,
          23.734583219685163,
          23.258946163329707,
          22.801991895261843,
          22.362641191139797,
          21.939896352867834,
          21.53283365544842,
          21.140596618022844,
          20.76238999608417,
          20.397474406299306,
          20.045161507588368,
          19.70480967245975,
          19.375820091397472
         ]
        },
        {
         "name": "d = 215 mm",
         "type": "scatter",
         "x": [
          1733.3333333333333,
          1560,
          1418.1818181818182,
          1300,
          1200,
          1114.2857142857144,
          1040,
          975,
          917.6470588235295,
          866.6666666666666,
          821.0526315789474,
          780,
          742.8571428571429,
          709.0909090909091,
          678.2608695652174,
          650,
          624,
          600,
          577.7777777777778,
          557.1428571428572,
          537.9310344827586,
          520,
          503.22580645161287,
          487.5,
          472.72727272727275,
          458.82352941176475,
          445.7142857142857,
          433.3333333333333,
          421.6216216216216,
          410.5263157894737,
          400.00000000000006,
          390,
          380.4878048780488,
          371.42857142857144,
          362.79069767441865,
          354.54545454545456,
          346.6666666666667,
          339.1304347826087,
          331.9148936170213,
          325,
          318.36734693877554,
          312,
          305.88235294117646,
          300,
          294.33962264150944,
          288.8888888888889,
          283.6363636363636,
          278.5714285714286,
          273.6842105263158,
          268.9655172413793,
          264.4067796610169
         ],
         "y": [
          145.94481158215572,
          132.46979738154616,
          121.25974990210425,
          111.7908315149626,
          103.68834164588529,
          96.677447643646,
          90.55213216957605,
          85.15499897716646,
          80.36377072025819,
          76.08203622887225,
          72.23276935776902,
          68.75369934538654,
          65.59394498447757,
          62.71152838461697,
          60.071511792352766,
          57.644582878740636,
          55.405967581047385,
          53.334585411471316,
          51.412386472091384,
          49.62382619662579,
          47.95544558639074,
          46.395533042394014,
          44.933849883615615,
          43.56140599429161,
          42.27027524164795,
          41.05344268006455,
          39.90467733726908,
          38.81842572388473,
          37.78972223386019,
          36.81411339207383,
          35.88759351620948,
          35.006549836346636,
          34.167715489681505,
          33.368129103262255,
          32.605099912468695,
          31.8761775506997,
          31.179125796619562,
          30.511899687218627,
          29.87262550391788,
          29.25958321968516,
          28.67119106128889,
          28.105991895261845,
          27.562641191139797,
          27.03989635286783,
          26.536607240354083,
          26.05170772913396,
          25.58420817790235,
          25.133188692013594,
          24.69779308653574,
          24.2772234655632,
          23.87073534563476
         ]
        },
        {
         "name": "d = 255 mm",
         "type": "scatter",
         "x": [
          1733.3333333333333,
          1560,
          1418.1818181818182,
          1300,
          1200,
          1114.2857142857144,
          1040,
          975,
          917.6470588235295,
          866.6666666666666,
          821.0526315789474,
          780,
          742.8571428571429,
          709.0909090909091,
          678.2608695652174,
          650,
          624,
          600,
          577.7777777777778,
          557.1428571428572,
          537.9310344827586,
          520,
          503.22580645161287,
          487.5,
          472.72727272727275,
          458.82352941176475,
          445.7142857142857,
          433.3333333333333,
          421.6216216216216,
          410.5263157894737,
          400.00000000000006,
          390,
          380.4878048780488,
          371.42857142857144,
          362.79069767441865,
          354.54545454545456,
          346.6666666666667,
          339.1304347826087,
          331.9148936170213,
          325,
          318.36734693877554,
          312,
          305.88235294117646,
          300,
          294.33962264150944,
          288.8888888888889,
          283.6363636363636,
          278.5714285714286,
          273.6842105263158,
          268.9655172413793,
          264.4067796610169
         ],
         "y": [
          175.41147824882236,
          158.98979738154614,
          145.36884081119516,
          133.8908315149626,
          124.08834164588528,
          115.62030478650316,
          108.23213216957605,
          101.72999897716646,
          95.96377072025818,
          90.81536956220559,
          86.19066409461112,
          82.01369934538653,
          78.22251641304901,
          74.76607383916243,
          71.60194657496146,
          68.69458287874063,
          66.0139675810474,
          63.534585411471326,
          61.234608694313614,
          59.09525476805437,
          57.10027317259764,
          55.23553304239401,
          53.488688593293034,
          51.84890599429161,
          50.30663887801158,
          48.853442680064546,
          47.48182019441193,
          46.1850923905514,
          44.95728980142776,
          43.79306076049489,
          42.68759351620948,
          41.63654983634663,
          40.636008172608335,
          39.682414817547965,
          38.772541772933806,
          37.90345027797243,
          37.0724591299529,
          36.27711707852297,
          35.51517869540725,
          34.78458321968516,
          34.08343595924807,
          33.40999189526185,
          32.7626411911398,
          32.13989635286783,
          31.540380825259746,
          30.962818840245067,
          30.406026359720535,
          29.86890297772788,
          29.350424665483104,
          28.849637258666647,
          28.365650599872044
         ]
        },
        {
         "name": "d = 295 mm",
         "type": "scatter",
         "x": [
          1733.3333333333333,
          1560,
          1418.1818181818182,
          1300,
          1200,
          1114.2857142857144,
          1040,
          975,
          917.6470588235295,
          866.6666666666666,
          821.0526315789474,
          780,
          742.8571428571429,
          709.0909090909091,
          678.2608695652174,
          650,
          624,
          600,
          577.7777777777778,
          557.1428571428572,
          537.9310344827586,
          520,
          503.22580645161287,
          487.5,
          472.72727272727275,
          458.82352941176475,
          445.7142857142857,
          433.3333333333333,
          421.6216216216216,
          410.5263157894737,
          400.00000000000006,
          390,
          380.4878048780488,
          371.42857142857144,
          362.79069767441865,
          354.54545454545456,
          346.6666666666667,
          339.1304347826087,
          331.9148936170213,
          325,
          318.36734693877554,
          312,
          305.88235294117646,
          300,
          294.33962264150944,
          288.8888888888889,
          283.6363636363636,
          278.5714285714286,
          273.6842105263158,
          268.9655172413793,
          264.4067796610169
         ],
         "y": [
          204.87814491548906,
          185.50979738154612,
          169.47793172028608,
          155.9908315149626,
          144.48834164588527,
          134.56316192936032,
          125.91213216957605,
          118.30499897716645,
          111.56377072025819,
          105.54870289553894,
          100.14855883145323,
          95.27369934538652,
          90.85108784162044,
          86.8206192937079,
          83.13238135757015,
          79.74458287874064,
          76.62196758104737,
          73.73458541147133,
          71.05683091653583,
          68.56668333948295,
          66.24510075880453,
          64.07553304239401,
          62.04352730297046,
          60.13640599429161,
          58.34300251437523,
          56.65344268006454,
          55.05896305155479,
          53.551759057218064,
          52.12485736899533,
          50.77200812891594,
          49.487593516209486,
          48.266549836346634,
          47.10430085553516,
          45.99670053183368,
          44.939983633398924,
          43.93072300524516,
          42.965792463286235,
          42.042334469827324,
          41.157731886896606,
          40.30958321968516,
          39.495680857207255,
          38.71399189526185,
          37.962641191139795,
          37.23989635286783,
          36.544154410165405,
          35.87392995135618,
          35.227844541538715,
          34.60461726344217,
          34.003056244430475,
          33.4220510517701,
          32.860565854109325
         ]
        },
        {
         "name": "d = 335 mm",
         "type": "scatter",
         "x": [
          1733.3333333333333,
          1560,
          1418.1818181818182,
          1300,
          1200,
          1114.2857142857144,
          1040,
          975,
          917.6470588235295,
          866.6666666666666,
          821.0526315789474,
          780,
          742.8571428571429,
          709.0909090909091,
          678.2608695652174,
          650,
          624,
          600,
          577.7777777777778,
          557.1428571428572,
          537.9310344827586,
          520,
          503.22580645161287,
          487.5,
          472.72727272727275,
          458.82352941176475,
          445.7142857142857,
          433.3333333333333,
          421.6216216216216,
          410.5263157894737,
          400.00000000000006,
          390,
          380.4878048780488,
          371.42857142857144,
          362.79069767441865,
          354.54545454545456,
          346.6666666666667,
          339.1304347826087,
          331.9148936170213,
          325,
          318.36734693877554,
          312,
          305.88235294117646,
          300,
          294.33962264150944,
          288.8888888888889,
          283.6363636363636,
          278.5714285714286,
          273.6842105263158,
          268.9655172413793,
          264.4067796610169
         ],
         "y": [
          234.34481158215567,
          212.02979738154613,
          193.587022629377,
          178.0908315149626,
          164.88834164588528,
          153.5060190722174,
          143.59213216957605,
          134.87999897716645,
          127.16377072025819,
          120.28203622887226,
          114.10645356829532,
          108.53369934538652,
          103.47965927019187,
          98.87516474825335,
          94.66281614017885,
          90.79458287874066,
          87.22996758104738,
          83.93458541147133,
          80.87905313875805,
          78.03811191091152,
          75.38992834501143,
          72.91553304239402,
          70.59836601264787,
          68.4239059942916,
          66.37936615073886,
          64.45344268006455,
          62.63610590869763,
          60.918425723884724,
          59.29242493656291,
          57.75095549733699,
          56.28759351620949,
          54.89654983634664,
          53.57259353846199,
          52.31098624611939,
          51.107425493864035,
          49.95799573251789,
          48.859125796619566,
          47.80755186113167,
          46.80028507838597,
          45.834583219685165,
          44.90792575516644,
          44.01799189526185,
          43.16264119113979,
          42.339896352867825,
          41.54792799507107,
          40.78504106246729,
          40.049662723356896,
          39.34033154915645,
          38.655687823377846,
          37.99446484487354,
          37.355481108346616
         ]
        },
        {
         "name": "d = 375 mm",
         "type": "scatter",
         "x": [
          1733.3333333333333,
          1560,
          1418.1818181818182,
          1300,
          1200,
          1114.2857142857144,
          1040,
          975,
          917.6470588235295,
          866.6666666666666,
          821.0526315789474,
          780,
          742.8571428571429,
          709.0909090909091,
          678.2608695652174,
          650,
          624,
          600,
          577.7777777777778,
          557.1428571428572,
          537.9310344827586,
          520,
          503.22580645161287,
          487.5,
          472.72727272727275,
          458.82352941176475,
          445.7142857142857,
          433.3333333333333,
          421.6216216216216,
          410.5263157894737,
          400.00000000000006,
          390,
          380.4878048780488,
          371.42857142857144,
          362.79069767441865,
          354.54545454545456,
          346.6666666666667,
          339.1304347826087,
          331.9148936170213,
          325,
          318.36734693877554,
          312,
          305.88235294117646,
          300,
          294.33962264150944,
          288.8888888888889,
          283.6363636363636,
          278.5714285714286,
          273.6842105263158,
          268.9655172413793,
          264.4067796610169
         ],
         "y": [
          263.81147824882237,
          238.5497973815461,
          217.6961135384679,
          200.1908315149626,
          185.28834164588528,
          172.4488762150746,
          161.27213216957605,
          151.45499897716644,
          142.76377072025818,
          135.01536956220556,
          128.06434830513743,
          121.79369934538654,
          116.10823069876328,
          110.9297102027988,
          106.19325092278756,
          101.84458287874065,
          97.83796758104738,
          94.13458541147133,
          90.70127536098028,
          87.50954048234009,
          84.53475593121831,
          81.75553304239402,
          79.1532047223253,
          76.71140599429161,
          74.41572978710249,
          72.25344268006455,
          70.2132487658405,
          68.2850923905514,
          66.45999250413047,
          64.72990286575805,
          63.08759351620949,
          61.52654983634663,
          60.04088622138881,
          58.625271960405115,
          57.27486735432916,
          55.98526845979061,
          54.7524591299529,
          53.57276925243602,
          52.44283826987533,
          51.35958321968516,
          50.32017065312562,
          49.321991895261846,
          48.362641191139794,
          47.43989635286783,
          46.55170157997673,
          45.696152173578405,
          44.871480905175076,
          44.07604583487074,
          43.3083194023252,
          42.56687863797699,
          41.8503963625839
         ]
        }
       ],
       "layout": {
        "legend": {
         "tracegroupgap": 0
        },
        "margin": {
         "t": 60
        },
        "template": {
         "data": {
          "bar": [
           {
            "error_x": {
             "color": "#2a3f5f"
            },
            "error_y": {
             "color": "#2a3f5f"
            },
            "marker": {
             "line": {
              "color": "#E5ECF6",
              "width": 0.5
             }
            },
            "type": "bar"
           }
          ],
          "barpolar": [
           {
            "marker": {
             "line": {
              "color": "#E5ECF6",
              "width": 0.5
             }
            },
            "type": "barpolar"
           }
          ],
          "carpet": [
           {
            "aaxis": {
             "endlinecolor": "#2a3f5f",
             "gridcolor": "white",
             "linecolor": "white",
             "minorgridcolor": "white",
             "startlinecolor": "#2a3f5f"
            },
            "baxis": {
             "endlinecolor": "#2a3f5f",
             "gridcolor": "white",
             "linecolor": "white",
             "minorgridcolor": "white",
             "startlinecolor": "#2a3f5f"
            },
            "type": "carpet"
           }
          ],
          "choropleth": [
           {
            "colorbar": {
             "outlinewidth": 0,
             "ticks": ""
            },
            "type": "choropleth"
           }
          ],
          "contour": [
           {
            "colorbar": {
             "outlinewidth": 0,
             "ticks": ""
            },
            "colorscale": [
             [
              0,
              "#0d0887"
             ],
             [
              0.1111111111111111,
              "#46039f"
             ],
             [
              0.2222222222222222,
              "#7201a8"
             ],
             [
              0.3333333333333333,
              "#9c179e"
             ],
             [
              0.4444444444444444,
              "#bd3786"
             ],
             [
              0.5555555555555556,
              "#d8576b"
             ],
             [
              0.6666666666666666,
              "#ed7953"
             ],
             [
              0.7777777777777778,
              "#fb9f3a"
             ],
             [
              0.8888888888888888,
              "#fdca26"
             ],
             [
              1,
              "#f0f921"
             ]
            ],
            "type": "contour"
           }
          ],
          "contourcarpet": [
           {
            "colorbar": {
             "outlinewidth": 0,
             "ticks": ""
            },
            "type": "contourcarpet"
           }
          ],
          "heatmap": [
           {
            "colorbar": {
             "outlinewidth": 0,
             "ticks": ""
            },
            "colorscale": [
             [
              0,
              "#0d0887"
             ],
             [
              0.1111111111111111,
              "#46039f"
             ],
             [
              0.2222222222222222,
              "#7201a8"
             ],
             [
              0.3333333333333333,
              "#9c179e"
             ],
             [
              0.4444444444444444,
              "#bd3786"
             ],
             [
              0.5555555555555556,
              "#d8576b"
             ],
             [
              0.6666666666666666,
              "#ed7953"
             ],
             [
              0.7777777777777778,
              "#fb9f3a"
             ],
             [
              0.8888888888888888,
              "#fdca26"
             ],
             [
              1,
              "#f0f921"
             ]
            ],
            "type": "heatmap"
           }
          ],
          "heatmapgl": [
           {
            "colorbar": {
             "outlinewidth": 0,
             "ticks": ""
            },
            "colorscale": [
             [
              0,
              "#0d0887"
             ],
             [
              0.1111111111111111,
              "#46039f"
             ],
             [
              0.2222222222222222,
              "#7201a8"
             ],
             [
              0.3333333333333333,
              "#9c179e"
             ],
             [
              0.4444444444444444,
              "#bd3786"
             ],
             [
              0.5555555555555556,
              "#d8576b"
             ],
             [
              0.6666666666666666,
              "#ed7953"
             ],
             [
              0.7777777777777778,
              "#fb9f3a"
             ],
             [
              0.8888888888888888,
              "#fdca26"
             ],
             [
              1,
              "#f0f921"
             ]
            ],
            "type": "heatmapgl"
           }
          ],
          "histogram": [
           {
            "marker": {
             "colorbar": {
              "outlinewidth": 0,
              "ticks": ""
             }
            },
            "type": "histogram"
           }
          ],
          "histogram2d": [
           {
            "colorbar": {
             "outlinewidth": 0,
             "ticks": ""
            },
            "colorscale": [
             [
              0,
              "#0d0887"
             ],
             [
              0.1111111111111111,
              "#46039f"
             ],
             [
              0.2222222222222222,
              "#7201a8"
             ],
             [
              0.3333333333333333,
              "#9c179e"
             ],
             [
              0.4444444444444444,
              "#bd3786"
             ],
             [
              0.5555555555555556,
              "#d8576b"
             ],
             [
              0.6666666666666666,
              "#ed7953"
             ],
             [
              0.7777777777777778,
              "#fb9f3a"
             ],
             [
              0.8888888888888888,
              "#fdca26"
             ],
             [
              1,
              "#f0f921"
             ]
            ],
            "type": "histogram2d"
           }
          ],
          "histogram2dcontour": [
           {
            "colorbar": {
             "outlinewidth": 0,
             "ticks": ""
            },
            "colorscale": [
             [
              0,
              "#0d0887"
             ],
             [
              0.1111111111111111,
              "#46039f"
             ],
             [
              0.2222222222222222,
              "#7201a8"
             ],
             [
              0.3333333333333333,
              "#9c179e"
             ],
             [
              0.4444444444444444,
              "#bd3786"
             ],
             [
              0.5555555555555556,
              "#d8576b"
             ],
             [
              0.6666666666666666,
              "#ed7953"
             ],
             [
              0.7777777777777778,
              "#fb9f3a"
             ],
             [
              0.8888888888888888,
              "#fdca26"
             ],
             [
              1,
              "#f0f921"
             ]
            ],
            "type": "histogram2dcontour"
           }
          ],
          "mesh3d": [
           {
            "colorbar": {
             "outlinewidth": 0,
             "ticks": ""
            },
            "type": "mesh3d"
           }
          ],
          "parcoords": [
           {
            "line": {
             "colorbar": {
              "outlinewidth": 0,
              "ticks": ""
             }
            },
            "type": "parcoords"
           }
          ],
          "pie": [
           {
            "automargin": true,
            "type": "pie"
           }
          ],
          "scatter": [
           {
            "marker": {
             "colorbar": {
              "outlinewidth": 0,
              "ticks": ""
             }
            },
            "type": "scatter"
           }
          ],
          "scatter3d": [
           {
            "line": {
             "colorbar": {
              "outlinewidth": 0,
              "ticks": ""
             }
            },
            "marker": {
             "colorbar": {
              "outlinewidth": 0,
              "ticks": ""
             }
            },
            "type": "scatter3d"
           }
          ],
          "scattercarpet": [
           {
            "marker": {
             "colorbar": {
              "outlinewidth": 0,
              "ticks": ""
             }
            },
            "type": "scattercarpet"
           }
          ],
          "scattergeo": [
           {
            "marker": {
             "colorbar": {
              "outlinewidth": 0,
              "ticks": ""
             }
            },
            "type": "scattergeo"
           }
          ],
          "scattergl": [
           {
            "marker": {
             "colorbar": {
              "outlinewidth": 0,
              "ticks": ""
             }
            },
            "type": "scattergl"
           }
          ],
          "scattermapbox": [
           {
            "marker": {
             "colorbar": {
              "outlinewidth": 0,
              "ticks": ""
             }
            },
            "type": "scattermapbox"
           }
          ],
          "scatterpolar": [
           {
            "marker": {
             "colorbar": {
              "outlinewidth": 0,
              "ticks": ""
             }
            },
            "type": "scatterpolar"
           }
          ],
          "scatterpolargl": [
           {
            "marker": {
             "colorbar": {
              "outlinewidth": 0,
              "ticks": ""
             }
            },
            "type": "scatterpolargl"
           }
          ],
          "scatterternary": [
           {
            "marker": {
             "colorbar": {
              "outlinewidth": 0,
              "ticks": ""
             }
            },
            "type": "scatterternary"
           }
          ],
          "surface": [
           {
            "colorbar": {
             "outlinewidth": 0,
             "ticks": ""
            },
            "colorscale": [
             [
              0,
              "#0d0887"
             ],
             [
              0.1111111111111111,
              "#46039f"
             ],
             [
              0.2222222222222222,
              "#7201a8"
             ],
             [
              0.3333333333333333,
              "#9c179e"
             ],
             [
              0.4444444444444444,
              "#bd3786"
             ],
             [
              0.5555555555555556,
              "#d8576b"
             ],
             [
              0.6666666666666666,
              "#ed7953"
             ],
             [
              0.7777777777777778,
              "#fb9f3a"
             ],
             [
              0.8888888888888888,
              "#fdca26"
             ],
             [
              1,
              "#f0f921"
             ]
            ],
            "type": "surface"
           }
          ],
          "table": [
           {
            "cells": {
             "fill": {
              "color": "#EBF0F8"
             },
             "line": {
              "color": "white"
             }
            },
            "header": {
             "fill": {
              "color": "#C8D4E3"
             },
             "line": {
              "color": "white"
             }
            },
            "type": "table"
           }
          ]
         },
         "layout": {
          "annotationdefaults": {
           "arrowcolor": "#2a3f5f",
           "arrowhead": 0,
           "arrowwidth": 1
          },
          "autotypenumbers": "strict",
          "coloraxis": {
           "colorbar": {
            "outlinewidth": 0,
            "ticks": ""
           }
          },
          "colorscale": {
           "diverging": [
            [
             0,
             "#8e0152"
            ],
            [
             0.1,
             "#c51b7d"
            ],
            [
             0.2,
             "#de77ae"
            ],
            [
             0.3,
             "#f1b6da"
            ],
            [
             0.4,
             "#fde0ef"
            ],
            [
             0.5,
             "#f7f7f7"
            ],
            [
             0.6,
             "#e6f5d0"
            ],
            [
             0.7,
             "#b8e186"
            ],
            [
             0.8,
             "#7fbc41"
            ],
            [
             0.9,
             "#4d9221"
            ],
            [
             1,
             "#276419"
            ]
           ],
           "sequential": [
            [
             0,
             "#0d0887"
            ],
            [
             0.1111111111111111,
             "#46039f"
            ],
            [
             0.2222222222222222,
             "#7201a8"
            ],
            [
             0.3333333333333333,
             "#9c179e"
            ],
            [
             0.4444444444444444,
             "#bd3786"
            ],
            [
             0.5555555555555556,
             "#d8576b"
            ],
            [
             0.6666666666666666,
             "#ed7953"
            ],
            [
             0.7777777777777778,
             "#fb9f3a"
            ],
            [
             0.8888888888888888,
             "#fdca26"
            ],
            [
             1,
             "#f0f921"
            ]
           ],
           "sequentialminus": [
            [
             0,
             "#0d0887"
            ],
            [
             0.1111111111111111,
             "#46039f"
            ],
            [
             0.2222222222222222,
             "#7201a8"
            ],
            [
             0.3333333333333333,
             "#9c179e"
            ],
            [
             0.4444444444444444,
             "#bd3786"
            ],
            [
             0.5555555555555556,
             "#d8576b"
            ],
            [
             0.6666666666666666,
             "#ed7953"
            ],
            [
             0.7777777777777778,
             "#fb9f3a"
            ],
            [
             0.8888888888888888,
             "#fdca26"
            ],
            [
             1,
             "#f0f921"
            ]
           ]
          },
          "colorway": [
           "#636efa",
           "#EF553B",
           "#00cc96",
           "#ab63fa",
           "#FFA15A",
           "#19d3f3",
           "#FF6692",
           "#B6E880",
           "#FF97FF",
           "#FECB52"
          ],
          "font": {
           "color": "#2a3f5f"
          },
          "geo": {
           "bgcolor": "white",
           "lakecolor": "white",
           "landcolor": "#E5ECF6",
           "showlakes": true,
           "showland": true,
           "subunitcolor": "white"
          },
          "hoverlabel": {
           "align": "left"
          },
          "hovermode": "closest",
          "mapbox": {
           "style": "light"
          },
          "paper_bgcolor": "white",
          "plot_bgcolor": "#E5ECF6",
          "polar": {
           "angularaxis": {
            "gridcolor": "white",
            "linecolor": "white",
            "ticks": ""
           },
           "bgcolor": "#E5ECF6",
           "radialaxis": {
            "gridcolor": "white",
            "linecolor": "white",
            "ticks": ""
           }
          },
          "scene": {
           "xaxis": {
            "backgroundcolor": "#E5ECF6",
            "gridcolor": "white",
            "gridwidth": 2,
            "linecolor": "white",
            "showbackground": true,
            "ticks": "",
            "zerolinecolor": "white"
           },
           "yaxis": {
            "backgroundcolor": "#E5ECF6",
            "gridcolor": "white",
            "gridwidth": 2,
            "linecolor": "white",
            "showbackground": true,
            "ticks": "",
            "zerolinecolor": "white"
           },
           "zaxis": {
            "backgroundcolor": "#E5ECF6",
            "gridcolor": "white",
            "gridwidth": 2,
            "linecolor": "white",
            "showbackground": true,
            "ticks": "",
            "zerolinecolor": "white"
           }
          },
          "shapedefaults": {
           "line": {
            "color": "#2a3f5f"
           }
          },
          "ternary": {
           "aaxis": {
            "gridcolor": "white",
            "linecolor": "white",
            "ticks": ""
           },
           "baxis": {
            "gridcolor": "white",
            "linecolor": "white",
            "ticks": ""
           },
           "bgcolor": "#E5ECF6",
           "caxis": {
            "gridcolor": "white",
            "linecolor": "white",
            "ticks": ""
           }
          },
          "title": {
           "x": 0.05
          },
          "xaxis": {
           "automargin": true,
           "gridcolor": "white",
           "linecolor": "white",
           "ticks": "",
           "title": {
            "standoff": 15
           },
           "zerolinecolor": "white",
           "zerolinewidth": 2
          },
          "yaxis": {
           "automargin": true,
           "gridcolor": "white",
           "linecolor": "white",
           "ticks": "",
           "title": {
            "standoff": 15
           },
           "zerolinecolor": "white",
           "zerolinewidth": 2
          }
         }
        },
        "xaxis": {
         "anchor": "y",
         "domain": [
          0,
          1
         ]
        },
        "yaxis": {
         "anchor": "x",
         "domain": [
          0,
          1
         ]
        }
       }
      }
     },
     "metadata": {}
    },
    {
     "output_type": "display_data",
     "data": {
      "application/vnd.plotly.v1+json": {
       "config": {
        "plotlyServerURL": "https://plot.ly"
       },
       "data": [
        {
         "name": "d = 55 mm",
         "type": "scatter",
         "x": [
          1733.3333333333333,
          1560,
          1418.1818181818182,
          1300,
          1200,
          1114.2857142857144,
          1040,
          975,
          917.6470588235295,
          866.6666666666666,
          821.0526315789474,
          780,
          742.8571428571429,
          709.0909090909091,
          678.2608695652174,
          650,
          624,
          600,
          577.7777777777778,
          557.1428571428572,
          537.9310344827586,
          520,
          503.22580645161287,
          487.5,
          472.72727272727275,
          458.82352941176475,
          445.7142857142857,
          433.3333333333333,
          421.6216216216216,
          410.5263157894737,
          400.00000000000006,
          390,
          380.4878048780488,
          371.42857142857144,
          362.79069767441865,
          354.54545454545456,
          346.6666666666667,
          339.1304347826087,
          331.9148936170213,
          325,
          318.36734693877554,
          312,
          305.88235294117646,
          300,
          294.33962264150944,
          288.8888888888889,
          283.6363636363636,
          278.5714285714286,
          273.6842105263158,
          268.9655172413793,
          264.4067796610169
         ],
         "y": [
          21.4715225824328,
          20.180433291770573,
          18.982589497331055,
          18.698096009813206,
          18.777382854764642,
          18.681279285305614,
          18.46899869210053,
          18.180720413281243,
          17.84398759205387,
          17.14870289553893,
          16.40119041040059,
          15.713699345386532,
          15.079659270191867,
          14.493346566435152,
          13.949772661917983,
          13.444582878740647,
          12.973967581047381,
          12.534585411471323,
          12.12349758320249,
          11.738111910911499,
          11.376135241563155,
          11.035533042394015,
          10.714495044905943,
          10.411405994291615,
          10.124820696193401,
          9.853442680064546,
          9.596105908697645,
          9.351759057218066,
          9.119451963589928,
          8.89832391838962,
          8.687593516209477,
          8.486549836346633,
          8.294544757974188,
          8.110986246119394,
          7.935332470608228,
          7.767086641608788,
          7.605792463286229,
          7.451030122001234,
          7.30241273796044,
          7.159583219685163,
          7.0222114694521505,
          6.889991895261844,
          6.762641191139797,
          6.63989635286783,
          6.521512900731439,
          6.4072632846895115,
          6.296935450629624,
          6.190331549156447,
          6.087266770746265,
          5.987568293149409,
          5.89107432868561
         ]
        },
        {
         "name": "d = 95 mm",
         "type": "scatter",
         "x": [
          1733.3333333333333,
          1560,
          1418.1818181818182,
          1300,
          1200,
          1114.2857142857144,
          1040,
          975,
          917.6470588235295,
          866.6666666666666,
          821.0526315789474,
          780,
          742.8571428571429,
          709.0909090909091,
          678.2608695652174,
          650,
          624,
          600,
          577.7777777777778,
          557.1428571428572,
          537.9310344827586,
          520,
          503.22580645161287,
          487.5,
          472.72727272727275,
          458.82352941176475,
          445.7142857142857,
          433.3333333333333,
          421.6216216216216,
          410.5263157894737,
          400.00000000000006,
          390,
          380.4878048780488,
          371.42857142857144,
          362.79069767441865,
          354.54545454545456,
          346.6666666666667,
          339.1304347826087,
          331.9148936170213,
          325,
          318.36734693877554,
          312,
          305.88235294117646,
          300,
          294.33962264150944,
          288.8888888888889,
          283.6363636363636,
          278.5714285714286,
          273.6842105263158,
          268.9655172413793,
          264.4067796610169
         ],
         "y": [
          54.65474967915647,
          52.909797381546134,
          48.93247717483152,
          45.490831514962586,
          42.488341645885285,
          39.848876215074576,
          37.512132169576056,
          35.429998977166456,
          33.563770720258184,
          31.882036228872263,
          30.359085147242695,
          28.973699345386535,
          27.708230698763295,
          26.547892020980605,
          25.48020744452668,
          24.494582878740648,
          23.58196758104738,
          22.734585411471322,
          21.945719805424712,
          21.20954048234007,
          20.52096282777005,
          19.875533042394014,
          19.26933375458336,
          18.698905994291614,
          18.16118433255704,
          17.653442680064547,
          17.1732487658405,
          16.71842572388473,
          16.287019531157497,
          15.877271286810677,
          15.487593516209477,
          15.116549836346636,
          14.762837440901016,
          14.425271960405107,
          14.102774331073345,
          13.794359368881516,
          13.49912579661956,
          13.216247513305582,
          12.9449659294498,
          12.684583219685162,
          12.434456367411338,
          12.193991895261846,
          11.962641191139797,
          11.739896352867829,
          11.525286485637102,
          11.318374395800623,
          11.118753632447806,
          10.926045834870735,
          10.739898349693632,
          10.559982086252857,
          10.385989582922898
         ]
        },
        {
         "name": "d = 135 mm",
         "type": "scatter",
         "x": [
          1733.3333333333333,
          1560,
          1418.1818181818182,
          1300,
          1200,
          1114.2857142857144,
          1040,
          975,
          917.6470588235295,
          866.6666666666666,
          821.0526315789474,
          780,
          742.8571428571429,
          709.0909090909091,
          678.2608695652174,
          650,
          624,
          600,
          577.7777777777778,
          557.1428571428572,
          537.9310344827586,
          520,
          503.22580645161287,
          487.5,
          472.72727272727275,
          458.82352941176475,
          445.7142857142857,
          433.3333333333333,
          421.6216216216216,
          410.5263157894737,
          400.00000000000006,
          390,
          380.4878048780488,
          371.42857142857144,
          362.79069767441865,
          354.54545454545456,
          346.6666666666667,
          339.1304347826087,
          331.9148936170213,
          325,
          318.36734693877554,
          312,
          305.88235294117646,
          300,
          294.33962264150944,
          288.8888888888889,
          283.6363636363636,
          278.5714285714286,
          273.6842105263158,
          268.9655172413793,
          264.4067796610169
         ],
         "y": [
          87.01147824882239,
          79.42979738154612,
          73.04156808392243,
          67.59083151496259,
          62.88834164588528,
          58.79173335793171,
          55.19213216957606,
          52.00499897716646,
          49.16377072025818,
          46.61536956220559,
          44.3169798840848,
          42.23369934538653,
          40.33680212733472,
          38.60243747552607,
          37.01064222713537,
          35.54458287874065,
          34.18996758104739,
          32.93458541147132,
          31.767942027646942,
          30.680969053768646,
          29.665790413976943,
          28.715533042394014,
          27.82417246426078,
          26.986405994291612,
          26.19754796892067,
          25.453442680064544,
          24.750391622983358,
          24.085092390551402,
          23.454587098725064,
          22.85621865523173,
          22.287593516209476,
          21.746549836346627,
          21.23113012382785,
          20.739557674690822,
          20.27021619153846,
          19.821632096154246,
          19.392459129952897,
          18.981464904609933,
          18.58751912093916,
          18.20958321968516,
          17.84670126537052,
          17.497991895261844,
          17.162641191139798,
          16.839896352867832,
          16.529060070542762,
          16.229485506911736,
          15.940571814265988,
          15.66176012058502,
          15.392529928641,
          15.132395879356304,
          14.880904837160184
         ]
        },
        {
         "name": "d = 175 mm",
         "type": "scatter",
         "x": [
          1733.3333333333333,
          1560,
          1418.1818181818182,
          1300,
          1200,
          1114.2857142857144,
          1040,
          975,
          917.6470588235295,
          866.6666666666666,
          821.0526315789474,
          780,
          742.8571428571429,
          709.0909090909091,
          678.2608695652174,
          650,
          624,
          600,
          577.7777777777778,
          557.1428571428572,
          537.9310344827586,
          520,
          503.22580645161287,
          487.5,
          472.72727272727275,
          458.82352941176475,
          445.7142857142857,
          433.3333333333333,
          421.6216216216216,
          410.5263157894737,
          400.00000000000006,
          390,
          380.4878048780488,
          371.42857142857144,
          362.79069767441865,
          354.54545454545456,
          346.6666666666667,
          339.1304347826087,
          331.9148936170213,
          325,
          318.36734693877554,
          312,
          305.88235294117646,
          300,
          294.33962264150944,
          288.8888888888889,
          283.6363636363636,
          278.5714285714286,
          273.6842105263158,
          268.9655172413793,
          264.4067796610169
         ],
         "y": [
          116.47814491548905,
          105.94979738154615,
          97.15065899301332,
          89.6908315149626,
          83.28834164588528,
          77.73459050078887,
          72.87213216957606,
          68.57999897716645,
          64.7637707202582,
          61.34870289553892,
          58.274874620926916,
          55.49369934538653,
          52.96537355590615,
          50.65698293007152,
          48.541077009744065,
          46.59458287874065,
          44.79796758104739,
          43.13458541147132,
          41.59016424986916,
          40.15239762519722,
          38.81061800018385,
          37.55553304239401,
          36.379011173938196,
          35.27390599429161,
          34.233911605284305,
          33.253442680064545,
          32.32753448012622,
          31.451759057218066,
          30.622154666292627,
          29.83516602365278,
          29.08759351620948,
          28.37654983634663,
          27.699422806754676,
          27.053843388976535,
          26.437658052003574,
          25.848904823426974,
          25.285792463286228,
          24.74668229591428,
          24.230072312428522,
          23.734583219685163,
          23.258946163329707,
          22.801991895261843,
          22.362641191139797,
          21.939896352867834,
          21.53283365544842,
          21.140596618022844,
          20.76238999608417,
          20.397474406299306,
          20.045161507588368,
          19.70480967245975,
          19.375820091397472
         ]
        },
        {
         "name": "d = 215 mm",
         "type": "scatter",
         "x": [
          1733.3333333333333,
          1560,
          1418.1818181818182,
          1300,
          1200,
          1114.2857142857144,
          1040,
          975,
          917.6470588235295,
          866.6666666666666,
          821.0526315789474,
          780,
          742.8571428571429,
          709.0909090909091,
          678.2608695652174,
          650,
          624,
          600,
          577.7777777777778,
          557.1428571428572,
          537.9310344827586,
          520,
          503.22580645161287,
          487.5,
          472.72727272727275,
          458.82352941176475,
          445.7142857142857,
          433.3333333333333,
          421.6216216216216,
          410.5263157894737,
          400.00000000000006,
          390,
          380.4878048780488,
          371.42857142857144,
          362.79069767441865,
          354.54545454545456,
          346.6666666666667,
          339.1304347826087,
          331.9148936170213,
          325,
          318.36734693877554,
          312,
          305.88235294117646,
          300,
          294.33962264150944,
          288.8888888888889,
          283.6363636363636,
          278.5714285714286,
          273.6842105263158,
          268.9655172413793,
          264.4067796610169
         ],
         "y": [
          145.94481158215572,
          132.46979738154616,
          121.25974990210425,
          111.7908315149626,
          103.68834164588529,
          96.677447643646,
          90.55213216957605,
          85.15499897716646,
          80.36377072025819,
          76.08203622887225,
          72.23276935776902,
          68.75369934538654,
          65.59394498447757,
          62.71152838461697,
          60.071511792352766,
          57.644582878740636,
          55.405967581047385,
          53.334585411471316,
          51.412386472091384,
          49.62382619662579,
          47.95544558639074,
          46.395533042394014,
          44.933849883615615,
          43.56140599429161,
          42.27027524164795,
          41.05344268006455,
          39.90467733726908,
          38.81842572388473,
          37.78972223386019,
          36.81411339207383,
          35.88759351620948,
          35.006549836346636,
          34.167715489681505,
          33.368129103262255,
          32.605099912468695,
          31.8761775506997,
          31.179125796619562,
          30.511899687218627,
          29.87262550391788,
          29.25958321968516,
          28.67119106128889,
          28.105991895261845,
          27.562641191139797,
          27.03989635286783,
          26.536607240354083,
          26.05170772913396,
          25.58420817790235,
          25.133188692013594,
          24.69779308653574,
          24.2772234655632,
          23.87073534563476
         ]
        },
        {
         "name": "d = 255 mm",
         "type": "scatter",
         "x": [
          1733.3333333333333,
          1560,
          1418.1818181818182,
          1300,
          1200,
          1114.2857142857144,
          1040,
          975,
          917.6470588235295,
          866.6666666666666,
          821.0526315789474,
          780,
          742.8571428571429,
          709.0909090909091,
          678.2608695652174,
          650,
          624,
          600,
          577.7777777777778,
          557.1428571428572,
          537.9310344827586,
          520,
          503.22580645161287,
          487.5,
          472.72727272727275,
          458.82352941176475,
          445.7142857142857,
          433.3333333333333,
          421.6216216216216,
          410.5263157894737,
          400.00000000000006,
          390,
          380.4878048780488,
          371.42857142857144,
          362.79069767441865,
          354.54545454545456,
          346.6666666666667,
          339.1304347826087,
          331.9148936170213,
          325,
          318.36734693877554,
          312,
          305.88235294117646,
          300,
          294.33962264150944,
          288.8888888888889,
          283.6363636363636,
          278.5714285714286,
          273.6842105263158,
          268.9655172413793,
          264.4067796610169
         ],
         "y": [
          175.41147824882236,
          158.98979738154614,
          145.36884081119516,
          133.8908315149626,
          124.08834164588528,
          115.62030478650316,
          108.23213216957605,
          101.72999897716646,
          95.96377072025818,
          90.81536956220559,
          86.19066409461112,
          82.01369934538653,
          78.22251641304901,
          74.76607383916243,
          71.60194657496146,
          68.69458287874063,
          66.0139675810474,
          63.534585411471326,
          61.234608694313614,
          59.09525476805437,
          57.10027317259764,
          55.23553304239401,
          53.488688593293034,
          51.84890599429161,
          50.30663887801158,
          48.853442680064546,
          47.48182019441193,
          46.1850923905514,
          44.95728980142776,
          43.79306076049489,
          42.68759351620948,
          41.63654983634663,
          40.636008172608335,
          39.682414817547965,
          38.772541772933806,
          37.90345027797243,
          37.0724591299529,
          36.27711707852297,
          35.51517869540725,
          34.78458321968516,
          34.08343595924807,
          33.40999189526185,
          32.7626411911398,
          32.13989635286783,
          31.540380825259746,
          30.962818840245067,
          30.406026359720535,
          29.86890297772788,
          29.350424665483104,
          28.849637258666647,
          28.365650599872044
         ]
        },
        {
         "name": "d = 295 mm",
         "type": "scatter",
         "x": [
          1733.3333333333333,
          1560,
          1418.1818181818182,
          1300,
          1200,
          1114.2857142857144,
          1040,
          975,
          917.6470588235295,
          866.6666666666666,
          821.0526315789474,
          780,
          742.8571428571429,
          709.0909090909091,
          678.2608695652174,
          650,
          624,
          600,
          577.7777777777778,
          557.1428571428572,
          537.9310344827586,
          520,
          503.22580645161287,
          487.5,
          472.72727272727275,
          458.82352941176475,
          445.7142857142857,
          433.3333333333333,
          421.6216216216216,
          410.5263157894737,
          400.00000000000006,
          390,
          380.4878048780488,
          371.42857142857144,
          362.79069767441865,
          354.54545454545456,
          346.6666666666667,
          339.1304347826087,
          331.9148936170213,
          325,
          318.36734693877554,
          312,
          305.88235294117646,
          300,
          294.33962264150944,
          288.8888888888889,
          283.6363636363636,
          278.5714285714286,
          273.6842105263158,
          268.9655172413793,
          264.4067796610169
         ],
         "y": [
          204.87814491548906,
          185.50979738154612,
          169.47793172028608,
          155.9908315149626,
          144.48834164588527,
          134.56316192936032,
          125.91213216957605,
          118.30499897716645,
          111.56377072025819,
          105.54870289553894,
          100.14855883145323,
          95.27369934538652,
          90.85108784162044,
          86.8206192937079,
          83.13238135757015,
          79.74458287874064,
          76.62196758104737,
          73.73458541147133,
          71.05683091653583,
          68.56668333948295,
          66.24510075880453,
          64.07553304239401,
          62.04352730297046,
          60.13640599429161,
          58.34300251437523,
          56.65344268006454,
          55.05896305155479,
          53.551759057218064,
          52.12485736899533,
          50.77200812891594,
          49.487593516209486,
          48.266549836346634,
          47.10430085553516,
          45.99670053183368,
          44.939983633398924,
          43.93072300524516,
          42.965792463286235,
          42.042334469827324,
          41.157731886896606,
          40.30958321968516,
          39.495680857207255,
          38.71399189526185,
          37.962641191139795,
          37.23989635286783,
          36.544154410165405,
          35.87392995135618,
          35.227844541538715,
          34.60461726344217,
          34.003056244430475,
          33.4220510517701,
          32.860565854109325
         ]
        },
        {
         "name": "d = 335 mm",
         "type": "scatter",
         "x": [
          1733.3333333333333,
          1560,
          1418.1818181818182,
          1300,
          1200,
          1114.2857142857144,
          1040,
          975,
          917.6470588235295,
          866.6666666666666,
          821.0526315789474,
          780,
          742.8571428571429,
          709.0909090909091,
          678.2608695652174,
          650,
          624,
          600,
          577.7777777777778,
          557.1428571428572,
          537.9310344827586,
          520,
          503.22580645161287,
          487.5,
          472.72727272727275,
          458.82352941176475,
          445.7142857142857,
          433.3333333333333,
          421.6216216216216,
          410.5263157894737,
          400.00000000000006,
          390,
          380.4878048780488,
          371.42857142857144,
          362.79069767441865,
          354.54545454545456,
          346.6666666666667,
          339.1304347826087,
          331.9148936170213,
          325,
          318.36734693877554,
          312,
          305.88235294117646,
          300,
          294.33962264150944,
          288.8888888888889,
          283.6363636363636,
          278.5714285714286,
          273.6842105263158,
          268.9655172413793,
          264.4067796610169
         ],
         "y": [
          234.34481158215567,
          212.02979738154613,
          193.587022629377,
          178.0908315149626,
          164.88834164588528,
          153.5060190722174,
          143.59213216957605,
          134.87999897716645,
          127.16377072025819,
          120.28203622887226,
          114.10645356829532,
          108.53369934538652,
          103.47965927019187,
          98.87516474825335,
          94.66281614017885,
          90.79458287874066,
          87.22996758104738,
          83.93458541147133,
          80.87905313875805,
          78.03811191091152,
          75.38992834501143,
          72.91553304239402,
          70.59836601264787,
          68.4239059942916,
          66.37936615073886,
          64.45344268006455,
          62.63610590869763,
          60.918425723884724,
          59.29242493656291,
          57.75095549733699,
          56.28759351620949,
          54.89654983634664,
          53.57259353846199,
          52.31098624611939,
          51.107425493864035,
          49.95799573251789,
          48.859125796619566,
          47.80755186113167,
          46.80028507838597,
          45.834583219685165,
          44.90792575516644,
          44.01799189526185,
          43.16264119113979,
          42.339896352867825,
          41.54792799507107,
          40.78504106246729,
          40.049662723356896,
          39.34033154915645,
          38.655687823377846,
          37.99446484487354,
          37.355481108346616
         ]
        },
        {
         "name": "d = 375 mm",
         "type": "scatter",
         "x": [
          1733.3333333333333,
          1560,
          1418.1818181818182,
          1300,
          1200,
          1114.2857142857144,
          1040,
          975,
          917.6470588235295,
          866.6666666666666,
          821.0526315789474,
          780,
          742.8571428571429,
          709.0909090909091,
          678.2608695652174,
          650,
          624,
          600,
          577.7777777777778,
          557.1428571428572,
          537.9310344827586,
          520,
          503.22580645161287,
          487.5,
          472.72727272727275,
          458.82352941176475,
          445.7142857142857,
          433.3333333333333,
          421.6216216216216,
          410.5263157894737,
          400.00000000000006,
          390,
          380.4878048780488,
          371.42857142857144,
          362.79069767441865,
          354.54545454545456,
          346.6666666666667,
          339.1304347826087,
          331.9148936170213,
          325,
          318.36734693877554,
          312,
          305.88235294117646,
          300,
          294.33962264150944,
          288.8888888888889,
          283.6363636363636,
          278.5714285714286,
          273.6842105263158,
          268.9655172413793,
          264.4067796610169
         ],
         "y": [
          263.81147824882237,
          238.5497973815461,
          217.6961135384679,
          200.1908315149626,
          185.28834164588528,
          172.4488762150746,
          161.27213216957605,
          151.45499897716644,
          142.76377072025818,
          135.01536956220556,
          128.06434830513743,
          121.79369934538654,
          116.10823069876328,
          110.9297102027988,
          106.19325092278756,
          101.84458287874065,
          97.83796758104738,
          94.13458541147133,
          90.70127536098028,
          87.50954048234009,
          84.53475593121831,
          81.75553304239402,
          79.1532047223253,
          76.71140599429161,
          74.41572978710249,
          72.25344268006455,
          70.2132487658405,
          68.2850923905514,
          66.45999250413047,
          64.72990286575805,
          63.08759351620949,
          61.52654983634663,
          60.04088622138881,
          58.625271960405115,
          57.27486735432916,
          55.98526845979061,
          54.7524591299529,
          53.57276925243602,
          52.44283826987533,
          51.35958321968516,
          50.32017065312562,
          49.321991895261846,
          48.362641191139794,
          47.43989635286783,
          46.55170157997673,
          45.696152173578405,
          44.871480905175076,
          44.07604583487074,
          43.3083194023252,
          42.56687863797699,
          41.8503963625839
         ]
        },
        {
         "name": "d = 415 mm",
         "type": "scatter",
         "x": [
          1733.3333333333333,
          1560,
          1418.1818181818182,
          1300,
          1200,
          1114.2857142857144,
          1040,
          975,
          917.6470588235295,
          866.6666666666666,
          821.0526315789474,
          780,
          742.8571428571429,
          709.0909090909091,
          678.2608695652174,
          650,
          624,
          600,
          577.7777777777778,
          557.1428571428572,
          537.9310344827586,
          520,
          503.22580645161287,
          487.5,
          472.72727272727275,
          458.82352941176475,
          445.7142857142857,
          433.3333333333333,
          421.6216216216216,
          410.5263157894737,
          400.00000000000006,
          390,
          380.4878048780488,
          371.42857142857144,
          362.79069767441865,
          354.54545454545456,
          346.6666666666667,
          339.1304347826087,
          331.9148936170213,
          325,
          318.36734693877554,
          312,
          305.88235294117646,
          300,
          294.33962264150944,
          288.8888888888889,
          283.6363636363636,
          278.5714285714286,
          273.6842105263158,
          268.9655172413793,
          264.4067796610169
         ],
         "y": [
          293.27814491548907,
          265.0697973815461,
          241.8052044475588,
          222.2908315149626,
          205.68834164588526,
          191.39173335793174,
          178.95213216957606,
          168.02999897716643,
          158.36377072025817,
          149.7487028955389,
          142.02224304197955,
          135.05369934538655,
          128.73680212733473,
          122.98425565734426,
          117.72368570539625,
          112.89458287874065,
          108.44596758104737,
          104.33458541147132,
          100.5234975832025,
          96.98096905376866,
          93.67958351742521,
          90.59553304239402,
          87.7080434320027,
          84.9989059942916,
          82.45209342346612,
          80.05344268006456,
          77.79039162298335,
          75.65175905721806,
          73.62756007169803,
          71.7088502341791,
          69.88759351620949,
          68.15654983634663,
          66.50917890431565,
          64.93955767469083,
          63.44230921479427,
          62.01254118706333,
          60.64579246328624,
          59.33798664374037,
          58.08539146136469,
          56.88458321968517,
          55.732415551084806,
          54.62599189526185,
          53.56264119113979,
          52.53989635286783,
          51.55547516488238,
          50.607263284689516,
          49.69329908699326,
          48.81176012058503,
          47.96095098127258,
          47.13929243108045,
          46.34531161682119
         ]
        }
       ],
       "layout": {
        "legend": {
         "tracegroupgap": 0
        },
        "margin": {
         "t": 60
        },
        "template": {
         "data": {
          "bar": [
           {
            "error_x": {
             "color": "#2a3f5f"
            },
            "error_y": {
             "color": "#2a3f5f"
            },
            "marker": {
             "line": {
              "color": "#E5ECF6",
              "width": 0.5
             }
            },
            "type": "bar"
           }
          ],
          "barpolar": [
           {
            "marker": {
             "line": {
              "color": "#E5ECF6",
              "width": 0.5
             }
            },
            "type": "barpolar"
           }
          ],
          "carpet": [
           {
            "aaxis": {
             "endlinecolor": "#2a3f5f",
             "gridcolor": "white",
             "linecolor": "white",
             "minorgridcolor": "white",
             "startlinecolor": "#2a3f5f"
            },
            "baxis": {
             "endlinecolor": "#2a3f5f",
             "gridcolor": "white",
             "linecolor": "white",
             "minorgridcolor": "white",
             "startlinecolor": "#2a3f5f"
            },
            "type": "carpet"
           }
          ],
          "choropleth": [
           {
            "colorbar": {
             "outlinewidth": 0,
             "ticks": ""
            },
            "type": "choropleth"
           }
          ],
          "contour": [
           {
            "colorbar": {
             "outlinewidth": 0,
             "ticks": ""
            },
            "colorscale": [
             [
              0,
              "#0d0887"
             ],
             [
              0.1111111111111111,
              "#46039f"
             ],
             [
              0.2222222222222222,
              "#7201a8"
             ],
             [
              0.3333333333333333,
              "#9c179e"
             ],
             [
              0.4444444444444444,
              "#bd3786"
             ],
             [
              0.5555555555555556,
              "#d8576b"
             ],
             [
              0.6666666666666666,
              "#ed7953"
             ],
             [
              0.7777777777777778,
              "#fb9f3a"
             ],
             [
              0.8888888888888888,
              "#fdca26"
             ],
             [
              1,
              "#f0f921"
             ]
            ],
            "type": "contour"
           }
          ],
          "contourcarpet": [
           {
            "colorbar": {
             "outlinewidth": 0,
             "ticks": ""
            },
            "type": "contourcarpet"
           }
          ],
          "heatmap": [
           {
            "colorbar": {
             "outlinewidth": 0,
             "ticks": ""
            },
            "colorscale": [
             [
              0,
              "#0d0887"
             ],
             [
              0.1111111111111111,
              "#46039f"
             ],
             [
              0.2222222222222222,
              "#7201a8"
             ],
             [
              0.3333333333333333,
              "#9c179e"
             ],
             [
              0.4444444444444444,
              "#bd3786"
             ],
             [
              0.5555555555555556,
              "#d8576b"
             ],
             [
              0.6666666666666666,
              "#ed7953"
             ],
             [
              0.7777777777777778,
              "#fb9f3a"
             ],
             [
              0.8888888888888888,
              "#fdca26"
             ],
             [
              1,
              "#f0f921"
             ]
            ],
            "type": "heatmap"
           }
          ],
          "heatmapgl": [
           {
            "colorbar": {
             "outlinewidth": 0,
             "ticks": ""
            },
            "colorscale": [
             [
              0,
              "#0d0887"
             ],
             [
              0.1111111111111111,
              "#46039f"
             ],
             [
              0.2222222222222222,
              "#7201a8"
             ],
             [
              0.3333333333333333,
              "#9c179e"
             ],
             [
              0.4444444444444444,
              "#bd3786"
             ],
             [
              0.5555555555555556,
              "#d8576b"
             ],
             [
              0.6666666666666666,
              "#ed7953"
             ],
             [
              0.7777777777777778,
              "#fb9f3a"
             ],
             [
              0.8888888888888888,
              "#fdca26"
             ],
             [
              1,
              "#f0f921"
             ]
            ],
            "type": "heatmapgl"
           }
          ],
          "histogram": [
           {
            "marker": {
             "colorbar": {
              "outlinewidth": 0,
              "ticks": ""
             }
            },
            "type": "histogram"
           }
          ],
          "histogram2d": [
           {
            "colorbar": {
             "outlinewidth": 0,
             "ticks": ""
            },
            "colorscale": [
             [
              0,
              "#0d0887"
             ],
             [
              0.1111111111111111,
              "#46039f"
             ],
             [
              0.2222222222222222,
              "#7201a8"
             ],
             [
              0.3333333333333333,
              "#9c179e"
             ],
             [
              0.4444444444444444,
              "#bd3786"
             ],
             [
              0.5555555555555556,
              "#d8576b"
             ],
             [
              0.6666666666666666,
              "#ed7953"
             ],
             [
              0.7777777777777778,
              "#fb9f3a"
             ],
             [
              0.8888888888888888,
              "#fdca26"
             ],
             [
              1,
              "#f0f921"
             ]
            ],
            "type": "histogram2d"
           }
          ],
          "histogram2dcontour": [
           {
            "colorbar": {
             "outlinewidth": 0,
             "ticks": ""
            },
            "colorscale": [
             [
              0,
              "#0d0887"
             ],
             [
              0.1111111111111111,
              "#46039f"
             ],
             [
              0.2222222222222222,
              "#7201a8"
             ],
             [
              0.3333333333333333,
              "#9c179e"
             ],
             [
              0.4444444444444444,
              "#bd3786"
             ],
             [
              0.5555555555555556,
              "#d8576b"
             ],
             [
              0.6666666666666666,
              "#ed7953"
             ],
             [
              0.7777777777777778,
              "#fb9f3a"
             ],
             [
              0.8888888888888888,
              "#fdca26"
             ],
             [
              1,
              "#f0f921"
             ]
            ],
            "type": "histogram2dcontour"
           }
          ],
          "mesh3d": [
           {
            "colorbar": {
             "outlinewidth": 0,
             "ticks": ""
            },
            "type": "mesh3d"
           }
          ],
          "parcoords": [
           {
            "line": {
             "colorbar": {
              "outlinewidth": 0,
              "ticks": ""
             }
            },
            "type": "parcoords"
           }
          ],
          "pie": [
           {
            "automargin": true,
            "type": "pie"
           }
          ],
          "scatter": [
           {
            "marker": {
             "colorbar": {
              "outlinewidth": 0,
              "ticks": ""
             }
            },
            "type": "scatter"
           }
          ],
          "scatter3d": [
           {
            "line": {
             "colorbar": {
              "outlinewidth": 0,
              "ticks": ""
             }
            },
            "marker": {
             "colorbar": {
              "outlinewidth": 0,
              "ticks": ""
             }
            },
            "type": "scatter3d"
           }
          ],
          "scattercarpet": [
           {
            "marker": {
             "colorbar": {
              "outlinewidth": 0,
              "ticks": ""
             }
            },
            "type": "scattercarpet"
           }
          ],
          "scattergeo": [
           {
            "marker": {
             "colorbar": {
              "outlinewidth": 0,
              "ticks": ""
             }
            },
            "type": "scattergeo"
           }
          ],
          "scattergl": [
           {
            "marker": {
             "colorbar": {
              "outlinewidth": 0,
              "ticks": ""
             }
            },
            "type": "scattergl"
           }
          ],
          "scattermapbox": [
           {
            "marker": {
             "colorbar": {
              "outlinewidth": 0,
              "ticks": ""
             }
            },
            "type": "scattermapbox"
           }
          ],
          "scatterpolar": [
           {
            "marker": {
             "colorbar": {
              "outlinewidth": 0,
              "ticks": ""
             }
            },
            "type": "scatterpolar"
           }
          ],
          "scatterpolargl": [
           {
            "marker": {
             "colorbar": {
              "outlinewidth": 0,
              "ticks": ""
             }
            },
            "type": "scatterpolargl"
           }
          ],
          "scatterternary": [
           {
            "marker": {
             "colorbar": {
              "outlinewidth": 0,
              "ticks": ""
             }
            },
            "type": "scatterternary"
           }
          ],
          "surface": [
           {
            "colorbar": {
             "outlinewidth": 0,
             "ticks": ""
            },
            "colorscale": [
             [
              0,
              "#0d0887"
             ],
             [
              0.1111111111111111,
              "#46039f"
             ],
             [
              0.2222222222222222,
              "#7201a8"
             ],
             [
              0.3333333333333333,
              "#9c179e"
             ],
             [
              0.4444444444444444,
              "#bd3786"
             ],
             [
              0.5555555555555556,
              "#d8576b"
             ],
             [
              0.6666666666666666,
              "#ed7953"
             ],
             [
              0.7777777777777778,
              "#fb9f3a"
             ],
             [
              0.8888888888888888,
              "#fdca26"
             ],
             [
              1,
              "#f0f921"
             ]
            ],
            "type": "surface"
           }
          ],
          "table": [
           {
            "cells": {
             "fill": {
              "color": "#EBF0F8"
             },
             "line": {
              "color": "white"
             }
            },
            "header": {
             "fill": {
              "color": "#C8D4E3"
             },
             "line": {
              "color": "white"
             }
            },
            "type": "table"
           }
          ]
         },
         "layout": {
          "annotationdefaults": {
           "arrowcolor": "#2a3f5f",
           "arrowhead": 0,
           "arrowwidth": 1
          },
          "autotypenumbers": "strict",
          "coloraxis": {
           "colorbar": {
            "outlinewidth": 0,
            "ticks": ""
           }
          },
          "colorscale": {
           "diverging": [
            [
             0,
             "#8e0152"
            ],
            [
             0.1,
             "#c51b7d"
            ],
            [
             0.2,
             "#de77ae"
            ],
            [
             0.3,
             "#f1b6da"
            ],
            [
             0.4,
             "#fde0ef"
            ],
            [
             0.5,
             "#f7f7f7"
            ],
            [
             0.6,
             "#e6f5d0"
            ],
            [
             0.7,
             "#b8e186"
            ],
            [
             0.8,
             "#7fbc41"
            ],
            [
             0.9,
             "#4d9221"
            ],
            [
             1,
             "#276419"
            ]
           ],
           "sequential": [
            [
             0,
             "#0d0887"
            ],
            [
             0.1111111111111111,
             "#46039f"
            ],
            [
             0.2222222222222222,
             "#7201a8"
            ],
            [
             0.3333333333333333,
             "#9c179e"
            ],
            [
             0.4444444444444444,
             "#bd3786"
            ],
            [
             0.5555555555555556,
             "#d8576b"
            ],
            [
             0.6666666666666666,
             "#ed7953"
            ],
            [
             0.7777777777777778,
             "#fb9f3a"
            ],
            [
             0.8888888888888888,
             "#fdca26"
            ],
            [
             1,
             "#f0f921"
            ]
           ],
           "sequentialminus": [
            [
             0,
             "#0d0887"
            ],
            [
             0.1111111111111111,
             "#46039f"
            ],
            [
             0.2222222222222222,
             "#7201a8"
            ],
            [
             0.3333333333333333,
             "#9c179e"
            ],
            [
             0.4444444444444444,
             "#bd3786"
            ],
            [
             0.5555555555555556,
             "#d8576b"
            ],
            [
             0.6666666666666666,
             "#ed7953"
            ],
            [
             0.7777777777777778,
             "#fb9f3a"
            ],
            [
             0.8888888888888888,
             "#fdca26"
            ],
            [
             1,
             "#f0f921"
            ]
           ]
          },
          "colorway": [
           "#636efa",
           "#EF553B",
           "#00cc96",
           "#ab63fa",
           "#FFA15A",
           "#19d3f3",
           "#FF6692",
           "#B6E880",
           "#FF97FF",
           "#FECB52"
          ],
          "font": {
           "color": "#2a3f5f"
          },
          "geo": {
           "bgcolor": "white",
           "lakecolor": "white",
           "landcolor": "#E5ECF6",
           "showlakes": true,
           "showland": true,
           "subunitcolor": "white"
          },
          "hoverlabel": {
           "align": "left"
          },
          "hovermode": "closest",
          "mapbox": {
           "style": "light"
          },
          "paper_bgcolor": "white",
          "plot_bgcolor": "#E5ECF6",
          "polar": {
           "angularaxis": {
            "gridcolor": "white",
            "linecolor": "white",
            "ticks": ""
           },
           "bgcolor": "#E5ECF6",
           "radialaxis": {
            "gridcolor": "white",
            "linecolor": "white",
            "ticks": ""
           }
          },
          "scene": {
           "xaxis": {
            "backgroundcolor": "#E5ECF6",
            "gridcolor": "white",
            "gridwidth": 2,
            "linecolor": "white",
            "showbackground": true,
            "ticks": "",
            "zerolinecolor": "white"
           },
           "yaxis": {
            "backgroundcolor": "#E5ECF6",
            "gridcolor": "white",
            "gridwidth": 2,
            "linecolor": "white",
            "showbackground": true,
            "ticks": "",
            "zerolinecolor": "white"
           },
           "zaxis": {
            "backgroundcolor": "#E5ECF6",
            "gridcolor": "white",
            "gridwidth": 2,
            "linecolor": "white",
            "showbackground": true,
            "ticks": "",
            "zerolinecolor": "white"
           }
          },
          "shapedefaults": {
           "line": {
            "color": "#2a3f5f"
           }
          },
          "ternary": {
           "aaxis": {
            "gridcolor": "white",
            "linecolor": "white",
            "ticks": ""
           },
           "baxis": {
            "gridcolor": "white",
            "linecolor": "white",
            "ticks": ""
           },
           "bgcolor": "#E5ECF6",
           "caxis": {
            "gridcolor": "white",
            "linecolor": "white",
            "ticks": ""
           }
          },
          "title": {
           "x": 0.05
          },
          "xaxis": {
           "automargin": true,
           "gridcolor": "white",
           "linecolor": "white",
           "ticks": "",
           "title": {
            "standoff": 15
           },
           "zerolinecolor": "white",
           "zerolinewidth": 2
          },
          "yaxis": {
           "automargin": true,
           "gridcolor": "white",
           "linecolor": "white",
           "ticks": "",
           "title": {
            "standoff": 15
           },
           "zerolinecolor": "white",
           "zerolinewidth": 2
          }
         }
        },
        "xaxis": {
         "anchor": "y",
         "domain": [
          0,
          1
         ]
        },
        "yaxis": {
         "anchor": "x",
         "domain": [
          0,
          1
         ]
        }
       }
      }
     },
     "metadata": {}
    },
    {
     "output_type": "display_data",
     "data": {
      "application/vnd.plotly.v1+json": {
       "config": {
        "plotlyServerURL": "https://plot.ly"
       },
       "data": [
        {
         "name": "d = 55 mm",
         "type": "scatter",
         "x": [
          1733.3333333333333,
          1560,
          1418.1818181818182,
          1300,
          1200,
          1114.2857142857144,
          1040,
          975,
          917.6470588235295,
          866.6666666666666,
          821.0526315789474,
          780,
          742.8571428571429,
          709.0909090909091,
          678.2608695652174,
          650,
          624,
          600,
          577.7777777777778,
          557.1428571428572,
          537.9310344827586,
          520,
          503.22580645161287,
          487.5,
          472.72727272727275,
          458.82352941176475,
          445.7142857142857,
          433.3333333333333,
          421.6216216216216,
          410.5263157894737,
          400.00000000000006,
          390,
          380.4878048780488,
          371.42857142857144,
          362.79069767441865,
          354.54545454545456,
          346.6666666666667,
          339.1304347826087,
          331.9148936170213,
          325,
          318.36734693877554,
          312,
          305.88235294117646,
          300,
          294.33962264150944,
          288.8888888888889,
          283.6363636363636,
          278.5714285714286,
          273.6842105263158,
          268.9655172413793,
          264.4067796610169
         ],
         "y": [
          21.4715225824328,
          20.180433291770573,
          18.982589497331055,
          18.698096009813206,
          18.777382854764642,
          18.681279285305614,
          18.46899869210053,
          18.180720413281243,
          17.84398759205387,
          17.14870289553893,
          16.40119041040059,
          15.713699345386532,
          15.079659270191867,
          14.493346566435152,
          13.949772661917983,
          13.444582878740647,
          12.973967581047381,
          12.534585411471323,
          12.12349758320249,
          11.738111910911499,
          11.376135241563155,
          11.035533042394015,
          10.714495044905943,
          10.411405994291615,
          10.124820696193401,
          9.853442680064546,
          9.596105908697645,
          9.351759057218066,
          9.119451963589928,
          8.89832391838962,
          8.687593516209477,
          8.486549836346633,
          8.294544757974188,
          8.110986246119394,
          7.935332470608228,
          7.767086641608788,
          7.605792463286229,
          7.451030122001234,
          7.30241273796044,
          7.159583219685163,
          7.0222114694521505,
          6.889991895261844,
          6.762641191139797,
          6.63989635286783,
          6.521512900731439,
          6.4072632846895115,
          6.296935450629624,
          6.190331549156447,
          6.087266770746265,
          5.987568293149409,
          5.89107432868561
         ]
        },
        {
         "name": "d = 95 mm",
         "type": "scatter",
         "x": [
          1733.3333333333333,
          1560,
          1418.1818181818182,
          1300,
          1200,
          1114.2857142857144,
          1040,
          975,
          917.6470588235295,
          866.6666666666666,
          821.0526315789474,
          780,
          742.8571428571429,
          709.0909090909091,
          678.2608695652174,
          650,
          624,
          600,
          577.7777777777778,
          557.1428571428572,
          537.9310344827586,
          520,
          503.22580645161287,
          487.5,
          472.72727272727275,
          458.82352941176475,
          445.7142857142857,
          433.3333333333333,
          421.6216216216216,
          410.5263157894737,
          400.00000000000006,
          390,
          380.4878048780488,
          371.42857142857144,
          362.79069767441865,
          354.54545454545456,
          346.6666666666667,
          339.1304347826087,
          331.9148936170213,
          325,
          318.36734693877554,
          312,
          305.88235294117646,
          300,
          294.33962264150944,
          288.8888888888889,
          283.6363636363636,
          278.5714285714286,
          273.6842105263158,
          268.9655172413793,
          264.4067796610169
         ],
         "y": [
          54.65474967915647,
          52.909797381546134,
          48.93247717483152,
          45.490831514962586,
          42.488341645885285,
          39.848876215074576,
          37.512132169576056,
          35.429998977166456,
          33.563770720258184,
          31.882036228872263,
          30.359085147242695,
          28.973699345386535,
          27.708230698763295,
          26.547892020980605,
          25.48020744452668,
          24.494582878740648,
          23.58196758104738,
          22.734585411471322,
          21.945719805424712,
          21.20954048234007,
          20.52096282777005,
          19.875533042394014,
          19.26933375458336,
          18.698905994291614,
          18.16118433255704,
          17.653442680064547,
          17.1732487658405,
          16.71842572388473,
          16.287019531157497,
          15.877271286810677,
          15.487593516209477,
          15.116549836346636,
          14.762837440901016,
          14.425271960405107,
          14.102774331073345,
          13.794359368881516,
          13.49912579661956,
          13.216247513305582,
          12.9449659294498,
          12.684583219685162,
          12.434456367411338,
          12.193991895261846,
          11.962641191139797,
          11.739896352867829,
          11.525286485637102,
          11.318374395800623,
          11.118753632447806,
          10.926045834870735,
          10.739898349693632,
          10.559982086252857,
          10.385989582922898
         ]
        },
        {
         "name": "d = 135 mm",
         "type": "scatter",
         "x": [
          1733.3333333333333,
          1560,
          1418.1818181818182,
          1300,
          1200,
          1114.2857142857144,
          1040,
          975,
          917.6470588235295,
          866.6666666666666,
          821.0526315789474,
          780,
          742.8571428571429,
          709.0909090909091,
          678.2608695652174,
          650,
          624,
          600,
          577.7777777777778,
          557.1428571428572,
          537.9310344827586,
          520,
          503.22580645161287,
          487.5,
          472.72727272727275,
          458.82352941176475,
          445.7142857142857,
          433.3333333333333,
          421.6216216216216,
          410.5263157894737,
          400.00000000000006,
          390,
          380.4878048780488,
          371.42857142857144,
          362.79069767441865,
          354.54545454545456,
          346.6666666666667,
          339.1304347826087,
          331.9148936170213,
          325,
          318.36734693877554,
          312,
          305.88235294117646,
          300,
          294.33962264150944,
          288.8888888888889,
          283.6363636363636,
          278.5714285714286,
          273.6842105263158,
          268.9655172413793,
          264.4067796610169
         ],
         "y": [
          87.01147824882239,
          79.42979738154612,
          73.04156808392243,
          67.59083151496259,
          62.88834164588528,
          58.79173335793171,
          55.19213216957606,
          52.00499897716646,
          49.16377072025818,
          46.61536956220559,
          44.3169798840848,
          42.23369934538653,
          40.33680212733472,
          38.60243747552607,
          37.01064222713537,
          35.54458287874065,
          34.18996758104739,
          32.93458541147132,
          31.767942027646942,
          30.680969053768646,
          29.665790413976943,
          28.715533042394014,
          27.82417246426078,
          26.986405994291612,
          26.19754796892067,
          25.453442680064544,
          24.750391622983358,
          24.085092390551402,
          23.454587098725064,
          22.85621865523173,
          22.287593516209476,
          21.746549836346627,
          21.23113012382785,
          20.739557674690822,
          20.27021619153846,
          19.821632096154246,
          19.392459129952897,
          18.981464904609933,
          18.58751912093916,
          18.20958321968516,
          17.84670126537052,
          17.497991895261844,
          17.162641191139798,
          16.839896352867832,
          16.529060070542762,
          16.229485506911736,
          15.940571814265988,
          15.66176012058502,
          15.392529928641,
          15.132395879356304,
          14.880904837160184
         ]
        },
        {
         "name": "d = 175 mm",
         "type": "scatter",
         "x": [
          1733.3333333333333,
          1560,
          1418.1818181818182,
          1300,
          1200,
          1114.2857142857144,
          1040,
          975,
          917.6470588235295,
          866.6666666666666,
          821.0526315789474,
          780,
          742.8571428571429,
          709.0909090909091,
          678.2608695652174,
          650,
          624,
          600,
          577.7777777777778,
          557.1428571428572,
          537.9310344827586,
          520,
          503.22580645161287,
          487.5,
          472.72727272727275,
          458.82352941176475,
          445.7142857142857,
          433.3333333333333,
          421.6216216216216,
          410.5263157894737,
          400.00000000000006,
          390,
          380.4878048780488,
          371.42857142857144,
          362.79069767441865,
          354.54545454545456,
          346.6666666666667,
          339.1304347826087,
          331.9148936170213,
          325,
          318.36734693877554,
          312,
          305.88235294117646,
          300,
          294.33962264150944,
          288.8888888888889,
          283.6363636363636,
          278.5714285714286,
          273.6842105263158,
          268.9655172413793,
          264.4067796610169
         ],
         "y": [
          116.47814491548905,
          105.94979738154615,
          97.15065899301332,
          89.6908315149626,
          83.28834164588528,
          77.73459050078887,
          72.87213216957606,
          68.57999897716645,
          64.7637707202582,
          61.34870289553892,
          58.274874620926916,
          55.49369934538653,
          52.96537355590615,
          50.65698293007152,
          48.541077009744065,
          46.59458287874065,
          44.79796758104739,
          43.13458541147132,
          41.59016424986916,
          40.15239762519722,
          38.81061800018385,
          37.55553304239401,
          36.379011173938196,
          35.27390599429161,
          34.233911605284305,
          33.253442680064545,
          32.32753448012622,
          31.451759057218066,
          30.622154666292627,
          29.83516602365278,
          29.08759351620948,
          28.37654983634663,
          27.699422806754676,
          27.053843388976535,
          26.437658052003574,
          25.848904823426974,
          25.285792463286228,
          24.74668229591428,
          24.230072312428522,
          23.734583219685163,
          23.258946163329707,
          22.801991895261843,
          22.362641191139797,
          21.939896352867834,
          21.53283365544842,
          21.140596618022844,
          20.76238999608417,
          20.397474406299306,
          20.045161507588368,
          19.70480967245975,
          19.375820091397472
         ]
        },
        {
         "name": "d = 215 mm",
         "type": "scatter",
         "x": [
          1733.3333333333333,
          1560,
          1418.1818181818182,
          1300,
          1200,
          1114.2857142857144,
          1040,
          975,
          917.6470588235295,
          866.6666666666666,
          821.0526315789474,
          780,
          742.8571428571429,
          709.0909090909091,
          678.2608695652174,
          650,
          624,
          600,
          577.7777777777778,
          557.1428571428572,
          537.9310344827586,
          520,
          503.22580645161287,
          487.5,
          472.72727272727275,
          458.82352941176475,
          445.7142857142857,
          433.3333333333333,
          421.6216216216216,
          410.5263157894737,
          400.00000000000006,
          390,
          380.4878048780488,
          371.42857142857144,
          362.79069767441865,
          354.54545454545456,
          346.6666666666667,
          339.1304347826087,
          331.9148936170213,
          325,
          318.36734693877554,
          312,
          305.88235294117646,
          300,
          294.33962264150944,
          288.8888888888889,
          283.6363636363636,
          278.5714285714286,
          273.6842105263158,
          268.9655172413793,
          264.4067796610169
         ],
         "y": [
          145.94481158215572,
          132.46979738154616,
          121.25974990210425,
          111.7908315149626,
          103.68834164588529,
          96.677447643646,
          90.55213216957605,
          85.15499897716646,
          80.36377072025819,
          76.08203622887225,
          72.23276935776902,
          68.75369934538654,
          65.59394498447757,
          62.71152838461697,
          60.071511792352766,
          57.644582878740636,
          55.405967581047385,
          53.334585411471316,
          51.412386472091384,
          49.62382619662579,
          47.95544558639074,
          46.395533042394014,
          44.933849883615615,
          43.56140599429161,
          42.27027524164795,
          41.05344268006455,
          39.90467733726908,
          38.81842572388473,
          37.78972223386019,
          36.81411339207383,
          35.88759351620948,
          35.006549836346636,
          34.167715489681505,
          33.368129103262255,
          32.605099912468695,
          31.8761775506997,
          31.179125796619562,
          30.511899687218627,
          29.87262550391788,
          29.25958321968516,
          28.67119106128889,
          28.105991895261845,
          27.562641191139797,
          27.03989635286783,
          26.536607240354083,
          26.05170772913396,
          25.58420817790235,
          25.133188692013594,
          24.69779308653574,
          24.2772234655632,
          23.87073534563476
         ]
        },
        {
         "name": "d = 255 mm",
         "type": "scatter",
         "x": [
          1733.3333333333333,
          1560,
          1418.1818181818182,
          1300,
          1200,
          1114.2857142857144,
          1040,
          975,
          917.6470588235295,
          866.6666666666666,
          821.0526315789474,
          780,
          742.8571428571429,
          709.0909090909091,
          678.2608695652174,
          650,
          624,
          600,
          577.7777777777778,
          557.1428571428572,
          537.9310344827586,
          520,
          503.22580645161287,
          487.5,
          472.72727272727275,
          458.82352941176475,
          445.7142857142857,
          433.3333333333333,
          421.6216216216216,
          410.5263157894737,
          400.00000000000006,
          390,
          380.4878048780488,
          371.42857142857144,
          362.79069767441865,
          354.54545454545456,
          346.6666666666667,
          339.1304347826087,
          331.9148936170213,
          325,
          318.36734693877554,
          312,
          305.88235294117646,
          300,
          294.33962264150944,
          288.8888888888889,
          283.6363636363636,
          278.5714285714286,
          273.6842105263158,
          268.9655172413793,
          264.4067796610169
         ],
         "y": [
          175.41147824882236,
          158.98979738154614,
          145.36884081119516,
          133.8908315149626,
          124.08834164588528,
          115.62030478650316,
          108.23213216957605,
          101.72999897716646,
          95.96377072025818,
          90.81536956220559,
          86.19066409461112,
          82.01369934538653,
          78.22251641304901,
          74.76607383916243,
          71.60194657496146,
          68.69458287874063,
          66.0139675810474,
          63.534585411471326,
          61.234608694313614,
          59.09525476805437,
          57.10027317259764,
          55.23553304239401,
          53.488688593293034,
          51.84890599429161,
          50.30663887801158,
          48.853442680064546,
          47.48182019441193,
          46.1850923905514,
          44.95728980142776,
          43.79306076049489,
          42.68759351620948,
          41.63654983634663,
          40.636008172608335,
          39.682414817547965,
          38.772541772933806,
          37.90345027797243,
          37.0724591299529,
          36.27711707852297,
          35.51517869540725,
          34.78458321968516,
          34.08343595924807,
          33.40999189526185,
          32.7626411911398,
          32.13989635286783,
          31.540380825259746,
          30.962818840245067,
          30.406026359720535,
          29.86890297772788,
          29.350424665483104,
          28.849637258666647,
          28.365650599872044
         ]
        },
        {
         "name": "d = 295 mm",
         "type": "scatter",
         "x": [
          1733.3333333333333,
          1560,
          1418.1818181818182,
          1300,
          1200,
          1114.2857142857144,
          1040,
          975,
          917.6470588235295,
          866.6666666666666,
          821.0526315789474,
          780,
          742.8571428571429,
          709.0909090909091,
          678.2608695652174,
          650,
          624,
          600,
          577.7777777777778,
          557.1428571428572,
          537.9310344827586,
          520,
          503.22580645161287,
          487.5,
          472.72727272727275,
          458.82352941176475,
          445.7142857142857,
          433.3333333333333,
          421.6216216216216,
          410.5263157894737,
          400.00000000000006,
          390,
          380.4878048780488,
          371.42857142857144,
          362.79069767441865,
          354.54545454545456,
          346.6666666666667,
          339.1304347826087,
          331.9148936170213,
          325,
          318.36734693877554,
          312,
          305.88235294117646,
          300,
          294.33962264150944,
          288.8888888888889,
          283.6363636363636,
          278.5714285714286,
          273.6842105263158,
          268.9655172413793,
          264.4067796610169
         ],
         "y": [
          204.87814491548906,
          185.50979738154612,
          169.47793172028608,
          155.9908315149626,
          144.48834164588527,
          134.56316192936032,
          125.91213216957605,
          118.30499897716645,
          111.56377072025819,
          105.54870289553894,
          100.14855883145323,
          95.27369934538652,
          90.85108784162044,
          86.8206192937079,
          83.13238135757015,
          79.74458287874064,
          76.62196758104737,
          73.73458541147133,
          71.05683091653583,
          68.56668333948295,
          66.24510075880453,
          64.07553304239401,
          62.04352730297046,
          60.13640599429161,
          58.34300251437523,
          56.65344268006454,
          55.05896305155479,
          53.551759057218064,
          52.12485736899533,
          50.77200812891594,
          49.487593516209486,
          48.266549836346634,
          47.10430085553516,
          45.99670053183368,
          44.939983633398924,
          43.93072300524516,
          42.965792463286235,
          42.042334469827324,
          41.157731886896606,
          40.30958321968516,
          39.495680857207255,
          38.71399189526185,
          37.962641191139795,
          37.23989635286783,
          36.544154410165405,
          35.87392995135618,
          35.227844541538715,
          34.60461726344217,
          34.003056244430475,
          33.4220510517701,
          32.860565854109325
         ]
        },
        {
         "name": "d = 335 mm",
         "type": "scatter",
         "x": [
          1733.3333333333333,
          1560,
          1418.1818181818182,
          1300,
          1200,
          1114.2857142857144,
          1040,
          975,
          917.6470588235295,
          866.6666666666666,
          821.0526315789474,
          780,
          742.8571428571429,
          709.0909090909091,
          678.2608695652174,
          650,
          624,
          600,
          577.7777777777778,
          557.1428571428572,
          537.9310344827586,
          520,
          503.22580645161287,
          487.5,
          472.72727272727275,
          458.82352941176475,
          445.7142857142857,
          433.3333333333333,
          421.6216216216216,
          410.5263157894737,
          400.00000000000006,
          390,
          380.4878048780488,
          371.42857142857144,
          362.79069767441865,
          354.54545454545456,
          346.6666666666667,
          339.1304347826087,
          331.9148936170213,
          325,
          318.36734693877554,
          312,
          305.88235294117646,
          300,
          294.33962264150944,
          288.8888888888889,
          283.6363636363636,
          278.5714285714286,
          273.6842105263158,
          268.9655172413793,
          264.4067796610169
         ],
         "y": [
          234.34481158215567,
          212.02979738154613,
          193.587022629377,
          178.0908315149626,
          164.88834164588528,
          153.5060190722174,
          143.59213216957605,
          134.87999897716645,
          127.16377072025819,
          120.28203622887226,
          114.10645356829532,
          108.53369934538652,
          103.47965927019187,
          98.87516474825335,
          94.66281614017885,
          90.79458287874066,
          87.22996758104738,
          83.93458541147133,
          80.87905313875805,
          78.03811191091152,
          75.38992834501143,
          72.91553304239402,
          70.59836601264787,
          68.4239059942916,
          66.37936615073886,
          64.45344268006455,
          62.63610590869763,
          60.918425723884724,
          59.29242493656291,
          57.75095549733699,
          56.28759351620949,
          54.89654983634664,
          53.57259353846199,
          52.31098624611939,
          51.107425493864035,
          49.95799573251789,
          48.859125796619566,
          47.80755186113167,
          46.80028507838597,
          45.834583219685165,
          44.90792575516644,
          44.01799189526185,
          43.16264119113979,
          42.339896352867825,
          41.54792799507107,
          40.78504106246729,
          40.049662723356896,
          39.34033154915645,
          38.655687823377846,
          37.99446484487354,
          37.355481108346616
         ]
        },
        {
         "name": "d = 375 mm",
         "type": "scatter",
         "x": [
          1733.3333333333333,
          1560,
          1418.1818181818182,
          1300,
          1200,
          1114.2857142857144,
          1040,
          975,
          917.6470588235295,
          866.6666666666666,
          821.0526315789474,
          780,
          742.8571428571429,
          709.0909090909091,
          678.2608695652174,
          650,
          624,
          600,
          577.7777777777778,
          557.1428571428572,
          537.9310344827586,
          520,
          503.22580645161287,
          487.5,
          472.72727272727275,
          458.82352941176475,
          445.7142857142857,
          433.3333333333333,
          421.6216216216216,
          410.5263157894737,
          400.00000000000006,
          390,
          380.4878048780488,
          371.42857142857144,
          362.79069767441865,
          354.54545454545456,
          346.6666666666667,
          339.1304347826087,
          331.9148936170213,
          325,
          318.36734693877554,
          312,
          305.88235294117646,
          300,
          294.33962264150944,
          288.8888888888889,
          283.6363636363636,
          278.5714285714286,
          273.6842105263158,
          268.9655172413793,
          264.4067796610169
         ],
         "y": [
          263.81147824882237,
          238.5497973815461,
          217.6961135384679,
          200.1908315149626,
          185.28834164588528,
          172.4488762150746,
          161.27213216957605,
          151.45499897716644,
          142.76377072025818,
          135.01536956220556,
          128.06434830513743,
          121.79369934538654,
          116.10823069876328,
          110.9297102027988,
          106.19325092278756,
          101.84458287874065,
          97.83796758104738,
          94.13458541147133,
          90.70127536098028,
          87.50954048234009,
          84.53475593121831,
          81.75553304239402,
          79.1532047223253,
          76.71140599429161,
          74.41572978710249,
          72.25344268006455,
          70.2132487658405,
          68.2850923905514,
          66.45999250413047,
          64.72990286575805,
          63.08759351620949,
          61.52654983634663,
          60.04088622138881,
          58.625271960405115,
          57.27486735432916,
          55.98526845979061,
          54.7524591299529,
          53.57276925243602,
          52.44283826987533,
          51.35958321968516,
          50.32017065312562,
          49.321991895261846,
          48.362641191139794,
          47.43989635286783,
          46.55170157997673,
          45.696152173578405,
          44.871480905175076,
          44.07604583487074,
          43.3083194023252,
          42.56687863797699,
          41.8503963625839
         ]
        },
        {
         "name": "d = 415 mm",
         "type": "scatter",
         "x": [
          1733.3333333333333,
          1560,
          1418.1818181818182,
          1300,
          1200,
          1114.2857142857144,
          1040,
          975,
          917.6470588235295,
          866.6666666666666,
          821.0526315789474,
          780,
          742.8571428571429,
          709.0909090909091,
          678.2608695652174,
          650,
          624,
          600,
          577.7777777777778,
          557.1428571428572,
          537.9310344827586,
          520,
          503.22580645161287,
          487.5,
          472.72727272727275,
          458.82352941176475,
          445.7142857142857,
          433.3333333333333,
          421.6216216216216,
          410.5263157894737,
          400.00000000000006,
          390,
          380.4878048780488,
          371.42857142857144,
          362.79069767441865,
          354.54545454545456,
          346.6666666666667,
          339.1304347826087,
          331.9148936170213,
          325,
          318.36734693877554,
          312,
          305.88235294117646,
          300,
          294.33962264150944,
          288.8888888888889,
          283.6363636363636,
          278.5714285714286,
          273.6842105263158,
          268.9655172413793,
          264.4067796610169
         ],
         "y": [
          293.27814491548907,
          265.0697973815461,
          241.8052044475588,
          222.2908315149626,
          205.68834164588526,
          191.39173335793174,
          178.95213216957606,
          168.02999897716643,
          158.36377072025817,
          149.7487028955389,
          142.02224304197955,
          135.05369934538655,
          128.73680212733473,
          122.98425565734426,
          117.72368570539625,
          112.89458287874065,
          108.44596758104737,
          104.33458541147132,
          100.5234975832025,
          96.98096905376866,
          93.67958351742521,
          90.59553304239402,
          87.7080434320027,
          84.9989059942916,
          82.45209342346612,
          80.05344268006456,
          77.79039162298335,
          75.65175905721806,
          73.62756007169803,
          71.7088502341791,
          69.88759351620949,
          68.15654983634663,
          66.50917890431565,
          64.93955767469083,
          63.44230921479427,
          62.01254118706333,
          60.64579246328624,
          59.33798664374037,
          58.08539146136469,
          56.88458321968517,
          55.732415551084806,
          54.62599189526185,
          53.56264119113979,
          52.53989635286783,
          51.55547516488238,
          50.607263284689516,
          49.69329908699326,
          48.81176012058503,
          47.96095098127258,
          47.13929243108045,
          46.34531161682119
         ]
        },
        {
         "name": "d = 455 mm",
         "type": "scatter",
         "x": [
          1733.3333333333333,
          1560,
          1418.1818181818182,
          1300,
          1200,
          1114.2857142857144,
          1040,
          975,
          917.6470588235295,
          866.6666666666666,
          821.0526315789474,
          780,
          742.8571428571429,
          709.0909090909091,
          678.2608695652174,
          650,
          624,
          600,
          577.7777777777778,
          557.1428571428572,
          537.9310344827586,
          520,
          503.22580645161287,
          487.5,
          472.72727272727275,
          458.82352941176475,
          445.7142857142857,
          433.3333333333333,
          421.6216216216216,
          410.5263157894737,
          400.00000000000006,
          390,
          380.4878048780488,
          371.42857142857144,
          362.79069767441865,
          354.54545454545456,
          346.6666666666667,
          339.1304347826087,
          331.9148936170213,
          325,
          318.36734693877554,
          312,
          305.88235294117646,
          300,
          294.33962264150944,
          288.8888888888889,
          283.6363636363636,
          278.5714285714286,
          273.6842105263158,
          268.9655172413793,
          264.4067796610169
         ],
         "y": [
          322.7448115821557,
          291.58979738154613,
          265.91429535664975,
          244.39083151496254,
          226.08834164588527,
          210.3345905007889,
          196.63213216957604,
          184.60499897716645,
          173.9637707202582,
          164.48203622887226,
          155.98013777882164,
          148.31369934538654,
          141.36537355590616,
          135.0388011118897,
          129.25412048800493,
          123.94458287874065,
          119.05396758104739,
          114.53458541147131,
          110.34571980542472,
          106.45239762519724,
          102.82441110363212,
          99.43553304239403,
          96.26288214168012,
          93.2864059942916,
          90.48845705982978,
          87.85344268006456,
          85.36753448012622,
          83.01842572388472,
          80.7951276392656,
          78.68779760260016,
          76.68759351620949,
          74.78654983634662,
          72.97747158724248,
          71.25384338897653,
          69.6097510752594,
          68.03981391433607,
          66.53912579661956,
          65.10320403504471,
          63.727944652854056,
          62.40958321968515,
          61.14466044904399,
          59.92999189526184,
          58.76264119113979,
          57.63989635286784,
          56.55924874978804,
          55.51837439580063,
          54.515117268811444,
          53.547474406299315,
          52.613582560219946,
          51.7117062241839,
          50.840226871058476
         ]
        }
       ],
       "layout": {
        "legend": {
         "tracegroupgap": 0
        },
        "margin": {
         "t": 60
        },
        "template": {
         "data": {
          "bar": [
           {
            "error_x": {
             "color": "#2a3f5f"
            },
            "error_y": {
             "color": "#2a3f5f"
            },
            "marker": {
             "line": {
              "color": "#E5ECF6",
              "width": 0.5
             }
            },
            "type": "bar"
           }
          ],
          "barpolar": [
           {
            "marker": {
             "line": {
              "color": "#E5ECF6",
              "width": 0.5
             }
            },
            "type": "barpolar"
           }
          ],
          "carpet": [
           {
            "aaxis": {
             "endlinecolor": "#2a3f5f",
             "gridcolor": "white",
             "linecolor": "white",
             "minorgridcolor": "white",
             "startlinecolor": "#2a3f5f"
            },
            "baxis": {
             "endlinecolor": "#2a3f5f",
             "gridcolor": "white",
             "linecolor": "white",
             "minorgridcolor": "white",
             "startlinecolor": "#2a3f5f"
            },
            "type": "carpet"
           }
          ],
          "choropleth": [
           {
            "colorbar": {
             "outlinewidth": 0,
             "ticks": ""
            },
            "type": "choropleth"
           }
          ],
          "contour": [
           {
            "colorbar": {
             "outlinewidth": 0,
             "ticks": ""
            },
            "colorscale": [
             [
              0,
              "#0d0887"
             ],
             [
              0.1111111111111111,
              "#46039f"
             ],
             [
              0.2222222222222222,
              "#7201a8"
             ],
             [
              0.3333333333333333,
              "#9c179e"
             ],
             [
              0.4444444444444444,
              "#bd3786"
             ],
             [
              0.5555555555555556,
              "#d8576b"
             ],
             [
              0.6666666666666666,
              "#ed7953"
             ],
             [
              0.7777777777777778,
              "#fb9f3a"
             ],
             [
              0.8888888888888888,
              "#fdca26"
             ],
             [
              1,
              "#f0f921"
             ]
            ],
            "type": "contour"
           }
          ],
          "contourcarpet": [
           {
            "colorbar": {
             "outlinewidth": 0,
             "ticks": ""
            },
            "type": "contourcarpet"
           }
          ],
          "heatmap": [
           {
            "colorbar": {
             "outlinewidth": 0,
             "ticks": ""
            },
            "colorscale": [
             [
              0,
              "#0d0887"
             ],
             [
              0.1111111111111111,
              "#46039f"
             ],
             [
              0.2222222222222222,
              "#7201a8"
             ],
             [
              0.3333333333333333,
              "#9c179e"
             ],
             [
              0.4444444444444444,
              "#bd3786"
             ],
             [
              0.5555555555555556,
              "#d8576b"
             ],
             [
              0.6666666666666666,
              "#ed7953"
             ],
             [
              0.7777777777777778,
              "#fb9f3a"
             ],
             [
              0.8888888888888888,
              "#fdca26"
             ],
             [
              1,
              "#f0f921"
             ]
            ],
            "type": "heatmap"
           }
          ],
          "heatmapgl": [
           {
            "colorbar": {
             "outlinewidth": 0,
             "ticks": ""
            },
            "colorscale": [
             [
              0,
              "#0d0887"
             ],
             [
              0.1111111111111111,
              "#46039f"
             ],
             [
              0.2222222222222222,
              "#7201a8"
             ],
             [
              0.3333333333333333,
              "#9c179e"
             ],
             [
              0.4444444444444444,
              "#bd3786"
             ],
             [
              0.5555555555555556,
              "#d8576b"
             ],
             [
              0.6666666666666666,
              "#ed7953"
             ],
             [
              0.7777777777777778,
              "#fb9f3a"
             ],
             [
              0.8888888888888888,
              "#fdca26"
             ],
             [
              1,
              "#f0f921"
             ]
            ],
            "type": "heatmapgl"
           }
          ],
          "histogram": [
           {
            "marker": {
             "colorbar": {
              "outlinewidth": 0,
              "ticks": ""
             }
            },
            "type": "histogram"
           }
          ],
          "histogram2d": [
           {
            "colorbar": {
             "outlinewidth": 0,
             "ticks": ""
            },
            "colorscale": [
             [
              0,
              "#0d0887"
             ],
             [
              0.1111111111111111,
              "#46039f"
             ],
             [
              0.2222222222222222,
              "#7201a8"
             ],
             [
              0.3333333333333333,
              "#9c179e"
             ],
             [
              0.4444444444444444,
              "#bd3786"
             ],
             [
              0.5555555555555556,
              "#d8576b"
             ],
             [
              0.6666666666666666,
              "#ed7953"
             ],
             [
              0.7777777777777778,
              "#fb9f3a"
             ],
             [
              0.8888888888888888,
              "#fdca26"
             ],
             [
              1,
              "#f0f921"
             ]
            ],
            "type": "histogram2d"
           }
          ],
          "histogram2dcontour": [
           {
            "colorbar": {
             "outlinewidth": 0,
             "ticks": ""
            },
            "colorscale": [
             [
              0,
              "#0d0887"
             ],
             [
              0.1111111111111111,
              "#46039f"
             ],
             [
              0.2222222222222222,
              "#7201a8"
             ],
             [
              0.3333333333333333,
              "#9c179e"
             ],
             [
              0.4444444444444444,
              "#bd3786"
             ],
             [
              0.5555555555555556,
              "#d8576b"
             ],
             [
              0.6666666666666666,
              "#ed7953"
             ],
             [
              0.7777777777777778,
              "#fb9f3a"
             ],
             [
              0.8888888888888888,
              "#fdca26"
             ],
             [
              1,
              "#f0f921"
             ]
            ],
            "type": "histogram2dcontour"
           }
          ],
          "mesh3d": [
           {
            "colorbar": {
             "outlinewidth": 0,
             "ticks": ""
            },
            "type": "mesh3d"
           }
          ],
          "parcoords": [
           {
            "line": {
             "colorbar": {
              "outlinewidth": 0,
              "ticks": ""
             }
            },
            "type": "parcoords"
           }
          ],
          "pie": [
           {
            "automargin": true,
            "type": "pie"
           }
          ],
          "scatter": [
           {
            "marker": {
             "colorbar": {
              "outlinewidth": 0,
              "ticks": ""
             }
            },
            "type": "scatter"
           }
          ],
          "scatter3d": [
           {
            "line": {
             "colorbar": {
              "outlinewidth": 0,
              "ticks": ""
             }
            },
            "marker": {
             "colorbar": {
              "outlinewidth": 0,
              "ticks": ""
             }
            },
            "type": "scatter3d"
           }
          ],
          "scattercarpet": [
           {
            "marker": {
             "colorbar": {
              "outlinewidth": 0,
              "ticks": ""
             }
            },
            "type": "scattercarpet"
           }
          ],
          "scattergeo": [
           {
            "marker": {
             "colorbar": {
              "outlinewidth": 0,
              "ticks": ""
             }
            },
            "type": "scattergeo"
           }
          ],
          "scattergl": [
           {
            "marker": {
             "colorbar": {
              "outlinewidth": 0,
              "ticks": ""
             }
            },
            "type": "scattergl"
           }
          ],
          "scattermapbox": [
           {
            "marker": {
             "colorbar": {
              "outlinewidth": 0,
              "ticks": ""
             }
            },
            "type": "scattermapbox"
           }
          ],
          "scatterpolar": [
           {
            "marker": {
             "colorbar": {
              "outlinewidth": 0,
              "ticks": ""
             }
            },
            "type": "scatterpolar"
           }
          ],
          "scatterpolargl": [
           {
            "marker": {
             "colorbar": {
              "outlinewidth": 0,
              "ticks": ""
             }
            },
            "type": "scatterpolargl"
           }
          ],
          "scatterternary": [
           {
            "marker": {
             "colorbar": {
              "outlinewidth": 0,
              "ticks": ""
             }
            },
            "type": "scatterternary"
           }
          ],
          "surface": [
           {
            "colorbar": {
             "outlinewidth": 0,
             "ticks": ""
            },
            "colorscale": [
             [
              0,
              "#0d0887"
             ],
             [
              0.1111111111111111,
              "#46039f"
             ],
             [
              0.2222222222222222,
              "#7201a8"
             ],
             [
              0.3333333333333333,
              "#9c179e"
             ],
             [
              0.4444444444444444,
              "#bd3786"
             ],
             [
              0.5555555555555556,
              "#d8576b"
             ],
             [
              0.6666666666666666,
              "#ed7953"
             ],
             [
              0.7777777777777778,
              "#fb9f3a"
             ],
             [
              0.8888888888888888,
              "#fdca26"
             ],
             [
              1,
              "#f0f921"
             ]
            ],
            "type": "surface"
           }
          ],
          "table": [
           {
            "cells": {
             "fill": {
              "color": "#EBF0F8"
             },
             "line": {
              "color": "white"
             }
            },
            "header": {
             "fill": {
              "color": "#C8D4E3"
             },
             "line": {
              "color": "white"
             }
            },
            "type": "table"
           }
          ]
         },
         "layout": {
          "annotationdefaults": {
           "arrowcolor": "#2a3f5f",
           "arrowhead": 0,
           "arrowwidth": 1
          },
          "autotypenumbers": "strict",
          "coloraxis": {
           "colorbar": {
            "outlinewidth": 0,
            "ticks": ""
           }
          },
          "colorscale": {
           "diverging": [
            [
             0,
             "#8e0152"
            ],
            [
             0.1,
             "#c51b7d"
            ],
            [
             0.2,
             "#de77ae"
            ],
            [
             0.3,
             "#f1b6da"
            ],
            [
             0.4,
             "#fde0ef"
            ],
            [
             0.5,
             "#f7f7f7"
            ],
            [
             0.6,
             "#e6f5d0"
            ],
            [
             0.7,
             "#b8e186"
            ],
            [
             0.8,
             "#7fbc41"
            ],
            [
             0.9,
             "#4d9221"
            ],
            [
             1,
             "#276419"
            ]
           ],
           "sequential": [
            [
             0,
             "#0d0887"
            ],
            [
             0.1111111111111111,
             "#46039f"
            ],
            [
             0.2222222222222222,
             "#7201a8"
            ],
            [
             0.3333333333333333,
             "#9c179e"
            ],
            [
             0.4444444444444444,
             "#bd3786"
            ],
            [
             0.5555555555555556,
             "#d8576b"
            ],
            [
             0.6666666666666666,
             "#ed7953"
            ],
            [
             0.7777777777777778,
             "#fb9f3a"
            ],
            [
             0.8888888888888888,
             "#fdca26"
            ],
            [
             1,
             "#f0f921"
            ]
           ],
           "sequentialminus": [
            [
             0,
             "#0d0887"
            ],
            [
             0.1111111111111111,
             "#46039f"
            ],
            [
             0.2222222222222222,
             "#7201a8"
            ],
            [
             0.3333333333333333,
             "#9c179e"
            ],
            [
             0.4444444444444444,
             "#bd3786"
            ],
            [
             0.5555555555555556,
             "#d8576b"
            ],
            [
             0.6666666666666666,
             "#ed7953"
            ],
            [
             0.7777777777777778,
             "#fb9f3a"
            ],
            [
             0.8888888888888888,
             "#fdca26"
            ],
            [
             1,
             "#f0f921"
            ]
           ]
          },
          "colorway": [
           "#636efa",
           "#EF553B",
           "#00cc96",
           "#ab63fa",
           "#FFA15A",
           "#19d3f3",
           "#FF6692",
           "#B6E880",
           "#FF97FF",
           "#FECB52"
          ],
          "font": {
           "color": "#2a3f5f"
          },
          "geo": {
           "bgcolor": "white",
           "lakecolor": "white",
           "landcolor": "#E5ECF6",
           "showlakes": true,
           "showland": true,
           "subunitcolor": "white"
          },
          "hoverlabel": {
           "align": "left"
          },
          "hovermode": "closest",
          "mapbox": {
           "style": "light"
          },
          "paper_bgcolor": "white",
          "plot_bgcolor": "#E5ECF6",
          "polar": {
           "angularaxis": {
            "gridcolor": "white",
            "linecolor": "white",
            "ticks": ""
           },
           "bgcolor": "#E5ECF6",
           "radialaxis": {
            "gridcolor": "white",
            "linecolor": "white",
            "ticks": ""
           }
          },
          "scene": {
           "xaxis": {
            "backgroundcolor": "#E5ECF6",
            "gridcolor": "white",
            "gridwidth": 2,
            "linecolor": "white",
            "showbackground": true,
            "ticks": "",
            "zerolinecolor": "white"
           },
           "yaxis": {
            "backgroundcolor": "#E5ECF6",
            "gridcolor": "white",
            "gridwidth": 2,
            "linecolor": "white",
            "showbackground": true,
            "ticks": "",
            "zerolinecolor": "white"
           },
           "zaxis": {
            "backgroundcolor": "#E5ECF6",
            "gridcolor": "white",
            "gridwidth": 2,
            "linecolor": "white",
            "showbackground": true,
            "ticks": "",
            "zerolinecolor": "white"
           }
          },
          "shapedefaults": {
           "line": {
            "color": "#2a3f5f"
           }
          },
          "ternary": {
           "aaxis": {
            "gridcolor": "white",
            "linecolor": "white",
            "ticks": ""
           },
           "baxis": {
            "gridcolor": "white",
            "linecolor": "white",
            "ticks": ""
           },
           "bgcolor": "#E5ECF6",
           "caxis": {
            "gridcolor": "white",
            "linecolor": "white",
            "ticks": ""
           }
          },
          "title": {
           "x": 0.05
          },
          "xaxis": {
           "automargin": true,
           "gridcolor": "white",
           "linecolor": "white",
           "ticks": "",
           "title": {
            "standoff": 15
           },
           "zerolinecolor": "white",
           "zerolinewidth": 2
          },
          "yaxis": {
           "automargin": true,
           "gridcolor": "white",
           "linecolor": "white",
           "ticks": "",
           "title": {
            "standoff": 15
           },
           "zerolinecolor": "white",
           "zerolinewidth": 2
          }
         }
        },
        "xaxis": {
         "anchor": "y",
         "domain": [
          0,
          1
         ]
        },
        "yaxis": {
         "anchor": "x",
         "domain": [
          0,
          1
         ]
        }
       }
      }
     },
     "metadata": {}
    },
    {
     "output_type": "display_data",
     "data": {
      "application/vnd.plotly.v1+json": {
       "config": {
        "plotlyServerURL": "https://plot.ly"
       },
       "data": [
        {
         "name": "d = 55 mm",
         "type": "scatter",
         "x": [
          1733.3333333333333,
          1560,
          1418.1818181818182,
          1300,
          1200,
          1114.2857142857144,
          1040,
          975,
          917.6470588235295,
          866.6666666666666,
          821.0526315789474,
          780,
          742.8571428571429,
          709.0909090909091,
          678.2608695652174,
          650,
          624,
          600,
          577.7777777777778,
          557.1428571428572,
          537.9310344827586,
          520,
          503.22580645161287,
          487.5,
          472.72727272727275,
          458.82352941176475,
          445.7142857142857,
          433.3333333333333,
          421.6216216216216,
          410.5263157894737,
          400.00000000000006,
          390,
          380.4878048780488,
          371.42857142857144,
          362.79069767441865,
          354.54545454545456,
          346.6666666666667,
          339.1304347826087,
          331.9148936170213,
          325,
          318.36734693877554,
          312,
          305.88235294117646,
          300,
          294.33962264150944,
          288.8888888888889,
          283.6363636363636,
          278.5714285714286,
          273.6842105263158,
          268.9655172413793,
          264.4067796610169
         ],
         "y": [
          21.4715225824328,
          20.180433291770573,
          18.982589497331055,
          18.698096009813206,
          18.777382854764642,
          18.681279285305614,
          18.46899869210053,
          18.180720413281243,
          17.84398759205387,
          17.14870289553893,
          16.40119041040059,
          15.713699345386532,
          15.079659270191867,
          14.493346566435152,
          13.949772661917983,
          13.444582878740647,
          12.973967581047381,
          12.534585411471323,
          12.12349758320249,
          11.738111910911499,
          11.376135241563155,
          11.035533042394015,
          10.714495044905943,
          10.411405994291615,
          10.124820696193401,
          9.853442680064546,
          9.596105908697645,
          9.351759057218066,
          9.119451963589928,
          8.89832391838962,
          8.687593516209477,
          8.486549836346633,
          8.294544757974188,
          8.110986246119394,
          7.935332470608228,
          7.767086641608788,
          7.605792463286229,
          7.451030122001234,
          7.30241273796044,
          7.159583219685163,
          7.0222114694521505,
          6.889991895261844,
          6.762641191139797,
          6.63989635286783,
          6.521512900731439,
          6.4072632846895115,
          6.296935450629624,
          6.190331549156447,
          6.087266770746265,
          5.987568293149409,
          5.89107432868561
         ]
        },
        {
         "name": "d = 95 mm",
         "type": "scatter",
         "x": [
          1733.3333333333333,
          1560,
          1418.1818181818182,
          1300,
          1200,
          1114.2857142857144,
          1040,
          975,
          917.6470588235295,
          866.6666666666666,
          821.0526315789474,
          780,
          742.8571428571429,
          709.0909090909091,
          678.2608695652174,
          650,
          624,
          600,
          577.7777777777778,
          557.1428571428572,
          537.9310344827586,
          520,
          503.22580645161287,
          487.5,
          472.72727272727275,
          458.82352941176475,
          445.7142857142857,
          433.3333333333333,
          421.6216216216216,
          410.5263157894737,
          400.00000000000006,
          390,
          380.4878048780488,
          371.42857142857144,
          362.79069767441865,
          354.54545454545456,
          346.6666666666667,
          339.1304347826087,
          331.9148936170213,
          325,
          318.36734693877554,
          312,
          305.88235294117646,
          300,
          294.33962264150944,
          288.8888888888889,
          283.6363636363636,
          278.5714285714286,
          273.6842105263158,
          268.9655172413793,
          264.4067796610169
         ],
         "y": [
          54.65474967915647,
          52.909797381546134,
          48.93247717483152,
          45.490831514962586,
          42.488341645885285,
          39.848876215074576,
          37.512132169576056,
          35.429998977166456,
          33.563770720258184,
          31.882036228872263,
          30.359085147242695,
          28.973699345386535,
          27.708230698763295,
          26.547892020980605,
          25.48020744452668,
          24.494582878740648,
          23.58196758104738,
          22.734585411471322,
          21.945719805424712,
          21.20954048234007,
          20.52096282777005,
          19.875533042394014,
          19.26933375458336,
          18.698905994291614,
          18.16118433255704,
          17.653442680064547,
          17.1732487658405,
          16.71842572388473,
          16.287019531157497,
          15.877271286810677,
          15.487593516209477,
          15.116549836346636,
          14.762837440901016,
          14.425271960405107,
          14.102774331073345,
          13.794359368881516,
          13.49912579661956,
          13.216247513305582,
          12.9449659294498,
          12.684583219685162,
          12.434456367411338,
          12.193991895261846,
          11.962641191139797,
          11.739896352867829,
          11.525286485637102,
          11.318374395800623,
          11.118753632447806,
          10.926045834870735,
          10.739898349693632,
          10.559982086252857,
          10.385989582922898
         ]
        },
        {
         "name": "d = 135 mm",
         "type": "scatter",
         "x": [
          1733.3333333333333,
          1560,
          1418.1818181818182,
          1300,
          1200,
          1114.2857142857144,
          1040,
          975,
          917.6470588235295,
          866.6666666666666,
          821.0526315789474,
          780,
          742.8571428571429,
          709.0909090909091,
          678.2608695652174,
          650,
          624,
          600,
          577.7777777777778,
          557.1428571428572,
          537.9310344827586,
          520,
          503.22580645161287,
          487.5,
          472.72727272727275,
          458.82352941176475,
          445.7142857142857,
          433.3333333333333,
          421.6216216216216,
          410.5263157894737,
          400.00000000000006,
          390,
          380.4878048780488,
          371.42857142857144,
          362.79069767441865,
          354.54545454545456,
          346.6666666666667,
          339.1304347826087,
          331.9148936170213,
          325,
          318.36734693877554,
          312,
          305.88235294117646,
          300,
          294.33962264150944,
          288.8888888888889,
          283.6363636363636,
          278.5714285714286,
          273.6842105263158,
          268.9655172413793,
          264.4067796610169
         ],
         "y": [
          87.01147824882239,
          79.42979738154612,
          73.04156808392243,
          67.59083151496259,
          62.88834164588528,
          58.79173335793171,
          55.19213216957606,
          52.00499897716646,
          49.16377072025818,
          46.61536956220559,
          44.3169798840848,
          42.23369934538653,
          40.33680212733472,
          38.60243747552607,
          37.01064222713537,
          35.54458287874065,
          34.18996758104739,
          32.93458541147132,
          31.767942027646942,
          30.680969053768646,
          29.665790413976943,
          28.715533042394014,
          27.82417246426078,
          26.986405994291612,
          26.19754796892067,
          25.453442680064544,
          24.750391622983358,
          24.085092390551402,
          23.454587098725064,
          22.85621865523173,
          22.287593516209476,
          21.746549836346627,
          21.23113012382785,
          20.739557674690822,
          20.27021619153846,
          19.821632096154246,
          19.392459129952897,
          18.981464904609933,
          18.58751912093916,
          18.20958321968516,
          17.84670126537052,
          17.497991895261844,
          17.162641191139798,
          16.839896352867832,
          16.529060070542762,
          16.229485506911736,
          15.940571814265988,
          15.66176012058502,
          15.392529928641,
          15.132395879356304,
          14.880904837160184
         ]
        },
        {
         "name": "d = 175 mm",
         "type": "scatter",
         "x": [
          1733.3333333333333,
          1560,
          1418.1818181818182,
          1300,
          1200,
          1114.2857142857144,
          1040,
          975,
          917.6470588235295,
          866.6666666666666,
          821.0526315789474,
          780,
          742.8571428571429,
          709.0909090909091,
          678.2608695652174,
          650,
          624,
          600,
          577.7777777777778,
          557.1428571428572,
          537.9310344827586,
          520,
          503.22580645161287,
          487.5,
          472.72727272727275,
          458.82352941176475,
          445.7142857142857,
          433.3333333333333,
          421.6216216216216,
          410.5263157894737,
          400.00000000000006,
          390,
          380.4878048780488,
          371.42857142857144,
          362.79069767441865,
          354.54545454545456,
          346.6666666666667,
          339.1304347826087,
          331.9148936170213,
          325,
          318.36734693877554,
          312,
          305.88235294117646,
          300,
          294.33962264150944,
          288.8888888888889,
          283.6363636363636,
          278.5714285714286,
          273.6842105263158,
          268.9655172413793,
          264.4067796610169
         ],
         "y": [
          116.47814491548905,
          105.94979738154615,
          97.15065899301332,
          89.6908315149626,
          83.28834164588528,
          77.73459050078887,
          72.87213216957606,
          68.57999897716645,
          64.7637707202582,
          61.34870289553892,
          58.274874620926916,
          55.49369934538653,
          52.96537355590615,
          50.65698293007152,
          48.541077009744065,
          46.59458287874065,
          44.79796758104739,
          43.13458541147132,
          41.59016424986916,
          40.15239762519722,
          38.81061800018385,
          37.55553304239401,
          36.379011173938196,
          35.27390599429161,
          34.233911605284305,
          33.253442680064545,
          32.32753448012622,
          31.451759057218066,
          30.622154666292627,
          29.83516602365278,
          29.08759351620948,
          28.37654983634663,
          27.699422806754676,
          27.053843388976535,
          26.437658052003574,
          25.848904823426974,
          25.285792463286228,
          24.74668229591428,
          24.230072312428522,
          23.734583219685163,
          23.258946163329707,
          22.801991895261843,
          22.362641191139797,
          21.939896352867834,
          21.53283365544842,
          21.140596618022844,
          20.76238999608417,
          20.397474406299306,
          20.045161507588368,
          19.70480967245975,
          19.375820091397472
         ]
        },
        {
         "name": "d = 215 mm",
         "type": "scatter",
         "x": [
          1733.3333333333333,
          1560,
          1418.1818181818182,
          1300,
          1200,
          1114.2857142857144,
          1040,
          975,
          917.6470588235295,
          866.6666666666666,
          821.0526315789474,
          780,
          742.8571428571429,
          709.0909090909091,
          678.2608695652174,
          650,
          624,
          600,
          577.7777777777778,
          557.1428571428572,
          537.9310344827586,
          520,
          503.22580645161287,
          487.5,
          472.72727272727275,
          458.82352941176475,
          445.7142857142857,
          433.3333333333333,
          421.6216216216216,
          410.5263157894737,
          400.00000000000006,
          390,
          380.4878048780488,
          371.42857142857144,
          362.79069767441865,
          354.54545454545456,
          346.6666666666667,
          339.1304347826087,
          331.9148936170213,
          325,
          318.36734693877554,
          312,
          305.88235294117646,
          300,
          294.33962264150944,
          288.8888888888889,
          283.6363636363636,
          278.5714285714286,
          273.6842105263158,
          268.9655172413793,
          264.4067796610169
         ],
         "y": [
          145.94481158215572,
          132.46979738154616,
          121.25974990210425,
          111.7908315149626,
          103.68834164588529,
          96.677447643646,
          90.55213216957605,
          85.15499897716646,
          80.36377072025819,
          76.08203622887225,
          72.23276935776902,
          68.75369934538654,
          65.59394498447757,
          62.71152838461697,
          60.071511792352766,
          57.644582878740636,
          55.405967581047385,
          53.334585411471316,
          51.412386472091384,
          49.62382619662579,
          47.95544558639074,
          46.395533042394014,
          44.933849883615615,
          43.56140599429161,
          42.27027524164795,
          41.05344268006455,
          39.90467733726908,
          38.81842572388473,
          37.78972223386019,
          36.81411339207383,
          35.88759351620948,
          35.006549836346636,
          34.167715489681505,
          33.368129103262255,
          32.605099912468695,
          31.8761775506997,
          31.179125796619562,
          30.511899687218627,
          29.87262550391788,
          29.25958321968516,
          28.67119106128889,
          28.105991895261845,
          27.562641191139797,
          27.03989635286783,
          26.536607240354083,
          26.05170772913396,
          25.58420817790235,
          25.133188692013594,
          24.69779308653574,
          24.2772234655632,
          23.87073534563476
         ]
        },
        {
         "name": "d = 255 mm",
         "type": "scatter",
         "x": [
          1733.3333333333333,
          1560,
          1418.1818181818182,
          1300,
          1200,
          1114.2857142857144,
          1040,
          975,
          917.6470588235295,
          866.6666666666666,
          821.0526315789474,
          780,
          742.8571428571429,
          709.0909090909091,
          678.2608695652174,
          650,
          624,
          600,
          577.7777777777778,
          557.1428571428572,
          537.9310344827586,
          520,
          503.22580645161287,
          487.5,
          472.72727272727275,
          458.82352941176475,
          445.7142857142857,
          433.3333333333333,
          421.6216216216216,
          410.5263157894737,
          400.00000000000006,
          390,
          380.4878048780488,
          371.42857142857144,
          362.79069767441865,
          354.54545454545456,
          346.6666666666667,
          339.1304347826087,
          331.9148936170213,
          325,
          318.36734693877554,
          312,
          305.88235294117646,
          300,
          294.33962264150944,
          288.8888888888889,
          283.6363636363636,
          278.5714285714286,
          273.6842105263158,
          268.9655172413793,
          264.4067796610169
         ],
         "y": [
          175.41147824882236,
          158.98979738154614,
          145.36884081119516,
          133.8908315149626,
          124.08834164588528,
          115.62030478650316,
          108.23213216957605,
          101.72999897716646,
          95.96377072025818,
          90.81536956220559,
          86.19066409461112,
          82.01369934538653,
          78.22251641304901,
          74.76607383916243,
          71.60194657496146,
          68.69458287874063,
          66.0139675810474,
          63.534585411471326,
          61.234608694313614,
          59.09525476805437,
          57.10027317259764,
          55.23553304239401,
          53.488688593293034,
          51.84890599429161,
          50.30663887801158,
          48.853442680064546,
          47.48182019441193,
          46.1850923905514,
          44.95728980142776,
          43.79306076049489,
          42.68759351620948,
          41.63654983634663,
          40.636008172608335,
          39.682414817547965,
          38.772541772933806,
          37.90345027797243,
          37.0724591299529,
          36.27711707852297,
          35.51517869540725,
          34.78458321968516,
          34.08343595924807,
          33.40999189526185,
          32.7626411911398,
          32.13989635286783,
          31.540380825259746,
          30.962818840245067,
          30.406026359720535,
          29.86890297772788,
          29.350424665483104,
          28.849637258666647,
          28.365650599872044
         ]
        },
        {
         "name": "d = 295 mm",
         "type": "scatter",
         "x": [
          1733.3333333333333,
          1560,
          1418.1818181818182,
          1300,
          1200,
          1114.2857142857144,
          1040,
          975,
          917.6470588235295,
          866.6666666666666,
          821.0526315789474,
          780,
          742.8571428571429,
          709.0909090909091,
          678.2608695652174,
          650,
          624,
          600,
          577.7777777777778,
          557.1428571428572,
          537.9310344827586,
          520,
          503.22580645161287,
          487.5,
          472.72727272727275,
          458.82352941176475,
          445.7142857142857,
          433.3333333333333,
          421.6216216216216,
          410.5263157894737,
          400.00000000000006,
          390,
          380.4878048780488,
          371.42857142857144,
          362.79069767441865,
          354.54545454545456,
          346.6666666666667,
          339.1304347826087,
          331.9148936170213,
          325,
          318.36734693877554,
          312,
          305.88235294117646,
          300,
          294.33962264150944,
          288.8888888888889,
          283.6363636363636,
          278.5714285714286,
          273.6842105263158,
          268.9655172413793,
          264.4067796610169
         ],
         "y": [
          204.87814491548906,
          185.50979738154612,
          169.47793172028608,
          155.9908315149626,
          144.48834164588527,
          134.56316192936032,
          125.91213216957605,
          118.30499897716645,
          111.56377072025819,
          105.54870289553894,
          100.14855883145323,
          95.27369934538652,
          90.85108784162044,
          86.8206192937079,
          83.13238135757015,
          79.74458287874064,
          76.62196758104737,
          73.73458541147133,
          71.05683091653583,
          68.56668333948295,
          66.24510075880453,
          64.07553304239401,
          62.04352730297046,
          60.13640599429161,
          58.34300251437523,
          56.65344268006454,
          55.05896305155479,
          53.551759057218064,
          52.12485736899533,
          50.77200812891594,
          49.487593516209486,
          48.266549836346634,
          47.10430085553516,
          45.99670053183368,
          44.939983633398924,
          43.93072300524516,
          42.965792463286235,
          42.042334469827324,
          41.157731886896606,
          40.30958321968516,
          39.495680857207255,
          38.71399189526185,
          37.962641191139795,
          37.23989635286783,
          36.544154410165405,
          35.87392995135618,
          35.227844541538715,
          34.60461726344217,
          34.003056244430475,
          33.4220510517701,
          32.860565854109325
         ]
        },
        {
         "name": "d = 335 mm",
         "type": "scatter",
         "x": [
          1733.3333333333333,
          1560,
          1418.1818181818182,
          1300,
          1200,
          1114.2857142857144,
          1040,
          975,
          917.6470588235295,
          866.6666666666666,
          821.0526315789474,
          780,
          742.8571428571429,
          709.0909090909091,
          678.2608695652174,
          650,
          624,
          600,
          577.7777777777778,
          557.1428571428572,
          537.9310344827586,
          520,
          503.22580645161287,
          487.5,
          472.72727272727275,
          458.82352941176475,
          445.7142857142857,
          433.3333333333333,
          421.6216216216216,
          410.5263157894737,
          400.00000000000006,
          390,
          380.4878048780488,
          371.42857142857144,
          362.79069767441865,
          354.54545454545456,
          346.6666666666667,
          339.1304347826087,
          331.9148936170213,
          325,
          318.36734693877554,
          312,
          305.88235294117646,
          300,
          294.33962264150944,
          288.8888888888889,
          283.6363636363636,
          278.5714285714286,
          273.6842105263158,
          268.9655172413793,
          264.4067796610169
         ],
         "y": [
          234.34481158215567,
          212.02979738154613,
          193.587022629377,
          178.0908315149626,
          164.88834164588528,
          153.5060190722174,
          143.59213216957605,
          134.87999897716645,
          127.16377072025819,
          120.28203622887226,
          114.10645356829532,
          108.53369934538652,
          103.47965927019187,
          98.87516474825335,
          94.66281614017885,
          90.79458287874066,
          87.22996758104738,
          83.93458541147133,
          80.87905313875805,
          78.03811191091152,
          75.38992834501143,
          72.91553304239402,
          70.59836601264787,
          68.4239059942916,
          66.37936615073886,
          64.45344268006455,
          62.63610590869763,
          60.918425723884724,
          59.29242493656291,
          57.75095549733699,
          56.28759351620949,
          54.89654983634664,
          53.57259353846199,
          52.31098624611939,
          51.107425493864035,
          49.95799573251789,
          48.859125796619566,
          47.80755186113167,
          46.80028507838597,
          45.834583219685165,
          44.90792575516644,
          44.01799189526185,
          43.16264119113979,
          42.339896352867825,
          41.54792799507107,
          40.78504106246729,
          40.049662723356896,
          39.34033154915645,
          38.655687823377846,
          37.99446484487354,
          37.355481108346616
         ]
        },
        {
         "name": "d = 375 mm",
         "type": "scatter",
         "x": [
          1733.3333333333333,
          1560,
          1418.1818181818182,
          1300,
          1200,
          1114.2857142857144,
          1040,
          975,
          917.6470588235295,
          866.6666666666666,
          821.0526315789474,
          780,
          742.8571428571429,
          709.0909090909091,
          678.2608695652174,
          650,
          624,
          600,
          577.7777777777778,
          557.1428571428572,
          537.9310344827586,
          520,
          503.22580645161287,
          487.5,
          472.72727272727275,
          458.82352941176475,
          445.7142857142857,
          433.3333333333333,
          421.6216216216216,
          410.5263157894737,
          400.00000000000006,
          390,
          380.4878048780488,
          371.42857142857144,
          362.79069767441865,
          354.54545454545456,
          346.6666666666667,
          339.1304347826087,
          331.9148936170213,
          325,
          318.36734693877554,
          312,
          305.88235294117646,
          300,
          294.33962264150944,
          288.8888888888889,
          283.6363636363636,
          278.5714285714286,
          273.6842105263158,
          268.9655172413793,
          264.4067796610169
         ],
         "y": [
          263.81147824882237,
          238.5497973815461,
          217.6961135384679,
          200.1908315149626,
          185.28834164588528,
          172.4488762150746,
          161.27213216957605,
          151.45499897716644,
          142.76377072025818,
          135.01536956220556,
          128.06434830513743,
          121.79369934538654,
          116.10823069876328,
          110.9297102027988,
          106.19325092278756,
          101.84458287874065,
          97.83796758104738,
          94.13458541147133,
          90.70127536098028,
          87.50954048234009,
          84.53475593121831,
          81.75553304239402,
          79.1532047223253,
          76.71140599429161,
          74.41572978710249,
          72.25344268006455,
          70.2132487658405,
          68.2850923905514,
          66.45999250413047,
          64.72990286575805,
          63.08759351620949,
          61.52654983634663,
          60.04088622138881,
          58.625271960405115,
          57.27486735432916,
          55.98526845979061,
          54.7524591299529,
          53.57276925243602,
          52.44283826987533,
          51.35958321968516,
          50.32017065312562,
          49.321991895261846,
          48.362641191139794,
          47.43989635286783,
          46.55170157997673,
          45.696152173578405,
          44.871480905175076,
          44.07604583487074,
          43.3083194023252,
          42.56687863797699,
          41.8503963625839
         ]
        },
        {
         "name": "d = 415 mm",
         "type": "scatter",
         "x": [
          1733.3333333333333,
          1560,
          1418.1818181818182,
          1300,
          1200,
          1114.2857142857144,
          1040,
          975,
          917.6470588235295,
          866.6666666666666,
          821.0526315789474,
          780,
          742.8571428571429,
          709.0909090909091,
          678.2608695652174,
          650,
          624,
          600,
          577.7777777777778,
          557.1428571428572,
          537.9310344827586,
          520,
          503.22580645161287,
          487.5,
          472.72727272727275,
          458.82352941176475,
          445.7142857142857,
          433.3333333333333,
          421.6216216216216,
          410.5263157894737,
          400.00000000000006,
          390,
          380.4878048780488,
          371.42857142857144,
          362.79069767441865,
          354.54545454545456,
          346.6666666666667,
          339.1304347826087,
          331.9148936170213,
          325,
          318.36734693877554,
          312,
          305.88235294117646,
          300,
          294.33962264150944,
          288.8888888888889,
          283.6363636363636,
          278.5714285714286,
          273.6842105263158,
          268.9655172413793,
          264.4067796610169
         ],
         "y": [
          293.27814491548907,
          265.0697973815461,
          241.8052044475588,
          222.2908315149626,
          205.68834164588526,
          191.39173335793174,
          178.95213216957606,
          168.02999897716643,
          158.36377072025817,
          149.7487028955389,
          142.02224304197955,
          135.05369934538655,
          128.73680212733473,
          122.98425565734426,
          117.72368570539625,
          112.89458287874065,
          108.44596758104737,
          104.33458541147132,
          100.5234975832025,
          96.98096905376866,
          93.67958351742521,
          90.59553304239402,
          87.7080434320027,
          84.9989059942916,
          82.45209342346612,
          80.05344268006456,
          77.79039162298335,
          75.65175905721806,
          73.62756007169803,
          71.7088502341791,
          69.88759351620949,
          68.15654983634663,
          66.50917890431565,
          64.93955767469083,
          63.44230921479427,
          62.01254118706333,
          60.64579246328624,
          59.33798664374037,
          58.08539146136469,
          56.88458321968517,
          55.732415551084806,
          54.62599189526185,
          53.56264119113979,
          52.53989635286783,
          51.55547516488238,
          50.607263284689516,
          49.69329908699326,
          48.81176012058503,
          47.96095098127258,
          47.13929243108045,
          46.34531161682119
         ]
        },
        {
         "name": "d = 455 mm",
         "type": "scatter",
         "x": [
          1733.3333333333333,
          1560,
          1418.1818181818182,
          1300,
          1200,
          1114.2857142857144,
          1040,
          975,
          917.6470588235295,
          866.6666666666666,
          821.0526315789474,
          780,
          742.8571428571429,
          709.0909090909091,
          678.2608695652174,
          650,
          624,
          600,
          577.7777777777778,
          557.1428571428572,
          537.9310344827586,
          520,
          503.22580645161287,
          487.5,
          472.72727272727275,
          458.82352941176475,
          445.7142857142857,
          433.3333333333333,
          421.6216216216216,
          410.5263157894737,
          400.00000000000006,
          390,
          380.4878048780488,
          371.42857142857144,
          362.79069767441865,
          354.54545454545456,
          346.6666666666667,
          339.1304347826087,
          331.9148936170213,
          325,
          318.36734693877554,
          312,
          305.88235294117646,
          300,
          294.33962264150944,
          288.8888888888889,
          283.6363636363636,
          278.5714285714286,
          273.6842105263158,
          268.9655172413793,
          264.4067796610169
         ],
         "y": [
          322.7448115821557,
          291.58979738154613,
          265.91429535664975,
          244.39083151496254,
          226.08834164588527,
          210.3345905007889,
          196.63213216957604,
          184.60499897716645,
          173.9637707202582,
          164.48203622887226,
          155.98013777882164,
          148.31369934538654,
          141.36537355590616,
          135.0388011118897,
          129.25412048800493,
          123.94458287874065,
          119.05396758104739,
          114.53458541147131,
          110.34571980542472,
          106.45239762519724,
          102.82441110363212,
          99.43553304239403,
          96.26288214168012,
          93.2864059942916,
          90.48845705982978,
          87.85344268006456,
          85.36753448012622,
          83.01842572388472,
          80.7951276392656,
          78.68779760260016,
          76.68759351620949,
          74.78654983634662,
          72.97747158724248,
          71.25384338897653,
          69.6097510752594,
          68.03981391433607,
          66.53912579661956,
          65.10320403504471,
          63.727944652854056,
          62.40958321968515,
          61.14466044904399,
          59.92999189526184,
          58.76264119113979,
          57.63989635286784,
          56.55924874978804,
          55.51837439580063,
          54.515117268811444,
          53.547474406299315,
          52.613582560219946,
          51.7117062241839,
          50.840226871058476
         ]
        },
        {
         "name": "d = 495 mm",
         "type": "scatter",
         "x": [
          1733.3333333333333,
          1560,
          1418.1818181818182,
          1300,
          1200,
          1114.2857142857144,
          1040,
          975,
          917.6470588235295,
          866.6666666666666,
          821.0526315789474,
          780,
          742.8571428571429,
          709.0909090909091,
          678.2608695652174,
          650,
          624,
          600,
          577.7777777777778,
          557.1428571428572,
          537.9310344827586,
          520,
          503.22580645161287,
          487.5,
          472.72727272727275,
          458.82352941176475,
          445.7142857142857,
          433.3333333333333,
          421.6216216216216,
          410.5263157894737,
          400.00000000000006,
          390,
          380.4878048780488,
          371.42857142857144,
          362.79069767441865,
          354.54545454545456,
          346.6666666666667,
          339.1304347826087,
          331.9148936170213,
          325,
          318.36734693877554,
          312,
          305.88235294117646,
          300,
          294.33962264150944,
          288.8888888888889,
          283.6363636363636,
          278.5714285714286,
          273.6842105263158,
          268.9655172413793,
          264.4067796610169
         ],
         "y": [
          352.21147824882235,
          318.1097973815462,
          290.0233862657406,
          266.49083151496257,
          246.48834164588533,
          229.27744764364607,
          214.31213216957605,
          201.17999897716643,
          189.5637707202582,
          179.21536956220558,
          169.93803251566376,
          161.57369934538653,
          153.99394498447757,
          147.09334656643517,
          140.78455527061362,
          134.99458287874066,
          129.66196758104738,
          124.73458541147131,
          120.16794202764693,
          115.9238261966258,
          111.96923868983902,
          108.27553304239402,
          104.81772085135755,
          101.57390599429161,
          98.52482069619342,
          95.65344268006454,
          92.94467733726907,
          90.38509239055139,
          87.96269520683317,
          85.6667449710212,
          83.48759351620949,
          81.41654983634663,
          79.4457642701693,
          77.56812910326225,
          75.7771929357245,
          74.06708664160878,
          72.4324591299529,
          70.86842142634907,
          69.3704978443434,
          67.93458321968515,
          66.55690534700318,
          65.23399189526184,
          63.962641191139795,
          62.73989635286783,
          61.563022334693706,
          60.42948550691173,
          59.33693545062962,
          58.2831886920136,
          57.26621413916732,
          56.28412001728734,
          55.33514212529576
         ]
        }
       ],
       "layout": {
        "legend": {
         "tracegroupgap": 0
        },
        "margin": {
         "t": 60
        },
        "template": {
         "data": {
          "bar": [
           {
            "error_x": {
             "color": "#2a3f5f"
            },
            "error_y": {
             "color": "#2a3f5f"
            },
            "marker": {
             "line": {
              "color": "#E5ECF6",
              "width": 0.5
             }
            },
            "type": "bar"
           }
          ],
          "barpolar": [
           {
            "marker": {
             "line": {
              "color": "#E5ECF6",
              "width": 0.5
             }
            },
            "type": "barpolar"
           }
          ],
          "carpet": [
           {
            "aaxis": {
             "endlinecolor": "#2a3f5f",
             "gridcolor": "white",
             "linecolor": "white",
             "minorgridcolor": "white",
             "startlinecolor": "#2a3f5f"
            },
            "baxis": {
             "endlinecolor": "#2a3f5f",
             "gridcolor": "white",
             "linecolor": "white",
             "minorgridcolor": "white",
             "startlinecolor": "#2a3f5f"
            },
            "type": "carpet"
           }
          ],
          "choropleth": [
           {
            "colorbar": {
             "outlinewidth": 0,
             "ticks": ""
            },
            "type": "choropleth"
           }
          ],
          "contour": [
           {
            "colorbar": {
             "outlinewidth": 0,
             "ticks": ""
            },
            "colorscale": [
             [
              0,
              "#0d0887"
             ],
             [
              0.1111111111111111,
              "#46039f"
             ],
             [
              0.2222222222222222,
              "#7201a8"
             ],
             [
              0.3333333333333333,
              "#9c179e"
             ],
             [
              0.4444444444444444,
              "#bd3786"
             ],
             [
              0.5555555555555556,
              "#d8576b"
             ],
             [
              0.6666666666666666,
              "#ed7953"
             ],
             [
              0.7777777777777778,
              "#fb9f3a"
             ],
             [
              0.8888888888888888,
              "#fdca26"
             ],
             [
              1,
              "#f0f921"
             ]
            ],
            "type": "contour"
           }
          ],
          "contourcarpet": [
           {
            "colorbar": {
             "outlinewidth": 0,
             "ticks": ""
            },
            "type": "contourcarpet"
           }
          ],
          "heatmap": [
           {
            "colorbar": {
             "outlinewidth": 0,
             "ticks": ""
            },
            "colorscale": [
             [
              0,
              "#0d0887"
             ],
             [
              0.1111111111111111,
              "#46039f"
             ],
             [
              0.2222222222222222,
              "#7201a8"
             ],
             [
              0.3333333333333333,
              "#9c179e"
             ],
             [
              0.4444444444444444,
              "#bd3786"
             ],
             [
              0.5555555555555556,
              "#d8576b"
             ],
             [
              0.6666666666666666,
              "#ed7953"
             ],
             [
              0.7777777777777778,
              "#fb9f3a"
             ],
             [
              0.8888888888888888,
              "#fdca26"
             ],
             [
              1,
              "#f0f921"
             ]
            ],
            "type": "heatmap"
           }
          ],
          "heatmapgl": [
           {
            "colorbar": {
             "outlinewidth": 0,
             "ticks": ""
            },
            "colorscale": [
             [
              0,
              "#0d0887"
             ],
             [
              0.1111111111111111,
              "#46039f"
             ],
             [
              0.2222222222222222,
              "#7201a8"
             ],
             [
              0.3333333333333333,
              "#9c179e"
             ],
             [
              0.4444444444444444,
              "#bd3786"
             ],
             [
              0.5555555555555556,
              "#d8576b"
             ],
             [
              0.6666666666666666,
              "#ed7953"
             ],
             [
              0.7777777777777778,
              "#fb9f3a"
             ],
             [
              0.8888888888888888,
              "#fdca26"
             ],
             [
              1,
              "#f0f921"
             ]
            ],
            "type": "heatmapgl"
           }
          ],
          "histogram": [
           {
            "marker": {
             "colorbar": {
              "outlinewidth": 0,
              "ticks": ""
             }
            },
            "type": "histogram"
           }
          ],
          "histogram2d": [
           {
            "colorbar": {
             "outlinewidth": 0,
             "ticks": ""
            },
            "colorscale": [
             [
              0,
              "#0d0887"
             ],
             [
              0.1111111111111111,
              "#46039f"
             ],
             [
              0.2222222222222222,
              "#7201a8"
             ],
             [
              0.3333333333333333,
              "#9c179e"
             ],
             [
              0.4444444444444444,
              "#bd3786"
             ],
             [
              0.5555555555555556,
              "#d8576b"
             ],
             [
              0.6666666666666666,
              "#ed7953"
             ],
             [
              0.7777777777777778,
              "#fb9f3a"
             ],
             [
              0.8888888888888888,
              "#fdca26"
             ],
             [
              1,
              "#f0f921"
             ]
            ],
            "type": "histogram2d"
           }
          ],
          "histogram2dcontour": [
           {
            "colorbar": {
             "outlinewidth": 0,
             "ticks": ""
            },
            "colorscale": [
             [
              0,
              "#0d0887"
             ],
             [
              0.1111111111111111,
              "#46039f"
             ],
             [
              0.2222222222222222,
              "#7201a8"
             ],
             [
              0.3333333333333333,
              "#9c179e"
             ],
             [
              0.4444444444444444,
              "#bd3786"
             ],
             [
              0.5555555555555556,
              "#d8576b"
             ],
             [
              0.6666666666666666,
              "#ed7953"
             ],
             [
              0.7777777777777778,
              "#fb9f3a"
             ],
             [
              0.8888888888888888,
              "#fdca26"
             ],
             [
              1,
              "#f0f921"
             ]
            ],
            "type": "histogram2dcontour"
           }
          ],
          "mesh3d": [
           {
            "colorbar": {
             "outlinewidth": 0,
             "ticks": ""
            },
            "type": "mesh3d"
           }
          ],
          "parcoords": [
           {
            "line": {
             "colorbar": {
              "outlinewidth": 0,
              "ticks": ""
             }
            },
            "type": "parcoords"
           }
          ],
          "pie": [
           {
            "automargin": true,
            "type": "pie"
           }
          ],
          "scatter": [
           {
            "marker": {
             "colorbar": {
              "outlinewidth": 0,
              "ticks": ""
             }
            },
            "type": "scatter"
           }
          ],
          "scatter3d": [
           {
            "line": {
             "colorbar": {
              "outlinewidth": 0,
              "ticks": ""
             }
            },
            "marker": {
             "colorbar": {
              "outlinewidth": 0,
              "ticks": ""
             }
            },
            "type": "scatter3d"
           }
          ],
          "scattercarpet": [
           {
            "marker": {
             "colorbar": {
              "outlinewidth": 0,
              "ticks": ""
             }
            },
            "type": "scattercarpet"
           }
          ],
          "scattergeo": [
           {
            "marker": {
             "colorbar": {
              "outlinewidth": 0,
              "ticks": ""
             }
            },
            "type": "scattergeo"
           }
          ],
          "scattergl": [
           {
            "marker": {
             "colorbar": {
              "outlinewidth": 0,
              "ticks": ""
             }
            },
            "type": "scattergl"
           }
          ],
          "scattermapbox": [
           {
            "marker": {
             "colorbar": {
              "outlinewidth": 0,
              "ticks": ""
             }
            },
            "type": "scattermapbox"
           }
          ],
          "scatterpolar": [
           {
            "marker": {
             "colorbar": {
              "outlinewidth": 0,
              "ticks": ""
             }
            },
            "type": "scatterpolar"
           }
          ],
          "scatterpolargl": [
           {
            "marker": {
             "colorbar": {
              "outlinewidth": 0,
              "ticks": ""
             }
            },
            "type": "scatterpolargl"
           }
          ],
          "scatterternary": [
           {
            "marker": {
             "colorbar": {
              "outlinewidth": 0,
              "ticks": ""
             }
            },
            "type": "scatterternary"
           }
          ],
          "surface": [
           {
            "colorbar": {
             "outlinewidth": 0,
             "ticks": ""
            },
            "colorscale": [
             [
              0,
              "#0d0887"
             ],
             [
              0.1111111111111111,
              "#46039f"
             ],
             [
              0.2222222222222222,
              "#7201a8"
             ],
             [
              0.3333333333333333,
              "#9c179e"
             ],
             [
              0.4444444444444444,
              "#bd3786"
             ],
             [
              0.5555555555555556,
              "#d8576b"
             ],
             [
              0.6666666666666666,
              "#ed7953"
             ],
             [
              0.7777777777777778,
              "#fb9f3a"
             ],
             [
              0.8888888888888888,
              "#fdca26"
             ],
             [
              1,
              "#f0f921"
             ]
            ],
            "type": "surface"
           }
          ],
          "table": [
           {
            "cells": {
             "fill": {
              "color": "#EBF0F8"
             },
             "line": {
              "color": "white"
             }
            },
            "header": {
             "fill": {
              "color": "#C8D4E3"
             },
             "line": {
              "color": "white"
             }
            },
            "type": "table"
           }
          ]
         },
         "layout": {
          "annotationdefaults": {
           "arrowcolor": "#2a3f5f",
           "arrowhead": 0,
           "arrowwidth": 1
          },
          "autotypenumbers": "strict",
          "coloraxis": {
           "colorbar": {
            "outlinewidth": 0,
            "ticks": ""
           }
          },
          "colorscale": {
           "diverging": [
            [
             0,
             "#8e0152"
            ],
            [
             0.1,
             "#c51b7d"
            ],
            [
             0.2,
             "#de77ae"
            ],
            [
             0.3,
             "#f1b6da"
            ],
            [
             0.4,
             "#fde0ef"
            ],
            [
             0.5,
             "#f7f7f7"
            ],
            [
             0.6,
             "#e6f5d0"
            ],
            [
             0.7,
             "#b8e186"
            ],
            [
             0.8,
             "#7fbc41"
            ],
            [
             0.9,
             "#4d9221"
            ],
            [
             1,
             "#276419"
            ]
           ],
           "sequential": [
            [
             0,
             "#0d0887"
            ],
            [
             0.1111111111111111,
             "#46039f"
            ],
            [
             0.2222222222222222,
             "#7201a8"
            ],
            [
             0.3333333333333333,
             "#9c179e"
            ],
            [
             0.4444444444444444,
             "#bd3786"
            ],
            [
             0.5555555555555556,
             "#d8576b"
            ],
            [
             0.6666666666666666,
             "#ed7953"
            ],
            [
             0.7777777777777778,
             "#fb9f3a"
            ],
            [
             0.8888888888888888,
             "#fdca26"
            ],
            [
             1,
             "#f0f921"
            ]
           ],
           "sequentialminus": [
            [
             0,
             "#0d0887"
            ],
            [
             0.1111111111111111,
             "#46039f"
            ],
            [
             0.2222222222222222,
             "#7201a8"
            ],
            [
             0.3333333333333333,
             "#9c179e"
            ],
            [
             0.4444444444444444,
             "#bd3786"
            ],
            [
             0.5555555555555556,
             "#d8576b"
            ],
            [
             0.6666666666666666,
             "#ed7953"
            ],
            [
             0.7777777777777778,
             "#fb9f3a"
            ],
            [
             0.8888888888888888,
             "#fdca26"
            ],
            [
             1,
             "#f0f921"
            ]
           ]
          },
          "colorway": [
           "#636efa",
           "#EF553B",
           "#00cc96",
           "#ab63fa",
           "#FFA15A",
           "#19d3f3",
           "#FF6692",
           "#B6E880",
           "#FF97FF",
           "#FECB52"
          ],
          "font": {
           "color": "#2a3f5f"
          },
          "geo": {
           "bgcolor": "white",
           "lakecolor": "white",
           "landcolor": "#E5ECF6",
           "showlakes": true,
           "showland": true,
           "subunitcolor": "white"
          },
          "hoverlabel": {
           "align": "left"
          },
          "hovermode": "closest",
          "mapbox": {
           "style": "light"
          },
          "paper_bgcolor": "white",
          "plot_bgcolor": "#E5ECF6",
          "polar": {
           "angularaxis": {
            "gridcolor": "white",
            "linecolor": "white",
            "ticks": ""
           },
           "bgcolor": "#E5ECF6",
           "radialaxis": {
            "gridcolor": "white",
            "linecolor": "white",
            "ticks": ""
           }
          },
          "scene": {
           "xaxis": {
            "backgroundcolor": "#E5ECF6",
            "gridcolor": "white",
            "gridwidth": 2,
            "linecolor": "white",
            "showbackground": true,
            "ticks": "",
            "zerolinecolor": "white"
           },
           "yaxis": {
            "backgroundcolor": "#E5ECF6",
            "gridcolor": "white",
            "gridwidth": 2,
            "linecolor": "white",
            "showbackground": true,
            "ticks": "",
            "zerolinecolor": "white"
           },
           "zaxis": {
            "backgroundcolor": "#E5ECF6",
            "gridcolor": "white",
            "gridwidth": 2,
            "linecolor": "white",
            "showbackground": true,
            "ticks": "",
            "zerolinecolor": "white"
           }
          },
          "shapedefaults": {
           "line": {
            "color": "#2a3f5f"
           }
          },
          "ternary": {
           "aaxis": {
            "gridcolor": "white",
            "linecolor": "white",
            "ticks": ""
           },
           "baxis": {
            "gridcolor": "white",
            "linecolor": "white",
            "ticks": ""
           },
           "bgcolor": "#E5ECF6",
           "caxis": {
            "gridcolor": "white",
            "linecolor": "white",
            "ticks": ""
           }
          },
          "title": {
           "x": 0.05
          },
          "xaxis": {
           "automargin": true,
           "gridcolor": "white",
           "linecolor": "white",
           "ticks": "",
           "title": {
            "standoff": 15
           },
           "zerolinecolor": "white",
           "zerolinewidth": 2
          },
          "yaxis": {
           "automargin": true,
           "gridcolor": "white",
           "linecolor": "white",
           "ticks": "",
           "title": {
            "standoff": 15
           },
           "zerolinecolor": "white",
           "zerolinewidth": 2
          }
         }
        },
        "xaxis": {
         "anchor": "y",
         "domain": [
          0,
          1
         ]
        },
        "yaxis": {
         "anchor": "x",
         "domain": [
          0,
          1
         ]
        }
       }
      }
     },
     "metadata": {}
    },
    {
     "output_type": "display_data",
     "data": {
      "application/vnd.plotly.v1+json": {
       "config": {
        "plotlyServerURL": "https://plot.ly"
       },
       "data": [
        {
         "name": "d = 55 mm",
         "type": "scatter",
         "x": [
          1733.3333333333333,
          1560,
          1418.1818181818182,
          1300,
          1200,
          1114.2857142857144,
          1040,
          975,
          917.6470588235295,
          866.6666666666666,
          821.0526315789474,
          780,
          742.8571428571429,
          709.0909090909091,
          678.2608695652174,
          650,
          624,
          600,
          577.7777777777778,
          557.1428571428572,
          537.9310344827586,
          520,
          503.22580645161287,
          487.5,
          472.72727272727275,
          458.82352941176475,
          445.7142857142857,
          433.3333333333333,
          421.6216216216216,
          410.5263157894737,
          400.00000000000006,
          390,
          380.4878048780488,
          371.42857142857144,
          362.79069767441865,
          354.54545454545456,
          346.6666666666667,
          339.1304347826087,
          331.9148936170213,
          325,
          318.36734693877554,
          312,
          305.88235294117646,
          300,
          294.33962264150944,
          288.8888888888889,
          283.6363636363636,
          278.5714285714286,
          273.6842105263158,
          268.9655172413793,
          264.4067796610169
         ],
         "y": [
          21.4715225824328,
          20.180433291770573,
          18.982589497331055,
          18.698096009813206,
          18.777382854764642,
          18.681279285305614,
          18.46899869210053,
          18.180720413281243,
          17.84398759205387,
          17.14870289553893,
          16.40119041040059,
          15.713699345386532,
          15.079659270191867,
          14.493346566435152,
          13.949772661917983,
          13.444582878740647,
          12.973967581047381,
          12.534585411471323,
          12.12349758320249,
          11.738111910911499,
          11.376135241563155,
          11.035533042394015,
          10.714495044905943,
          10.411405994291615,
          10.124820696193401,
          9.853442680064546,
          9.596105908697645,
          9.351759057218066,
          9.119451963589928,
          8.89832391838962,
          8.687593516209477,
          8.486549836346633,
          8.294544757974188,
          8.110986246119394,
          7.935332470608228,
          7.767086641608788,
          7.605792463286229,
          7.451030122001234,
          7.30241273796044,
          7.159583219685163,
          7.0222114694521505,
          6.889991895261844,
          6.762641191139797,
          6.63989635286783,
          6.521512900731439,
          6.4072632846895115,
          6.296935450629624,
          6.190331549156447,
          6.087266770746265,
          5.987568293149409,
          5.89107432868561
         ]
        },
        {
         "name": "d = 95 mm",
         "type": "scatter",
         "x": [
          1733.3333333333333,
          1560,
          1418.1818181818182,
          1300,
          1200,
          1114.2857142857144,
          1040,
          975,
          917.6470588235295,
          866.6666666666666,
          821.0526315789474,
          780,
          742.8571428571429,
          709.0909090909091,
          678.2608695652174,
          650,
          624,
          600,
          577.7777777777778,
          557.1428571428572,
          537.9310344827586,
          520,
          503.22580645161287,
          487.5,
          472.72727272727275,
          458.82352941176475,
          445.7142857142857,
          433.3333333333333,
          421.6216216216216,
          410.5263157894737,
          400.00000000000006,
          390,
          380.4878048780488,
          371.42857142857144,
          362.79069767441865,
          354.54545454545456,
          346.6666666666667,
          339.1304347826087,
          331.9148936170213,
          325,
          318.36734693877554,
          312,
          305.88235294117646,
          300,
          294.33962264150944,
          288.8888888888889,
          283.6363636363636,
          278.5714285714286,
          273.6842105263158,
          268.9655172413793,
          264.4067796610169
         ],
         "y": [
          54.65474967915647,
          52.909797381546134,
          48.93247717483152,
          45.490831514962586,
          42.488341645885285,
          39.848876215074576,
          37.512132169576056,
          35.429998977166456,
          33.563770720258184,
          31.882036228872263,
          30.359085147242695,
          28.973699345386535,
          27.708230698763295,
          26.547892020980605,
          25.48020744452668,
          24.494582878740648,
          23.58196758104738,
          22.734585411471322,
          21.945719805424712,
          21.20954048234007,
          20.52096282777005,
          19.875533042394014,
          19.26933375458336,
          18.698905994291614,
          18.16118433255704,
          17.653442680064547,
          17.1732487658405,
          16.71842572388473,
          16.287019531157497,
          15.877271286810677,
          15.487593516209477,
          15.116549836346636,
          14.762837440901016,
          14.425271960405107,
          14.102774331073345,
          13.794359368881516,
          13.49912579661956,
          13.216247513305582,
          12.9449659294498,
          12.684583219685162,
          12.434456367411338,
          12.193991895261846,
          11.962641191139797,
          11.739896352867829,
          11.525286485637102,
          11.318374395800623,
          11.118753632447806,
          10.926045834870735,
          10.739898349693632,
          10.559982086252857,
          10.385989582922898
         ]
        },
        {
         "name": "d = 135 mm",
         "type": "scatter",
         "x": [
          1733.3333333333333,
          1560,
          1418.1818181818182,
          1300,
          1200,
          1114.2857142857144,
          1040,
          975,
          917.6470588235295,
          866.6666666666666,
          821.0526315789474,
          780,
          742.8571428571429,
          709.0909090909091,
          678.2608695652174,
          650,
          624,
          600,
          577.7777777777778,
          557.1428571428572,
          537.9310344827586,
          520,
          503.22580645161287,
          487.5,
          472.72727272727275,
          458.82352941176475,
          445.7142857142857,
          433.3333333333333,
          421.6216216216216,
          410.5263157894737,
          400.00000000000006,
          390,
          380.4878048780488,
          371.42857142857144,
          362.79069767441865,
          354.54545454545456,
          346.6666666666667,
          339.1304347826087,
          331.9148936170213,
          325,
          318.36734693877554,
          312,
          305.88235294117646,
          300,
          294.33962264150944,
          288.8888888888889,
          283.6363636363636,
          278.5714285714286,
          273.6842105263158,
          268.9655172413793,
          264.4067796610169
         ],
         "y": [
          87.01147824882239,
          79.42979738154612,
          73.04156808392243,
          67.59083151496259,
          62.88834164588528,
          58.79173335793171,
          55.19213216957606,
          52.00499897716646,
          49.16377072025818,
          46.61536956220559,
          44.3169798840848,
          42.23369934538653,
          40.33680212733472,
          38.60243747552607,
          37.01064222713537,
          35.54458287874065,
          34.18996758104739,
          32.93458541147132,
          31.767942027646942,
          30.680969053768646,
          29.665790413976943,
          28.715533042394014,
          27.82417246426078,
          26.986405994291612,
          26.19754796892067,
          25.453442680064544,
          24.750391622983358,
          24.085092390551402,
          23.454587098725064,
          22.85621865523173,
          22.287593516209476,
          21.746549836346627,
          21.23113012382785,
          20.739557674690822,
          20.27021619153846,
          19.821632096154246,
          19.392459129952897,
          18.981464904609933,
          18.58751912093916,
          18.20958321968516,
          17.84670126537052,
          17.497991895261844,
          17.162641191139798,
          16.839896352867832,
          16.529060070542762,
          16.229485506911736,
          15.940571814265988,
          15.66176012058502,
          15.392529928641,
          15.132395879356304,
          14.880904837160184
         ]
        },
        {
         "name": "d = 175 mm",
         "type": "scatter",
         "x": [
          1733.3333333333333,
          1560,
          1418.1818181818182,
          1300,
          1200,
          1114.2857142857144,
          1040,
          975,
          917.6470588235295,
          866.6666666666666,
          821.0526315789474,
          780,
          742.8571428571429,
          709.0909090909091,
          678.2608695652174,
          650,
          624,
          600,
          577.7777777777778,
          557.1428571428572,
          537.9310344827586,
          520,
          503.22580645161287,
          487.5,
          472.72727272727275,
          458.82352941176475,
          445.7142857142857,
          433.3333333333333,
          421.6216216216216,
          410.5263157894737,
          400.00000000000006,
          390,
          380.4878048780488,
          371.42857142857144,
          362.79069767441865,
          354.54545454545456,
          346.6666666666667,
          339.1304347826087,
          331.9148936170213,
          325,
          318.36734693877554,
          312,
          305.88235294117646,
          300,
          294.33962264150944,
          288.8888888888889,
          283.6363636363636,
          278.5714285714286,
          273.6842105263158,
          268.9655172413793,
          264.4067796610169
         ],
         "y": [
          116.47814491548905,
          105.94979738154615,
          97.15065899301332,
          89.6908315149626,
          83.28834164588528,
          77.73459050078887,
          72.87213216957606,
          68.57999897716645,
          64.7637707202582,
          61.34870289553892,
          58.274874620926916,
          55.49369934538653,
          52.96537355590615,
          50.65698293007152,
          48.541077009744065,
          46.59458287874065,
          44.79796758104739,
          43.13458541147132,
          41.59016424986916,
          40.15239762519722,
          38.81061800018385,
          37.55553304239401,
          36.379011173938196,
          35.27390599429161,
          34.233911605284305,
          33.253442680064545,
          32.32753448012622,
          31.451759057218066,
          30.622154666292627,
          29.83516602365278,
          29.08759351620948,
          28.37654983634663,
          27.699422806754676,
          27.053843388976535,
          26.437658052003574,
          25.848904823426974,
          25.285792463286228,
          24.74668229591428,
          24.230072312428522,
          23.734583219685163,
          23.258946163329707,
          22.801991895261843,
          22.362641191139797,
          21.939896352867834,
          21.53283365544842,
          21.140596618022844,
          20.76238999608417,
          20.397474406299306,
          20.045161507588368,
          19.70480967245975,
          19.375820091397472
         ]
        },
        {
         "name": "d = 215 mm",
         "type": "scatter",
         "x": [
          1733.3333333333333,
          1560,
          1418.1818181818182,
          1300,
          1200,
          1114.2857142857144,
          1040,
          975,
          917.6470588235295,
          866.6666666666666,
          821.0526315789474,
          780,
          742.8571428571429,
          709.0909090909091,
          678.2608695652174,
          650,
          624,
          600,
          577.7777777777778,
          557.1428571428572,
          537.9310344827586,
          520,
          503.22580645161287,
          487.5,
          472.72727272727275,
          458.82352941176475,
          445.7142857142857,
          433.3333333333333,
          421.6216216216216,
          410.5263157894737,
          400.00000000000006,
          390,
          380.4878048780488,
          371.42857142857144,
          362.79069767441865,
          354.54545454545456,
          346.6666666666667,
          339.1304347826087,
          331.9148936170213,
          325,
          318.36734693877554,
          312,
          305.88235294117646,
          300,
          294.33962264150944,
          288.8888888888889,
          283.6363636363636,
          278.5714285714286,
          273.6842105263158,
          268.9655172413793,
          264.4067796610169
         ],
         "y": [
          145.94481158215572,
          132.46979738154616,
          121.25974990210425,
          111.7908315149626,
          103.68834164588529,
          96.677447643646,
          90.55213216957605,
          85.15499897716646,
          80.36377072025819,
          76.08203622887225,
          72.23276935776902,
          68.75369934538654,
          65.59394498447757,
          62.71152838461697,
          60.071511792352766,
          57.644582878740636,
          55.405967581047385,
          53.334585411471316,
          51.412386472091384,
          49.62382619662579,
          47.95544558639074,
          46.395533042394014,
          44.933849883615615,
          43.56140599429161,
          42.27027524164795,
          41.05344268006455,
          39.90467733726908,
          38.81842572388473,
          37.78972223386019,
          36.81411339207383,
          35.88759351620948,
          35.006549836346636,
          34.167715489681505,
          33.368129103262255,
          32.605099912468695,
          31.8761775506997,
          31.179125796619562,
          30.511899687218627,
          29.87262550391788,
          29.25958321968516,
          28.67119106128889,
          28.105991895261845,
          27.562641191139797,
          27.03989635286783,
          26.536607240354083,
          26.05170772913396,
          25.58420817790235,
          25.133188692013594,
          24.69779308653574,
          24.2772234655632,
          23.87073534563476
         ]
        },
        {
         "name": "d = 255 mm",
         "type": "scatter",
         "x": [
          1733.3333333333333,
          1560,
          1418.1818181818182,
          1300,
          1200,
          1114.2857142857144,
          1040,
          975,
          917.6470588235295,
          866.6666666666666,
          821.0526315789474,
          780,
          742.8571428571429,
          709.0909090909091,
          678.2608695652174,
          650,
          624,
          600,
          577.7777777777778,
          557.1428571428572,
          537.9310344827586,
          520,
          503.22580645161287,
          487.5,
          472.72727272727275,
          458.82352941176475,
          445.7142857142857,
          433.3333333333333,
          421.6216216216216,
          410.5263157894737,
          400.00000000000006,
          390,
          380.4878048780488,
          371.42857142857144,
          362.79069767441865,
          354.54545454545456,
          346.6666666666667,
          339.1304347826087,
          331.9148936170213,
          325,
          318.36734693877554,
          312,
          305.88235294117646,
          300,
          294.33962264150944,
          288.8888888888889,
          283.6363636363636,
          278.5714285714286,
          273.6842105263158,
          268.9655172413793,
          264.4067796610169
         ],
         "y": [
          175.41147824882236,
          158.98979738154614,
          145.36884081119516,
          133.8908315149626,
          124.08834164588528,
          115.62030478650316,
          108.23213216957605,
          101.72999897716646,
          95.96377072025818,
          90.81536956220559,
          86.19066409461112,
          82.01369934538653,
          78.22251641304901,
          74.76607383916243,
          71.60194657496146,
          68.69458287874063,
          66.0139675810474,
          63.534585411471326,
          61.234608694313614,
          59.09525476805437,
          57.10027317259764,
          55.23553304239401,
          53.488688593293034,
          51.84890599429161,
          50.30663887801158,
          48.853442680064546,
          47.48182019441193,
          46.1850923905514,
          44.95728980142776,
          43.79306076049489,
          42.68759351620948,
          41.63654983634663,
          40.636008172608335,
          39.682414817547965,
          38.772541772933806,
          37.90345027797243,
          37.0724591299529,
          36.27711707852297,
          35.51517869540725,
          34.78458321968516,
          34.08343595924807,
          33.40999189526185,
          32.7626411911398,
          32.13989635286783,
          31.540380825259746,
          30.962818840245067,
          30.406026359720535,
          29.86890297772788,
          29.350424665483104,
          28.849637258666647,
          28.365650599872044
         ]
        },
        {
         "name": "d = 295 mm",
         "type": "scatter",
         "x": [
          1733.3333333333333,
          1560,
          1418.1818181818182,
          1300,
          1200,
          1114.2857142857144,
          1040,
          975,
          917.6470588235295,
          866.6666666666666,
          821.0526315789474,
          780,
          742.8571428571429,
          709.0909090909091,
          678.2608695652174,
          650,
          624,
          600,
          577.7777777777778,
          557.1428571428572,
          537.9310344827586,
          520,
          503.22580645161287,
          487.5,
          472.72727272727275,
          458.82352941176475,
          445.7142857142857,
          433.3333333333333,
          421.6216216216216,
          410.5263157894737,
          400.00000000000006,
          390,
          380.4878048780488,
          371.42857142857144,
          362.79069767441865,
          354.54545454545456,
          346.6666666666667,
          339.1304347826087,
          331.9148936170213,
          325,
          318.36734693877554,
          312,
          305.88235294117646,
          300,
          294.33962264150944,
          288.8888888888889,
          283.6363636363636,
          278.5714285714286,
          273.6842105263158,
          268.9655172413793,
          264.4067796610169
         ],
         "y": [
          204.87814491548906,
          185.50979738154612,
          169.47793172028608,
          155.9908315149626,
          144.48834164588527,
          134.56316192936032,
          125.91213216957605,
          118.30499897716645,
          111.56377072025819,
          105.54870289553894,
          100.14855883145323,
          95.27369934538652,
          90.85108784162044,
          86.8206192937079,
          83.13238135757015,
          79.74458287874064,
          76.62196758104737,
          73.73458541147133,
          71.05683091653583,
          68.56668333948295,
          66.24510075880453,
          64.07553304239401,
          62.04352730297046,
          60.13640599429161,
          58.34300251437523,
          56.65344268006454,
          55.05896305155479,
          53.551759057218064,
          52.12485736899533,
          50.77200812891594,
          49.487593516209486,
          48.266549836346634,
          47.10430085553516,
          45.99670053183368,
          44.939983633398924,
          43.93072300524516,
          42.965792463286235,
          42.042334469827324,
          41.157731886896606,
          40.30958321968516,
          39.495680857207255,
          38.71399189526185,
          37.962641191139795,
          37.23989635286783,
          36.544154410165405,
          35.87392995135618,
          35.227844541538715,
          34.60461726344217,
          34.003056244430475,
          33.4220510517701,
          32.860565854109325
         ]
        },
        {
         "name": "d = 335 mm",
         "type": "scatter",
         "x": [
          1733.3333333333333,
          1560,
          1418.1818181818182,
          1300,
          1200,
          1114.2857142857144,
          1040,
          975,
          917.6470588235295,
          866.6666666666666,
          821.0526315789474,
          780,
          742.8571428571429,
          709.0909090909091,
          678.2608695652174,
          650,
          624,
          600,
          577.7777777777778,
          557.1428571428572,
          537.9310344827586,
          520,
          503.22580645161287,
          487.5,
          472.72727272727275,
          458.82352941176475,
          445.7142857142857,
          433.3333333333333,
          421.6216216216216,
          410.5263157894737,
          400.00000000000006,
          390,
          380.4878048780488,
          371.42857142857144,
          362.79069767441865,
          354.54545454545456,
          346.6666666666667,
          339.1304347826087,
          331.9148936170213,
          325,
          318.36734693877554,
          312,
          305.88235294117646,
          300,
          294.33962264150944,
          288.8888888888889,
          283.6363636363636,
          278.5714285714286,
          273.6842105263158,
          268.9655172413793,
          264.4067796610169
         ],
         "y": [
          234.34481158215567,
          212.02979738154613,
          193.587022629377,
          178.0908315149626,
          164.88834164588528,
          153.5060190722174,
          143.59213216957605,
          134.87999897716645,
          127.16377072025819,
          120.28203622887226,
          114.10645356829532,
          108.53369934538652,
          103.47965927019187,
          98.87516474825335,
          94.66281614017885,
          90.79458287874066,
          87.22996758104738,
          83.93458541147133,
          80.87905313875805,
          78.03811191091152,
          75.38992834501143,
          72.91553304239402,
          70.59836601264787,
          68.4239059942916,
          66.37936615073886,
          64.45344268006455,
          62.63610590869763,
          60.918425723884724,
          59.29242493656291,
          57.75095549733699,
          56.28759351620949,
          54.89654983634664,
          53.57259353846199,
          52.31098624611939,
          51.107425493864035,
          49.95799573251789,
          48.859125796619566,
          47.80755186113167,
          46.80028507838597,
          45.834583219685165,
          44.90792575516644,
          44.01799189526185,
          43.16264119113979,
          42.339896352867825,
          41.54792799507107,
          40.78504106246729,
          40.049662723356896,
          39.34033154915645,
          38.655687823377846,
          37.99446484487354,
          37.355481108346616
         ]
        },
        {
         "name": "d = 375 mm",
         "type": "scatter",
         "x": [
          1733.3333333333333,
          1560,
          1418.1818181818182,
          1300,
          1200,
          1114.2857142857144,
          1040,
          975,
          917.6470588235295,
          866.6666666666666,
          821.0526315789474,
          780,
          742.8571428571429,
          709.0909090909091,
          678.2608695652174,
          650,
          624,
          600,
          577.7777777777778,
          557.1428571428572,
          537.9310344827586,
          520,
          503.22580645161287,
          487.5,
          472.72727272727275,
          458.82352941176475,
          445.7142857142857,
          433.3333333333333,
          421.6216216216216,
          410.5263157894737,
          400.00000000000006,
          390,
          380.4878048780488,
          371.42857142857144,
          362.79069767441865,
          354.54545454545456,
          346.6666666666667,
          339.1304347826087,
          331.9148936170213,
          325,
          318.36734693877554,
          312,
          305.88235294117646,
          300,
          294.33962264150944,
          288.8888888888889,
          283.6363636363636,
          278.5714285714286,
          273.6842105263158,
          268.9655172413793,
          264.4067796610169
         ],
         "y": [
          263.81147824882237,
          238.5497973815461,
          217.6961135384679,
          200.1908315149626,
          185.28834164588528,
          172.4488762150746,
          161.27213216957605,
          151.45499897716644,
          142.76377072025818,
          135.01536956220556,
          128.06434830513743,
          121.79369934538654,
          116.10823069876328,
          110.9297102027988,
          106.19325092278756,
          101.84458287874065,
          97.83796758104738,
          94.13458541147133,
          90.70127536098028,
          87.50954048234009,
          84.53475593121831,
          81.75553304239402,
          79.1532047223253,
          76.71140599429161,
          74.41572978710249,
          72.25344268006455,
          70.2132487658405,
          68.2850923905514,
          66.45999250413047,
          64.72990286575805,
          63.08759351620949,
          61.52654983634663,
          60.04088622138881,
          58.625271960405115,
          57.27486735432916,
          55.98526845979061,
          54.7524591299529,
          53.57276925243602,
          52.44283826987533,
          51.35958321968516,
          50.32017065312562,
          49.321991895261846,
          48.362641191139794,
          47.43989635286783,
          46.55170157997673,
          45.696152173578405,
          44.871480905175076,
          44.07604583487074,
          43.3083194023252,
          42.56687863797699,
          41.8503963625839
         ]
        },
        {
         "name": "d = 415 mm",
         "type": "scatter",
         "x": [
          1733.3333333333333,
          1560,
          1418.1818181818182,
          1300,
          1200,
          1114.2857142857144,
          1040,
          975,
          917.6470588235295,
          866.6666666666666,
          821.0526315789474,
          780,
          742.8571428571429,
          709.0909090909091,
          678.2608695652174,
          650,
          624,
          600,
          577.7777777777778,
          557.1428571428572,
          537.9310344827586,
          520,
          503.22580645161287,
          487.5,
          472.72727272727275,
          458.82352941176475,
          445.7142857142857,
          433.3333333333333,
          421.6216216216216,
          410.5263157894737,
          400.00000000000006,
          390,
          380.4878048780488,
          371.42857142857144,
          362.79069767441865,
          354.54545454545456,
          346.6666666666667,
          339.1304347826087,
          331.9148936170213,
          325,
          318.36734693877554,
          312,
          305.88235294117646,
          300,
          294.33962264150944,
          288.8888888888889,
          283.6363636363636,
          278.5714285714286,
          273.6842105263158,
          268.9655172413793,
          264.4067796610169
         ],
         "y": [
          293.27814491548907,
          265.0697973815461,
          241.8052044475588,
          222.2908315149626,
          205.68834164588526,
          191.39173335793174,
          178.95213216957606,
          168.02999897716643,
          158.36377072025817,
          149.7487028955389,
          142.02224304197955,
          135.05369934538655,
          128.73680212733473,
          122.98425565734426,
          117.72368570539625,
          112.89458287874065,
          108.44596758104737,
          104.33458541147132,
          100.5234975832025,
          96.98096905376866,
          93.67958351742521,
          90.59553304239402,
          87.7080434320027,
          84.9989059942916,
          82.45209342346612,
          80.05344268006456,
          77.79039162298335,
          75.65175905721806,
          73.62756007169803,
          71.7088502341791,
          69.88759351620949,
          68.15654983634663,
          66.50917890431565,
          64.93955767469083,
          63.44230921479427,
          62.01254118706333,
          60.64579246328624,
          59.33798664374037,
          58.08539146136469,
          56.88458321968517,
          55.732415551084806,
          54.62599189526185,
          53.56264119113979,
          52.53989635286783,
          51.55547516488238,
          50.607263284689516,
          49.69329908699326,
          48.81176012058503,
          47.96095098127258,
          47.13929243108045,
          46.34531161682119
         ]
        },
        {
         "name": "d = 455 mm",
         "type": "scatter",
         "x": [
          1733.3333333333333,
          1560,
          1418.1818181818182,
          1300,
          1200,
          1114.2857142857144,
          1040,
          975,
          917.6470588235295,
          866.6666666666666,
          821.0526315789474,
          780,
          742.8571428571429,
          709.0909090909091,
          678.2608695652174,
          650,
          624,
          600,
          577.7777777777778,
          557.1428571428572,
          537.9310344827586,
          520,
          503.22580645161287,
          487.5,
          472.72727272727275,
          458.82352941176475,
          445.7142857142857,
          433.3333333333333,
          421.6216216216216,
          410.5263157894737,
          400.00000000000006,
          390,
          380.4878048780488,
          371.42857142857144,
          362.79069767441865,
          354.54545454545456,
          346.6666666666667,
          339.1304347826087,
          331.9148936170213,
          325,
          318.36734693877554,
          312,
          305.88235294117646,
          300,
          294.33962264150944,
          288.8888888888889,
          283.6363636363636,
          278.5714285714286,
          273.6842105263158,
          268.9655172413793,
          264.4067796610169
         ],
         "y": [
          322.7448115821557,
          291.58979738154613,
          265.91429535664975,
          244.39083151496254,
          226.08834164588527,
          210.3345905007889,
          196.63213216957604,
          184.60499897716645,
          173.9637707202582,
          164.48203622887226,
          155.98013777882164,
          148.31369934538654,
          141.36537355590616,
          135.0388011118897,
          129.25412048800493,
          123.94458287874065,
          119.05396758104739,
          114.53458541147131,
          110.34571980542472,
          106.45239762519724,
          102.82441110363212,
          99.43553304239403,
          96.26288214168012,
          93.2864059942916,
          90.48845705982978,
          87.85344268006456,
          85.36753448012622,
          83.01842572388472,
          80.7951276392656,
          78.68779760260016,
          76.68759351620949,
          74.78654983634662,
          72.97747158724248,
          71.25384338897653,
          69.6097510752594,
          68.03981391433607,
          66.53912579661956,
          65.10320403504471,
          63.727944652854056,
          62.40958321968515,
          61.14466044904399,
          59.92999189526184,
          58.76264119113979,
          57.63989635286784,
          56.55924874978804,
          55.51837439580063,
          54.515117268811444,
          53.547474406299315,
          52.613582560219946,
          51.7117062241839,
          50.840226871058476
         ]
        },
        {
         "name": "d = 495 mm",
         "type": "scatter",
         "x": [
          1733.3333333333333,
          1560,
          1418.1818181818182,
          1300,
          1200,
          1114.2857142857144,
          1040,
          975,
          917.6470588235295,
          866.6666666666666,
          821.0526315789474,
          780,
          742.8571428571429,
          709.0909090909091,
          678.2608695652174,
          650,
          624,
          600,
          577.7777777777778,
          557.1428571428572,
          537.9310344827586,
          520,
          503.22580645161287,
          487.5,
          472.72727272727275,
          458.82352941176475,
          445.7142857142857,
          433.3333333333333,
          421.6216216216216,
          410.5263157894737,
          400.00000000000006,
          390,
          380.4878048780488,
          371.42857142857144,
          362.79069767441865,
          354.54545454545456,
          346.6666666666667,
          339.1304347826087,
          331.9148936170213,
          325,
          318.36734693877554,
          312,
          305.88235294117646,
          300,
          294.33962264150944,
          288.8888888888889,
          283.6363636363636,
          278.5714285714286,
          273.6842105263158,
          268.9655172413793,
          264.4067796610169
         ],
         "y": [
          352.21147824882235,
          318.1097973815462,
          290.0233862657406,
          266.49083151496257,
          246.48834164588533,
          229.27744764364607,
          214.31213216957605,
          201.17999897716643,
          189.5637707202582,
          179.21536956220558,
          169.93803251566376,
          161.57369934538653,
          153.99394498447757,
          147.09334656643517,
          140.78455527061362,
          134.99458287874066,
          129.66196758104738,
          124.73458541147131,
          120.16794202764693,
          115.9238261966258,
          111.96923868983902,
          108.27553304239402,
          104.81772085135755,
          101.57390599429161,
          98.52482069619342,
          95.65344268006454,
          92.94467733726907,
          90.38509239055139,
          87.96269520683317,
          85.6667449710212,
          83.48759351620949,
          81.41654983634663,
          79.4457642701693,
          77.56812910326225,
          75.7771929357245,
          74.06708664160878,
          72.4324591299529,
          70.86842142634907,
          69.3704978443434,
          67.93458321968515,
          66.55690534700318,
          65.23399189526184,
          63.962641191139795,
          62.73989635286783,
          61.563022334693706,
          60.42948550691173,
          59.33693545062962,
          58.2831886920136,
          57.26621413916732,
          56.28412001728734,
          55.33514212529576
         ]
        }
       ],
       "layout": {
        "hovermode": "x",
        "legend": {
         "tracegroupgap": 0
        },
        "margin": {
         "t": 60
        },
        "showlegend": true,
        "template": {
         "data": {
          "bar": [
           {
            "error_x": {
             "color": "#2a3f5f"
            },
            "error_y": {
             "color": "#2a3f5f"
            },
            "marker": {
             "line": {
              "color": "#E5ECF6",
              "width": 0.5
             }
            },
            "type": "bar"
           }
          ],
          "barpolar": [
           {
            "marker": {
             "line": {
              "color": "#E5ECF6",
              "width": 0.5
             }
            },
            "type": "barpolar"
           }
          ],
          "carpet": [
           {
            "aaxis": {
             "endlinecolor": "#2a3f5f",
             "gridcolor": "white",
             "linecolor": "white",
             "minorgridcolor": "white",
             "startlinecolor": "#2a3f5f"
            },
            "baxis": {
             "endlinecolor": "#2a3f5f",
             "gridcolor": "white",
             "linecolor": "white",
             "minorgridcolor": "white",
             "startlinecolor": "#2a3f5f"
            },
            "type": "carpet"
           }
          ],
          "choropleth": [
           {
            "colorbar": {
             "outlinewidth": 0,
             "ticks": ""
            },
            "type": "choropleth"
           }
          ],
          "contour": [
           {
            "colorbar": {
             "outlinewidth": 0,
             "ticks": ""
            },
            "colorscale": [
             [
              0,
              "#0d0887"
             ],
             [
              0.1111111111111111,
              "#46039f"
             ],
             [
              0.2222222222222222,
              "#7201a8"
             ],
             [
              0.3333333333333333,
              "#9c179e"
             ],
             [
              0.4444444444444444,
              "#bd3786"
             ],
             [
              0.5555555555555556,
              "#d8576b"
             ],
             [
              0.6666666666666666,
              "#ed7953"
             ],
             [
              0.7777777777777778,
              "#fb9f3a"
             ],
             [
              0.8888888888888888,
              "#fdca26"
             ],
             [
              1,
              "#f0f921"
             ]
            ],
            "type": "contour"
           }
          ],
          "contourcarpet": [
           {
            "colorbar": {
             "outlinewidth": 0,
             "ticks": ""
            },
            "type": "contourcarpet"
           }
          ],
          "heatmap": [
           {
            "colorbar": {
             "outlinewidth": 0,
             "ticks": ""
            },
            "colorscale": [
             [
              0,
              "#0d0887"
             ],
             [
              0.1111111111111111,
              "#46039f"
             ],
             [
              0.2222222222222222,
              "#7201a8"
             ],
             [
              0.3333333333333333,
              "#9c179e"
             ],
             [
              0.4444444444444444,
              "#bd3786"
             ],
             [
              0.5555555555555556,
              "#d8576b"
             ],
             [
              0.6666666666666666,
              "#ed7953"
             ],
             [
              0.7777777777777778,
              "#fb9f3a"
             ],
             [
              0.8888888888888888,
              "#fdca26"
             ],
             [
              1,
              "#f0f921"
             ]
            ],
            "type": "heatmap"
           }
          ],
          "heatmapgl": [
           {
            "colorbar": {
             "outlinewidth": 0,
             "ticks": ""
            },
            "colorscale": [
             [
              0,
              "#0d0887"
             ],
             [
              0.1111111111111111,
              "#46039f"
             ],
             [
              0.2222222222222222,
              "#7201a8"
             ],
             [
              0.3333333333333333,
              "#9c179e"
             ],
             [
              0.4444444444444444,
              "#bd3786"
             ],
             [
              0.5555555555555556,
              "#d8576b"
             ],
             [
              0.6666666666666666,
              "#ed7953"
             ],
             [
              0.7777777777777778,
              "#fb9f3a"
             ],
             [
              0.8888888888888888,
              "#fdca26"
             ],
             [
              1,
              "#f0f921"
             ]
            ],
            "type": "heatmapgl"
           }
          ],
          "histogram": [
           {
            "marker": {
             "colorbar": {
              "outlinewidth": 0,
              "ticks": ""
             }
            },
            "type": "histogram"
           }
          ],
          "histogram2d": [
           {
            "colorbar": {
             "outlinewidth": 0,
             "ticks": ""
            },
            "colorscale": [
             [
              0,
              "#0d0887"
             ],
             [
              0.1111111111111111,
              "#46039f"
             ],
             [
              0.2222222222222222,
              "#7201a8"
             ],
             [
              0.3333333333333333,
              "#9c179e"
             ],
             [
              0.4444444444444444,
              "#bd3786"
             ],
             [
              0.5555555555555556,
              "#d8576b"
             ],
             [
              0.6666666666666666,
              "#ed7953"
             ],
             [
              0.7777777777777778,
              "#fb9f3a"
             ],
             [
              0.8888888888888888,
              "#fdca26"
             ],
             [
              1,
              "#f0f921"
             ]
            ],
            "type": "histogram2d"
           }
          ],
          "histogram2dcontour": [
           {
            "colorbar": {
             "outlinewidth": 0,
             "ticks": ""
            },
            "colorscale": [
             [
              0,
              "#0d0887"
             ],
             [
              0.1111111111111111,
              "#46039f"
             ],
             [
              0.2222222222222222,
              "#7201a8"
             ],
             [
              0.3333333333333333,
              "#9c179e"
             ],
             [
              0.4444444444444444,
              "#bd3786"
             ],
             [
              0.5555555555555556,
              "#d8576b"
             ],
             [
              0.6666666666666666,
              "#ed7953"
             ],
             [
              0.7777777777777778,
              "#fb9f3a"
             ],
             [
              0.8888888888888888,
              "#fdca26"
             ],
             [
              1,
              "#f0f921"
             ]
            ],
            "type": "histogram2dcontour"
           }
          ],
          "mesh3d": [
           {
            "colorbar": {
             "outlinewidth": 0,
             "ticks": ""
            },
            "type": "mesh3d"
           }
          ],
          "parcoords": [
           {
            "line": {
             "colorbar": {
              "outlinewidth": 0,
              "ticks": ""
             }
            },
            "type": "parcoords"
           }
          ],
          "pie": [
           {
            "automargin": true,
            "type": "pie"
           }
          ],
          "scatter": [
           {
            "marker": {
             "colorbar": {
              "outlinewidth": 0,
              "ticks": ""
             }
            },
            "type": "scatter"
           }
          ],
          "scatter3d": [
           {
            "line": {
             "colorbar": {
              "outlinewidth": 0,
              "ticks": ""
             }
            },
            "marker": {
             "colorbar": {
              "outlinewidth": 0,
              "ticks": ""
             }
            },
            "type": "scatter3d"
           }
          ],
          "scattercarpet": [
           {
            "marker": {
             "colorbar": {
              "outlinewidth": 0,
              "ticks": ""
             }
            },
            "type": "scattercarpet"
           }
          ],
          "scattergeo": [
           {
            "marker": {
             "colorbar": {
              "outlinewidth": 0,
              "ticks": ""
             }
            },
            "type": "scattergeo"
           }
          ],
          "scattergl": [
           {
            "marker": {
             "colorbar": {
              "outlinewidth": 0,
              "ticks": ""
             }
            },
            "type": "scattergl"
           }
          ],
          "scattermapbox": [
           {
            "marker": {
             "colorbar": {
              "outlinewidth": 0,
              "ticks": ""
             }
            },
            "type": "scattermapbox"
           }
          ],
          "scatterpolar": [
           {
            "marker": {
             "colorbar": {
              "outlinewidth": 0,
              "ticks": ""
             }
            },
            "type": "scatterpolar"
           }
          ],
          "scatterpolargl": [
           {
            "marker": {
             "colorbar": {
              "outlinewidth": 0,
              "ticks": ""
             }
            },
            "type": "scatterpolargl"
           }
          ],
          "scatterternary": [
           {
            "marker": {
             "colorbar": {
              "outlinewidth": 0,
              "ticks": ""
             }
            },
            "type": "scatterternary"
           }
          ],
          "surface": [
           {
            "colorbar": {
             "outlinewidth": 0,
             "ticks": ""
            },
            "colorscale": [
             [
              0,
              "#0d0887"
             ],
             [
              0.1111111111111111,
              "#46039f"
             ],
             [
              0.2222222222222222,
              "#7201a8"
             ],
             [
              0.3333333333333333,
              "#9c179e"
             ],
             [
              0.4444444444444444,
              "#bd3786"
             ],
             [
              0.5555555555555556,
              "#d8576b"
             ],
             [
              0.6666666666666666,
              "#ed7953"
             ],
             [
              0.7777777777777778,
              "#fb9f3a"
             ],
             [
              0.8888888888888888,
              "#fdca26"
             ],
             [
              1,
              "#f0f921"
             ]
            ],
            "type": "surface"
           }
          ],
          "table": [
           {
            "cells": {
             "fill": {
              "color": "#EBF0F8"
             },
             "line": {
              "color": "white"
             }
            },
            "header": {
             "fill": {
              "color": "#C8D4E3"
             },
             "line": {
              "color": "white"
             }
            },
            "type": "table"
           }
          ]
         },
         "layout": {
          "annotationdefaults": {
           "arrowcolor": "#2a3f5f",
           "arrowhead": 0,
           "arrowwidth": 1
          },
          "autotypenumbers": "strict",
          "coloraxis": {
           "colorbar": {
            "outlinewidth": 0,
            "ticks": ""
           }
          },
          "colorscale": {
           "diverging": [
            [
             0,
             "#8e0152"
            ],
            [
             0.1,
             "#c51b7d"
            ],
            [
             0.2,
             "#de77ae"
            ],
            [
             0.3,
             "#f1b6da"
            ],
            [
             0.4,
             "#fde0ef"
            ],
            [
             0.5,
             "#f7f7f7"
            ],
            [
             0.6,
             "#e6f5d0"
            ],
            [
             0.7,
             "#b8e186"
            ],
            [
             0.8,
             "#7fbc41"
            ],
            [
             0.9,
             "#4d9221"
            ],
            [
             1,
             "#276419"
            ]
           ],
           "sequential": [
            [
             0,
             "#0d0887"
            ],
            [
             0.1111111111111111,
             "#46039f"
            ],
            [
             0.2222222222222222,
             "#7201a8"
            ],
            [
             0.3333333333333333,
             "#9c179e"
            ],
            [
             0.4444444444444444,
             "#bd3786"
            ],
            [
             0.5555555555555556,
             "#d8576b"
            ],
            [
             0.6666666666666666,
             "#ed7953"
            ],
            [
             0.7777777777777778,
             "#fb9f3a"
            ],
            [
             0.8888888888888888,
             "#fdca26"
            ],
            [
             1,
             "#f0f921"
            ]
           ],
           "sequentialminus": [
            [
             0,
             "#0d0887"
            ],
            [
             0.1111111111111111,
             "#46039f"
            ],
            [
             0.2222222222222222,
             "#7201a8"
            ],
            [
             0.3333333333333333,
             "#9c179e"
            ],
            [
             0.4444444444444444,
             "#bd3786"
            ],
            [
             0.5555555555555556,
             "#d8576b"
            ],
            [
             0.6666666666666666,
             "#ed7953"
            ],
            [
             0.7777777777777778,
             "#fb9f3a"
            ],
            [
             0.8888888888888888,
             "#fdca26"
            ],
            [
             1,
             "#f0f921"
            ]
           ]
          },
          "colorway": [
           "#636efa",
           "#EF553B",
           "#00cc96",
           "#ab63fa",
           "#FFA15A",
           "#19d3f3",
           "#FF6692",
           "#B6E880",
           "#FF97FF",
           "#FECB52"
          ],
          "font": {
           "color": "#2a3f5f"
          },
          "geo": {
           "bgcolor": "white",
           "lakecolor": "white",
           "landcolor": "#E5ECF6",
           "showlakes": true,
           "showland": true,
           "subunitcolor": "white"
          },
          "hoverlabel": {
           "align": "left"
          },
          "hovermode": "closest",
          "mapbox": {
           "style": "light"
          },
          "paper_bgcolor": "white",
          "plot_bgcolor": "#E5ECF6",
          "polar": {
           "angularaxis": {
            "gridcolor": "white",
            "linecolor": "white",
            "ticks": ""
           },
           "bgcolor": "#E5ECF6",
           "radialaxis": {
            "gridcolor": "white",
            "linecolor": "white",
            "ticks": ""
           }
          },
          "scene": {
           "xaxis": {
            "backgroundcolor": "#E5ECF6",
            "gridcolor": "white",
            "gridwidth": 2,
            "linecolor": "white",
            "showbackground": true,
            "ticks": "",
            "zerolinecolor": "white"
           },
           "yaxis": {
            "backgroundcolor": "#E5ECF6",
            "gridcolor": "white",
            "gridwidth": 2,
            "linecolor": "white",
            "showbackground": true,
            "ticks": "",
            "zerolinecolor": "white"
           },
           "zaxis": {
            "backgroundcolor": "#E5ECF6",
            "gridcolor": "white",
            "gridwidth": 2,
            "linecolor": "white",
            "showbackground": true,
            "ticks": "",
            "zerolinecolor": "white"
           }
          },
          "shapedefaults": {
           "line": {
            "color": "#2a3f5f"
           }
          },
          "ternary": {
           "aaxis": {
            "gridcolor": "white",
            "linecolor": "white",
            "ticks": ""
           },
           "baxis": {
            "gridcolor": "white",
            "linecolor": "white",
            "ticks": ""
           },
           "bgcolor": "#E5ECF6",
           "caxis": {
            "gridcolor": "white",
            "linecolor": "white",
            "ticks": ""
           }
          },
          "title": {
           "x": 0.05
          },
          "xaxis": {
           "automargin": true,
           "gridcolor": "white",
           "linecolor": "white",
           "ticks": "",
           "title": {
            "standoff": 15
           },
           "zerolinecolor": "white",
           "zerolinewidth": 2
          },
          "yaxis": {
           "automargin": true,
           "gridcolor": "white",
           "linecolor": "white",
           "ticks": "",
           "title": {
            "standoff": 15
           },
           "zerolinecolor": "white",
           "zerolinewidth": 2
          }
         }
        },
        "title": {
         "font": {
          "size": 24
         },
         "text": "Ast Class N Bending Capacity, fc=32",
         "x": 0.5
        },
        "xaxis": {
         "anchor": "y",
         "domain": [
          0,
          1
         ]
        },
        "yaxis": {
         "anchor": "x",
         "domain": [
          0,
          1
         ]
        }
       }
      }
     },
     "metadata": {}
    },
    {
     "output_type": "display_data",
     "data": {
      "application/vnd.plotly.v1+json": {
       "config": {
        "plotlyServerURL": "https://plot.ly"
       },
       "data": [
        {
         "name": "d = 55 mm",
         "type": "scatter",
         "x": [
          1733.3333333333333,
          1560,
          1418.1818181818182,
          1300,
          1200,
          1114.2857142857144,
          1040,
          975,
          917.6470588235295,
          866.6666666666666,
          821.0526315789474,
          780,
          742.8571428571429,
          709.0909090909091,
          678.2608695652174,
          650,
          624,
          600,
          577.7777777777778,
          557.1428571428572,
          537.9310344827586,
          520,
          503.22580645161287,
          487.5,
          472.72727272727275,
          458.82352941176475,
          445.7142857142857,
          433.3333333333333,
          421.6216216216216,
          410.5263157894737,
          400.00000000000006,
          390,
          380.4878048780488,
          371.42857142857144,
          362.79069767441865,
          354.54545454545456,
          346.6666666666667,
          339.1304347826087,
          331.9148936170213,
          325,
          318.36734693877554,
          312,
          305.88235294117646,
          300,
          294.33962264150944,
          288.8888888888889,
          283.6363636363636,
          278.5714285714286,
          273.6842105263158,
          268.9655172413793,
          264.4067796610169
         ],
         "y": [
          21.4715225824328,
          20.180433291770573,
          18.982589497331055,
          18.698096009813206,
          18.777382854764642,
          18.681279285305614,
          18.46899869210053,
          18.180720413281243,
          17.84398759205387,
          17.14870289553893,
          16.40119041040059,
          15.713699345386532,
          15.079659270191867,
          14.493346566435152,
          13.949772661917983,
          13.444582878740647,
          12.973967581047381,
          12.534585411471323,
          12.12349758320249,
          11.738111910911499,
          11.376135241563155,
          11.035533042394015,
          10.714495044905943,
          10.411405994291615,
          10.124820696193401,
          9.853442680064546,
          9.596105908697645,
          9.351759057218066,
          9.119451963589928,
          8.89832391838962,
          8.687593516209477,
          8.486549836346633,
          8.294544757974188,
          8.110986246119394,
          7.935332470608228,
          7.767086641608788,
          7.605792463286229,
          7.451030122001234,
          7.30241273796044,
          7.159583219685163,
          7.0222114694521505,
          6.889991895261844,
          6.762641191139797,
          6.63989635286783,
          6.521512900731439,
          6.4072632846895115,
          6.296935450629624,
          6.190331549156447,
          6.087266770746265,
          5.987568293149409,
          5.89107432868561
         ]
        },
        {
         "name": "d = 95 mm",
         "type": "scatter",
         "x": [
          1733.3333333333333,
          1560,
          1418.1818181818182,
          1300,
          1200,
          1114.2857142857144,
          1040,
          975,
          917.6470588235295,
          866.6666666666666,
          821.0526315789474,
          780,
          742.8571428571429,
          709.0909090909091,
          678.2608695652174,
          650,
          624,
          600,
          577.7777777777778,
          557.1428571428572,
          537.9310344827586,
          520,
          503.22580645161287,
          487.5,
          472.72727272727275,
          458.82352941176475,
          445.7142857142857,
          433.3333333333333,
          421.6216216216216,
          410.5263157894737,
          400.00000000000006,
          390,
          380.4878048780488,
          371.42857142857144,
          362.79069767441865,
          354.54545454545456,
          346.6666666666667,
          339.1304347826087,
          331.9148936170213,
          325,
          318.36734693877554,
          312,
          305.88235294117646,
          300,
          294.33962264150944,
          288.8888888888889,
          283.6363636363636,
          278.5714285714286,
          273.6842105263158,
          268.9655172413793,
          264.4067796610169
         ],
         "y": [
          54.65474967915647,
          52.909797381546134,
          48.93247717483152,
          45.490831514962586,
          42.488341645885285,
          39.848876215074576,
          37.512132169576056,
          35.429998977166456,
          33.563770720258184,
          31.882036228872263,
          30.359085147242695,
          28.973699345386535,
          27.708230698763295,
          26.547892020980605,
          25.48020744452668,
          24.494582878740648,
          23.58196758104738,
          22.734585411471322,
          21.945719805424712,
          21.20954048234007,
          20.52096282777005,
          19.875533042394014,
          19.26933375458336,
          18.698905994291614,
          18.16118433255704,
          17.653442680064547,
          17.1732487658405,
          16.71842572388473,
          16.287019531157497,
          15.877271286810677,
          15.487593516209477,
          15.116549836346636,
          14.762837440901016,
          14.425271960405107,
          14.102774331073345,
          13.794359368881516,
          13.49912579661956,
          13.216247513305582,
          12.9449659294498,
          12.684583219685162,
          12.434456367411338,
          12.193991895261846,
          11.962641191139797,
          11.739896352867829,
          11.525286485637102,
          11.318374395800623,
          11.118753632447806,
          10.926045834870735,
          10.739898349693632,
          10.559982086252857,
          10.385989582922898
         ]
        },
        {
         "name": "d = 135 mm",
         "type": "scatter",
         "x": [
          1733.3333333333333,
          1560,
          1418.1818181818182,
          1300,
          1200,
          1114.2857142857144,
          1040,
          975,
          917.6470588235295,
          866.6666666666666,
          821.0526315789474,
          780,
          742.8571428571429,
          709.0909090909091,
          678.2608695652174,
          650,
          624,
          600,
          577.7777777777778,
          557.1428571428572,
          537.9310344827586,
          520,
          503.22580645161287,
          487.5,
          472.72727272727275,
          458.82352941176475,
          445.7142857142857,
          433.3333333333333,
          421.6216216216216,
          410.5263157894737,
          400.00000000000006,
          390,
          380.4878048780488,
          371.42857142857144,
          362.79069767441865,
          354.54545454545456,
          346.6666666666667,
          339.1304347826087,
          331.9148936170213,
          325,
          318.36734693877554,
          312,
          305.88235294117646,
          300,
          294.33962264150944,
          288.8888888888889,
          283.6363636363636,
          278.5714285714286,
          273.6842105263158,
          268.9655172413793,
          264.4067796610169
         ],
         "y": [
          87.01147824882239,
          79.42979738154612,
          73.04156808392243,
          67.59083151496259,
          62.88834164588528,
          58.79173335793171,
          55.19213216957606,
          52.00499897716646,
          49.16377072025818,
          46.61536956220559,
          44.3169798840848,
          42.23369934538653,
          40.33680212733472,
          38.60243747552607,
          37.01064222713537,
          35.54458287874065,
          34.18996758104739,
          32.93458541147132,
          31.767942027646942,
          30.680969053768646,
          29.665790413976943,
          28.715533042394014,
          27.82417246426078,
          26.986405994291612,
          26.19754796892067,
          25.453442680064544,
          24.750391622983358,
          24.085092390551402,
          23.454587098725064,
          22.85621865523173,
          22.287593516209476,
          21.746549836346627,
          21.23113012382785,
          20.739557674690822,
          20.27021619153846,
          19.821632096154246,
          19.392459129952897,
          18.981464904609933,
          18.58751912093916,
          18.20958321968516,
          17.84670126537052,
          17.497991895261844,
          17.162641191139798,
          16.839896352867832,
          16.529060070542762,
          16.229485506911736,
          15.940571814265988,
          15.66176012058502,
          15.392529928641,
          15.132395879356304,
          14.880904837160184
         ]
        },
        {
         "name": "d = 175 mm",
         "type": "scatter",
         "x": [
          1733.3333333333333,
          1560,
          1418.1818181818182,
          1300,
          1200,
          1114.2857142857144,
          1040,
          975,
          917.6470588235295,
          866.6666666666666,
          821.0526315789474,
          780,
          742.8571428571429,
          709.0909090909091,
          678.2608695652174,
          650,
          624,
          600,
          577.7777777777778,
          557.1428571428572,
          537.9310344827586,
          520,
          503.22580645161287,
          487.5,
          472.72727272727275,
          458.82352941176475,
          445.7142857142857,
          433.3333333333333,
          421.6216216216216,
          410.5263157894737,
          400.00000000000006,
          390,
          380.4878048780488,
          371.42857142857144,
          362.79069767441865,
          354.54545454545456,
          346.6666666666667,
          339.1304347826087,
          331.9148936170213,
          325,
          318.36734693877554,
          312,
          305.88235294117646,
          300,
          294.33962264150944,
          288.8888888888889,
          283.6363636363636,
          278.5714285714286,
          273.6842105263158,
          268.9655172413793,
          264.4067796610169
         ],
         "y": [
          116.47814491548905,
          105.94979738154615,
          97.15065899301332,
          89.6908315149626,
          83.28834164588528,
          77.73459050078887,
          72.87213216957606,
          68.57999897716645,
          64.7637707202582,
          61.34870289553892,
          58.274874620926916,
          55.49369934538653,
          52.96537355590615,
          50.65698293007152,
          48.541077009744065,
          46.59458287874065,
          44.79796758104739,
          43.13458541147132,
          41.59016424986916,
          40.15239762519722,
          38.81061800018385,
          37.55553304239401,
          36.379011173938196,
          35.27390599429161,
          34.233911605284305,
          33.253442680064545,
          32.32753448012622,
          31.451759057218066,
          30.622154666292627,
          29.83516602365278,
          29.08759351620948,
          28.37654983634663,
          27.699422806754676,
          27.053843388976535,
          26.437658052003574,
          25.848904823426974,
          25.285792463286228,
          24.74668229591428,
          24.230072312428522,
          23.734583219685163,
          23.258946163329707,
          22.801991895261843,
          22.362641191139797,
          21.939896352867834,
          21.53283365544842,
          21.140596618022844,
          20.76238999608417,
          20.397474406299306,
          20.045161507588368,
          19.70480967245975,
          19.375820091397472
         ]
        },
        {
         "name": "d = 215 mm",
         "type": "scatter",
         "x": [
          1733.3333333333333,
          1560,
          1418.1818181818182,
          1300,
          1200,
          1114.2857142857144,
          1040,
          975,
          917.6470588235295,
          866.6666666666666,
          821.0526315789474,
          780,
          742.8571428571429,
          709.0909090909091,
          678.2608695652174,
          650,
          624,
          600,
          577.7777777777778,
          557.1428571428572,
          537.9310344827586,
          520,
          503.22580645161287,
          487.5,
          472.72727272727275,
          458.82352941176475,
          445.7142857142857,
          433.3333333333333,
          421.6216216216216,
          410.5263157894737,
          400.00000000000006,
          390,
          380.4878048780488,
          371.42857142857144,
          362.79069767441865,
          354.54545454545456,
          346.6666666666667,
          339.1304347826087,
          331.9148936170213,
          325,
          318.36734693877554,
          312,
          305.88235294117646,
          300,
          294.33962264150944,
          288.8888888888889,
          283.6363636363636,
          278.5714285714286,
          273.6842105263158,
          268.9655172413793,
          264.4067796610169
         ],
         "y": [
          145.94481158215572,
          132.46979738154616,
          121.25974990210425,
          111.7908315149626,
          103.68834164588529,
          96.677447643646,
          90.55213216957605,
          85.15499897716646,
          80.36377072025819,
          76.08203622887225,
          72.23276935776902,
          68.75369934538654,
          65.59394498447757,
          62.71152838461697,
          60.071511792352766,
          57.644582878740636,
          55.405967581047385,
          53.334585411471316,
          51.412386472091384,
          49.62382619662579,
          47.95544558639074,
          46.395533042394014,
          44.933849883615615,
          43.56140599429161,
          42.27027524164795,
          41.05344268006455,
          39.90467733726908,
          38.81842572388473,
          37.78972223386019,
          36.81411339207383,
          35.88759351620948,
          35.006549836346636,
          34.167715489681505,
          33.368129103262255,
          32.605099912468695,
          31.8761775506997,
          31.179125796619562,
          30.511899687218627,
          29.87262550391788,
          29.25958321968516,
          28.67119106128889,
          28.105991895261845,
          27.562641191139797,
          27.03989635286783,
          26.536607240354083,
          26.05170772913396,
          25.58420817790235,
          25.133188692013594,
          24.69779308653574,
          24.2772234655632,
          23.87073534563476
         ]
        },
        {
         "name": "d = 255 mm",
         "type": "scatter",
         "x": [
          1733.3333333333333,
          1560,
          1418.1818181818182,
          1300,
          1200,
          1114.2857142857144,
          1040,
          975,
          917.6470588235295,
          866.6666666666666,
          821.0526315789474,
          780,
          742.8571428571429,
          709.0909090909091,
          678.2608695652174,
          650,
          624,
          600,
          577.7777777777778,
          557.1428571428572,
          537.9310344827586,
          520,
          503.22580645161287,
          487.5,
          472.72727272727275,
          458.82352941176475,
          445.7142857142857,
          433.3333333333333,
          421.6216216216216,
          410.5263157894737,
          400.00000000000006,
          390,
          380.4878048780488,
          371.42857142857144,
          362.79069767441865,
          354.54545454545456,
          346.6666666666667,
          339.1304347826087,
          331.9148936170213,
          325,
          318.36734693877554,
          312,
          305.88235294117646,
          300,
          294.33962264150944,
          288.8888888888889,
          283.6363636363636,
          278.5714285714286,
          273.6842105263158,
          268.9655172413793,
          264.4067796610169
         ],
         "y": [
          175.41147824882236,
          158.98979738154614,
          145.36884081119516,
          133.8908315149626,
          124.08834164588528,
          115.62030478650316,
          108.23213216957605,
          101.72999897716646,
          95.96377072025818,
          90.81536956220559,
          86.19066409461112,
          82.01369934538653,
          78.22251641304901,
          74.76607383916243,
          71.60194657496146,
          68.69458287874063,
          66.0139675810474,
          63.534585411471326,
          61.234608694313614,
          59.09525476805437,
          57.10027317259764,
          55.23553304239401,
          53.488688593293034,
          51.84890599429161,
          50.30663887801158,
          48.853442680064546,
          47.48182019441193,
          46.1850923905514,
          44.95728980142776,
          43.79306076049489,
          42.68759351620948,
          41.63654983634663,
          40.636008172608335,
          39.682414817547965,
          38.772541772933806,
          37.90345027797243,
          37.0724591299529,
          36.27711707852297,
          35.51517869540725,
          34.78458321968516,
          34.08343595924807,
          33.40999189526185,
          32.7626411911398,
          32.13989635286783,
          31.540380825259746,
          30.962818840245067,
          30.406026359720535,
          29.86890297772788,
          29.350424665483104,
          28.849637258666647,
          28.365650599872044
         ]
        },
        {
         "name": "d = 295 mm",
         "type": "scatter",
         "x": [
          1733.3333333333333,
          1560,
          1418.1818181818182,
          1300,
          1200,
          1114.2857142857144,
          1040,
          975,
          917.6470588235295,
          866.6666666666666,
          821.0526315789474,
          780,
          742.8571428571429,
          709.0909090909091,
          678.2608695652174,
          650,
          624,
          600,
          577.7777777777778,
          557.1428571428572,
          537.9310344827586,
          520,
          503.22580645161287,
          487.5,
          472.72727272727275,
          458.82352941176475,
          445.7142857142857,
          433.3333333333333,
          421.6216216216216,
          410.5263157894737,
          400.00000000000006,
          390,
          380.4878048780488,
          371.42857142857144,
          362.79069767441865,
          354.54545454545456,
          346.6666666666667,
          339.1304347826087,
          331.9148936170213,
          325,
          318.36734693877554,
          312,
          305.88235294117646,
          300,
          294.33962264150944,
          288.8888888888889,
          283.6363636363636,
          278.5714285714286,
          273.6842105263158,
          268.9655172413793,
          264.4067796610169
         ],
         "y": [
          204.87814491548906,
          185.50979738154612,
          169.47793172028608,
          155.9908315149626,
          144.48834164588527,
          134.56316192936032,
          125.91213216957605,
          118.30499897716645,
          111.56377072025819,
          105.54870289553894,
          100.14855883145323,
          95.27369934538652,
          90.85108784162044,
          86.8206192937079,
          83.13238135757015,
          79.74458287874064,
          76.62196758104737,
          73.73458541147133,
          71.05683091653583,
          68.56668333948295,
          66.24510075880453,
          64.07553304239401,
          62.04352730297046,
          60.13640599429161,
          58.34300251437523,
          56.65344268006454,
          55.05896305155479,
          53.551759057218064,
          52.12485736899533,
          50.77200812891594,
          49.487593516209486,
          48.266549836346634,
          47.10430085553516,
          45.99670053183368,
          44.939983633398924,
          43.93072300524516,
          42.965792463286235,
          42.042334469827324,
          41.157731886896606,
          40.30958321968516,
          39.495680857207255,
          38.71399189526185,
          37.962641191139795,
          37.23989635286783,
          36.544154410165405,
          35.87392995135618,
          35.227844541538715,
          34.60461726344217,
          34.003056244430475,
          33.4220510517701,
          32.860565854109325
         ]
        },
        {
         "name": "d = 335 mm",
         "type": "scatter",
         "x": [
          1733.3333333333333,
          1560,
          1418.1818181818182,
          1300,
          1200,
          1114.2857142857144,
          1040,
          975,
          917.6470588235295,
          866.6666666666666,
          821.0526315789474,
          780,
          742.8571428571429,
          709.0909090909091,
          678.2608695652174,
          650,
          624,
          600,
          577.7777777777778,
          557.1428571428572,
          537.9310344827586,
          520,
          503.22580645161287,
          487.5,
          472.72727272727275,
          458.82352941176475,
          445.7142857142857,
          433.3333333333333,
          421.6216216216216,
          410.5263157894737,
          400.00000000000006,
          390,
          380.4878048780488,
          371.42857142857144,
          362.79069767441865,
          354.54545454545456,
          346.6666666666667,
          339.1304347826087,
          331.9148936170213,
          325,
          318.36734693877554,
          312,
          305.88235294117646,
          300,
          294.33962264150944,
          288.8888888888889,
          283.6363636363636,
          278.5714285714286,
          273.6842105263158,
          268.9655172413793,
          264.4067796610169
         ],
         "y": [
          234.34481158215567,
          212.02979738154613,
          193.587022629377,
          178.0908315149626,
          164.88834164588528,
          153.5060190722174,
          143.59213216957605,
          134.87999897716645,
          127.16377072025819,
          120.28203622887226,
          114.10645356829532,
          108.53369934538652,
          103.47965927019187,
          98.87516474825335,
          94.66281614017885,
          90.79458287874066,
          87.22996758104738,
          83.93458541147133,
          80.87905313875805,
          78.03811191091152,
          75.38992834501143,
          72.91553304239402,
          70.59836601264787,
          68.4239059942916,
          66.37936615073886,
          64.45344268006455,
          62.63610590869763,
          60.918425723884724,
          59.29242493656291,
          57.75095549733699,
          56.28759351620949,
          54.89654983634664,
          53.57259353846199,
          52.31098624611939,
          51.107425493864035,
          49.95799573251789,
          48.859125796619566,
          47.80755186113167,
          46.80028507838597,
          45.834583219685165,
          44.90792575516644,
          44.01799189526185,
          43.16264119113979,
          42.339896352867825,
          41.54792799507107,
          40.78504106246729,
          40.049662723356896,
          39.34033154915645,
          38.655687823377846,
          37.99446484487354,
          37.355481108346616
         ]
        },
        {
         "name": "d = 375 mm",
         "type": "scatter",
         "x": [
          1733.3333333333333,
          1560,
          1418.1818181818182,
          1300,
          1200,
          1114.2857142857144,
          1040,
          975,
          917.6470588235295,
          866.6666666666666,
          821.0526315789474,
          780,
          742.8571428571429,
          709.0909090909091,
          678.2608695652174,
          650,
          624,
          600,
          577.7777777777778,
          557.1428571428572,
          537.9310344827586,
          520,
          503.22580645161287,
          487.5,
          472.72727272727275,
          458.82352941176475,
          445.7142857142857,
          433.3333333333333,
          421.6216216216216,
          410.5263157894737,
          400.00000000000006,
          390,
          380.4878048780488,
          371.42857142857144,
          362.79069767441865,
          354.54545454545456,
          346.6666666666667,
          339.1304347826087,
          331.9148936170213,
          325,
          318.36734693877554,
          312,
          305.88235294117646,
          300,
          294.33962264150944,
          288.8888888888889,
          283.6363636363636,
          278.5714285714286,
          273.6842105263158,
          268.9655172413793,
          264.4067796610169
         ],
         "y": [
          263.81147824882237,
          238.5497973815461,
          217.6961135384679,
          200.1908315149626,
          185.28834164588528,
          172.4488762150746,
          161.27213216957605,
          151.45499897716644,
          142.76377072025818,
          135.01536956220556,
          128.06434830513743,
          121.79369934538654,
          116.10823069876328,
          110.9297102027988,
          106.19325092278756,
          101.84458287874065,
          97.83796758104738,
          94.13458541147133,
          90.70127536098028,
          87.50954048234009,
          84.53475593121831,
          81.75553304239402,
          79.1532047223253,
          76.71140599429161,
          74.41572978710249,
          72.25344268006455,
          70.2132487658405,
          68.2850923905514,
          66.45999250413047,
          64.72990286575805,
          63.08759351620949,
          61.52654983634663,
          60.04088622138881,
          58.625271960405115,
          57.27486735432916,
          55.98526845979061,
          54.7524591299529,
          53.57276925243602,
          52.44283826987533,
          51.35958321968516,
          50.32017065312562,
          49.321991895261846,
          48.362641191139794,
          47.43989635286783,
          46.55170157997673,
          45.696152173578405,
          44.871480905175076,
          44.07604583487074,
          43.3083194023252,
          42.56687863797699,
          41.8503963625839
         ]
        },
        {
         "name": "d = 415 mm",
         "type": "scatter",
         "x": [
          1733.3333333333333,
          1560,
          1418.1818181818182,
          1300,
          1200,
          1114.2857142857144,
          1040,
          975,
          917.6470588235295,
          866.6666666666666,
          821.0526315789474,
          780,
          742.8571428571429,
          709.0909090909091,
          678.2608695652174,
          650,
          624,
          600,
          577.7777777777778,
          557.1428571428572,
          537.9310344827586,
          520,
          503.22580645161287,
          487.5,
          472.72727272727275,
          458.82352941176475,
          445.7142857142857,
          433.3333333333333,
          421.6216216216216,
          410.5263157894737,
          400.00000000000006,
          390,
          380.4878048780488,
          371.42857142857144,
          362.79069767441865,
          354.54545454545456,
          346.6666666666667,
          339.1304347826087,
          331.9148936170213,
          325,
          318.36734693877554,
          312,
          305.88235294117646,
          300,
          294.33962264150944,
          288.8888888888889,
          283.6363636363636,
          278.5714285714286,
          273.6842105263158,
          268.9655172413793,
          264.4067796610169
         ],
         "y": [
          293.27814491548907,
          265.0697973815461,
          241.8052044475588,
          222.2908315149626,
          205.68834164588526,
          191.39173335793174,
          178.95213216957606,
          168.02999897716643,
          158.36377072025817,
          149.7487028955389,
          142.02224304197955,
          135.05369934538655,
          128.73680212733473,
          122.98425565734426,
          117.72368570539625,
          112.89458287874065,
          108.44596758104737,
          104.33458541147132,
          100.5234975832025,
          96.98096905376866,
          93.67958351742521,
          90.59553304239402,
          87.7080434320027,
          84.9989059942916,
          82.45209342346612,
          80.05344268006456,
          77.79039162298335,
          75.65175905721806,
          73.62756007169803,
          71.7088502341791,
          69.88759351620949,
          68.15654983634663,
          66.50917890431565,
          64.93955767469083,
          63.44230921479427,
          62.01254118706333,
          60.64579246328624,
          59.33798664374037,
          58.08539146136469,
          56.88458321968517,
          55.732415551084806,
          54.62599189526185,
          53.56264119113979,
          52.53989635286783,
          51.55547516488238,
          50.607263284689516,
          49.69329908699326,
          48.81176012058503,
          47.96095098127258,
          47.13929243108045,
          46.34531161682119
         ]
        },
        {
         "name": "d = 455 mm",
         "type": "scatter",
         "x": [
          1733.3333333333333,
          1560,
          1418.1818181818182,
          1300,
          1200,
          1114.2857142857144,
          1040,
          975,
          917.6470588235295,
          866.6666666666666,
          821.0526315789474,
          780,
          742.8571428571429,
          709.0909090909091,
          678.2608695652174,
          650,
          624,
          600,
          577.7777777777778,
          557.1428571428572,
          537.9310344827586,
          520,
          503.22580645161287,
          487.5,
          472.72727272727275,
          458.82352941176475,
          445.7142857142857,
          433.3333333333333,
          421.6216216216216,
          410.5263157894737,
          400.00000000000006,
          390,
          380.4878048780488,
          371.42857142857144,
          362.79069767441865,
          354.54545454545456,
          346.6666666666667,
          339.1304347826087,
          331.9148936170213,
          325,
          318.36734693877554,
          312,
          305.88235294117646,
          300,
          294.33962264150944,
          288.8888888888889,
          283.6363636363636,
          278.5714285714286,
          273.6842105263158,
          268.9655172413793,
          264.4067796610169
         ],
         "y": [
          322.7448115821557,
          291.58979738154613,
          265.91429535664975,
          244.39083151496254,
          226.08834164588527,
          210.3345905007889,
          196.63213216957604,
          184.60499897716645,
          173.9637707202582,
          164.48203622887226,
          155.98013777882164,
          148.31369934538654,
          141.36537355590616,
          135.0388011118897,
          129.25412048800493,
          123.94458287874065,
          119.05396758104739,
          114.53458541147131,
          110.34571980542472,
          106.45239762519724,
          102.82441110363212,
          99.43553304239403,
          96.26288214168012,
          93.2864059942916,
          90.48845705982978,
          87.85344268006456,
          85.36753448012622,
          83.01842572388472,
          80.7951276392656,
          78.68779760260016,
          76.68759351620949,
          74.78654983634662,
          72.97747158724248,
          71.25384338897653,
          69.6097510752594,
          68.03981391433607,
          66.53912579661956,
          65.10320403504471,
          63.727944652854056,
          62.40958321968515,
          61.14466044904399,
          59.92999189526184,
          58.76264119113979,
          57.63989635286784,
          56.55924874978804,
          55.51837439580063,
          54.515117268811444,
          53.547474406299315,
          52.613582560219946,
          51.7117062241839,
          50.840226871058476
         ]
        },
        {
         "name": "d = 495 mm",
         "type": "scatter",
         "x": [
          1733.3333333333333,
          1560,
          1418.1818181818182,
          1300,
          1200,
          1114.2857142857144,
          1040,
          975,
          917.6470588235295,
          866.6666666666666,
          821.0526315789474,
          780,
          742.8571428571429,
          709.0909090909091,
          678.2608695652174,
          650,
          624,
          600,
          577.7777777777778,
          557.1428571428572,
          537.9310344827586,
          520,
          503.22580645161287,
          487.5,
          472.72727272727275,
          458.82352941176475,
          445.7142857142857,
          433.3333333333333,
          421.6216216216216,
          410.5263157894737,
          400.00000000000006,
          390,
          380.4878048780488,
          371.42857142857144,
          362.79069767441865,
          354.54545454545456,
          346.6666666666667,
          339.1304347826087,
          331.9148936170213,
          325,
          318.36734693877554,
          312,
          305.88235294117646,
          300,
          294.33962264150944,
          288.8888888888889,
          283.6363636363636,
          278.5714285714286,
          273.6842105263158,
          268.9655172413793,
          264.4067796610169
         ],
         "y": [
          352.21147824882235,
          318.1097973815462,
          290.0233862657406,
          266.49083151496257,
          246.48834164588533,
          229.27744764364607,
          214.31213216957605,
          201.17999897716643,
          189.5637707202582,
          179.21536956220558,
          169.93803251566376,
          161.57369934538653,
          153.99394498447757,
          147.09334656643517,
          140.78455527061362,
          134.99458287874066,
          129.66196758104738,
          124.73458541147131,
          120.16794202764693,
          115.9238261966258,
          111.96923868983902,
          108.27553304239402,
          104.81772085135755,
          101.57390599429161,
          98.52482069619342,
          95.65344268006454,
          92.94467733726907,
          90.38509239055139,
          87.96269520683317,
          85.6667449710212,
          83.48759351620949,
          81.41654983634663,
          79.4457642701693,
          77.56812910326225,
          75.7771929357245,
          74.06708664160878,
          72.4324591299529,
          70.86842142634907,
          69.3704978443434,
          67.93458321968515,
          66.55690534700318,
          65.23399189526184,
          63.962641191139795,
          62.73989635286783,
          61.563022334693706,
          60.42948550691173,
          59.33693545062962,
          58.2831886920136,
          57.26621413916732,
          56.28412001728734,
          55.33514212529576
         ]
        }
       ],
       "layout": {
        "hovermode": "x",
        "legend": {
         "tracegroupgap": 0
        },
        "margin": {
         "t": 60
        },
        "showlegend": true,
        "template": {
         "data": {
          "bar": [
           {
            "error_x": {
             "color": "#2a3f5f"
            },
            "error_y": {
             "color": "#2a3f5f"
            },
            "marker": {
             "line": {
              "color": "#E5ECF6",
              "width": 0.5
             }
            },
            "type": "bar"
           }
          ],
          "barpolar": [
           {
            "marker": {
             "line": {
              "color": "#E5ECF6",
              "width": 0.5
             }
            },
            "type": "barpolar"
           }
          ],
          "carpet": [
           {
            "aaxis": {
             "endlinecolor": "#2a3f5f",
             "gridcolor": "white",
             "linecolor": "white",
             "minorgridcolor": "white",
             "startlinecolor": "#2a3f5f"
            },
            "baxis": {
             "endlinecolor": "#2a3f5f",
             "gridcolor": "white",
             "linecolor": "white",
             "minorgridcolor": "white",
             "startlinecolor": "#2a3f5f"
            },
            "type": "carpet"
           }
          ],
          "choropleth": [
           {
            "colorbar": {
             "outlinewidth": 0,
             "ticks": ""
            },
            "type": "choropleth"
           }
          ],
          "contour": [
           {
            "colorbar": {
             "outlinewidth": 0,
             "ticks": ""
            },
            "colorscale": [
             [
              0,
              "#0d0887"
             ],
             [
              0.1111111111111111,
              "#46039f"
             ],
             [
              0.2222222222222222,
              "#7201a8"
             ],
             [
              0.3333333333333333,
              "#9c179e"
             ],
             [
              0.4444444444444444,
              "#bd3786"
             ],
             [
              0.5555555555555556,
              "#d8576b"
             ],
             [
              0.6666666666666666,
              "#ed7953"
             ],
             [
              0.7777777777777778,
              "#fb9f3a"
             ],
             [
              0.8888888888888888,
              "#fdca26"
             ],
             [
              1,
              "#f0f921"
             ]
            ],
            "type": "contour"
           }
          ],
          "contourcarpet": [
           {
            "colorbar": {
             "outlinewidth": 0,
             "ticks": ""
            },
            "type": "contourcarpet"
           }
          ],
          "heatmap": [
           {
            "colorbar": {
             "outlinewidth": 0,
             "ticks": ""
            },
            "colorscale": [
             [
              0,
              "#0d0887"
             ],
             [
              0.1111111111111111,
              "#46039f"
             ],
             [
              0.2222222222222222,
              "#7201a8"
             ],
             [
              0.3333333333333333,
              "#9c179e"
             ],
             [
              0.4444444444444444,
              "#bd3786"
             ],
             [
              0.5555555555555556,
              "#d8576b"
             ],
             [
              0.6666666666666666,
              "#ed7953"
             ],
             [
              0.7777777777777778,
              "#fb9f3a"
             ],
             [
              0.8888888888888888,
              "#fdca26"
             ],
             [
              1,
              "#f0f921"
             ]
            ],
            "type": "heatmap"
           }
          ],
          "heatmapgl": [
           {
            "colorbar": {
             "outlinewidth": 0,
             "ticks": ""
            },
            "colorscale": [
             [
              0,
              "#0d0887"
             ],
             [
              0.1111111111111111,
              "#46039f"
             ],
             [
              0.2222222222222222,
              "#7201a8"
             ],
             [
              0.3333333333333333,
              "#9c179e"
             ],
             [
              0.4444444444444444,
              "#bd3786"
             ],
             [
              0.5555555555555556,
              "#d8576b"
             ],
             [
              0.6666666666666666,
              "#ed7953"
             ],
             [
              0.7777777777777778,
              "#fb9f3a"
             ],
             [
              0.8888888888888888,
              "#fdca26"
             ],
             [
              1,
              "#f0f921"
             ]
            ],
            "type": "heatmapgl"
           }
          ],
          "histogram": [
           {
            "marker": {
             "colorbar": {
              "outlinewidth": 0,
              "ticks": ""
             }
            },
            "type": "histogram"
           }
          ],
          "histogram2d": [
           {
            "colorbar": {
             "outlinewidth": 0,
             "ticks": ""
            },
            "colorscale": [
             [
              0,
              "#0d0887"
             ],
             [
              0.1111111111111111,
              "#46039f"
             ],
             [
              0.2222222222222222,
              "#7201a8"
             ],
             [
              0.3333333333333333,
              "#9c179e"
             ],
             [
              0.4444444444444444,
              "#bd3786"
             ],
             [
              0.5555555555555556,
              "#d8576b"
             ],
             [
              0.6666666666666666,
              "#ed7953"
             ],
             [
              0.7777777777777778,
              "#fb9f3a"
             ],
             [
              0.8888888888888888,
              "#fdca26"
             ],
             [
              1,
              "#f0f921"
             ]
            ],
            "type": "histogram2d"
           }
          ],
          "histogram2dcontour": [
           {
            "colorbar": {
             "outlinewidth": 0,
             "ticks": ""
            },
            "colorscale": [
             [
              0,
              "#0d0887"
             ],
             [
              0.1111111111111111,
              "#46039f"
             ],
             [
              0.2222222222222222,
              "#7201a8"
             ],
             [
              0.3333333333333333,
              "#9c179e"
             ],
             [
              0.4444444444444444,
              "#bd3786"
             ],
             [
              0.5555555555555556,
              "#d8576b"
             ],
             [
              0.6666666666666666,
              "#ed7953"
             ],
             [
              0.7777777777777778,
              "#fb9f3a"
             ],
             [
              0.8888888888888888,
              "#fdca26"
             ],
             [
              1,
              "#f0f921"
             ]
            ],
            "type": "histogram2dcontour"
           }
          ],
          "mesh3d": [
           {
            "colorbar": {
             "outlinewidth": 0,
             "ticks": ""
            },
            "type": "mesh3d"
           }
          ],
          "parcoords": [
           {
            "line": {
             "colorbar": {
              "outlinewidth": 0,
              "ticks": ""
             }
            },
            "type": "parcoords"
           }
          ],
          "pie": [
           {
            "automargin": true,
            "type": "pie"
           }
          ],
          "scatter": [
           {
            "marker": {
             "colorbar": {
              "outlinewidth": 0,
              "ticks": ""
             }
            },
            "type": "scatter"
           }
          ],
          "scatter3d": [
           {
            "line": {
             "colorbar": {
              "outlinewidth": 0,
              "ticks": ""
             }
            },
            "marker": {
             "colorbar": {
              "outlinewidth": 0,
              "ticks": ""
             }
            },
            "type": "scatter3d"
           }
          ],
          "scattercarpet": [
           {
            "marker": {
             "colorbar": {
              "outlinewidth": 0,
              "ticks": ""
             }
            },
            "type": "scattercarpet"
           }
          ],
          "scattergeo": [
           {
            "marker": {
             "colorbar": {
              "outlinewidth": 0,
              "ticks": ""
             }
            },
            "type": "scattergeo"
           }
          ],
          "scattergl": [
           {
            "marker": {
             "colorbar": {
              "outlinewidth": 0,
              "ticks": ""
             }
            },
            "type": "scattergl"
           }
          ],
          "scattermapbox": [
           {
            "marker": {
             "colorbar": {
              "outlinewidth": 0,
              "ticks": ""
             }
            },
            "type": "scattermapbox"
           }
          ],
          "scatterpolar": [
           {
            "marker": {
             "colorbar": {
              "outlinewidth": 0,
              "ticks": ""
             }
            },
            "type": "scatterpolar"
           }
          ],
          "scatterpolargl": [
           {
            "marker": {
             "colorbar": {
              "outlinewidth": 0,
              "ticks": ""
             }
            },
            "type": "scatterpolargl"
           }
          ],
          "scatterternary": [
           {
            "marker": {
             "colorbar": {
              "outlinewidth": 0,
              "ticks": ""
             }
            },
            "type": "scatterternary"
           }
          ],
          "surface": [
           {
            "colorbar": {
             "outlinewidth": 0,
             "ticks": ""
            },
            "colorscale": [
             [
              0,
              "#0d0887"
             ],
             [
              0.1111111111111111,
              "#46039f"
             ],
             [
              0.2222222222222222,
              "#7201a8"
             ],
             [
              0.3333333333333333,
              "#9c179e"
             ],
             [
              0.4444444444444444,
              "#bd3786"
             ],
             [
              0.5555555555555556,
              "#d8576b"
             ],
             [
              0.6666666666666666,
              "#ed7953"
             ],
             [
              0.7777777777777778,
              "#fb9f3a"
             ],
             [
              0.8888888888888888,
              "#fdca26"
             ],
             [
              1,
              "#f0f921"
             ]
            ],
            "type": "surface"
           }
          ],
          "table": [
           {
            "cells": {
             "fill": {
              "color": "#EBF0F8"
             },
             "line": {
              "color": "white"
             }
            },
            "header": {
             "fill": {
              "color": "#C8D4E3"
             },
             "line": {
              "color": "white"
             }
            },
            "type": "table"
           }
          ]
         },
         "layout": {
          "annotationdefaults": {
           "arrowcolor": "#2a3f5f",
           "arrowhead": 0,
           "arrowwidth": 1
          },
          "autotypenumbers": "strict",
          "coloraxis": {
           "colorbar": {
            "outlinewidth": 0,
            "ticks": ""
           }
          },
          "colorscale": {
           "diverging": [
            [
             0,
             "#8e0152"
            ],
            [
             0.1,
             "#c51b7d"
            ],
            [
             0.2,
             "#de77ae"
            ],
            [
             0.3,
             "#f1b6da"
            ],
            [
             0.4,
             "#fde0ef"
            ],
            [
             0.5,
             "#f7f7f7"
            ],
            [
             0.6,
             "#e6f5d0"
            ],
            [
             0.7,
             "#b8e186"
            ],
            [
             0.8,
             "#7fbc41"
            ],
            [
             0.9,
             "#4d9221"
            ],
            [
             1,
             "#276419"
            ]
           ],
           "sequential": [
            [
             0,
             "#0d0887"
            ],
            [
             0.1111111111111111,
             "#46039f"
            ],
            [
             0.2222222222222222,
             "#7201a8"
            ],
            [
             0.3333333333333333,
             "#9c179e"
            ],
            [
             0.4444444444444444,
             "#bd3786"
            ],
            [
             0.5555555555555556,
             "#d8576b"
            ],
            [
             0.6666666666666666,
             "#ed7953"
            ],
            [
             0.7777777777777778,
             "#fb9f3a"
            ],
            [
             0.8888888888888888,
             "#fdca26"
            ],
            [
             1,
             "#f0f921"
            ]
           ],
           "sequentialminus": [
            [
             0,
             "#0d0887"
            ],
            [
             0.1111111111111111,
             "#46039f"
            ],
            [
             0.2222222222222222,
             "#7201a8"
            ],
            [
             0.3333333333333333,
             "#9c179e"
            ],
            [
             0.4444444444444444,
             "#bd3786"
            ],
            [
             0.5555555555555556,
             "#d8576b"
            ],
            [
             0.6666666666666666,
             "#ed7953"
            ],
            [
             0.7777777777777778,
             "#fb9f3a"
            ],
            [
             0.8888888888888888,
             "#fdca26"
            ],
            [
             1,
             "#f0f921"
            ]
           ]
          },
          "colorway": [
           "#636efa",
           "#EF553B",
           "#00cc96",
           "#ab63fa",
           "#FFA15A",
           "#19d3f3",
           "#FF6692",
           "#B6E880",
           "#FF97FF",
           "#FECB52"
          ],
          "font": {
           "color": "#2a3f5f"
          },
          "geo": {
           "bgcolor": "white",
           "lakecolor": "white",
           "landcolor": "#E5ECF6",
           "showlakes": true,
           "showland": true,
           "subunitcolor": "white"
          },
          "hoverlabel": {
           "align": "left"
          },
          "hovermode": "closest",
          "mapbox": {
           "style": "light"
          },
          "paper_bgcolor": "white",
          "plot_bgcolor": "#E5ECF6",
          "polar": {
           "angularaxis": {
            "gridcolor": "white",
            "linecolor": "white",
            "ticks": ""
           },
           "bgcolor": "#E5ECF6",
           "radialaxis": {
            "gridcolor": "white",
            "linecolor": "white",
            "ticks": ""
           }
          },
          "scene": {
           "xaxis": {
            "backgroundcolor": "#E5ECF6",
            "gridcolor": "white",
            "gridwidth": 2,
            "linecolor": "white",
            "showbackground": true,
            "ticks": "",
            "zerolinecolor": "white"
           },
           "yaxis": {
            "backgroundcolor": "#E5ECF6",
            "gridcolor": "white",
            "gridwidth": 2,
            "linecolor": "white",
            "showbackground": true,
            "ticks": "",
            "zerolinecolor": "white"
           },
           "zaxis": {
            "backgroundcolor": "#E5ECF6",
            "gridcolor": "white",
            "gridwidth": 2,
            "linecolor": "white",
            "showbackground": true,
            "ticks": "",
            "zerolinecolor": "white"
           }
          },
          "shapedefaults": {
           "line": {
            "color": "#2a3f5f"
           }
          },
          "ternary": {
           "aaxis": {
            "gridcolor": "white",
            "linecolor": "white",
            "ticks": ""
           },
           "baxis": {
            "gridcolor": "white",
            "linecolor": "white",
            "ticks": ""
           },
           "bgcolor": "#E5ECF6",
           "caxis": {
            "gridcolor": "white",
            "linecolor": "white",
            "ticks": ""
           }
          },
          "title": {
           "x": 0.05
          },
          "xaxis": {
           "automargin": true,
           "gridcolor": "white",
           "linecolor": "white",
           "ticks": "",
           "title": {
            "standoff": 15
           },
           "zerolinecolor": "white",
           "zerolinewidth": 2
          },
          "yaxis": {
           "automargin": true,
           "gridcolor": "white",
           "linecolor": "white",
           "ticks": "",
           "title": {
            "standoff": 15
           },
           "zerolinecolor": "white",
           "zerolinewidth": 2
          }
         }
        },
        "title": {
         "font": {
          "size": 24
         },
         "text": "Ast Class N Bending Capacity, fc=32",
         "x": 0.5
        },
        "xaxis": {
         "anchor": "y",
         "domain": [
          0,
          1
         ],
         "title": {
          "text": "Ast (mm2/m)"
         }
        },
        "yaxis": {
         "anchor": "x",
         "domain": [
          0,
          1
         ]
        }
       }
      }
     },
     "metadata": {}
    },
    {
     "output_type": "display_data",
     "data": {
      "application/vnd.plotly.v1+json": {
       "config": {
        "plotlyServerURL": "https://plot.ly"
       },
       "data": [
        {
         "name": "d = 55 mm",
         "type": "scatter",
         "x": [
          1733.3333333333333,
          1560,
          1418.1818181818182,
          1300,
          1200,
          1114.2857142857144,
          1040,
          975,
          917.6470588235295,
          866.6666666666666,
          821.0526315789474,
          780,
          742.8571428571429,
          709.0909090909091,
          678.2608695652174,
          650,
          624,
          600,
          577.7777777777778,
          557.1428571428572,
          537.9310344827586,
          520,
          503.22580645161287,
          487.5,
          472.72727272727275,
          458.82352941176475,
          445.7142857142857,
          433.3333333333333,
          421.6216216216216,
          410.5263157894737,
          400.00000000000006,
          390,
          380.4878048780488,
          371.42857142857144,
          362.79069767441865,
          354.54545454545456,
          346.6666666666667,
          339.1304347826087,
          331.9148936170213,
          325,
          318.36734693877554,
          312,
          305.88235294117646,
          300,
          294.33962264150944,
          288.8888888888889,
          283.6363636363636,
          278.5714285714286,
          273.6842105263158,
          268.9655172413793,
          264.4067796610169
         ],
         "y": [
          21.4715225824328,
          20.180433291770573,
          18.982589497331055,
          18.698096009813206,
          18.777382854764642,
          18.681279285305614,
          18.46899869210053,
          18.180720413281243,
          17.84398759205387,
          17.14870289553893,
          16.40119041040059,
          15.713699345386532,
          15.079659270191867,
          14.493346566435152,
          13.949772661917983,
          13.444582878740647,
          12.973967581047381,
          12.534585411471323,
          12.12349758320249,
          11.738111910911499,
          11.376135241563155,
          11.035533042394015,
          10.714495044905943,
          10.411405994291615,
          10.124820696193401,
          9.853442680064546,
          9.596105908697645,
          9.351759057218066,
          9.119451963589928,
          8.89832391838962,
          8.687593516209477,
          8.486549836346633,
          8.294544757974188,
          8.110986246119394,
          7.935332470608228,
          7.767086641608788,
          7.605792463286229,
          7.451030122001234,
          7.30241273796044,
          7.159583219685163,
          7.0222114694521505,
          6.889991895261844,
          6.762641191139797,
          6.63989635286783,
          6.521512900731439,
          6.4072632846895115,
          6.296935450629624,
          6.190331549156447,
          6.087266770746265,
          5.987568293149409,
          5.89107432868561
         ]
        },
        {
         "name": "d = 95 mm",
         "type": "scatter",
         "x": [
          1733.3333333333333,
          1560,
          1418.1818181818182,
          1300,
          1200,
          1114.2857142857144,
          1040,
          975,
          917.6470588235295,
          866.6666666666666,
          821.0526315789474,
          780,
          742.8571428571429,
          709.0909090909091,
          678.2608695652174,
          650,
          624,
          600,
          577.7777777777778,
          557.1428571428572,
          537.9310344827586,
          520,
          503.22580645161287,
          487.5,
          472.72727272727275,
          458.82352941176475,
          445.7142857142857,
          433.3333333333333,
          421.6216216216216,
          410.5263157894737,
          400.00000000000006,
          390,
          380.4878048780488,
          371.42857142857144,
          362.79069767441865,
          354.54545454545456,
          346.6666666666667,
          339.1304347826087,
          331.9148936170213,
          325,
          318.36734693877554,
          312,
          305.88235294117646,
          300,
          294.33962264150944,
          288.8888888888889,
          283.6363636363636,
          278.5714285714286,
          273.6842105263158,
          268.9655172413793,
          264.4067796610169
         ],
         "y": [
          54.65474967915647,
          52.909797381546134,
          48.93247717483152,
          45.490831514962586,
          42.488341645885285,
          39.848876215074576,
          37.512132169576056,
          35.429998977166456,
          33.563770720258184,
          31.882036228872263,
          30.359085147242695,
          28.973699345386535,
          27.708230698763295,
          26.547892020980605,
          25.48020744452668,
          24.494582878740648,
          23.58196758104738,
          22.734585411471322,
          21.945719805424712,
          21.20954048234007,
          20.52096282777005,
          19.875533042394014,
          19.26933375458336,
          18.698905994291614,
          18.16118433255704,
          17.653442680064547,
          17.1732487658405,
          16.71842572388473,
          16.287019531157497,
          15.877271286810677,
          15.487593516209477,
          15.116549836346636,
          14.762837440901016,
          14.425271960405107,
          14.102774331073345,
          13.794359368881516,
          13.49912579661956,
          13.216247513305582,
          12.9449659294498,
          12.684583219685162,
          12.434456367411338,
          12.193991895261846,
          11.962641191139797,
          11.739896352867829,
          11.525286485637102,
          11.318374395800623,
          11.118753632447806,
          10.926045834870735,
          10.739898349693632,
          10.559982086252857,
          10.385989582922898
         ]
        },
        {
         "name": "d = 135 mm",
         "type": "scatter",
         "x": [
          1733.3333333333333,
          1560,
          1418.1818181818182,
          1300,
          1200,
          1114.2857142857144,
          1040,
          975,
          917.6470588235295,
          866.6666666666666,
          821.0526315789474,
          780,
          742.8571428571429,
          709.0909090909091,
          678.2608695652174,
          650,
          624,
          600,
          577.7777777777778,
          557.1428571428572,
          537.9310344827586,
          520,
          503.22580645161287,
          487.5,
          472.72727272727275,
          458.82352941176475,
          445.7142857142857,
          433.3333333333333,
          421.6216216216216,
          410.5263157894737,
          400.00000000000006,
          390,
          380.4878048780488,
          371.42857142857144,
          362.79069767441865,
          354.54545454545456,
          346.6666666666667,
          339.1304347826087,
          331.9148936170213,
          325,
          318.36734693877554,
          312,
          305.88235294117646,
          300,
          294.33962264150944,
          288.8888888888889,
          283.6363636363636,
          278.5714285714286,
          273.6842105263158,
          268.9655172413793,
          264.4067796610169
         ],
         "y": [
          87.01147824882239,
          79.42979738154612,
          73.04156808392243,
          67.59083151496259,
          62.88834164588528,
          58.79173335793171,
          55.19213216957606,
          52.00499897716646,
          49.16377072025818,
          46.61536956220559,
          44.3169798840848,
          42.23369934538653,
          40.33680212733472,
          38.60243747552607,
          37.01064222713537,
          35.54458287874065,
          34.18996758104739,
          32.93458541147132,
          31.767942027646942,
          30.680969053768646,
          29.665790413976943,
          28.715533042394014,
          27.82417246426078,
          26.986405994291612,
          26.19754796892067,
          25.453442680064544,
          24.750391622983358,
          24.085092390551402,
          23.454587098725064,
          22.85621865523173,
          22.287593516209476,
          21.746549836346627,
          21.23113012382785,
          20.739557674690822,
          20.27021619153846,
          19.821632096154246,
          19.392459129952897,
          18.981464904609933,
          18.58751912093916,
          18.20958321968516,
          17.84670126537052,
          17.497991895261844,
          17.162641191139798,
          16.839896352867832,
          16.529060070542762,
          16.229485506911736,
          15.940571814265988,
          15.66176012058502,
          15.392529928641,
          15.132395879356304,
          14.880904837160184
         ]
        },
        {
         "name": "d = 175 mm",
         "type": "scatter",
         "x": [
          1733.3333333333333,
          1560,
          1418.1818181818182,
          1300,
          1200,
          1114.2857142857144,
          1040,
          975,
          917.6470588235295,
          866.6666666666666,
          821.0526315789474,
          780,
          742.8571428571429,
          709.0909090909091,
          678.2608695652174,
          650,
          624,
          600,
          577.7777777777778,
          557.1428571428572,
          537.9310344827586,
          520,
          503.22580645161287,
          487.5,
          472.72727272727275,
          458.82352941176475,
          445.7142857142857,
          433.3333333333333,
          421.6216216216216,
          410.5263157894737,
          400.00000000000006,
          390,
          380.4878048780488,
          371.42857142857144,
          362.79069767441865,
          354.54545454545456,
          346.6666666666667,
          339.1304347826087,
          331.9148936170213,
          325,
          318.36734693877554,
          312,
          305.88235294117646,
          300,
          294.33962264150944,
          288.8888888888889,
          283.6363636363636,
          278.5714285714286,
          273.6842105263158,
          268.9655172413793,
          264.4067796610169
         ],
         "y": [
          116.47814491548905,
          105.94979738154615,
          97.15065899301332,
          89.6908315149626,
          83.28834164588528,
          77.73459050078887,
          72.87213216957606,
          68.57999897716645,
          64.7637707202582,
          61.34870289553892,
          58.274874620926916,
          55.49369934538653,
          52.96537355590615,
          50.65698293007152,
          48.541077009744065,
          46.59458287874065,
          44.79796758104739,
          43.13458541147132,
          41.59016424986916,
          40.15239762519722,
          38.81061800018385,
          37.55553304239401,
          36.379011173938196,
          35.27390599429161,
          34.233911605284305,
          33.253442680064545,
          32.32753448012622,
          31.451759057218066,
          30.622154666292627,
          29.83516602365278,
          29.08759351620948,
          28.37654983634663,
          27.699422806754676,
          27.053843388976535,
          26.437658052003574,
          25.848904823426974,
          25.285792463286228,
          24.74668229591428,
          24.230072312428522,
          23.734583219685163,
          23.258946163329707,
          22.801991895261843,
          22.362641191139797,
          21.939896352867834,
          21.53283365544842,
          21.140596618022844,
          20.76238999608417,
          20.397474406299306,
          20.045161507588368,
          19.70480967245975,
          19.375820091397472
         ]
        },
        {
         "name": "d = 215 mm",
         "type": "scatter",
         "x": [
          1733.3333333333333,
          1560,
          1418.1818181818182,
          1300,
          1200,
          1114.2857142857144,
          1040,
          975,
          917.6470588235295,
          866.6666666666666,
          821.0526315789474,
          780,
          742.8571428571429,
          709.0909090909091,
          678.2608695652174,
          650,
          624,
          600,
          577.7777777777778,
          557.1428571428572,
          537.9310344827586,
          520,
          503.22580645161287,
          487.5,
          472.72727272727275,
          458.82352941176475,
          445.7142857142857,
          433.3333333333333,
          421.6216216216216,
          410.5263157894737,
          400.00000000000006,
          390,
          380.4878048780488,
          371.42857142857144,
          362.79069767441865,
          354.54545454545456,
          346.6666666666667,
          339.1304347826087,
          331.9148936170213,
          325,
          318.36734693877554,
          312,
          305.88235294117646,
          300,
          294.33962264150944,
          288.8888888888889,
          283.6363636363636,
          278.5714285714286,
          273.6842105263158,
          268.9655172413793,
          264.4067796610169
         ],
         "y": [
          145.94481158215572,
          132.46979738154616,
          121.25974990210425,
          111.7908315149626,
          103.68834164588529,
          96.677447643646,
          90.55213216957605,
          85.15499897716646,
          80.36377072025819,
          76.08203622887225,
          72.23276935776902,
          68.75369934538654,
          65.59394498447757,
          62.71152838461697,
          60.071511792352766,
          57.644582878740636,
          55.405967581047385,
          53.334585411471316,
          51.412386472091384,
          49.62382619662579,
          47.95544558639074,
          46.395533042394014,
          44.933849883615615,
          43.56140599429161,
          42.27027524164795,
          41.05344268006455,
          39.90467733726908,
          38.81842572388473,
          37.78972223386019,
          36.81411339207383,
          35.88759351620948,
          35.006549836346636,
          34.167715489681505,
          33.368129103262255,
          32.605099912468695,
          31.8761775506997,
          31.179125796619562,
          30.511899687218627,
          29.87262550391788,
          29.25958321968516,
          28.67119106128889,
          28.105991895261845,
          27.562641191139797,
          27.03989635286783,
          26.536607240354083,
          26.05170772913396,
          25.58420817790235,
          25.133188692013594,
          24.69779308653574,
          24.2772234655632,
          23.87073534563476
         ]
        },
        {
         "name": "d = 255 mm",
         "type": "scatter",
         "x": [
          1733.3333333333333,
          1560,
          1418.1818181818182,
          1300,
          1200,
          1114.2857142857144,
          1040,
          975,
          917.6470588235295,
          866.6666666666666,
          821.0526315789474,
          780,
          742.8571428571429,
          709.0909090909091,
          678.2608695652174,
          650,
          624,
          600,
          577.7777777777778,
          557.1428571428572,
          537.9310344827586,
          520,
          503.22580645161287,
          487.5,
          472.72727272727275,
          458.82352941176475,
          445.7142857142857,
          433.3333333333333,
          421.6216216216216,
          410.5263157894737,
          400.00000000000006,
          390,
          380.4878048780488,
          371.42857142857144,
          362.79069767441865,
          354.54545454545456,
          346.6666666666667,
          339.1304347826087,
          331.9148936170213,
          325,
          318.36734693877554,
          312,
          305.88235294117646,
          300,
          294.33962264150944,
          288.8888888888889,
          283.6363636363636,
          278.5714285714286,
          273.6842105263158,
          268.9655172413793,
          264.4067796610169
         ],
         "y": [
          175.41147824882236,
          158.98979738154614,
          145.36884081119516,
          133.8908315149626,
          124.08834164588528,
          115.62030478650316,
          108.23213216957605,
          101.72999897716646,
          95.96377072025818,
          90.81536956220559,
          86.19066409461112,
          82.01369934538653,
          78.22251641304901,
          74.76607383916243,
          71.60194657496146,
          68.69458287874063,
          66.0139675810474,
          63.534585411471326,
          61.234608694313614,
          59.09525476805437,
          57.10027317259764,
          55.23553304239401,
          53.488688593293034,
          51.84890599429161,
          50.30663887801158,
          48.853442680064546,
          47.48182019441193,
          46.1850923905514,
          44.95728980142776,
          43.79306076049489,
          42.68759351620948,
          41.63654983634663,
          40.636008172608335,
          39.682414817547965,
          38.772541772933806,
          37.90345027797243,
          37.0724591299529,
          36.27711707852297,
          35.51517869540725,
          34.78458321968516,
          34.08343595924807,
          33.40999189526185,
          32.7626411911398,
          32.13989635286783,
          31.540380825259746,
          30.962818840245067,
          30.406026359720535,
          29.86890297772788,
          29.350424665483104,
          28.849637258666647,
          28.365650599872044
         ]
        },
        {
         "name": "d = 295 mm",
         "type": "scatter",
         "x": [
          1733.3333333333333,
          1560,
          1418.1818181818182,
          1300,
          1200,
          1114.2857142857144,
          1040,
          975,
          917.6470588235295,
          866.6666666666666,
          821.0526315789474,
          780,
          742.8571428571429,
          709.0909090909091,
          678.2608695652174,
          650,
          624,
          600,
          577.7777777777778,
          557.1428571428572,
          537.9310344827586,
          520,
          503.22580645161287,
          487.5,
          472.72727272727275,
          458.82352941176475,
          445.7142857142857,
          433.3333333333333,
          421.6216216216216,
          410.5263157894737,
          400.00000000000006,
          390,
          380.4878048780488,
          371.42857142857144,
          362.79069767441865,
          354.54545454545456,
          346.6666666666667,
          339.1304347826087,
          331.9148936170213,
          325,
          318.36734693877554,
          312,
          305.88235294117646,
          300,
          294.33962264150944,
          288.8888888888889,
          283.6363636363636,
          278.5714285714286,
          273.6842105263158,
          268.9655172413793,
          264.4067796610169
         ],
         "y": [
          204.87814491548906,
          185.50979738154612,
          169.47793172028608,
          155.9908315149626,
          144.48834164588527,
          134.56316192936032,
          125.91213216957605,
          118.30499897716645,
          111.56377072025819,
          105.54870289553894,
          100.14855883145323,
          95.27369934538652,
          90.85108784162044,
          86.8206192937079,
          83.13238135757015,
          79.74458287874064,
          76.62196758104737,
          73.73458541147133,
          71.05683091653583,
          68.56668333948295,
          66.24510075880453,
          64.07553304239401,
          62.04352730297046,
          60.13640599429161,
          58.34300251437523,
          56.65344268006454,
          55.05896305155479,
          53.551759057218064,
          52.12485736899533,
          50.77200812891594,
          49.487593516209486,
          48.266549836346634,
          47.10430085553516,
          45.99670053183368,
          44.939983633398924,
          43.93072300524516,
          42.965792463286235,
          42.042334469827324,
          41.157731886896606,
          40.30958321968516,
          39.495680857207255,
          38.71399189526185,
          37.962641191139795,
          37.23989635286783,
          36.544154410165405,
          35.87392995135618,
          35.227844541538715,
          34.60461726344217,
          34.003056244430475,
          33.4220510517701,
          32.860565854109325
         ]
        },
        {
         "name": "d = 335 mm",
         "type": "scatter",
         "x": [
          1733.3333333333333,
          1560,
          1418.1818181818182,
          1300,
          1200,
          1114.2857142857144,
          1040,
          975,
          917.6470588235295,
          866.6666666666666,
          821.0526315789474,
          780,
          742.8571428571429,
          709.0909090909091,
          678.2608695652174,
          650,
          624,
          600,
          577.7777777777778,
          557.1428571428572,
          537.9310344827586,
          520,
          503.22580645161287,
          487.5,
          472.72727272727275,
          458.82352941176475,
          445.7142857142857,
          433.3333333333333,
          421.6216216216216,
          410.5263157894737,
          400.00000000000006,
          390,
          380.4878048780488,
          371.42857142857144,
          362.79069767441865,
          354.54545454545456,
          346.6666666666667,
          339.1304347826087,
          331.9148936170213,
          325,
          318.36734693877554,
          312,
          305.88235294117646,
          300,
          294.33962264150944,
          288.8888888888889,
          283.6363636363636,
          278.5714285714286,
          273.6842105263158,
          268.9655172413793,
          264.4067796610169
         ],
         "y": [
          234.34481158215567,
          212.02979738154613,
          193.587022629377,
          178.0908315149626,
          164.88834164588528,
          153.5060190722174,
          143.59213216957605,
          134.87999897716645,
          127.16377072025819,
          120.28203622887226,
          114.10645356829532,
          108.53369934538652,
          103.47965927019187,
          98.87516474825335,
          94.66281614017885,
          90.79458287874066,
          87.22996758104738,
          83.93458541147133,
          80.87905313875805,
          78.03811191091152,
          75.38992834501143,
          72.91553304239402,
          70.59836601264787,
          68.4239059942916,
          66.37936615073886,
          64.45344268006455,
          62.63610590869763,
          60.918425723884724,
          59.29242493656291,
          57.75095549733699,
          56.28759351620949,
          54.89654983634664,
          53.57259353846199,
          52.31098624611939,
          51.107425493864035,
          49.95799573251789,
          48.859125796619566,
          47.80755186113167,
          46.80028507838597,
          45.834583219685165,
          44.90792575516644,
          44.01799189526185,
          43.16264119113979,
          42.339896352867825,
          41.54792799507107,
          40.78504106246729,
          40.049662723356896,
          39.34033154915645,
          38.655687823377846,
          37.99446484487354,
          37.355481108346616
         ]
        },
        {
         "name": "d = 375 mm",
         "type": "scatter",
         "x": [
          1733.3333333333333,
          1560,
          1418.1818181818182,
          1300,
          1200,
          1114.2857142857144,
          1040,
          975,
          917.6470588235295,
          866.6666666666666,
          821.0526315789474,
          780,
          742.8571428571429,
          709.0909090909091,
          678.2608695652174,
          650,
          624,
          600,
          577.7777777777778,
          557.1428571428572,
          537.9310344827586,
          520,
          503.22580645161287,
          487.5,
          472.72727272727275,
          458.82352941176475,
          445.7142857142857,
          433.3333333333333,
          421.6216216216216,
          410.5263157894737,
          400.00000000000006,
          390,
          380.4878048780488,
          371.42857142857144,
          362.79069767441865,
          354.54545454545456,
          346.6666666666667,
          339.1304347826087,
          331.9148936170213,
          325,
          318.36734693877554,
          312,
          305.88235294117646,
          300,
          294.33962264150944,
          288.8888888888889,
          283.6363636363636,
          278.5714285714286,
          273.6842105263158,
          268.9655172413793,
          264.4067796610169
         ],
         "y": [
          263.81147824882237,
          238.5497973815461,
          217.6961135384679,
          200.1908315149626,
          185.28834164588528,
          172.4488762150746,
          161.27213216957605,
          151.45499897716644,
          142.76377072025818,
          135.01536956220556,
          128.06434830513743,
          121.79369934538654,
          116.10823069876328,
          110.9297102027988,
          106.19325092278756,
          101.84458287874065,
          97.83796758104738,
          94.13458541147133,
          90.70127536098028,
          87.50954048234009,
          84.53475593121831,
          81.75553304239402,
          79.1532047223253,
          76.71140599429161,
          74.41572978710249,
          72.25344268006455,
          70.2132487658405,
          68.2850923905514,
          66.45999250413047,
          64.72990286575805,
          63.08759351620949,
          61.52654983634663,
          60.04088622138881,
          58.625271960405115,
          57.27486735432916,
          55.98526845979061,
          54.7524591299529,
          53.57276925243602,
          52.44283826987533,
          51.35958321968516,
          50.32017065312562,
          49.321991895261846,
          48.362641191139794,
          47.43989635286783,
          46.55170157997673,
          45.696152173578405,
          44.871480905175076,
          44.07604583487074,
          43.3083194023252,
          42.56687863797699,
          41.8503963625839
         ]
        },
        {
         "name": "d = 415 mm",
         "type": "scatter",
         "x": [
          1733.3333333333333,
          1560,
          1418.1818181818182,
          1300,
          1200,
          1114.2857142857144,
          1040,
          975,
          917.6470588235295,
          866.6666666666666,
          821.0526315789474,
          780,
          742.8571428571429,
          709.0909090909091,
          678.2608695652174,
          650,
          624,
          600,
          577.7777777777778,
          557.1428571428572,
          537.9310344827586,
          520,
          503.22580645161287,
          487.5,
          472.72727272727275,
          458.82352941176475,
          445.7142857142857,
          433.3333333333333,
          421.6216216216216,
          410.5263157894737,
          400.00000000000006,
          390,
          380.4878048780488,
          371.42857142857144,
          362.79069767441865,
          354.54545454545456,
          346.6666666666667,
          339.1304347826087,
          331.9148936170213,
          325,
          318.36734693877554,
          312,
          305.88235294117646,
          300,
          294.33962264150944,
          288.8888888888889,
          283.6363636363636,
          278.5714285714286,
          273.6842105263158,
          268.9655172413793,
          264.4067796610169
         ],
         "y": [
          293.27814491548907,
          265.0697973815461,
          241.8052044475588,
          222.2908315149626,
          205.68834164588526,
          191.39173335793174,
          178.95213216957606,
          168.02999897716643,
          158.36377072025817,
          149.7487028955389,
          142.02224304197955,
          135.05369934538655,
          128.73680212733473,
          122.98425565734426,
          117.72368570539625,
          112.89458287874065,
          108.44596758104737,
          104.33458541147132,
          100.5234975832025,
          96.98096905376866,
          93.67958351742521,
          90.59553304239402,
          87.7080434320027,
          84.9989059942916,
          82.45209342346612,
          80.05344268006456,
          77.79039162298335,
          75.65175905721806,
          73.62756007169803,
          71.7088502341791,
          69.88759351620949,
          68.15654983634663,
          66.50917890431565,
          64.93955767469083,
          63.44230921479427,
          62.01254118706333,
          60.64579246328624,
          59.33798664374037,
          58.08539146136469,
          56.88458321968517,
          55.732415551084806,
          54.62599189526185,
          53.56264119113979,
          52.53989635286783,
          51.55547516488238,
          50.607263284689516,
          49.69329908699326,
          48.81176012058503,
          47.96095098127258,
          47.13929243108045,
          46.34531161682119
         ]
        },
        {
         "name": "d = 455 mm",
         "type": "scatter",
         "x": [
          1733.3333333333333,
          1560,
          1418.1818181818182,
          1300,
          1200,
          1114.2857142857144,
          1040,
          975,
          917.6470588235295,
          866.6666666666666,
          821.0526315789474,
          780,
          742.8571428571429,
          709.0909090909091,
          678.2608695652174,
          650,
          624,
          600,
          577.7777777777778,
          557.1428571428572,
          537.9310344827586,
          520,
          503.22580645161287,
          487.5,
          472.72727272727275,
          458.82352941176475,
          445.7142857142857,
          433.3333333333333,
          421.6216216216216,
          410.5263157894737,
          400.00000000000006,
          390,
          380.4878048780488,
          371.42857142857144,
          362.79069767441865,
          354.54545454545456,
          346.6666666666667,
          339.1304347826087,
          331.9148936170213,
          325,
          318.36734693877554,
          312,
          305.88235294117646,
          300,
          294.33962264150944,
          288.8888888888889,
          283.6363636363636,
          278.5714285714286,
          273.6842105263158,
          268.9655172413793,
          264.4067796610169
         ],
         "y": [
          322.7448115821557,
          291.58979738154613,
          265.91429535664975,
          244.39083151496254,
          226.08834164588527,
          210.3345905007889,
          196.63213216957604,
          184.60499897716645,
          173.9637707202582,
          164.48203622887226,
          155.98013777882164,
          148.31369934538654,
          141.36537355590616,
          135.0388011118897,
          129.25412048800493,
          123.94458287874065,
          119.05396758104739,
          114.53458541147131,
          110.34571980542472,
          106.45239762519724,
          102.82441110363212,
          99.43553304239403,
          96.26288214168012,
          93.2864059942916,
          90.48845705982978,
          87.85344268006456,
          85.36753448012622,
          83.01842572388472,
          80.7951276392656,
          78.68779760260016,
          76.68759351620949,
          74.78654983634662,
          72.97747158724248,
          71.25384338897653,
          69.6097510752594,
          68.03981391433607,
          66.53912579661956,
          65.10320403504471,
          63.727944652854056,
          62.40958321968515,
          61.14466044904399,
          59.92999189526184,
          58.76264119113979,
          57.63989635286784,
          56.55924874978804,
          55.51837439580063,
          54.515117268811444,
          53.547474406299315,
          52.613582560219946,
          51.7117062241839,
          50.840226871058476
         ]
        },
        {
         "name": "d = 495 mm",
         "type": "scatter",
         "x": [
          1733.3333333333333,
          1560,
          1418.1818181818182,
          1300,
          1200,
          1114.2857142857144,
          1040,
          975,
          917.6470588235295,
          866.6666666666666,
          821.0526315789474,
          780,
          742.8571428571429,
          709.0909090909091,
          678.2608695652174,
          650,
          624,
          600,
          577.7777777777778,
          557.1428571428572,
          537.9310344827586,
          520,
          503.22580645161287,
          487.5,
          472.72727272727275,
          458.82352941176475,
          445.7142857142857,
          433.3333333333333,
          421.6216216216216,
          410.5263157894737,
          400.00000000000006,
          390,
          380.4878048780488,
          371.42857142857144,
          362.79069767441865,
          354.54545454545456,
          346.6666666666667,
          339.1304347826087,
          331.9148936170213,
          325,
          318.36734693877554,
          312,
          305.88235294117646,
          300,
          294.33962264150944,
          288.8888888888889,
          283.6363636363636,
          278.5714285714286,
          273.6842105263158,
          268.9655172413793,
          264.4067796610169
         ],
         "y": [
          352.21147824882235,
          318.1097973815462,
          290.0233862657406,
          266.49083151496257,
          246.48834164588533,
          229.27744764364607,
          214.31213216957605,
          201.17999897716643,
          189.5637707202582,
          179.21536956220558,
          169.93803251566376,
          161.57369934538653,
          153.99394498447757,
          147.09334656643517,
          140.78455527061362,
          134.99458287874066,
          129.66196758104738,
          124.73458541147131,
          120.16794202764693,
          115.9238261966258,
          111.96923868983902,
          108.27553304239402,
          104.81772085135755,
          101.57390599429161,
          98.52482069619342,
          95.65344268006454,
          92.94467733726907,
          90.38509239055139,
          87.96269520683317,
          85.6667449710212,
          83.48759351620949,
          81.41654983634663,
          79.4457642701693,
          77.56812910326225,
          75.7771929357245,
          74.06708664160878,
          72.4324591299529,
          70.86842142634907,
          69.3704978443434,
          67.93458321968515,
          66.55690534700318,
          65.23399189526184,
          63.962641191139795,
          62.73989635286783,
          61.563022334693706,
          60.42948550691173,
          59.33693545062962,
          58.2831886920136,
          57.26621413916732,
          56.28412001728734,
          55.33514212529576
         ]
        }
       ],
       "layout": {
        "hovermode": "x",
        "legend": {
         "tracegroupgap": 0
        },
        "margin": {
         "t": 60
        },
        "showlegend": true,
        "template": {
         "data": {
          "bar": [
           {
            "error_x": {
             "color": "#2a3f5f"
            },
            "error_y": {
             "color": "#2a3f5f"
            },
            "marker": {
             "line": {
              "color": "#E5ECF6",
              "width": 0.5
             }
            },
            "type": "bar"
           }
          ],
          "barpolar": [
           {
            "marker": {
             "line": {
              "color": "#E5ECF6",
              "width": 0.5
             }
            },
            "type": "barpolar"
           }
          ],
          "carpet": [
           {
            "aaxis": {
             "endlinecolor": "#2a3f5f",
             "gridcolor": "white",
             "linecolor": "white",
             "minorgridcolor": "white",
             "startlinecolor": "#2a3f5f"
            },
            "baxis": {
             "endlinecolor": "#2a3f5f",
             "gridcolor": "white",
             "linecolor": "white",
             "minorgridcolor": "white",
             "startlinecolor": "#2a3f5f"
            },
            "type": "carpet"
           }
          ],
          "choropleth": [
           {
            "colorbar": {
             "outlinewidth": 0,
             "ticks": ""
            },
            "type": "choropleth"
           }
          ],
          "contour": [
           {
            "colorbar": {
             "outlinewidth": 0,
             "ticks": ""
            },
            "colorscale": [
             [
              0,
              "#0d0887"
             ],
             [
              0.1111111111111111,
              "#46039f"
             ],
             [
              0.2222222222222222,
              "#7201a8"
             ],
             [
              0.3333333333333333,
              "#9c179e"
             ],
             [
              0.4444444444444444,
              "#bd3786"
             ],
             [
              0.5555555555555556,
              "#d8576b"
             ],
             [
              0.6666666666666666,
              "#ed7953"
             ],
             [
              0.7777777777777778,
              "#fb9f3a"
             ],
             [
              0.8888888888888888,
              "#fdca26"
             ],
             [
              1,
              "#f0f921"
             ]
            ],
            "type": "contour"
           }
          ],
          "contourcarpet": [
           {
            "colorbar": {
             "outlinewidth": 0,
             "ticks": ""
            },
            "type": "contourcarpet"
           }
          ],
          "heatmap": [
           {
            "colorbar": {
             "outlinewidth": 0,
             "ticks": ""
            },
            "colorscale": [
             [
              0,
              "#0d0887"
             ],
             [
              0.1111111111111111,
              "#46039f"
             ],
             [
              0.2222222222222222,
              "#7201a8"
             ],
             [
              0.3333333333333333,
              "#9c179e"
             ],
             [
              0.4444444444444444,
              "#bd3786"
             ],
             [
              0.5555555555555556,
              "#d8576b"
             ],
             [
              0.6666666666666666,
              "#ed7953"
             ],
             [
              0.7777777777777778,
              "#fb9f3a"
             ],
             [
              0.8888888888888888,
              "#fdca26"
             ],
             [
              1,
              "#f0f921"
             ]
            ],
            "type": "heatmap"
           }
          ],
          "heatmapgl": [
           {
            "colorbar": {
             "outlinewidth": 0,
             "ticks": ""
            },
            "colorscale": [
             [
              0,
              "#0d0887"
             ],
             [
              0.1111111111111111,
              "#46039f"
             ],
             [
              0.2222222222222222,
              "#7201a8"
             ],
             [
              0.3333333333333333,
              "#9c179e"
             ],
             [
              0.4444444444444444,
              "#bd3786"
             ],
             [
              0.5555555555555556,
              "#d8576b"
             ],
             [
              0.6666666666666666,
              "#ed7953"
             ],
             [
              0.7777777777777778,
              "#fb9f3a"
             ],
             [
              0.8888888888888888,
              "#fdca26"
             ],
             [
              1,
              "#f0f921"
             ]
            ],
            "type": "heatmapgl"
           }
          ],
          "histogram": [
           {
            "marker": {
             "colorbar": {
              "outlinewidth": 0,
              "ticks": ""
             }
            },
            "type": "histogram"
           }
          ],
          "histogram2d": [
           {
            "colorbar": {
             "outlinewidth": 0,
             "ticks": ""
            },
            "colorscale": [
             [
              0,
              "#0d0887"
             ],
             [
              0.1111111111111111,
              "#46039f"
             ],
             [
              0.2222222222222222,
              "#7201a8"
             ],
             [
              0.3333333333333333,
              "#9c179e"
             ],
             [
              0.4444444444444444,
              "#bd3786"
             ],
             [
              0.5555555555555556,
              "#d8576b"
             ],
             [
              0.6666666666666666,
              "#ed7953"
             ],
             [
              0.7777777777777778,
              "#fb9f3a"
             ],
             [
              0.8888888888888888,
              "#fdca26"
             ],
             [
              1,
              "#f0f921"
             ]
            ],
            "type": "histogram2d"
           }
          ],
          "histogram2dcontour": [
           {
            "colorbar": {
             "outlinewidth": 0,
             "ticks": ""
            },
            "colorscale": [
             [
              0,
              "#0d0887"
             ],
             [
              0.1111111111111111,
              "#46039f"
             ],
             [
              0.2222222222222222,
              "#7201a8"
             ],
             [
              0.3333333333333333,
              "#9c179e"
             ],
             [
              0.4444444444444444,
              "#bd3786"
             ],
             [
              0.5555555555555556,
              "#d8576b"
             ],
             [
              0.6666666666666666,
              "#ed7953"
             ],
             [
              0.7777777777777778,
              "#fb9f3a"
             ],
             [
              0.8888888888888888,
              "#fdca26"
             ],
             [
              1,
              "#f0f921"
             ]
            ],
            "type": "histogram2dcontour"
           }
          ],
          "mesh3d": [
           {
            "colorbar": {
             "outlinewidth": 0,
             "ticks": ""
            },
            "type": "mesh3d"
           }
          ],
          "parcoords": [
           {
            "line": {
             "colorbar": {
              "outlinewidth": 0,
              "ticks": ""
             }
            },
            "type": "parcoords"
           }
          ],
          "pie": [
           {
            "automargin": true,
            "type": "pie"
           }
          ],
          "scatter": [
           {
            "marker": {
             "colorbar": {
              "outlinewidth": 0,
              "ticks": ""
             }
            },
            "type": "scatter"
           }
          ],
          "scatter3d": [
           {
            "line": {
             "colorbar": {
              "outlinewidth": 0,
              "ticks": ""
             }
            },
            "marker": {
             "colorbar": {
              "outlinewidth": 0,
              "ticks": ""
             }
            },
            "type": "scatter3d"
           }
          ],
          "scattercarpet": [
           {
            "marker": {
             "colorbar": {
              "outlinewidth": 0,
              "ticks": ""
             }
            },
            "type": "scattercarpet"
           }
          ],
          "scattergeo": [
           {
            "marker": {
             "colorbar": {
              "outlinewidth": 0,
              "ticks": ""
             }
            },
            "type": "scattergeo"
           }
          ],
          "scattergl": [
           {
            "marker": {
             "colorbar": {
              "outlinewidth": 0,
              "ticks": ""
             }
            },
            "type": "scattergl"
           }
          ],
          "scattermapbox": [
           {
            "marker": {
             "colorbar": {
              "outlinewidth": 0,
              "ticks": ""
             }
            },
            "type": "scattermapbox"
           }
          ],
          "scatterpolar": [
           {
            "marker": {
             "colorbar": {
              "outlinewidth": 0,
              "ticks": ""
             }
            },
            "type": "scatterpolar"
           }
          ],
          "scatterpolargl": [
           {
            "marker": {
             "colorbar": {
              "outlinewidth": 0,
              "ticks": ""
             }
            },
            "type": "scatterpolargl"
           }
          ],
          "scatterternary": [
           {
            "marker": {
             "colorbar": {
              "outlinewidth": 0,
              "ticks": ""
             }
            },
            "type": "scatterternary"
           }
          ],
          "surface": [
           {
            "colorbar": {
             "outlinewidth": 0,
             "ticks": ""
            },
            "colorscale": [
             [
              0,
              "#0d0887"
             ],
             [
              0.1111111111111111,
              "#46039f"
             ],
             [
              0.2222222222222222,
              "#7201a8"
             ],
             [
              0.3333333333333333,
              "#9c179e"
             ],
             [
              0.4444444444444444,
              "#bd3786"
             ],
             [
              0.5555555555555556,
              "#d8576b"
             ],
             [
              0.6666666666666666,
              "#ed7953"
             ],
             [
              0.7777777777777778,
              "#fb9f3a"
             ],
             [
              0.8888888888888888,
              "#fdca26"
             ],
             [
              1,
              "#f0f921"
             ]
            ],
            "type": "surface"
           }
          ],
          "table": [
           {
            "cells": {
             "fill": {
              "color": "#EBF0F8"
             },
             "line": {
              "color": "white"
             }
            },
            "header": {
             "fill": {
              "color": "#C8D4E3"
             },
             "line": {
              "color": "white"
             }
            },
            "type": "table"
           }
          ]
         },
         "layout": {
          "annotationdefaults": {
           "arrowcolor": "#2a3f5f",
           "arrowhead": 0,
           "arrowwidth": 1
          },
          "autotypenumbers": "strict",
          "coloraxis": {
           "colorbar": {
            "outlinewidth": 0,
            "ticks": ""
           }
          },
          "colorscale": {
           "diverging": [
            [
             0,
             "#8e0152"
            ],
            [
             0.1,
             "#c51b7d"
            ],
            [
             0.2,
             "#de77ae"
            ],
            [
             0.3,
             "#f1b6da"
            ],
            [
             0.4,
             "#fde0ef"
            ],
            [
             0.5,
             "#f7f7f7"
            ],
            [
             0.6,
             "#e6f5d0"
            ],
            [
             0.7,
             "#b8e186"
            ],
            [
             0.8,
             "#7fbc41"
            ],
            [
             0.9,
             "#4d9221"
            ],
            [
             1,
             "#276419"
            ]
           ],
           "sequential": [
            [
             0,
             "#0d0887"
            ],
            [
             0.1111111111111111,
             "#46039f"
            ],
            [
             0.2222222222222222,
             "#7201a8"
            ],
            [
             0.3333333333333333,
             "#9c179e"
            ],
            [
             0.4444444444444444,
             "#bd3786"
            ],
            [
             0.5555555555555556,
             "#d8576b"
            ],
            [
             0.6666666666666666,
             "#ed7953"
            ],
            [
             0.7777777777777778,
             "#fb9f3a"
            ],
            [
             0.8888888888888888,
             "#fdca26"
            ],
            [
             1,
             "#f0f921"
            ]
           ],
           "sequentialminus": [
            [
             0,
             "#0d0887"
            ],
            [
             0.1111111111111111,
             "#46039f"
            ],
            [
             0.2222222222222222,
             "#7201a8"
            ],
            [
             0.3333333333333333,
             "#9c179e"
            ],
            [
             0.4444444444444444,
             "#bd3786"
            ],
            [
             0.5555555555555556,
             "#d8576b"
            ],
            [
             0.6666666666666666,
             "#ed7953"
            ],
            [
             0.7777777777777778,
             "#fb9f3a"
            ],
            [
             0.8888888888888888,
             "#fdca26"
            ],
            [
             1,
             "#f0f921"
            ]
           ]
          },
          "colorway": [
           "#636efa",
           "#EF553B",
           "#00cc96",
           "#ab63fa",
           "#FFA15A",
           "#19d3f3",
           "#FF6692",
           "#B6E880",
           "#FF97FF",
           "#FECB52"
          ],
          "font": {
           "color": "#2a3f5f"
          },
          "geo": {
           "bgcolor": "white",
           "lakecolor": "white",
           "landcolor": "#E5ECF6",
           "showlakes": true,
           "showland": true,
           "subunitcolor": "white"
          },
          "hoverlabel": {
           "align": "left"
          },
          "hovermode": "closest",
          "mapbox": {
           "style": "light"
          },
          "paper_bgcolor": "white",
          "plot_bgcolor": "#E5ECF6",
          "polar": {
           "angularaxis": {
            "gridcolor": "white",
            "linecolor": "white",
            "ticks": ""
           },
           "bgcolor": "#E5ECF6",
           "radialaxis": {
            "gridcolor": "white",
            "linecolor": "white",
            "ticks": ""
           }
          },
          "scene": {
           "xaxis": {
            "backgroundcolor": "#E5ECF6",
            "gridcolor": "white",
            "gridwidth": 2,
            "linecolor": "white",
            "showbackground": true,
            "ticks": "",
            "zerolinecolor": "white"
           },
           "yaxis": {
            "backgroundcolor": "#E5ECF6",
            "gridcolor": "white",
            "gridwidth": 2,
            "linecolor": "white",
            "showbackground": true,
            "ticks": "",
            "zerolinecolor": "white"
           },
           "zaxis": {
            "backgroundcolor": "#E5ECF6",
            "gridcolor": "white",
            "gridwidth": 2,
            "linecolor": "white",
            "showbackground": true,
            "ticks": "",
            "zerolinecolor": "white"
           }
          },
          "shapedefaults": {
           "line": {
            "color": "#2a3f5f"
           }
          },
          "ternary": {
           "aaxis": {
            "gridcolor": "white",
            "linecolor": "white",
            "ticks": ""
           },
           "baxis": {
            "gridcolor": "white",
            "linecolor": "white",
            "ticks": ""
           },
           "bgcolor": "#E5ECF6",
           "caxis": {
            "gridcolor": "white",
            "linecolor": "white",
            "ticks": ""
           }
          },
          "title": {
           "x": 0.05
          },
          "xaxis": {
           "automargin": true,
           "gridcolor": "white",
           "linecolor": "white",
           "ticks": "",
           "title": {
            "standoff": 15
           },
           "zerolinecolor": "white",
           "zerolinewidth": 2
          },
          "yaxis": {
           "automargin": true,
           "gridcolor": "white",
           "linecolor": "white",
           "ticks": "",
           "title": {
            "standoff": 15
           },
           "zerolinecolor": "white",
           "zerolinewidth": 2
          }
         }
        },
        "title": {
         "font": {
          "size": 24
         },
         "text": "Ast Class N Bending Capacity, fc=32",
         "x": 0.5
        },
        "xaxis": {
         "anchor": "y",
         "domain": [
          0,
          1
         ],
         "title": {
          "text": "Ast (mm2/m)"
         }
        },
        "yaxis": {
         "anchor": "x",
         "domain": [
          0,
          1
         ],
         "title": {
          "text": "Moment Capacity (kN.m)"
         }
        }
       }
      }
     },
     "metadata": {}
    }
   ],
   "source": [
    "# Create a graph showing the range in bending capacity for N class steel Areas D = 300\n",
    "# loop through area steel and loop through d (instead of fc)\n",
    "fig = px.line()\n",
    "\n",
    "x, y = {}, {}\n",
    "for D in range(100,550,40):\n",
    "    x[D] = []\n",
    "    y[D] = []\n",
    "    for spacing in range(45,300,5):\n",
    "        conc = Concrete(spacing = spacing, ductility = 'N', D=D, cover = 40, diameter = 10, fc=32)\n",
    "        y[D].append(conc.bending())\n",
    "        x[D].append(conc.Ast)\n",
    "\n",
    "    fig.add_trace(go.Scatter(x=x[D],y=y[D], name = \"d = \"+ str(D - 45) + \" mm\"))\n",
    "\n",
    "fig.update_layout(\n",
    "        title={'text': \"Ast Class N Bending Capacity, fc=32\", 'x': 0.5},\n",
    "        title_font_size=24,\n",
    "        showlegend=True,\n",
    "        hovermode='x')\n",
    "fig.update_xaxes(title_text='Ast (mm2/m)')\n",
    "fig.update_yaxes(title_text='Moment Capacity (kN.m)')\n",
    "\n",
    "fig.write_image(\"./var_d_Ast_N.png\")\n",
    "fig.write_html(\"./var_d_Ast_N.html\")"
   ]
  },
  {
   "cell_type": "code",
   "execution_count": null,
   "metadata": {},
   "outputs": [],
   "source": []
  }
 ],
 "metadata": {
  "kernelspec": {
   "name": "python373jvsc74a57bd0961eff7faf67ce79553a65a2487d2e108eb15b996265a912167c96f0537f9b25",
   "display_name": "Python 3.7.3 64-bit"
  },
  "language_info": {
   "codemirror_mode": {
    "name": "ipython",
    "version": 3
   },
   "file_extension": ".py",
   "mimetype": "text/x-python",
   "name": "python",
   "nbconvert_exporter": "python",
   "pygments_lexer": "ipython3",
   "version": "3.7.3"
  }
 },
 "nbformat": 4,
 "nbformat_minor": 2
}