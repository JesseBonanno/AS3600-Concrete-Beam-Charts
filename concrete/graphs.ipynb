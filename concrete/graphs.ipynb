{
 "cells": [
  {
   "cell_type": "markdown",
   "metadata": {},
   "source": [
    "# Initialization"
   ]
  },
  {
   "cell_type": "code",
   "execution_count": null,
   "metadata": {},
   "outputs": [],
   "source": [
    "# Run to intialize jupyter notebook online\n",
    "!pip install pandas\n",
    "!pip install plotly\n",
    "!pip install kaleido"
   ]
  },
  {
   "cell_type": "code",
   "execution_count": 1,
   "metadata": {},
   "outputs": [],
   "source": [
    "from conc import Concrete\n",
    "from math import floor, pi\n",
    "import plotly.express as px\n",
    "import plotly.graph_objects as go"
   ]
  },
  {
   "cell_type": "code",
   "execution_count": 2,
   "metadata": {},
   "outputs": [
    {
     "output_type": "stream",
     "name": "stdout",
     "text": [
      "Help on class Concrete in module conc:\n\nclass Concrete(builtins.object)\n |  Concrete(D=200, b=1000, cover=20, fc=32, diameter=7.6, spacing=100, ductility='L', fsy=500, d=None)\n |  \n |  Class to define a concrete beam and methods for bending and shear capacity calculations.\n |  \n |  Methods defined here:\n |  \n |  __init__(self, D=200, b=1000, cover=20, fc=32, diameter=7.6, spacing=100, ductility='L', fsy=500, d=None)\n |      Initialization method.\n |      \n |      Parameters\n |      ----------\n |      D : int, optional\n |          Depth of the concrete beam (mm), by default 200\n |      b : int, optional\n |          width of the concrete beam (mm), by default 1000\n |      cover : int, optional\n |          steel cover (mm), by default 20\n |      fc : int, optional\n |          concrete strength (MPa), by default 32\n |      diameter : float, optional\n |          diameter of steel reinforcement, by default 7.6\n |      spacing : int, optional\n |          spacing of steel reinforcement, by default 100\n |      ductility : str, optional\n |          ductility class of steel, by default 'L'\n |      fsy : int, optional\n |          yield strength of steel, by default 500\n |      d : int or None, optional\n |          depth to center or reinforcement is typically calculated\n |          by using the beam Depth, cover and reinforcment bar diameter,\n |          but the value can be overrided by specifying an int here,\n |          by default None\n |  \n |  bending(self)\n |      Bending capacity calculation based on beam attributes.\n |      \n |      Returns\n |      -------\n |      Bending Capacity, int\n |          Bending capacity in kN.m, considers phi.\n |  \n |  deemed(self, f=0.2)\n |      Deemed to comply check for crack control and minimum bending capacity.\n |      \n |      Parameters\n |      ----------\n |      f : float, optional\n |          factor for deemed to comply consideration\n |          is 0.19 for 2 way slab\n |          is 0.2 for 1 way slab or beam\n |          is 0.24 for flat slab (slab supported by columns)\n |          , by default 0.2\n |      \n |      Returns\n |      -------\n |      Minimum Steel, int\n |          Minimum steel for deemed to comply crack control \n |          and minimum bending capacity requirements (mm2/m)\n |  \n |  shear(self)\n |      Shear capacity calculation based on beam attributes.\n |      \n |      Returns\n |      -------\n |      Shear Capacity, int\n |          Shear capacity in kN, considers phi.\n |  \n |  ----------------------------------------------------------------------\n |  Data descriptors defined here:\n |  \n |  __dict__\n |      dictionary for instance variables (if defined)\n |  \n |  __weakref__\n |      list of weak references to the object (if defined)\n\n"
     ]
    }
   ],
   "source": [
    "# for information on the concrete class that is used for \n",
    "# calculations run this cell\n",
    "help(Concrete)"
   ]
  },
  {
   "cell_type": "markdown",
   "metadata": {},
   "source": [
    "# Commented Example"
   ]
  },
  {
   "cell_type": "code",
   "execution_count": 4,
   "metadata": {},
   "outputs": [
    {
     "output_type": "display_data",
     "data": {
      "application/vnd.plotly.v1+json": {
       "config": {
        "plotlyServerURL": "https://plot.ly"
       },
       "data": [
        {
         "name": "50 MPa",
         "type": "scatter",
         "x": [
          6.2,
          26.2,
          46.2,
          66.2,
          86.2,
          106.2,
          126.2,
          146.2,
          166.2,
          186.2,
          206.2,
          226.2,
          246.2,
          266.2,
          286.2,
          306.2,
          326.2,
          346.2,
          366.2,
          386.2,
          406.2,
          426.2,
          446.2,
          466.2
         ],
         "y": [
          0.4821532258064516,
          3.4071532258064514,
          6.332153225806452,
          9.257153225806452,
          12.182153225806452,
          15.107153225806453,
          18.032153225806454,
          20.957153225806454,
          23.882153225806448,
          26.80715322580645,
          29.73215322580645,
          32.65715322580645,
          35.58215322580645,
          38.507153225806455,
          41.43215322580645,
          44.35715322580646,
          47.28215322580646,
          50.20715322580646,
          53.132153225806455,
          56.05715322580646,
          58.98215322580646,
          61.90715322580646,
          64.83215322580647,
          67.75715322580646
         ]
        },
        {
         "name": "40 MPa",
         "type": "scatter",
         "x": [
          6.2,
          26.2,
          46.2,
          66.2,
          86.2,
          106.2,
          126.2,
          146.2,
          166.2,
          186.2,
          206.2,
          226.2,
          246.2,
          266.2,
          286.2,
          306.2,
          326.2,
          346.2,
          366.2,
          386.2,
          406.2,
          426.2,
          446.2,
          466.2
         ],
         "y": [
          0.38608148734177217,
          3.3110814873417724,
          6.236081487341774,
          9.161081487341773,
          12.086081487341772,
          15.011081487341773,
          17.936081487341774,
          20.86108148734177,
          23.78608148734177,
          26.711081487341772,
          29.63608148734177,
          32.561081487341774,
          35.48608148734177,
          38.41108148734177,
          41.33608148734177,
          44.26108148734178,
          47.186081487341774,
          50.11108148734178,
          53.036081487341775,
          55.96108148734178,
          58.88608148734178,
          61.811081487341774,
          64.73608148734178,
          67.66108148734178
         ]
        },
        {
         "name": "32 MPa",
         "type": "scatter",
         "x": [
          6.2,
          26.2,
          46.2,
          66.2,
          86.2,
          106.2,
          126.2,
          146.2,
          166.2,
          186.2,
          206.2,
          226.2,
          246.2,
          266.2,
          286.2,
          306.2,
          326.2,
          346.2,
          366.2,
          386.2,
          406.2,
          426.2,
          446.2,
          466.2
         ],
         "y": [
          0.2656525483167081,
          3.190652548316708,
          6.115652548316709,
          9.040652548316709,
          11.965652548316708,
          14.890652548316709,
          17.81565254831671,
          20.74065254831671,
          23.665652548316707,
          26.590652548316708,
          29.51565254831671,
          32.440652548316706,
          35.36565254831671,
          38.29065254831671,
          41.215652548316704,
          44.14065254831671,
          47.06565254831671,
          49.99065254831671,
          52.91565254831671,
          55.84065254831671,
          58.76565254831671,
          61.69065254831671,
          64.61565254831672,
          67.54065254831671
         ]
        },
        {
         "name": "20 MPa",
         "type": "scatter",
         "x": [
          6.2,
          26.2,
          46.2,
          66.2,
          86.2,
          106.2,
          126.2,
          146.2,
          166.2,
          186.2,
          206.2,
          226.2,
          246.2,
          266.2,
          286.2,
          306.2,
          326.2,
          346.2,
          366.2,
          386.2,
          406.2,
          426.2,
          446.2,
          466.2
         ],
         "y": [
          -0.09648932926829273,
          2.8285106707317076,
          5.753510670731708,
          8.678510670731708,
          11.603510670731708,
          14.528510670731707,
          17.453510670731706,
          20.378510670731703,
          23.303510670731708,
          26.22851067073171,
          29.15351067073171,
          32.07851067073171,
          35.00351067073171,
          37.92851067073171,
          40.85351067073171,
          43.778510670731706,
          46.7035106707317,
          49.62851067073171,
          52.553510670731704,
          55.4785106707317,
          58.403510670731706,
          61.3285106707317,
          64.2535106707317,
          67.17851067073171
         ]
        }
       ],
       "layout": {
        "hovermode": "x",
        "legend": {
         "tracegroupgap": 0
        },
        "margin": {
         "t": 60
        },
        "showlegend": true,
        "template": {
         "data": {
          "bar": [
           {
            "error_x": {
             "color": "#2a3f5f"
            },
            "error_y": {
             "color": "#2a3f5f"
            },
            "marker": {
             "line": {
              "color": "#E5ECF6",
              "width": 0.5
             }
            },
            "type": "bar"
           }
          ],
          "barpolar": [
           {
            "marker": {
             "line": {
              "color": "#E5ECF6",
              "width": 0.5
             }
            },
            "type": "barpolar"
           }
          ],
          "carpet": [
           {
            "aaxis": {
             "endlinecolor": "#2a3f5f",
             "gridcolor": "white",
             "linecolor": "white",
             "minorgridcolor": "white",
             "startlinecolor": "#2a3f5f"
            },
            "baxis": {
             "endlinecolor": "#2a3f5f",
             "gridcolor": "white",
             "linecolor": "white",
             "minorgridcolor": "white",
             "startlinecolor": "#2a3f5f"
            },
            "type": "carpet"
           }
          ],
          "choropleth": [
           {
            "colorbar": {
             "outlinewidth": 0,
             "ticks": ""
            },
            "type": "choropleth"
           }
          ],
          "contour": [
           {
            "colorbar": {
             "outlinewidth": 0,
             "ticks": ""
            },
            "colorscale": [
             [
              0,
              "#0d0887"
             ],
             [
              0.1111111111111111,
              "#46039f"
             ],
             [
              0.2222222222222222,
              "#7201a8"
             ],
             [
              0.3333333333333333,
              "#9c179e"
             ],
             [
              0.4444444444444444,
              "#bd3786"
             ],
             [
              0.5555555555555556,
              "#d8576b"
             ],
             [
              0.6666666666666666,
              "#ed7953"
             ],
             [
              0.7777777777777778,
              "#fb9f3a"
             ],
             [
              0.8888888888888888,
              "#fdca26"
             ],
             [
              1,
              "#f0f921"
             ]
            ],
            "type": "contour"
           }
          ],
          "contourcarpet": [
           {
            "colorbar": {
             "outlinewidth": 0,
             "ticks": ""
            },
            "type": "contourcarpet"
           }
          ],
          "heatmap": [
           {
            "colorbar": {
             "outlinewidth": 0,
             "ticks": ""
            },
            "colorscale": [
             [
              0,
              "#0d0887"
             ],
             [
              0.1111111111111111,
              "#46039f"
             ],
             [
              0.2222222222222222,
              "#7201a8"
             ],
             [
              0.3333333333333333,
              "#9c179e"
             ],
             [
              0.4444444444444444,
              "#bd3786"
             ],
             [
              0.5555555555555556,
              "#d8576b"
             ],
             [
              0.6666666666666666,
              "#ed7953"
             ],
             [
              0.7777777777777778,
              "#fb9f3a"
             ],
             [
              0.8888888888888888,
              "#fdca26"
             ],
             [
              1,
              "#f0f921"
             ]
            ],
            "type": "heatmap"
           }
          ],
          "heatmapgl": [
           {
            "colorbar": {
             "outlinewidth": 0,
             "ticks": ""
            },
            "colorscale": [
             [
              0,
              "#0d0887"
             ],
             [
              0.1111111111111111,
              "#46039f"
             ],
             [
              0.2222222222222222,
              "#7201a8"
             ],
             [
              0.3333333333333333,
              "#9c179e"
             ],
             [
              0.4444444444444444,
              "#bd3786"
             ],
             [
              0.5555555555555556,
              "#d8576b"
             ],
             [
              0.6666666666666666,
              "#ed7953"
             ],
             [
              0.7777777777777778,
              "#fb9f3a"
             ],
             [
              0.8888888888888888,
              "#fdca26"
             ],
             [
              1,
              "#f0f921"
             ]
            ],
            "type": "heatmapgl"
           }
          ],
          "histogram": [
           {
            "marker": {
             "colorbar": {
              "outlinewidth": 0,
              "ticks": ""
             }
            },
            "type": "histogram"
           }
          ],
          "histogram2d": [
           {
            "colorbar": {
             "outlinewidth": 0,
             "ticks": ""
            },
            "colorscale": [
             [
              0,
              "#0d0887"
             ],
             [
              0.1111111111111111,
              "#46039f"
             ],
             [
              0.2222222222222222,
              "#7201a8"
             ],
             [
              0.3333333333333333,
              "#9c179e"
             ],
             [
              0.4444444444444444,
              "#bd3786"
             ],
             [
              0.5555555555555556,
              "#d8576b"
             ],
             [
              0.6666666666666666,
              "#ed7953"
             ],
             [
              0.7777777777777778,
              "#fb9f3a"
             ],
             [
              0.8888888888888888,
              "#fdca26"
             ],
             [
              1,
              "#f0f921"
             ]
            ],
            "type": "histogram2d"
           }
          ],
          "histogram2dcontour": [
           {
            "colorbar": {
             "outlinewidth": 0,
             "ticks": ""
            },
            "colorscale": [
             [
              0,
              "#0d0887"
             ],
             [
              0.1111111111111111,
              "#46039f"
             ],
             [
              0.2222222222222222,
              "#7201a8"
             ],
             [
              0.3333333333333333,
              "#9c179e"
             ],
             [
              0.4444444444444444,
              "#bd3786"
             ],
             [
              0.5555555555555556,
              "#d8576b"
             ],
             [
              0.6666666666666666,
              "#ed7953"
             ],
             [
              0.7777777777777778,
              "#fb9f3a"
             ],
             [
              0.8888888888888888,
              "#fdca26"
             ],
             [
              1,
              "#f0f921"
             ]
            ],
            "type": "histogram2dcontour"
           }
          ],
          "mesh3d": [
           {
            "colorbar": {
             "outlinewidth": 0,
             "ticks": ""
            },
            "type": "mesh3d"
           }
          ],
          "parcoords": [
           {
            "line": {
             "colorbar": {
              "outlinewidth": 0,
              "ticks": ""
             }
            },
            "type": "parcoords"
           }
          ],
          "pie": [
           {
            "automargin": true,
            "type": "pie"
           }
          ],
          "scatter": [
           {
            "marker": {
             "colorbar": {
              "outlinewidth": 0,
              "ticks": ""
             }
            },
            "type": "scatter"
           }
          ],
          "scatter3d": [
           {
            "line": {
             "colorbar": {
              "outlinewidth": 0,
              "ticks": ""
             }
            },
            "marker": {
             "colorbar": {
              "outlinewidth": 0,
              "ticks": ""
             }
            },
            "type": "scatter3d"
           }
          ],
          "scattercarpet": [
           {
            "marker": {
             "colorbar": {
              "outlinewidth": 0,
              "ticks": ""
             }
            },
            "type": "scattercarpet"
           }
          ],
          "scattergeo": [
           {
            "marker": {
             "colorbar": {
              "outlinewidth": 0,
              "ticks": ""
             }
            },
            "type": "scattergeo"
           }
          ],
          "scattergl": [
           {
            "marker": {
             "colorbar": {
              "outlinewidth": 0,
              "ticks": ""
             }
            },
            "type": "scattergl"
           }
          ],
          "scattermapbox": [
           {
            "marker": {
             "colorbar": {
              "outlinewidth": 0,
              "ticks": ""
             }
            },
            "type": "scattermapbox"
           }
          ],
          "scatterpolar": [
           {
            "marker": {
             "colorbar": {
              "outlinewidth": 0,
              "ticks": ""
             }
            },
            "type": "scatterpolar"
           }
          ],
          "scatterpolargl": [
           {
            "marker": {
             "colorbar": {
              "outlinewidth": 0,
              "ticks": ""
             }
            },
            "type": "scatterpolargl"
           }
          ],
          "scatterternary": [
           {
            "marker": {
             "colorbar": {
              "outlinewidth": 0,
              "ticks": ""
             }
            },
            "type": "scatterternary"
           }
          ],
          "surface": [
           {
            "colorbar": {
             "outlinewidth": 0,
             "ticks": ""
            },
            "colorscale": [
             [
              0,
              "#0d0887"
             ],
             [
              0.1111111111111111,
              "#46039f"
             ],
             [
              0.2222222222222222,
              "#7201a8"
             ],
             [
              0.3333333333333333,
              "#9c179e"
             ],
             [
              0.4444444444444444,
              "#bd3786"
             ],
             [
              0.5555555555555556,
              "#d8576b"
             ],
             [
              0.6666666666666666,
              "#ed7953"
             ],
             [
              0.7777777777777778,
              "#fb9f3a"
             ],
             [
              0.8888888888888888,
              "#fdca26"
             ],
             [
              1,
              "#f0f921"
             ]
            ],
            "type": "surface"
           }
          ],
          "table": [
           {
            "cells": {
             "fill": {
              "color": "#EBF0F8"
             },
             "line": {
              "color": "white"
             }
            },
            "header": {
             "fill": {
              "color": "#C8D4E3"
             },
             "line": {
              "color": "white"
             }
            },
            "type": "table"
           }
          ]
         },
         "layout": {
          "annotationdefaults": {
           "arrowcolor": "#2a3f5f",
           "arrowhead": 0,
           "arrowwidth": 1
          },
          "autotypenumbers": "strict",
          "coloraxis": {
           "colorbar": {
            "outlinewidth": 0,
            "ticks": ""
           }
          },
          "colorscale": {
           "diverging": [
            [
             0,
             "#8e0152"
            ],
            [
             0.1,
             "#c51b7d"
            ],
            [
             0.2,
             "#de77ae"
            ],
            [
             0.3,
             "#f1b6da"
            ],
            [
             0.4,
             "#fde0ef"
            ],
            [
             0.5,
             "#f7f7f7"
            ],
            [
             0.6,
             "#e6f5d0"
            ],
            [
             0.7,
             "#b8e186"
            ],
            [
             0.8,
             "#7fbc41"
            ],
            [
             0.9,
             "#4d9221"
            ],
            [
             1,
             "#276419"
            ]
           ],
           "sequential": [
            [
             0,
             "#0d0887"
            ],
            [
             0.1111111111111111,
             "#46039f"
            ],
            [
             0.2222222222222222,
             "#7201a8"
            ],
            [
             0.3333333333333333,
             "#9c179e"
            ],
            [
             0.4444444444444444,
             "#bd3786"
            ],
            [
             0.5555555555555556,
             "#d8576b"
            ],
            [
             0.6666666666666666,
             "#ed7953"
            ],
            [
             0.7777777777777778,
             "#fb9f3a"
            ],
            [
             0.8888888888888888,
             "#fdca26"
            ],
            [
             1,
             "#f0f921"
            ]
           ],
           "sequentialminus": [
            [
             0,
             "#0d0887"
            ],
            [
             0.1111111111111111,
             "#46039f"
            ],
            [
             0.2222222222222222,
             "#7201a8"
            ],
            [
             0.3333333333333333,
             "#9c179e"
            ],
            [
             0.4444444444444444,
             "#bd3786"
            ],
            [
             0.5555555555555556,
             "#d8576b"
            ],
            [
             0.6666666666666666,
             "#ed7953"
            ],
            [
             0.7777777777777778,
             "#fb9f3a"
            ],
            [
             0.8888888888888888,
             "#fdca26"
            ],
            [
             1,
             "#f0f921"
            ]
           ]
          },
          "colorway": [
           "#636efa",
           "#EF553B",
           "#00cc96",
           "#ab63fa",
           "#FFA15A",
           "#19d3f3",
           "#FF6692",
           "#B6E880",
           "#FF97FF",
           "#FECB52"
          ],
          "font": {
           "color": "#2a3f5f"
          },
          "geo": {
           "bgcolor": "white",
           "lakecolor": "white",
           "landcolor": "#E5ECF6",
           "showlakes": true,
           "showland": true,
           "subunitcolor": "white"
          },
          "hoverlabel": {
           "align": "left"
          },
          "hovermode": "closest",
          "mapbox": {
           "style": "light"
          },
          "paper_bgcolor": "white",
          "plot_bgcolor": "#E5ECF6",
          "polar": {
           "angularaxis": {
            "gridcolor": "white",
            "linecolor": "white",
            "ticks": ""
           },
           "bgcolor": "#E5ECF6",
           "radialaxis": {
            "gridcolor": "white",
            "linecolor": "white",
            "ticks": ""
           }
          },
          "scene": {
           "xaxis": {
            "backgroundcolor": "#E5ECF6",
            "gridcolor": "white",
            "gridwidth": 2,
            "linecolor": "white",
            "showbackground": true,
            "ticks": "",
            "zerolinecolor": "white"
           },
           "yaxis": {
            "backgroundcolor": "#E5ECF6",
            "gridcolor": "white",
            "gridwidth": 2,
            "linecolor": "white",
            "showbackground": true,
            "ticks": "",
            "zerolinecolor": "white"
           },
           "zaxis": {
            "backgroundcolor": "#E5ECF6",
            "gridcolor": "white",
            "gridwidth": 2,
            "linecolor": "white",
            "showbackground": true,
            "ticks": "",
            "zerolinecolor": "white"
           }
          },
          "shapedefaults": {
           "line": {
            "color": "#2a3f5f"
           }
          },
          "ternary": {
           "aaxis": {
            "gridcolor": "white",
            "linecolor": "white",
            "ticks": ""
           },
           "baxis": {
            "gridcolor": "white",
            "linecolor": "white",
            "ticks": ""
           },
           "bgcolor": "#E5ECF6",
           "caxis": {
            "gridcolor": "white",
            "linecolor": "white",
            "ticks": ""
           }
          },
          "title": {
           "x": 0.05
          },
          "xaxis": {
           "automargin": true,
           "gridcolor": "white",
           "linecolor": "white",
           "ticks": "",
           "title": {
            "standoff": 15
           },
           "zerolinecolor": "white",
           "zerolinewidth": 2
          },
          "yaxis": {
           "automargin": true,
           "gridcolor": "white",
           "linecolor": "white",
           "ticks": "",
           "title": {
            "standoff": 15
           },
           "zerolinecolor": "white",
           "zerolinewidth": 2
          }
         }
        },
        "title": {
         "font": {
          "size": 24
         },
         "text": "SL81 at varying depth",
         "x": 0.5
        },
        "xaxis": {
         "anchor": "y",
         "domain": [
          0,
          1
         ],
         "title": {
          "text": "d (mm)"
         }
        },
        "yaxis": {
         "anchor": "x",
         "domain": [
          0,
          1
         ],
         "title": {
          "text": "Moment Capacity (kN.m)"
         }
        }
       }
      }
     },
     "metadata": {}
    }
   ],
   "source": [
    "# intialise and empty plotly plot\n",
    "fig = px.line()\n",
    "\n",
    "# outer loop will represent each line on graph\n",
    "for fc in [50,40,32,20]:\n",
    "    # intilize empty and x and y array to represent data for lines\n",
    "    x = []\n",
    "    y = []\n",
    "    # inner loop will represent all the points on a line\n",
    "    for D in range(30,500,20):\n",
    "        # create conc class with parameters based on loops and other requirements\n",
    "        conc = Concrete(D = D, fc = fc)\n",
    "\n",
    "        # initialise y to be a value created off of the conc class\n",
    "        # can be conc.deemed(), conc.shear() or conc.bending()\n",
    "        y.append(conc.bending())\n",
    "\n",
    "        # intilise x value to be a representation of the inner loop value, either\n",
    "        # setting it to be the loop value or a related proportional value\n",
    "        x.append(conc.d)\n",
    "    \n",
    "    # add line with the following code, name will be the name displayed in the legend\n",
    "    # for the line and should be appropriate defined in relation to the outer loop\n",
    "    fig.add_trace(go.Scatter(x=x,y=y, name = str(fc) + \" MPa\"))\n",
    "\n",
    "# update title and axes titles for the graph\n",
    "fig.update_layout(\n",
    "        title={'text': \"SL81 at varying depth\", 'x': 0.5},\n",
    "        title_font_size=24,\n",
    "        showlegend=True,\n",
    "        hovermode='x')\n",
    "fig.update_xaxes(title_text='d (mm)')\n",
    "fig.update_yaxes(title_text='Moment Capacity (kN.m)')\n",
    "\n",
    "# show graph\n",
    "fig.show()\n",
    "\n",
    "# save graph (optional)\n",
    "# fig.write_image(\"./SL81_Bending.png\")\n",
    "# fig.write_html(\"./SL81_Bending.html\")"
   ]
  },
  {
   "cell_type": "markdown",
   "metadata": {},
   "source": [
    "# Other Examples"
   ]
  },
  {
   "cell_type": "code",
   "execution_count": null,
   "metadata": {},
   "outputs": [],
   "source": [
    "# Create a graph showing the range in shear strength for concrete at different depths.\n",
    "# loop through depths at 10 mm increments\n",
    "fig = px.line()\n",
    "\n",
    "x, y = {}, {}\n",
    "for fc in [50,40,32,20]:\n",
    "    x[fc] = []\n",
    "    y[fc] = []\n",
    "    for D in range(10,500,20):\n",
    "        conc = Concrete(D=D, fc = fc)\n",
    "        y[fc].append(conc.shear())\n",
    "        x[fc].append(conc.D)\n",
    "\n",
    "    fig.add_trace(go.Scatter(x=x[fc],y=y[fc], name = str(fc)+' MPa'))\n",
    "\n",
    "fig.update_layout(\n",
    "        title={'text': \"Shear Strength for varying concrete thickness\", 'x': 0.5},\n",
    "        title_font_size=24,\n",
    "        showlegend=True,\n",
    "        hovermode='x')\n",
    "fig.update_xaxes(title_text='D (mm)')\n",
    "fig.update_yaxes(title_text='Shear Strength (kN)')\n",
    "\n",
    "fig.show()\n",
    "# fig.write_image(\"./Shear.png\")\n",
    "# fig.write_html(\"./Shear.html\")"
   ]
  },
  {
   "cell_type": "code",
   "execution_count": null,
   "metadata": {},
   "outputs": [],
   "source": [
    "# Create a graph showing the range in deemed to comply capacity for d = D - 45\n",
    "# loop through depths at 10 mm increments\n",
    "fig = px.line()\n",
    "\n",
    "x, y = {}, {}\n",
    "for fc in [50,40,32,20]:\n",
    "    x[fc] = []\n",
    "    y[fc] = []\n",
    "    for D in range(60,750,10):\n",
    "        conc = Concrete(D = D, fc = fc, ductility='N', cover = 40, diameter = 10)\n",
    "        y[fc].append(conc.deemed())\n",
    "        x[fc].append(conc.D)\n",
    "\n",
    "    fig.add_trace(go.Scatter(x=x[fc],y=y[fc], name = str(fc)+' MPa'))\n",
    "\n",
    "fig.update_layout(\n",
    "        title={'text': \"Deemed to comply (where d = D - 45)\", 'x': 0.5},\n",
    "        title_font_size=24,\n",
    "        showlegend=True,\n",
    "        hovermode='x')\n",
    "fig.update_xaxes(title_text='Depth, D (mm)')\n",
    "fig.update_yaxes(title_text='Min Ast (mm2/m))')\n",
    "\n",
    "fig.show()\n",
    "# fig.write_image(\"./deemed_45.png\")\n",
    "# fig.write_html(\"./deemed_45.html\")"
   ]
  },
  {
   "cell_type": "code",
   "execution_count": null,
   "metadata": {},
   "outputs": [],
   "source": [
    "# Create a graph showing the range in deemed to comply capacity for fc = 32\n",
    "# loop through depths at 10 mm increments\n",
    "fig = px.line()\n",
    "\n",
    "x, y = {}, {}\n",
    "for cover in range(20,80,5):\n",
    "    x[cover] = []\n",
    "    y[cover] = []\n",
    "    for D in range(60,750,10):\n",
    "        conc = Concrete(D = D, fc = 32, ductility='N', cover = cover, diameter = 10)\n",
    "        y[cover].append(conc.deemed())\n",
    "        x[cover].append(conc.D)\n",
    "\n",
    "    fig.add_trace(go.Scatter(x=x[cover],y=y[cover], name = str(\"d = D - \"+ str(cover+5))))\n",
    "\n",
    "fig.update_layout(\n",
    "        title={'text': \"Deemed to comply (where fc = 32 MPa)\", 'x': 0.5},\n",
    "        title_font_size=24,\n",
    "        showlegend=True,\n",
    "        hovermode='x')\n",
    "fig.update_xaxes(title_text='Depth, D (mm)')\n",
    "fig.update_yaxes(title_text='Min Ast (mm2/m))')\n",
    "\n",
    "fig.show()\n",
    "# fig.write_image(\"./deemed_f32.png\")\n",
    "# fig.write_html(\"./deemed_f32.html\")"
   ]
  },
  {
   "cell_type": "code",
   "execution_count": null,
   "metadata": {},
   "outputs": [],
   "source": [
    "# Create a graph showing the range in bending capacity for N class steel Areas, D = 200\n",
    "    # loop through depths at 10 mm increments\n",
    "fig = px.line()\n",
    "\n",
    "x, y = {}, {}\n",
    "for fc in [50,40,32,20]:\n",
    "    x[fc] = []\n",
    "    y[fc] = []\n",
    "    for spacing in range(35,300,5):\n",
    "        conc = Concrete(spacing = spacing, ductility = 'N', D=200, fc = fc, cover = 40, diameter = 10)\n",
    "        y[fc].append(conc.bending())\n",
    "        x[fc].append(conc.Ast)\n",
    "\n",
    "    fig.add_trace(go.Scatter(x=x[fc],y=y[fc], name = str(fc) + \" MPa\"))\n",
    "\n",
    "fig.update_layout(\n",
    "        title={'text': \"Ast Class N Bending Capacity, D=200,cover=40,diameter=10\", 'x': 0.5},\n",
    "        title_font_size=24,\n",
    "        showlegend=True,\n",
    "        hovermode='x')\n",
    "fig.update_xaxes(title_text='Ast (mm2/m)')\n",
    "fig.update_yaxes(title_text='Moment Capacity (kN.m)')\n",
    "\n",
    "fig.show()\n",
    "# fig.write_image(\"./D200_Ast_N.png\")\n",
    "# fig.write_html(\"./D200_Ast_N.html\")"
   ]
  },
  {
   "cell_type": "code",
   "execution_count": null,
   "metadata": {},
   "outputs": [],
   "source": [
    "# Create a graph showing the range in bending capacity for N class steel Areas D = 300\n",
    "    # loop through depths at 10 mm increments\n",
    "fig = px.line()\n",
    "\n",
    "x, y = {}, {}\n",
    "for fc in [50,40,32,20]:\n",
    "    x[fc] = []\n",
    "    y[fc] = []\n",
    "    for spacing in range(35,300,5):\n",
    "        conc = Concrete(spacing = spacing, ductility = 'N', D=300, fc = fc, cover = 40, diameter = 10)\n",
    "        y[fc].append(conc.bending())\n",
    "        x[fc].append(conc.Ast)\n",
    "\n",
    "    fig.add_trace(go.Scatter(x=x[fc],y=y[fc], name = str(fc) + \" MPa\"))\n",
    "\n",
    "fig.update_layout(\n",
    "        title={'text': \"Ast Class N Bending Capacity, D=300,cover=40,diameter=10\", 'x': 0.5},\n",
    "        title_font_size=24,\n",
    "        showlegend=True,\n",
    "        hovermode='x')\n",
    "fig.update_xaxes(title_text='Ast (mm2/m)')\n",
    "fig.update_yaxes(title_text='Moment Capacity (kN.m)')\n",
    "\n",
    "fig.show()\n",
    "# fig.write_image(\"./D300_Ast_N.png\")\n",
    "# fig.write_html(\"./D300_Ast_N.html\")"
   ]
  },
  {
   "cell_type": "code",
   "execution_count": null,
   "metadata": {},
   "outputs": [],
   "source": [
    "# Create a graph showing the range in bending capacity for N class steel Areas D = 300\n",
    "# loop through area steel and loop through d (instead of fc)\n",
    "fig = px.line()\n",
    "\n",
    "x, y = {}, {}\n",
    "for D in range(100,550,40):\n",
    "    x[D] = []\n",
    "    y[D] = []\n",
    "    for spacing in range(45,300,5):\n",
    "        conc = Concrete(spacing = spacing, ductility = 'N', D=D, cover = 40, diameter = 10, fc=32)\n",
    "        y[D].append(conc.bending())\n",
    "        x[D].append(conc.Ast)\n",
    "\n",
    "    fig.add_trace(go.Scatter(x=x[D],y=y[D], name = \"d = \"+ str(D - 45) + \" mm\"))\n",
    "\n",
    "fig.update_layout(\n",
    "        title={'text': \"Ast Class N Bending Capacity, fc=32\", 'x': 0.5},\n",
    "        title_font_size=24,\n",
    "        showlegend=True,\n",
    "        hovermode='x')\n",
    "fig.update_xaxes(title_text='Ast (mm2/m)')\n",
    "fig.update_yaxes(title_text='Moment Capacity (kN.m)')\n",
    "\n",
    "# fig.write_image(\"./var_d_Ast_N.png\")\n",
    "# fig.write_html(\"./var_d_Ast_N.html\")"
   ]
  }
 ],
 "metadata": {
  "kernelspec": {
   "name": "python373jvsc74a57bd0d2ce483584a882ab0d75ff9a0d6636d89dc78737b0f0735b1fee6256ed14a010",
   "display_name": "Python 3.7.3 64-bit"
  },
  "language_info": {
   "codemirror_mode": {
    "name": "ipython",
    "version": 3
   },
   "file_extension": ".py",
   "mimetype": "text/x-python",
   "name": "python",
   "nbconvert_exporter": "python",
   "pygments_lexer": "ipython3",
   "version": "3.7.3"
  }
 },
 "nbformat": 4,
 "nbformat_minor": 2
}